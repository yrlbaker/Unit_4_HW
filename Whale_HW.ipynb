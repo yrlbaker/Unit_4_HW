{
 "cells": [
  {
   "cell_type": "code",
   "execution_count": 200,
   "metadata": {},
   "outputs": [],
   "source": [
    "# Unit 4 HW - Portfolio Analysis Using Python"
   ]
  },
  {
   "cell_type": "code",
   "execution_count": 263,
   "metadata": {},
   "outputs": [],
   "source": [
    "# Initial imports"
   ]
  },
  {
   "cell_type": "code",
   "execution_count": 264,
   "metadata": {},
   "outputs": [],
   "source": [
    "import pandas as pd \n",
    "import numpy as np \n",
    "import datetime as dt \n",
    "from pathlib import Path\n",
    "%matplotlib inline"
   ]
  },
  {
   "cell_type": "code",
   "execution_count": 265,
   "metadata": {},
   "outputs": [],
   "source": [
    "# Data cleaning - will read and clean each .csv file"
   ]
  },
  {
   "cell_type": "code",
   "execution_count": 266,
   "metadata": {},
   "outputs": [],
   "source": [
    "# Using the pathlib library to set Path to the whale_returns.csv file\n",
    "whale_returns_data = Path(\"Resources/whale_returns.csv\")"
   ]
  },
  {
   "cell_type": "code",
   "execution_count": 267,
   "metadata": {},
   "outputs": [
    {
     "output_type": "execute_result",
     "data": {
      "text/plain": [
       "            Date  SOROS FUND MANAGEMENT LLC  PAULSON & CO.INC.   \\\n",
       "0     2015-03-02                        NaN                 NaN   \n",
       "1     2015-03-03                  -0.001266           -0.004981   \n",
       "2     2015-03-04                   0.002230            0.003241   \n",
       "3     2015-03-05                   0.004016            0.004076   \n",
       "4     2015-03-06                  -0.007905           -0.003574   \n",
       "...          ...                        ...                 ...   \n",
       "1055  2019-04-25                  -0.000285           -0.001291   \n",
       "1056  2019-04-26                   0.008149            0.009162   \n",
       "1057  2019-04-29                   0.001254            0.002719   \n",
       "1058  2019-04-30                  -0.001295           -0.002211   \n",
       "1059  2019-05-01                  -0.005847           -0.001341   \n",
       "\n",
       "      TIGER GLOBAL MANAGEMENT LLC  BERKSHIRE HATHAWAY INC  \n",
       "0                             NaN                     NaN  \n",
       "1                       -0.000496               -0.006569  \n",
       "2                       -0.002534                0.004213  \n",
       "3                        0.002355                0.006726  \n",
       "4                       -0.008481               -0.013098  \n",
       "...                           ...                     ...  \n",
       "1055                    -0.005153                0.004848  \n",
       "1056                     0.012355                0.010434  \n",
       "1057                     0.006251                0.005223  \n",
       "1058                    -0.000259               -0.003702  \n",
       "1059                    -0.007936               -0.007833  \n",
       "\n",
       "[1060 rows x 5 columns]"
      ],
      "text/html": "<div>\n<style scoped>\n    .dataframe tbody tr th:only-of-type {\n        vertical-align: middle;\n    }\n\n    .dataframe tbody tr th {\n        vertical-align: top;\n    }\n\n    .dataframe thead th {\n        text-align: right;\n    }\n</style>\n<table border=\"1\" class=\"dataframe\">\n  <thead>\n    <tr style=\"text-align: right;\">\n      <th></th>\n      <th>Date</th>\n      <th>SOROS FUND MANAGEMENT LLC</th>\n      <th>PAULSON &amp; CO.INC.</th>\n      <th>TIGER GLOBAL MANAGEMENT LLC</th>\n      <th>BERKSHIRE HATHAWAY INC</th>\n    </tr>\n  </thead>\n  <tbody>\n    <tr>\n      <th>0</th>\n      <td>2015-03-02</td>\n      <td>NaN</td>\n      <td>NaN</td>\n      <td>NaN</td>\n      <td>NaN</td>\n    </tr>\n    <tr>\n      <th>1</th>\n      <td>2015-03-03</td>\n      <td>-0.001266</td>\n      <td>-0.004981</td>\n      <td>-0.000496</td>\n      <td>-0.006569</td>\n    </tr>\n    <tr>\n      <th>2</th>\n      <td>2015-03-04</td>\n      <td>0.002230</td>\n      <td>0.003241</td>\n      <td>-0.002534</td>\n      <td>0.004213</td>\n    </tr>\n    <tr>\n      <th>3</th>\n      <td>2015-03-05</td>\n      <td>0.004016</td>\n      <td>0.004076</td>\n      <td>0.002355</td>\n      <td>0.006726</td>\n    </tr>\n    <tr>\n      <th>4</th>\n      <td>2015-03-06</td>\n      <td>-0.007905</td>\n      <td>-0.003574</td>\n      <td>-0.008481</td>\n      <td>-0.013098</td>\n    </tr>\n    <tr>\n      <th>...</th>\n      <td>...</td>\n      <td>...</td>\n      <td>...</td>\n      <td>...</td>\n      <td>...</td>\n    </tr>\n    <tr>\n      <th>1055</th>\n      <td>2019-04-25</td>\n      <td>-0.000285</td>\n      <td>-0.001291</td>\n      <td>-0.005153</td>\n      <td>0.004848</td>\n    </tr>\n    <tr>\n      <th>1056</th>\n      <td>2019-04-26</td>\n      <td>0.008149</td>\n      <td>0.009162</td>\n      <td>0.012355</td>\n      <td>0.010434</td>\n    </tr>\n    <tr>\n      <th>1057</th>\n      <td>2019-04-29</td>\n      <td>0.001254</td>\n      <td>0.002719</td>\n      <td>0.006251</td>\n      <td>0.005223</td>\n    </tr>\n    <tr>\n      <th>1058</th>\n      <td>2019-04-30</td>\n      <td>-0.001295</td>\n      <td>-0.002211</td>\n      <td>-0.000259</td>\n      <td>-0.003702</td>\n    </tr>\n    <tr>\n      <th>1059</th>\n      <td>2019-05-01</td>\n      <td>-0.005847</td>\n      <td>-0.001341</td>\n      <td>-0.007936</td>\n      <td>-0.007833</td>\n    </tr>\n  </tbody>\n</table>\n<p>1060 rows × 5 columns</p>\n</div>"
     },
     "metadata": {},
     "execution_count": 267
    }
   ],
   "source": [
    "# Read the Whale Returns CSV, create a dataframe, and display results\n",
    "whale_df = pd.read_csv(whale_returns_data)\n",
    "whale_df"
   ]
  },
  {
   "cell_type": "code",
   "execution_count": 268,
   "metadata": {},
   "outputs": [
    {
     "output_type": "execute_result",
     "data": {
      "text/plain": [
       "                  Date  SOROS FUND MANAGEMENT LLC  PAULSON & CO.INC.   \\\n",
       "Date                                                                    \n",
       "2015-03-02  2015-03-02                        NaN                 NaN   \n",
       "2015-03-03  2015-03-03                  -0.001266           -0.004981   \n",
       "2015-03-04  2015-03-04                   0.002230            0.003241   \n",
       "2015-03-05  2015-03-05                   0.004016            0.004076   \n",
       "2015-03-06  2015-03-06                  -0.007905           -0.003574   \n",
       "\n",
       "            TIGER GLOBAL MANAGEMENT LLC  BERKSHIRE HATHAWAY INC  \n",
       "Date                                                             \n",
       "2015-03-02                          NaN                     NaN  \n",
       "2015-03-03                    -0.000496               -0.006569  \n",
       "2015-03-04                    -0.002534                0.004213  \n",
       "2015-03-05                     0.002355                0.006726  \n",
       "2015-03-06                    -0.008481               -0.013098  "
      ],
      "text/html": "<div>\n<style scoped>\n    .dataframe tbody tr th:only-of-type {\n        vertical-align: middle;\n    }\n\n    .dataframe tbody tr th {\n        vertical-align: top;\n    }\n\n    .dataframe thead th {\n        text-align: right;\n    }\n</style>\n<table border=\"1\" class=\"dataframe\">\n  <thead>\n    <tr style=\"text-align: right;\">\n      <th></th>\n      <th>Date</th>\n      <th>SOROS FUND MANAGEMENT LLC</th>\n      <th>PAULSON &amp; CO.INC.</th>\n      <th>TIGER GLOBAL MANAGEMENT LLC</th>\n      <th>BERKSHIRE HATHAWAY INC</th>\n    </tr>\n    <tr>\n      <th>Date</th>\n      <th></th>\n      <th></th>\n      <th></th>\n      <th></th>\n      <th></th>\n    </tr>\n  </thead>\n  <tbody>\n    <tr>\n      <th>2015-03-02</th>\n      <td>2015-03-02</td>\n      <td>NaN</td>\n      <td>NaN</td>\n      <td>NaN</td>\n      <td>NaN</td>\n    </tr>\n    <tr>\n      <th>2015-03-03</th>\n      <td>2015-03-03</td>\n      <td>-0.001266</td>\n      <td>-0.004981</td>\n      <td>-0.000496</td>\n      <td>-0.006569</td>\n    </tr>\n    <tr>\n      <th>2015-03-04</th>\n      <td>2015-03-04</td>\n      <td>0.002230</td>\n      <td>0.003241</td>\n      <td>-0.002534</td>\n      <td>0.004213</td>\n    </tr>\n    <tr>\n      <th>2015-03-05</th>\n      <td>2015-03-05</td>\n      <td>0.004016</td>\n      <td>0.004076</td>\n      <td>0.002355</td>\n      <td>0.006726</td>\n    </tr>\n    <tr>\n      <th>2015-03-06</th>\n      <td>2015-03-06</td>\n      <td>-0.007905</td>\n      <td>-0.003574</td>\n      <td>-0.008481</td>\n      <td>-0.013098</td>\n    </tr>\n  </tbody>\n</table>\n</div>"
     },
     "metadata": {},
     "execution_count": 268
    }
   ],
   "source": [
    "# Converting the Whale_df into a DateTimeIndex \n",
    "whale_df.set_index(pd.to_datetime(whale_df['Date'], infer_datetime_format=True), inplace=True)\n",
    "whale_df.head()"
   ]
  },
  {
   "cell_type": "code",
   "execution_count": 269,
   "metadata": {},
   "outputs": [
    {
     "output_type": "execute_result",
     "data": {
      "text/plain": [
       "            SOROS FUND MANAGEMENT LLC  PAULSON & CO.INC.   \\\n",
       "Date                                                        \n",
       "2015-03-02                        NaN                 NaN   \n",
       "2015-03-03                  -0.001266           -0.004981   \n",
       "2015-03-04                   0.002230            0.003241   \n",
       "2015-03-05                   0.004016            0.004076   \n",
       "2015-03-06                  -0.007905           -0.003574   \n",
       "\n",
       "            TIGER GLOBAL MANAGEMENT LLC  BERKSHIRE HATHAWAY INC  \n",
       "Date                                                             \n",
       "2015-03-02                          NaN                     NaN  \n",
       "2015-03-03                    -0.000496               -0.006569  \n",
       "2015-03-04                    -0.002534                0.004213  \n",
       "2015-03-05                     0.002355                0.006726  \n",
       "2015-03-06                    -0.008481               -0.013098  "
      ],
      "text/html": "<div>\n<style scoped>\n    .dataframe tbody tr th:only-of-type {\n        vertical-align: middle;\n    }\n\n    .dataframe tbody tr th {\n        vertical-align: top;\n    }\n\n    .dataframe thead th {\n        text-align: right;\n    }\n</style>\n<table border=\"1\" class=\"dataframe\">\n  <thead>\n    <tr style=\"text-align: right;\">\n      <th></th>\n      <th>SOROS FUND MANAGEMENT LLC</th>\n      <th>PAULSON &amp; CO.INC.</th>\n      <th>TIGER GLOBAL MANAGEMENT LLC</th>\n      <th>BERKSHIRE HATHAWAY INC</th>\n    </tr>\n    <tr>\n      <th>Date</th>\n      <th></th>\n      <th></th>\n      <th></th>\n      <th></th>\n    </tr>\n  </thead>\n  <tbody>\n    <tr>\n      <th>2015-03-02</th>\n      <td>NaN</td>\n      <td>NaN</td>\n      <td>NaN</td>\n      <td>NaN</td>\n    </tr>\n    <tr>\n      <th>2015-03-03</th>\n      <td>-0.001266</td>\n      <td>-0.004981</td>\n      <td>-0.000496</td>\n      <td>-0.006569</td>\n    </tr>\n    <tr>\n      <th>2015-03-04</th>\n      <td>0.002230</td>\n      <td>0.003241</td>\n      <td>-0.002534</td>\n      <td>0.004213</td>\n    </tr>\n    <tr>\n      <th>2015-03-05</th>\n      <td>0.004016</td>\n      <td>0.004076</td>\n      <td>0.002355</td>\n      <td>0.006726</td>\n    </tr>\n    <tr>\n      <th>2015-03-06</th>\n      <td>-0.007905</td>\n      <td>-0.003574</td>\n      <td>-0.008481</td>\n      <td>-0.013098</td>\n    </tr>\n  </tbody>\n</table>\n</div>"
     },
     "metadata": {},
     "execution_count": 269
    }
   ],
   "source": [
    "# Drop the extra date column\n",
    "whale_df.drop(columns=['Date'], inplace=True)\n",
    "whale_df.head()"
   ]
  },
  {
   "cell_type": "code",
   "execution_count": 270,
   "metadata": {},
   "outputs": [
    {
     "output_type": "execute_result",
     "data": {
      "text/plain": [
       "SOROS FUND MANAGEMENT LLC      1\n",
       "PAULSON & CO.INC.              1\n",
       "TIGER GLOBAL MANAGEMENT LLC    1\n",
       "BERKSHIRE HATHAWAY INC         1\n",
       "dtype: int64"
      ]
     },
     "metadata": {},
     "execution_count": 270
    }
   ],
   "source": [
    "# Find null values\n",
    "whale_df.isnull().sum()"
   ]
  },
  {
   "cell_type": "code",
   "execution_count": 271,
   "metadata": {},
   "outputs": [
    {
     "output_type": "execute_result",
     "data": {
      "text/plain": [
       "            SOROS FUND MANAGEMENT LLC  PAULSON & CO.INC.   \\\n",
       "Date                                                        \n",
       "2015-03-03                  -0.001266           -0.004981   \n",
       "2015-03-04                   0.002230            0.003241   \n",
       "2015-03-05                   0.004016            0.004076   \n",
       "2015-03-06                  -0.007905           -0.003574   \n",
       "2015-03-09                   0.000582            0.004225   \n",
       "\n",
       "            TIGER GLOBAL MANAGEMENT LLC  BERKSHIRE HATHAWAY INC  \n",
       "Date                                                             \n",
       "2015-03-03                    -0.000496               -0.006569  \n",
       "2015-03-04                    -0.002534                0.004213  \n",
       "2015-03-05                     0.002355                0.006726  \n",
       "2015-03-06                    -0.008481               -0.013098  \n",
       "2015-03-09                     0.005843               -0.001652  "
      ],
      "text/html": "<div>\n<style scoped>\n    .dataframe tbody tr th:only-of-type {\n        vertical-align: middle;\n    }\n\n    .dataframe tbody tr th {\n        vertical-align: top;\n    }\n\n    .dataframe thead th {\n        text-align: right;\n    }\n</style>\n<table border=\"1\" class=\"dataframe\">\n  <thead>\n    <tr style=\"text-align: right;\">\n      <th></th>\n      <th>SOROS FUND MANAGEMENT LLC</th>\n      <th>PAULSON &amp; CO.INC.</th>\n      <th>TIGER GLOBAL MANAGEMENT LLC</th>\n      <th>BERKSHIRE HATHAWAY INC</th>\n    </tr>\n    <tr>\n      <th>Date</th>\n      <th></th>\n      <th></th>\n      <th></th>\n      <th></th>\n    </tr>\n  </thead>\n  <tbody>\n    <tr>\n      <th>2015-03-03</th>\n      <td>-0.001266</td>\n      <td>-0.004981</td>\n      <td>-0.000496</td>\n      <td>-0.006569</td>\n    </tr>\n    <tr>\n      <th>2015-03-04</th>\n      <td>0.002230</td>\n      <td>0.003241</td>\n      <td>-0.002534</td>\n      <td>0.004213</td>\n    </tr>\n    <tr>\n      <th>2015-03-05</th>\n      <td>0.004016</td>\n      <td>0.004076</td>\n      <td>0.002355</td>\n      <td>0.006726</td>\n    </tr>\n    <tr>\n      <th>2015-03-06</th>\n      <td>-0.007905</td>\n      <td>-0.003574</td>\n      <td>-0.008481</td>\n      <td>-0.013098</td>\n    </tr>\n    <tr>\n      <th>2015-03-09</th>\n      <td>0.000582</td>\n      <td>0.004225</td>\n      <td>0.005843</td>\n      <td>-0.001652</td>\n    </tr>\n  </tbody>\n</table>\n</div>"
     },
     "metadata": {},
     "execution_count": 271
    }
   ],
   "source": [
    "# Drop null values\n",
    "whale_df.dropna(inplace=True)\n",
    "whale_df.head()"
   ]
  },
  {
   "cell_type": "code",
   "execution_count": 272,
   "metadata": {},
   "outputs": [
    {
     "output_type": "execute_result",
     "data": {
      "text/plain": [
       "            SOROS_FUND_MGMT_LLC  PAULSON_&_CO_INC  TIGER_GLOBAL_MGMT_LLC  \\\n",
       "Date                                                                       \n",
       "2015-03-03            -0.001266         -0.004981              -0.000496   \n",
       "2015-03-04             0.002230          0.003241              -0.002534   \n",
       "2015-03-05             0.004016          0.004076               0.002355   \n",
       "2015-03-06            -0.007905         -0.003574              -0.008481   \n",
       "2015-03-09             0.000582          0.004225               0.005843   \n",
       "\n",
       "            BERKSHIRE_HATHAWAY_INC  \n",
       "Date                                \n",
       "2015-03-03               -0.006569  \n",
       "2015-03-04                0.004213  \n",
       "2015-03-05                0.006726  \n",
       "2015-03-06               -0.013098  \n",
       "2015-03-09               -0.001652  "
      ],
      "text/html": "<div>\n<style scoped>\n    .dataframe tbody tr th:only-of-type {\n        vertical-align: middle;\n    }\n\n    .dataframe tbody tr th {\n        vertical-align: top;\n    }\n\n    .dataframe thead th {\n        text-align: right;\n    }\n</style>\n<table border=\"1\" class=\"dataframe\">\n  <thead>\n    <tr style=\"text-align: right;\">\n      <th></th>\n      <th>SOROS_FUND_MGMT_LLC</th>\n      <th>PAULSON_&amp;_CO_INC</th>\n      <th>TIGER_GLOBAL_MGMT_LLC</th>\n      <th>BERKSHIRE_HATHAWAY_INC</th>\n    </tr>\n    <tr>\n      <th>Date</th>\n      <th></th>\n      <th></th>\n      <th></th>\n      <th></th>\n    </tr>\n  </thead>\n  <tbody>\n    <tr>\n      <th>2015-03-03</th>\n      <td>-0.001266</td>\n      <td>-0.004981</td>\n      <td>-0.000496</td>\n      <td>-0.006569</td>\n    </tr>\n    <tr>\n      <th>2015-03-04</th>\n      <td>0.002230</td>\n      <td>0.003241</td>\n      <td>-0.002534</td>\n      <td>0.004213</td>\n    </tr>\n    <tr>\n      <th>2015-03-05</th>\n      <td>0.004016</td>\n      <td>0.004076</td>\n      <td>0.002355</td>\n      <td>0.006726</td>\n    </tr>\n    <tr>\n      <th>2015-03-06</th>\n      <td>-0.007905</td>\n      <td>-0.003574</td>\n      <td>-0.008481</td>\n      <td>-0.013098</td>\n    </tr>\n    <tr>\n      <th>2015-03-09</th>\n      <td>0.000582</td>\n      <td>0.004225</td>\n      <td>0.005843</td>\n      <td>-0.001652</td>\n    </tr>\n  </tbody>\n</table>\n</div>"
     },
     "metadata": {},
     "execution_count": 272
    }
   ],
   "source": [
    "# Change the appearance of the column names to reflect no spaces\n",
    "columns = [\"SOROS_FUND_MGMT_LLC\", \"PAULSON_&_CO_INC\", \"TIGER_GLOBAL_MGMT_LLC\", \"BERKSHIRE_HATHAWAY_INC\"]\n",
    "whale_df.columns = columns\n",
    "whale_df.head()"
   ]
  },
  {
   "cell_type": "code",
   "execution_count": null,
   "metadata": {},
   "outputs": [],
   "source": []
  },
  {
   "cell_type": "code",
   "execution_count": 273,
   "metadata": {},
   "outputs": [],
   "source": [
    "# Using the pathlib library to set Path to the algo_returns.csv file\n",
    "algo_returns_data = Path(\"Resources/algo_returns.csv\")"
   ]
  },
  {
   "cell_type": "code",
   "execution_count": 274,
   "metadata": {},
   "outputs": [
    {
     "output_type": "execute_result",
     "data": {
      "text/plain": [
       "            Date    Algo 1    Algo 2\n",
       "0     2014-05-28  0.001745       NaN\n",
       "1     2014-05-29  0.003978       NaN\n",
       "2     2014-05-30  0.004464       NaN\n",
       "3     2014-06-02  0.005692       NaN\n",
       "4     2014-06-03  0.005292       NaN\n",
       "...          ...       ...       ...\n",
       "1236  2019-04-25  0.000682 -0.007247\n",
       "1237  2019-04-26  0.002981  0.005256\n",
       "1238  2019-04-29  0.005208  0.002829\n",
       "1239  2019-04-30 -0.002944 -0.001570\n",
       "1240  2019-05-01  0.000094 -0.007358\n",
       "\n",
       "[1241 rows x 3 columns]"
      ],
      "text/html": "<div>\n<style scoped>\n    .dataframe tbody tr th:only-of-type {\n        vertical-align: middle;\n    }\n\n    .dataframe tbody tr th {\n        vertical-align: top;\n    }\n\n    .dataframe thead th {\n        text-align: right;\n    }\n</style>\n<table border=\"1\" class=\"dataframe\">\n  <thead>\n    <tr style=\"text-align: right;\">\n      <th></th>\n      <th>Date</th>\n      <th>Algo 1</th>\n      <th>Algo 2</th>\n    </tr>\n  </thead>\n  <tbody>\n    <tr>\n      <th>0</th>\n      <td>2014-05-28</td>\n      <td>0.001745</td>\n      <td>NaN</td>\n    </tr>\n    <tr>\n      <th>1</th>\n      <td>2014-05-29</td>\n      <td>0.003978</td>\n      <td>NaN</td>\n    </tr>\n    <tr>\n      <th>2</th>\n      <td>2014-05-30</td>\n      <td>0.004464</td>\n      <td>NaN</td>\n    </tr>\n    <tr>\n      <th>3</th>\n      <td>2014-06-02</td>\n      <td>0.005692</td>\n      <td>NaN</td>\n    </tr>\n    <tr>\n      <th>4</th>\n      <td>2014-06-03</td>\n      <td>0.005292</td>\n      <td>NaN</td>\n    </tr>\n    <tr>\n      <th>...</th>\n      <td>...</td>\n      <td>...</td>\n      <td>...</td>\n    </tr>\n    <tr>\n      <th>1236</th>\n      <td>2019-04-25</td>\n      <td>0.000682</td>\n      <td>-0.007247</td>\n    </tr>\n    <tr>\n      <th>1237</th>\n      <td>2019-04-26</td>\n      <td>0.002981</td>\n      <td>0.005256</td>\n    </tr>\n    <tr>\n      <th>1238</th>\n      <td>2019-04-29</td>\n      <td>0.005208</td>\n      <td>0.002829</td>\n    </tr>\n    <tr>\n      <th>1239</th>\n      <td>2019-04-30</td>\n      <td>-0.002944</td>\n      <td>-0.001570</td>\n    </tr>\n    <tr>\n      <th>1240</th>\n      <td>2019-05-01</td>\n      <td>0.000094</td>\n      <td>-0.007358</td>\n    </tr>\n  </tbody>\n</table>\n<p>1241 rows × 3 columns</p>\n</div>"
     },
     "metadata": {},
     "execution_count": 274
    }
   ],
   "source": [
    "# Read the Algo Returns CSV, create a dataframe, and display results\n",
    "algo_df = pd.read_csv(algo_returns_data)\n",
    "algo_df"
   ]
  },
  {
   "cell_type": "code",
   "execution_count": 275,
   "metadata": {},
   "outputs": [
    {
     "output_type": "execute_result",
     "data": {
      "text/plain": [
       "                  Date    Algo 1    Algo 2\n",
       "Date                                      \n",
       "2014-05-28  2014-05-28  0.001745       NaN\n",
       "2014-05-29  2014-05-29  0.003978       NaN\n",
       "2014-05-30  2014-05-30  0.004464       NaN\n",
       "2014-06-02  2014-06-02  0.005692       NaN\n",
       "2014-06-03  2014-06-03  0.005292       NaN\n",
       "...                ...       ...       ...\n",
       "2019-04-25  2019-04-25  0.000682 -0.007247\n",
       "2019-04-26  2019-04-26  0.002981  0.005256\n",
       "2019-04-29  2019-04-29  0.005208  0.002829\n",
       "2019-04-30  2019-04-30 -0.002944 -0.001570\n",
       "2019-05-01  2019-05-01  0.000094 -0.007358\n",
       "\n",
       "[1241 rows x 3 columns]"
      ],
      "text/html": "<div>\n<style scoped>\n    .dataframe tbody tr th:only-of-type {\n        vertical-align: middle;\n    }\n\n    .dataframe tbody tr th {\n        vertical-align: top;\n    }\n\n    .dataframe thead th {\n        text-align: right;\n    }\n</style>\n<table border=\"1\" class=\"dataframe\">\n  <thead>\n    <tr style=\"text-align: right;\">\n      <th></th>\n      <th>Date</th>\n      <th>Algo 1</th>\n      <th>Algo 2</th>\n    </tr>\n    <tr>\n      <th>Date</th>\n      <th></th>\n      <th></th>\n      <th></th>\n    </tr>\n  </thead>\n  <tbody>\n    <tr>\n      <th>2014-05-28</th>\n      <td>2014-05-28</td>\n      <td>0.001745</td>\n      <td>NaN</td>\n    </tr>\n    <tr>\n      <th>2014-05-29</th>\n      <td>2014-05-29</td>\n      <td>0.003978</td>\n      <td>NaN</td>\n    </tr>\n    <tr>\n      <th>2014-05-30</th>\n      <td>2014-05-30</td>\n      <td>0.004464</td>\n      <td>NaN</td>\n    </tr>\n    <tr>\n      <th>2014-06-02</th>\n      <td>2014-06-02</td>\n      <td>0.005692</td>\n      <td>NaN</td>\n    </tr>\n    <tr>\n      <th>2014-06-03</th>\n      <td>2014-06-03</td>\n      <td>0.005292</td>\n      <td>NaN</td>\n    </tr>\n    <tr>\n      <th>...</th>\n      <td>...</td>\n      <td>...</td>\n      <td>...</td>\n    </tr>\n    <tr>\n      <th>2019-04-25</th>\n      <td>2019-04-25</td>\n      <td>0.000682</td>\n      <td>-0.007247</td>\n    </tr>\n    <tr>\n      <th>2019-04-26</th>\n      <td>2019-04-26</td>\n      <td>0.002981</td>\n      <td>0.005256</td>\n    </tr>\n    <tr>\n      <th>2019-04-29</th>\n      <td>2019-04-29</td>\n      <td>0.005208</td>\n      <td>0.002829</td>\n    </tr>\n    <tr>\n      <th>2019-04-30</th>\n      <td>2019-04-30</td>\n      <td>-0.002944</td>\n      <td>-0.001570</td>\n    </tr>\n    <tr>\n      <th>2019-05-01</th>\n      <td>2019-05-01</td>\n      <td>0.000094</td>\n      <td>-0.007358</td>\n    </tr>\n  </tbody>\n</table>\n<p>1241 rows × 3 columns</p>\n</div>"
     },
     "metadata": {},
     "execution_count": 275
    }
   ],
   "source": [
    "# Converting the algo_df into a DateTimeIndex \n",
    "algo_df.set_index(pd.to_datetime(algo_df['Date'], infer_datetime_format=True), inplace=True)\n",
    "algo_df"
   ]
  },
  {
   "cell_type": "code",
   "execution_count": 276,
   "metadata": {},
   "outputs": [
    {
     "output_type": "execute_result",
     "data": {
      "text/plain": [
       "              Algo 1  Algo 2\n",
       "Date                        \n",
       "2014-05-28  0.001745     NaN\n",
       "2014-05-29  0.003978     NaN\n",
       "2014-05-30  0.004464     NaN\n",
       "2014-06-02  0.005692     NaN\n",
       "2014-06-03  0.005292     NaN"
      ],
      "text/html": "<div>\n<style scoped>\n    .dataframe tbody tr th:only-of-type {\n        vertical-align: middle;\n    }\n\n    .dataframe tbody tr th {\n        vertical-align: top;\n    }\n\n    .dataframe thead th {\n        text-align: right;\n    }\n</style>\n<table border=\"1\" class=\"dataframe\">\n  <thead>\n    <tr style=\"text-align: right;\">\n      <th></th>\n      <th>Algo 1</th>\n      <th>Algo 2</th>\n    </tr>\n    <tr>\n      <th>Date</th>\n      <th></th>\n      <th></th>\n    </tr>\n  </thead>\n  <tbody>\n    <tr>\n      <th>2014-05-28</th>\n      <td>0.001745</td>\n      <td>NaN</td>\n    </tr>\n    <tr>\n      <th>2014-05-29</th>\n      <td>0.003978</td>\n      <td>NaN</td>\n    </tr>\n    <tr>\n      <th>2014-05-30</th>\n      <td>0.004464</td>\n      <td>NaN</td>\n    </tr>\n    <tr>\n      <th>2014-06-02</th>\n      <td>0.005692</td>\n      <td>NaN</td>\n    </tr>\n    <tr>\n      <th>2014-06-03</th>\n      <td>0.005292</td>\n      <td>NaN</td>\n    </tr>\n  </tbody>\n</table>\n</div>"
     },
     "metadata": {},
     "execution_count": 276
    }
   ],
   "source": [
    "# Drop the extra date column\n",
    "algo_df.drop(columns=[\"Date\"], inplace=True)\n",
    "algo_df.head()"
   ]
  },
  {
   "cell_type": "code",
   "execution_count": 277,
   "metadata": {},
   "outputs": [
    {
     "output_type": "execute_result",
     "data": {
      "text/plain": [
       "Algo 1    0\n",
       "Algo 2    6\n",
       "dtype: int64"
      ]
     },
     "metadata": {},
     "execution_count": 277
    }
   ],
   "source": [
    "# Find null values\n",
    "algo_df.isnull().sum()"
   ]
  },
  {
   "cell_type": "code",
   "execution_count": 278,
   "metadata": {},
   "outputs": [
    {
     "output_type": "execute_result",
     "data": {
      "text/plain": [
       "              Algo 1    Algo 2\n",
       "Date                          \n",
       "2014-06-05  0.004062  0.013285\n",
       "2014-06-06  0.001857  0.008284\n",
       "2014-06-09 -0.005012  0.005668\n",
       "2014-06-10  0.004406 -0.000735\n",
       "2014-06-11  0.004760 -0.003761"
      ],
      "text/html": "<div>\n<style scoped>\n    .dataframe tbody tr th:only-of-type {\n        vertical-align: middle;\n    }\n\n    .dataframe tbody tr th {\n        vertical-align: top;\n    }\n\n    .dataframe thead th {\n        text-align: right;\n    }\n</style>\n<table border=\"1\" class=\"dataframe\">\n  <thead>\n    <tr style=\"text-align: right;\">\n      <th></th>\n      <th>Algo 1</th>\n      <th>Algo 2</th>\n    </tr>\n    <tr>\n      <th>Date</th>\n      <th></th>\n      <th></th>\n    </tr>\n  </thead>\n  <tbody>\n    <tr>\n      <th>2014-06-05</th>\n      <td>0.004062</td>\n      <td>0.013285</td>\n    </tr>\n    <tr>\n      <th>2014-06-06</th>\n      <td>0.001857</td>\n      <td>0.008284</td>\n    </tr>\n    <tr>\n      <th>2014-06-09</th>\n      <td>-0.005012</td>\n      <td>0.005668</td>\n    </tr>\n    <tr>\n      <th>2014-06-10</th>\n      <td>0.004406</td>\n      <td>-0.000735</td>\n    </tr>\n    <tr>\n      <th>2014-06-11</th>\n      <td>0.004760</td>\n      <td>-0.003761</td>\n    </tr>\n  </tbody>\n</table>\n</div>"
     },
     "metadata": {},
     "execution_count": 278
    }
   ],
   "source": [
    "# Drop null values\n",
    "algo_df.dropna(inplace=True)\n",
    "algo_df.head()"
   ]
  },
  {
   "cell_type": "code",
   "execution_count": 279,
   "metadata": {},
   "outputs": [
    {
     "output_type": "execute_result",
     "data": {
      "text/plain": [
       "              Algo_1    Algo_2\n",
       "Date                          \n",
       "2014-06-05  0.004062  0.013285\n",
       "2014-06-06  0.001857  0.008284\n",
       "2014-06-09 -0.005012  0.005668\n",
       "2014-06-10  0.004406 -0.000735\n",
       "2014-06-11  0.004760 -0.003761"
      ],
      "text/html": "<div>\n<style scoped>\n    .dataframe tbody tr th:only-of-type {\n        vertical-align: middle;\n    }\n\n    .dataframe tbody tr th {\n        vertical-align: top;\n    }\n\n    .dataframe thead th {\n        text-align: right;\n    }\n</style>\n<table border=\"1\" class=\"dataframe\">\n  <thead>\n    <tr style=\"text-align: right;\">\n      <th></th>\n      <th>Algo_1</th>\n      <th>Algo_2</th>\n    </tr>\n    <tr>\n      <th>Date</th>\n      <th></th>\n      <th></th>\n    </tr>\n  </thead>\n  <tbody>\n    <tr>\n      <th>2014-06-05</th>\n      <td>0.004062</td>\n      <td>0.013285</td>\n    </tr>\n    <tr>\n      <th>2014-06-06</th>\n      <td>0.001857</td>\n      <td>0.008284</td>\n    </tr>\n    <tr>\n      <th>2014-06-09</th>\n      <td>-0.005012</td>\n      <td>0.005668</td>\n    </tr>\n    <tr>\n      <th>2014-06-10</th>\n      <td>0.004406</td>\n      <td>-0.000735</td>\n    </tr>\n    <tr>\n      <th>2014-06-11</th>\n      <td>0.004760</td>\n      <td>-0.003761</td>\n    </tr>\n  </tbody>\n</table>\n</div>"
     },
     "metadata": {},
     "execution_count": 279
    }
   ],
   "source": [
    "# Change the appearance of the column names to reflect no spaces\n",
    "columns = [\"Algo_1\", \"Algo_2\"]\n",
    "algo_df.columns = columns\n",
    "algo_df.head()"
   ]
  },
  {
   "cell_type": "code",
   "execution_count": 280,
   "metadata": {},
   "outputs": [],
   "source": [
    "# Using the pathlib library to set Path to the sp500_history.csv file\n",
    "sp500_historical_data = Path(\"Resources/sp500_history.csv\")\n"
   ]
  },
  {
   "cell_type": "code",
   "execution_count": 281,
   "metadata": {},
   "outputs": [
    {
     "output_type": "execute_result",
     "data": {
      "text/plain": [
       "        Date     Close\n",
       "0  23-Apr-19  $2933.68\n",
       "1  22-Apr-19  $2907.97\n",
       "2  18-Apr-19  $2905.03\n",
       "3  17-Apr-19  $2900.45\n",
       "4  16-Apr-19  $2907.06"
      ],
      "text/html": "<div>\n<style scoped>\n    .dataframe tbody tr th:only-of-type {\n        vertical-align: middle;\n    }\n\n    .dataframe tbody tr th {\n        vertical-align: top;\n    }\n\n    .dataframe thead th {\n        text-align: right;\n    }\n</style>\n<table border=\"1\" class=\"dataframe\">\n  <thead>\n    <tr style=\"text-align: right;\">\n      <th></th>\n      <th>Date</th>\n      <th>Close</th>\n    </tr>\n  </thead>\n  <tbody>\n    <tr>\n      <th>0</th>\n      <td>23-Apr-19</td>\n      <td>$2933.68</td>\n    </tr>\n    <tr>\n      <th>1</th>\n      <td>22-Apr-19</td>\n      <td>$2907.97</td>\n    </tr>\n    <tr>\n      <th>2</th>\n      <td>18-Apr-19</td>\n      <td>$2905.03</td>\n    </tr>\n    <tr>\n      <th>3</th>\n      <td>17-Apr-19</td>\n      <td>$2900.45</td>\n    </tr>\n    <tr>\n      <th>4</th>\n      <td>16-Apr-19</td>\n      <td>$2907.06</td>\n    </tr>\n  </tbody>\n</table>\n</div>"
     },
     "metadata": {},
     "execution_count": 281
    }
   ],
   "source": [
    "# Read the S&P 500 History CSV, create a dataframe, and display results\n",
    "sp500_df = pd.read_csv(sp500_historical_data)\n",
    "sp500_df.head()"
   ]
  },
  {
   "cell_type": "code",
   "execution_count": 282,
   "metadata": {},
   "outputs": [
    {
     "output_type": "execute_result",
     "data": {
      "text/plain": [
       "                 Date     Close\n",
       "Date                           \n",
       "2019-04-23  23-Apr-19  $2933.68\n",
       "2019-04-22  22-Apr-19  $2907.97\n",
       "2019-04-18  18-Apr-19  $2905.03\n",
       "2019-04-17  17-Apr-19  $2900.45\n",
       "2019-04-16  16-Apr-19  $2907.06\n",
       "...               ...       ...\n",
       "2012-10-05   5-Oct-12  $1460.93\n",
       "2012-10-04   4-Oct-12  $1461.40\n",
       "2012-10-03   3-Oct-12  $1450.99\n",
       "2012-10-02   2-Oct-12  $1445.75\n",
       "2012-10-01   1-Oct-12  $1444.49\n",
       "\n",
       "[1649 rows x 2 columns]"
      ],
      "text/html": "<div>\n<style scoped>\n    .dataframe tbody tr th:only-of-type {\n        vertical-align: middle;\n    }\n\n    .dataframe tbody tr th {\n        vertical-align: top;\n    }\n\n    .dataframe thead th {\n        text-align: right;\n    }\n</style>\n<table border=\"1\" class=\"dataframe\">\n  <thead>\n    <tr style=\"text-align: right;\">\n      <th></th>\n      <th>Date</th>\n      <th>Close</th>\n    </tr>\n    <tr>\n      <th>Date</th>\n      <th></th>\n      <th></th>\n    </tr>\n  </thead>\n  <tbody>\n    <tr>\n      <th>2019-04-23</th>\n      <td>23-Apr-19</td>\n      <td>$2933.68</td>\n    </tr>\n    <tr>\n      <th>2019-04-22</th>\n      <td>22-Apr-19</td>\n      <td>$2907.97</td>\n    </tr>\n    <tr>\n      <th>2019-04-18</th>\n      <td>18-Apr-19</td>\n      <td>$2905.03</td>\n    </tr>\n    <tr>\n      <th>2019-04-17</th>\n      <td>17-Apr-19</td>\n      <td>$2900.45</td>\n    </tr>\n    <tr>\n      <th>2019-04-16</th>\n      <td>16-Apr-19</td>\n      <td>$2907.06</td>\n    </tr>\n    <tr>\n      <th>...</th>\n      <td>...</td>\n      <td>...</td>\n    </tr>\n    <tr>\n      <th>2012-10-05</th>\n      <td>5-Oct-12</td>\n      <td>$1460.93</td>\n    </tr>\n    <tr>\n      <th>2012-10-04</th>\n      <td>4-Oct-12</td>\n      <td>$1461.40</td>\n    </tr>\n    <tr>\n      <th>2012-10-03</th>\n      <td>3-Oct-12</td>\n      <td>$1450.99</td>\n    </tr>\n    <tr>\n      <th>2012-10-02</th>\n      <td>2-Oct-12</td>\n      <td>$1445.75</td>\n    </tr>\n    <tr>\n      <th>2012-10-01</th>\n      <td>1-Oct-12</td>\n      <td>$1444.49</td>\n    </tr>\n  </tbody>\n</table>\n<p>1649 rows × 2 columns</p>\n</div>"
     },
     "metadata": {},
     "execution_count": 282
    }
   ],
   "source": [
    "# Converting the sp500_df into a DateTimeIndex \n",
    "sp500_df.set_index(pd.to_datetime(sp500_df[\"Date\"], infer_datetime_format=True), inplace=True)\n",
    "sp500_df"
   ]
  },
  {
   "cell_type": "code",
   "execution_count": 283,
   "metadata": {},
   "outputs": [
    {
     "output_type": "execute_result",
     "data": {
      "text/plain": [
       "               Close\n",
       "Date                \n",
       "2019-04-23  $2933.68\n",
       "2019-04-22  $2907.97\n",
       "2019-04-18  $2905.03\n",
       "2019-04-17  $2900.45\n",
       "2019-04-16  $2907.06"
      ],
      "text/html": "<div>\n<style scoped>\n    .dataframe tbody tr th:only-of-type {\n        vertical-align: middle;\n    }\n\n    .dataframe tbody tr th {\n        vertical-align: top;\n    }\n\n    .dataframe thead th {\n        text-align: right;\n    }\n</style>\n<table border=\"1\" class=\"dataframe\">\n  <thead>\n    <tr style=\"text-align: right;\">\n      <th></th>\n      <th>Close</th>\n    </tr>\n    <tr>\n      <th>Date</th>\n      <th></th>\n    </tr>\n  </thead>\n  <tbody>\n    <tr>\n      <th>2019-04-23</th>\n      <td>$2933.68</td>\n    </tr>\n    <tr>\n      <th>2019-04-22</th>\n      <td>$2907.97</td>\n    </tr>\n    <tr>\n      <th>2019-04-18</th>\n      <td>$2905.03</td>\n    </tr>\n    <tr>\n      <th>2019-04-17</th>\n      <td>$2900.45</td>\n    </tr>\n    <tr>\n      <th>2019-04-16</th>\n      <td>$2907.06</td>\n    </tr>\n  </tbody>\n</table>\n</div>"
     },
     "metadata": {},
     "execution_count": 283
    }
   ],
   "source": [
    "# Drop the extra date column\n",
    "sp500_df.drop(columns=[\"Date\"], inplace=True)\n",
    "sp500_df.head()"
   ]
  },
  {
   "cell_type": "code",
   "execution_count": 284,
   "metadata": {},
   "outputs": [
    {
     "output_type": "execute_result",
     "data": {
      "text/plain": [
       "Close    0\n",
       "dtype: int64"
      ]
     },
     "metadata": {},
     "execution_count": 284
    }
   ],
   "source": [
    "# Find null values\n",
    "sp500_df.isnull().sum()"
   ]
  },
  {
   "cell_type": "code",
   "execution_count": 285,
   "metadata": {},
   "outputs": [
    {
     "output_type": "execute_result",
     "data": {
      "text/plain": [
       "               Close\n",
       "Date                \n",
       "2019-04-23  $2933.68\n",
       "2019-04-22  $2907.97\n",
       "2019-04-18  $2905.03\n",
       "2019-04-17  $2900.45\n",
       "2019-04-16  $2907.06"
      ],
      "text/html": "<div>\n<style scoped>\n    .dataframe tbody tr th:only-of-type {\n        vertical-align: middle;\n    }\n\n    .dataframe tbody tr th {\n        vertical-align: top;\n    }\n\n    .dataframe thead th {\n        text-align: right;\n    }\n</style>\n<table border=\"1\" class=\"dataframe\">\n  <thead>\n    <tr style=\"text-align: right;\">\n      <th></th>\n      <th>Close</th>\n    </tr>\n    <tr>\n      <th>Date</th>\n      <th></th>\n    </tr>\n  </thead>\n  <tbody>\n    <tr>\n      <th>2019-04-23</th>\n      <td>$2933.68</td>\n    </tr>\n    <tr>\n      <th>2019-04-22</th>\n      <td>$2907.97</td>\n    </tr>\n    <tr>\n      <th>2019-04-18</th>\n      <td>$2905.03</td>\n    </tr>\n    <tr>\n      <th>2019-04-17</th>\n      <td>$2900.45</td>\n    </tr>\n    <tr>\n      <th>2019-04-16</th>\n      <td>$2907.06</td>\n    </tr>\n  </tbody>\n</table>\n</div>"
     },
     "metadata": {},
     "execution_count": 285
    }
   ],
   "source": [
    "# Drop null values\n",
    "sp500_df.dropna(inplace=True)\n",
    "sp500_df.head()"
   ]
  },
  {
   "cell_type": "code",
   "execution_count": 286,
   "metadata": {},
   "outputs": [
    {
     "output_type": "execute_result",
     "data": {
      "text/plain": [
       "Date\n",
       "2019-04-23    2933.68\n",
       "2019-04-22    2907.97\n",
       "2019-04-18    2905.03\n",
       "2019-04-17    2900.45\n",
       "2019-04-16    2907.06\n",
       "               ...   \n",
       "2012-10-05    1460.93\n",
       "2012-10-04    1461.40\n",
       "2012-10-03    1450.99\n",
       "2012-10-02    1445.75\n",
       "2012-10-01    1444.49\n",
       "Name: Close, Length: 1649, dtype: object"
      ]
     },
     "metadata": {},
     "execution_count": 286
    }
   ],
   "source": [
    "# Clear \"Close\" field with $ symbol\n",
    "sp500_df[\"Close\"] = sp500_df[\"Close\"].str.replace(\"$\", \"\")\n",
    "sp500_df[\"Close\"]\n",
    "\n"
   ]
  },
  {
   "cell_type": "code",
   "execution_count": 287,
   "metadata": {},
   "outputs": [
    {
     "output_type": "execute_result",
     "data": {
      "text/plain": [
       "Close    object\n",
       "dtype: object"
      ]
     },
     "metadata": {},
     "execution_count": 287
    }
   ],
   "source": [
    "# Confirm datatype of S&P 500 df:\n",
    "sp500_df.dtypes"
   ]
  },
  {
   "cell_type": "code",
   "execution_count": 288,
   "metadata": {},
   "outputs": [],
   "source": [
    "# Convert \"Close\" from dtype object to float\n",
    "sp500_df[\"Close\"] = sp500_df[\"Close\"].astype(\"float\")\n"
   ]
  },
  {
   "cell_type": "code",
   "execution_count": 289,
   "metadata": {},
   "outputs": [
    {
     "output_type": "execute_result",
     "data": {
      "text/plain": [
       "Close    float64\n",
       "dtype: object"
      ]
     },
     "metadata": {},
     "execution_count": 289
    }
   ],
   "source": [
    "# Confirm datatype\n",
    "sp500_df.dtypes"
   ]
  },
  {
   "cell_type": "code",
   "execution_count": 290,
   "metadata": {},
   "outputs": [
    {
     "output_type": "execute_result",
     "data": {
      "text/plain": [
       "               Close\n",
       "Date                \n",
       "2019-04-23       NaN\n",
       "2019-04-22 -0.008764\n",
       "2019-04-18 -0.001011\n",
       "2019-04-17 -0.001577\n",
       "2019-04-16  0.002279"
      ],
      "text/html": "<div>\n<style scoped>\n    .dataframe tbody tr th:only-of-type {\n        vertical-align: middle;\n    }\n\n    .dataframe tbody tr th {\n        vertical-align: top;\n    }\n\n    .dataframe thead th {\n        text-align: right;\n    }\n</style>\n<table border=\"1\" class=\"dataframe\">\n  <thead>\n    <tr style=\"text-align: right;\">\n      <th></th>\n      <th>Close</th>\n    </tr>\n    <tr>\n      <th>Date</th>\n      <th></th>\n    </tr>\n  </thead>\n  <tbody>\n    <tr>\n      <th>2019-04-23</th>\n      <td>NaN</td>\n    </tr>\n    <tr>\n      <th>2019-04-22</th>\n      <td>-0.008764</td>\n    </tr>\n    <tr>\n      <th>2019-04-18</th>\n      <td>-0.001011</td>\n    </tr>\n    <tr>\n      <th>2019-04-17</th>\n      <td>-0.001577</td>\n    </tr>\n    <tr>\n      <th>2019-04-16</th>\n      <td>0.002279</td>\n    </tr>\n  </tbody>\n</table>\n</div>"
     },
     "metadata": {},
     "execution_count": 290
    }
   ],
   "source": [
    "# calculate daily returns\n",
    "sp500_daily = sp500_df.pct_change()\n",
    "sp500_daily.head()"
   ]
  },
  {
   "cell_type": "code",
   "execution_count": 291,
   "metadata": {},
   "outputs": [
    {
     "output_type": "execute_result",
     "data": {
      "text/plain": [
       "Close    1\n",
       "dtype: int64"
      ]
     },
     "metadata": {},
     "execution_count": 291
    }
   ],
   "source": [
    "# Find null values of the daily returns \n",
    "sp500_daily.isnull().sum()"
   ]
  },
  {
   "cell_type": "code",
   "execution_count": 292,
   "metadata": {},
   "outputs": [
    {
     "output_type": "execute_result",
     "data": {
      "text/plain": [
       "               Close\n",
       "Date                \n",
       "2019-04-22 -0.008764\n",
       "2019-04-18 -0.001011\n",
       "2019-04-17 -0.001577\n",
       "2019-04-16  0.002279\n",
       "2019-04-15 -0.000509"
      ],
      "text/html": "<div>\n<style scoped>\n    .dataframe tbody tr th:only-of-type {\n        vertical-align: middle;\n    }\n\n    .dataframe tbody tr th {\n        vertical-align: top;\n    }\n\n    .dataframe thead th {\n        text-align: right;\n    }\n</style>\n<table border=\"1\" class=\"dataframe\">\n  <thead>\n    <tr style=\"text-align: right;\">\n      <th></th>\n      <th>Close</th>\n    </tr>\n    <tr>\n      <th>Date</th>\n      <th></th>\n    </tr>\n  </thead>\n  <tbody>\n    <tr>\n      <th>2019-04-22</th>\n      <td>-0.008764</td>\n    </tr>\n    <tr>\n      <th>2019-04-18</th>\n      <td>-0.001011</td>\n    </tr>\n    <tr>\n      <th>2019-04-17</th>\n      <td>-0.001577</td>\n    </tr>\n    <tr>\n      <th>2019-04-16</th>\n      <td>0.002279</td>\n    </tr>\n    <tr>\n      <th>2019-04-15</th>\n      <td>-0.000509</td>\n    </tr>\n  </tbody>\n</table>\n</div>"
     },
     "metadata": {},
     "execution_count": 292
    }
   ],
   "source": [
    "# Drop null values of the daily returns df\n",
    "sp500_daily.dropna(inplace=True)\n",
    "sp500_daily.head()"
   ]
  },
  {
   "cell_type": "code",
   "execution_count": 296,
   "metadata": {},
   "outputs": [
    {
     "output_type": "execute_result",
     "data": {
      "text/plain": [
       "             Returns\n",
       "Date                \n",
       "2019-04-22 -0.008764\n",
       "2019-04-18 -0.001011\n",
       "2019-04-17 -0.001577\n",
       "2019-04-16  0.002279\n",
       "2019-04-15 -0.000509"
      ],
      "text/html": "<div>\n<style scoped>\n    .dataframe tbody tr th:only-of-type {\n        vertical-align: middle;\n    }\n\n    .dataframe tbody tr th {\n        vertical-align: top;\n    }\n\n    .dataframe thead th {\n        text-align: right;\n    }\n</style>\n<table border=\"1\" class=\"dataframe\">\n  <thead>\n    <tr style=\"text-align: right;\">\n      <th></th>\n      <th>Returns</th>\n    </tr>\n    <tr>\n      <th>Date</th>\n      <th></th>\n    </tr>\n  </thead>\n  <tbody>\n    <tr>\n      <th>2019-04-22</th>\n      <td>-0.008764</td>\n    </tr>\n    <tr>\n      <th>2019-04-18</th>\n      <td>-0.001011</td>\n    </tr>\n    <tr>\n      <th>2019-04-17</th>\n      <td>-0.001577</td>\n    </tr>\n    <tr>\n      <th>2019-04-16</th>\n      <td>0.002279</td>\n    </tr>\n    <tr>\n      <th>2019-04-15</th>\n      <td>-0.000509</td>\n    </tr>\n  </tbody>\n</table>\n</div>"
     },
     "metadata": {},
     "execution_count": 296
    }
   ],
   "source": [
    "columns = [\"Returns\"]\n",
    "sp500_daily.columns = columns\n",
    "sp500_daily.head()\n"
   ]
  },
  {
   "cell_type": "code",
   "execution_count": 298,
   "metadata": {},
   "outputs": [],
   "source": [
    "# Combine the cleaned up dataframes by column, create an inner join\n",
    "three_returns = pd.concat([whale_df, algo_df, sp500_daily], axis=\"columns\", join=\"inner\")\n"
   ]
  },
  {
   "cell_type": "code",
   "execution_count": 299,
   "metadata": {},
   "outputs": [],
   "source": [
    "# Sort datetime index in ascending order \n",
    "three_returns.sort_index(inplace=True)"
   ]
  },
  {
   "cell_type": "code",
   "execution_count": 300,
   "metadata": {},
   "outputs": [
    {
     "output_type": "execute_result",
     "data": {
      "text/plain": [
       "            SOROS_FUND_MGMT_LLC  PAULSON_&_CO_INC  TIGER_GLOBAL_MGMT_LLC  \\\n",
       "Date                                                                       \n",
       "2015-03-03            -0.001266         -0.004981              -0.000496   \n",
       "2015-03-04             0.002230          0.003241              -0.002534   \n",
       "2015-03-05             0.004016          0.004076               0.002355   \n",
       "2015-03-06            -0.007905         -0.003574              -0.008481   \n",
       "2015-03-09             0.000582          0.004225               0.005843   \n",
       "\n",
       "            BERKSHIRE_HATHAWAY_INC    Algo_1    Algo_2   Returns  \n",
       "Date                                                              \n",
       "2015-03-03               -0.006569 -0.001942 -0.000949  0.004408  \n",
       "2015-03-04                0.004213 -0.008589  0.002416 -0.001195  \n",
       "2015-03-05                0.006726 -0.000955  0.004323  0.014378  \n",
       "2015-03-06               -0.013098 -0.004957 -0.011460 -0.003929  \n",
       "2015-03-09               -0.001652 -0.005447  0.001303  0.017254  "
      ],
      "text/html": "<div>\n<style scoped>\n    .dataframe tbody tr th:only-of-type {\n        vertical-align: middle;\n    }\n\n    .dataframe tbody tr th {\n        vertical-align: top;\n    }\n\n    .dataframe thead th {\n        text-align: right;\n    }\n</style>\n<table border=\"1\" class=\"dataframe\">\n  <thead>\n    <tr style=\"text-align: right;\">\n      <th></th>\n      <th>SOROS_FUND_MGMT_LLC</th>\n      <th>PAULSON_&amp;_CO_INC</th>\n      <th>TIGER_GLOBAL_MGMT_LLC</th>\n      <th>BERKSHIRE_HATHAWAY_INC</th>\n      <th>Algo_1</th>\n      <th>Algo_2</th>\n      <th>Returns</th>\n    </tr>\n    <tr>\n      <th>Date</th>\n      <th></th>\n      <th></th>\n      <th></th>\n      <th></th>\n      <th></th>\n      <th></th>\n      <th></th>\n    </tr>\n  </thead>\n  <tbody>\n    <tr>\n      <th>2015-03-03</th>\n      <td>-0.001266</td>\n      <td>-0.004981</td>\n      <td>-0.000496</td>\n      <td>-0.006569</td>\n      <td>-0.001942</td>\n      <td>-0.000949</td>\n      <td>0.004408</td>\n    </tr>\n    <tr>\n      <th>2015-03-04</th>\n      <td>0.002230</td>\n      <td>0.003241</td>\n      <td>-0.002534</td>\n      <td>0.004213</td>\n      <td>-0.008589</td>\n      <td>0.002416</td>\n      <td>-0.001195</td>\n    </tr>\n    <tr>\n      <th>2015-03-05</th>\n      <td>0.004016</td>\n      <td>0.004076</td>\n      <td>0.002355</td>\n      <td>0.006726</td>\n      <td>-0.000955</td>\n      <td>0.004323</td>\n      <td>0.014378</td>\n    </tr>\n    <tr>\n      <th>2015-03-06</th>\n      <td>-0.007905</td>\n      <td>-0.003574</td>\n      <td>-0.008481</td>\n      <td>-0.013098</td>\n      <td>-0.004957</td>\n      <td>-0.011460</td>\n      <td>-0.003929</td>\n    </tr>\n    <tr>\n      <th>2015-03-09</th>\n      <td>0.000582</td>\n      <td>0.004225</td>\n      <td>0.005843</td>\n      <td>-0.001652</td>\n      <td>-0.005447</td>\n      <td>0.001303</td>\n      <td>0.017254</td>\n    </tr>\n  </tbody>\n</table>\n</div>"
     },
     "metadata": {},
     "execution_count": 300
    }
   ],
   "source": [
    "three_returns.head()"
   ]
  },
  {
   "cell_type": "code",
   "execution_count": null,
   "metadata": {},
   "outputs": [],
   "source": [
    "# Plot daily returns of all portfolios\n",
    "# use plotly"
   ]
  },
  {
   "cell_type": "code",
   "execution_count": 253,
   "metadata": {},
   "outputs": [],
   "source": [
    "#Save Cleansed Data to New CSV:\n",
    "# Save modified DataFrame to the Resources folder. \n",
    "# Use the `index` parameter set to `False` to exclude saving the index.\n",
    "#people_df.to_csv(\"../Resources/people_cleansed.csv\", index=False)"
   ]
  }
 ],
 "metadata": {
  "kernelspec": {
   "name": "python385jvsc74a57bd0183bbf6827d058c2a2fb0f4acdc0420849dda2b4380af0e437e38c64d798d8b7",
   "display_name": "Python 3.8.5 64-bit ('base': conda)"
  },
  "language_info": {
   "codemirror_mode": {
    "name": "ipython",
    "version": 3
   },
   "file_extension": ".py",
   "mimetype": "text/x-python",
   "name": "python",
   "nbconvert_exporter": "python",
   "pygments_lexer": "ipython3",
   "version": "3.8.5"
  }
 },
 "nbformat": 4,
 "nbformat_minor": 4
}