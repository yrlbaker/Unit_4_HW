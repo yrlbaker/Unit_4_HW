{
 "cells": [
  {
   "cell_type": "code",
   "execution_count": 206,
   "source": [
    "# Unit 4 HW - Portfolio Analysis Using Python"
   ],
   "outputs": [],
   "metadata": {}
  },
  {
   "cell_type": "code",
   "execution_count": 207,
   "source": [
    "# Initial imports"
   ],
   "outputs": [],
   "metadata": {}
  },
  {
   "cell_type": "code",
   "execution_count": 208,
   "source": [
    "import pandas as pd \r\n",
    "import numpy as np \r\n",
    "import datetime as dt \r\n",
    "from pathlib import Path\r\n",
    "import seaborn as sns\r\n",
    "import hvplot.pandas\r\n",
    "%matplotlib inline\r\n"
   ],
   "outputs": [],
   "metadata": {}
  },
  {
   "cell_type": "code",
   "execution_count": 209,
   "source": [
    "# Data cleaning - will read and clean each .csv file"
   ],
   "outputs": [],
   "metadata": {}
  },
  {
   "cell_type": "code",
   "execution_count": 210,
   "source": [
    "# Using the pathlib library to set Path to the whale_returns.csv file\r\n",
    "whale_returns_data = Path(\"Resources/whale_returns.csv\")"
   ],
   "outputs": [],
   "metadata": {}
  },
  {
   "cell_type": "code",
   "execution_count": 211,
   "source": [
    "# Read the Whale Returns CSV, create a dataframe, and display results\r\n",
    "whale_df = pd.read_csv(whale_returns_data)\r\n",
    "whale_df"
   ],
   "outputs": [
    {
     "output_type": "execute_result",
     "data": {
      "text/plain": [
       "            Date  SOROS FUND MANAGEMENT LLC  PAULSON & CO.INC.   \\\n",
       "0     2015-03-02                        NaN                 NaN   \n",
       "1     2015-03-03                  -0.001266           -0.004981   \n",
       "2     2015-03-04                   0.002230            0.003241   \n",
       "3     2015-03-05                   0.004016            0.004076   \n",
       "4     2015-03-06                  -0.007905           -0.003574   \n",
       "...          ...                        ...                 ...   \n",
       "1055  2019-04-25                  -0.000285           -0.001291   \n",
       "1056  2019-04-26                   0.008149            0.009162   \n",
       "1057  2019-04-29                   0.001254            0.002719   \n",
       "1058  2019-04-30                  -0.001295           -0.002211   \n",
       "1059  2019-05-01                  -0.005847           -0.001341   \n",
       "\n",
       "      TIGER GLOBAL MANAGEMENT LLC  BERKSHIRE HATHAWAY INC  \n",
       "0                             NaN                     NaN  \n",
       "1                       -0.000496               -0.006569  \n",
       "2                       -0.002534                0.004213  \n",
       "3                        0.002355                0.006726  \n",
       "4                       -0.008481               -0.013098  \n",
       "...                           ...                     ...  \n",
       "1055                    -0.005153                0.004848  \n",
       "1056                     0.012355                0.010434  \n",
       "1057                     0.006251                0.005223  \n",
       "1058                    -0.000259               -0.003702  \n",
       "1059                    -0.007936               -0.007833  \n",
       "\n",
       "[1060 rows x 5 columns]"
      ],
      "text/html": [
       "<div>\n",
       "<style scoped>\n",
       "    .dataframe tbody tr th:only-of-type {\n",
       "        vertical-align: middle;\n",
       "    }\n",
       "\n",
       "    .dataframe tbody tr th {\n",
       "        vertical-align: top;\n",
       "    }\n",
       "\n",
       "    .dataframe thead th {\n",
       "        text-align: right;\n",
       "    }\n",
       "</style>\n",
       "<table border=\"1\" class=\"dataframe\">\n",
       "  <thead>\n",
       "    <tr style=\"text-align: right;\">\n",
       "      <th></th>\n",
       "      <th>Date</th>\n",
       "      <th>SOROS FUND MANAGEMENT LLC</th>\n",
       "      <th>PAULSON &amp; CO.INC.</th>\n",
       "      <th>TIGER GLOBAL MANAGEMENT LLC</th>\n",
       "      <th>BERKSHIRE HATHAWAY INC</th>\n",
       "    </tr>\n",
       "  </thead>\n",
       "  <tbody>\n",
       "    <tr>\n",
       "      <th>0</th>\n",
       "      <td>2015-03-02</td>\n",
       "      <td>NaN</td>\n",
       "      <td>NaN</td>\n",
       "      <td>NaN</td>\n",
       "      <td>NaN</td>\n",
       "    </tr>\n",
       "    <tr>\n",
       "      <th>1</th>\n",
       "      <td>2015-03-03</td>\n",
       "      <td>-0.001266</td>\n",
       "      <td>-0.004981</td>\n",
       "      <td>-0.000496</td>\n",
       "      <td>-0.006569</td>\n",
       "    </tr>\n",
       "    <tr>\n",
       "      <th>2</th>\n",
       "      <td>2015-03-04</td>\n",
       "      <td>0.002230</td>\n",
       "      <td>0.003241</td>\n",
       "      <td>-0.002534</td>\n",
       "      <td>0.004213</td>\n",
       "    </tr>\n",
       "    <tr>\n",
       "      <th>3</th>\n",
       "      <td>2015-03-05</td>\n",
       "      <td>0.004016</td>\n",
       "      <td>0.004076</td>\n",
       "      <td>0.002355</td>\n",
       "      <td>0.006726</td>\n",
       "    </tr>\n",
       "    <tr>\n",
       "      <th>4</th>\n",
       "      <td>2015-03-06</td>\n",
       "      <td>-0.007905</td>\n",
       "      <td>-0.003574</td>\n",
       "      <td>-0.008481</td>\n",
       "      <td>-0.013098</td>\n",
       "    </tr>\n",
       "    <tr>\n",
       "      <th>...</th>\n",
       "      <td>...</td>\n",
       "      <td>...</td>\n",
       "      <td>...</td>\n",
       "      <td>...</td>\n",
       "      <td>...</td>\n",
       "    </tr>\n",
       "    <tr>\n",
       "      <th>1055</th>\n",
       "      <td>2019-04-25</td>\n",
       "      <td>-0.000285</td>\n",
       "      <td>-0.001291</td>\n",
       "      <td>-0.005153</td>\n",
       "      <td>0.004848</td>\n",
       "    </tr>\n",
       "    <tr>\n",
       "      <th>1056</th>\n",
       "      <td>2019-04-26</td>\n",
       "      <td>0.008149</td>\n",
       "      <td>0.009162</td>\n",
       "      <td>0.012355</td>\n",
       "      <td>0.010434</td>\n",
       "    </tr>\n",
       "    <tr>\n",
       "      <th>1057</th>\n",
       "      <td>2019-04-29</td>\n",
       "      <td>0.001254</td>\n",
       "      <td>0.002719</td>\n",
       "      <td>0.006251</td>\n",
       "      <td>0.005223</td>\n",
       "    </tr>\n",
       "    <tr>\n",
       "      <th>1058</th>\n",
       "      <td>2019-04-30</td>\n",
       "      <td>-0.001295</td>\n",
       "      <td>-0.002211</td>\n",
       "      <td>-0.000259</td>\n",
       "      <td>-0.003702</td>\n",
       "    </tr>\n",
       "    <tr>\n",
       "      <th>1059</th>\n",
       "      <td>2019-05-01</td>\n",
       "      <td>-0.005847</td>\n",
       "      <td>-0.001341</td>\n",
       "      <td>-0.007936</td>\n",
       "      <td>-0.007833</td>\n",
       "    </tr>\n",
       "  </tbody>\n",
       "</table>\n",
       "<p>1060 rows × 5 columns</p>\n",
       "</div>"
      ]
     },
     "metadata": {},
     "execution_count": 211
    }
   ],
   "metadata": {}
  },
  {
   "cell_type": "code",
   "execution_count": 212,
   "source": [
    "# Converting the Whale_df into a DateTimeIndex \r\n",
    "whale_df.set_index(pd.to_datetime(whale_df['Date'], infer_datetime_format=True), inplace=True)\r\n",
    "whale_df.head()"
   ],
   "outputs": [
    {
     "output_type": "execute_result",
     "data": {
      "text/plain": [
       "                  Date  SOROS FUND MANAGEMENT LLC  PAULSON & CO.INC.   \\\n",
       "Date                                                                    \n",
       "2015-03-02  2015-03-02                        NaN                 NaN   \n",
       "2015-03-03  2015-03-03                  -0.001266           -0.004981   \n",
       "2015-03-04  2015-03-04                   0.002230            0.003241   \n",
       "2015-03-05  2015-03-05                   0.004016            0.004076   \n",
       "2015-03-06  2015-03-06                  -0.007905           -0.003574   \n",
       "\n",
       "            TIGER GLOBAL MANAGEMENT LLC  BERKSHIRE HATHAWAY INC  \n",
       "Date                                                             \n",
       "2015-03-02                          NaN                     NaN  \n",
       "2015-03-03                    -0.000496               -0.006569  \n",
       "2015-03-04                    -0.002534                0.004213  \n",
       "2015-03-05                     0.002355                0.006726  \n",
       "2015-03-06                    -0.008481               -0.013098  "
      ],
      "text/html": [
       "<div>\n",
       "<style scoped>\n",
       "    .dataframe tbody tr th:only-of-type {\n",
       "        vertical-align: middle;\n",
       "    }\n",
       "\n",
       "    .dataframe tbody tr th {\n",
       "        vertical-align: top;\n",
       "    }\n",
       "\n",
       "    .dataframe thead th {\n",
       "        text-align: right;\n",
       "    }\n",
       "</style>\n",
       "<table border=\"1\" class=\"dataframe\">\n",
       "  <thead>\n",
       "    <tr style=\"text-align: right;\">\n",
       "      <th></th>\n",
       "      <th>Date</th>\n",
       "      <th>SOROS FUND MANAGEMENT LLC</th>\n",
       "      <th>PAULSON &amp; CO.INC.</th>\n",
       "      <th>TIGER GLOBAL MANAGEMENT LLC</th>\n",
       "      <th>BERKSHIRE HATHAWAY INC</th>\n",
       "    </tr>\n",
       "    <tr>\n",
       "      <th>Date</th>\n",
       "      <th></th>\n",
       "      <th></th>\n",
       "      <th></th>\n",
       "      <th></th>\n",
       "      <th></th>\n",
       "    </tr>\n",
       "  </thead>\n",
       "  <tbody>\n",
       "    <tr>\n",
       "      <th>2015-03-02</th>\n",
       "      <td>2015-03-02</td>\n",
       "      <td>NaN</td>\n",
       "      <td>NaN</td>\n",
       "      <td>NaN</td>\n",
       "      <td>NaN</td>\n",
       "    </tr>\n",
       "    <tr>\n",
       "      <th>2015-03-03</th>\n",
       "      <td>2015-03-03</td>\n",
       "      <td>-0.001266</td>\n",
       "      <td>-0.004981</td>\n",
       "      <td>-0.000496</td>\n",
       "      <td>-0.006569</td>\n",
       "    </tr>\n",
       "    <tr>\n",
       "      <th>2015-03-04</th>\n",
       "      <td>2015-03-04</td>\n",
       "      <td>0.002230</td>\n",
       "      <td>0.003241</td>\n",
       "      <td>-0.002534</td>\n",
       "      <td>0.004213</td>\n",
       "    </tr>\n",
       "    <tr>\n",
       "      <th>2015-03-05</th>\n",
       "      <td>2015-03-05</td>\n",
       "      <td>0.004016</td>\n",
       "      <td>0.004076</td>\n",
       "      <td>0.002355</td>\n",
       "      <td>0.006726</td>\n",
       "    </tr>\n",
       "    <tr>\n",
       "      <th>2015-03-06</th>\n",
       "      <td>2015-03-06</td>\n",
       "      <td>-0.007905</td>\n",
       "      <td>-0.003574</td>\n",
       "      <td>-0.008481</td>\n",
       "      <td>-0.013098</td>\n",
       "    </tr>\n",
       "  </tbody>\n",
       "</table>\n",
       "</div>"
      ]
     },
     "metadata": {},
     "execution_count": 212
    }
   ],
   "metadata": {}
  },
  {
   "cell_type": "code",
   "execution_count": 213,
   "source": [
    "# Drop the extra date column\r\n",
    "whale_df.drop(columns=['Date'], inplace=True)\r\n",
    "whale_df.head()"
   ],
   "outputs": [
    {
     "output_type": "execute_result",
     "data": {
      "text/plain": [
       "            SOROS FUND MANAGEMENT LLC  PAULSON & CO.INC.   \\\n",
       "Date                                                        \n",
       "2015-03-02                        NaN                 NaN   \n",
       "2015-03-03                  -0.001266           -0.004981   \n",
       "2015-03-04                   0.002230            0.003241   \n",
       "2015-03-05                   0.004016            0.004076   \n",
       "2015-03-06                  -0.007905           -0.003574   \n",
       "\n",
       "            TIGER GLOBAL MANAGEMENT LLC  BERKSHIRE HATHAWAY INC  \n",
       "Date                                                             \n",
       "2015-03-02                          NaN                     NaN  \n",
       "2015-03-03                    -0.000496               -0.006569  \n",
       "2015-03-04                    -0.002534                0.004213  \n",
       "2015-03-05                     0.002355                0.006726  \n",
       "2015-03-06                    -0.008481               -0.013098  "
      ],
      "text/html": [
       "<div>\n",
       "<style scoped>\n",
       "    .dataframe tbody tr th:only-of-type {\n",
       "        vertical-align: middle;\n",
       "    }\n",
       "\n",
       "    .dataframe tbody tr th {\n",
       "        vertical-align: top;\n",
       "    }\n",
       "\n",
       "    .dataframe thead th {\n",
       "        text-align: right;\n",
       "    }\n",
       "</style>\n",
       "<table border=\"1\" class=\"dataframe\">\n",
       "  <thead>\n",
       "    <tr style=\"text-align: right;\">\n",
       "      <th></th>\n",
       "      <th>SOROS FUND MANAGEMENT LLC</th>\n",
       "      <th>PAULSON &amp; CO.INC.</th>\n",
       "      <th>TIGER GLOBAL MANAGEMENT LLC</th>\n",
       "      <th>BERKSHIRE HATHAWAY INC</th>\n",
       "    </tr>\n",
       "    <tr>\n",
       "      <th>Date</th>\n",
       "      <th></th>\n",
       "      <th></th>\n",
       "      <th></th>\n",
       "      <th></th>\n",
       "    </tr>\n",
       "  </thead>\n",
       "  <tbody>\n",
       "    <tr>\n",
       "      <th>2015-03-02</th>\n",
       "      <td>NaN</td>\n",
       "      <td>NaN</td>\n",
       "      <td>NaN</td>\n",
       "      <td>NaN</td>\n",
       "    </tr>\n",
       "    <tr>\n",
       "      <th>2015-03-03</th>\n",
       "      <td>-0.001266</td>\n",
       "      <td>-0.004981</td>\n",
       "      <td>-0.000496</td>\n",
       "      <td>-0.006569</td>\n",
       "    </tr>\n",
       "    <tr>\n",
       "      <th>2015-03-04</th>\n",
       "      <td>0.002230</td>\n",
       "      <td>0.003241</td>\n",
       "      <td>-0.002534</td>\n",
       "      <td>0.004213</td>\n",
       "    </tr>\n",
       "    <tr>\n",
       "      <th>2015-03-05</th>\n",
       "      <td>0.004016</td>\n",
       "      <td>0.004076</td>\n",
       "      <td>0.002355</td>\n",
       "      <td>0.006726</td>\n",
       "    </tr>\n",
       "    <tr>\n",
       "      <th>2015-03-06</th>\n",
       "      <td>-0.007905</td>\n",
       "      <td>-0.003574</td>\n",
       "      <td>-0.008481</td>\n",
       "      <td>-0.013098</td>\n",
       "    </tr>\n",
       "  </tbody>\n",
       "</table>\n",
       "</div>"
      ]
     },
     "metadata": {},
     "execution_count": 213
    }
   ],
   "metadata": {}
  },
  {
   "cell_type": "code",
   "execution_count": 214,
   "source": [
    "# calculate daily returns\r\n",
    "whale_df_daily = whale_df.pct_change()\r\n",
    "whale_df_daily.head()"
   ],
   "outputs": [
    {
     "output_type": "execute_result",
     "data": {
      "text/plain": [
       "            SOROS FUND MANAGEMENT LLC  PAULSON & CO.INC.   \\\n",
       "Date                                                        \n",
       "2015-03-02                        NaN                 NaN   \n",
       "2015-03-03                        NaN                 NaN   \n",
       "2015-03-04                  -2.762070           -1.650792   \n",
       "2015-03-05                   0.800968            0.257544   \n",
       "2015-03-06                  -2.968465           -1.876837   \n",
       "\n",
       "            TIGER GLOBAL MANAGEMENT LLC  BERKSHIRE HATHAWAY INC  \n",
       "Date                                                             \n",
       "2015-03-02                          NaN                     NaN  \n",
       "2015-03-03                          NaN                     NaN  \n",
       "2015-03-04                     4.113646               -1.641381  \n",
       "2015-03-05                    -1.929234                0.596558  \n",
       "2015-03-06                    -4.601872               -2.947282  "
      ],
      "text/html": [
       "<div>\n",
       "<style scoped>\n",
       "    .dataframe tbody tr th:only-of-type {\n",
       "        vertical-align: middle;\n",
       "    }\n",
       "\n",
       "    .dataframe tbody tr th {\n",
       "        vertical-align: top;\n",
       "    }\n",
       "\n",
       "    .dataframe thead th {\n",
       "        text-align: right;\n",
       "    }\n",
       "</style>\n",
       "<table border=\"1\" class=\"dataframe\">\n",
       "  <thead>\n",
       "    <tr style=\"text-align: right;\">\n",
       "      <th></th>\n",
       "      <th>SOROS FUND MANAGEMENT LLC</th>\n",
       "      <th>PAULSON &amp; CO.INC.</th>\n",
       "      <th>TIGER GLOBAL MANAGEMENT LLC</th>\n",
       "      <th>BERKSHIRE HATHAWAY INC</th>\n",
       "    </tr>\n",
       "    <tr>\n",
       "      <th>Date</th>\n",
       "      <th></th>\n",
       "      <th></th>\n",
       "      <th></th>\n",
       "      <th></th>\n",
       "    </tr>\n",
       "  </thead>\n",
       "  <tbody>\n",
       "    <tr>\n",
       "      <th>2015-03-02</th>\n",
       "      <td>NaN</td>\n",
       "      <td>NaN</td>\n",
       "      <td>NaN</td>\n",
       "      <td>NaN</td>\n",
       "    </tr>\n",
       "    <tr>\n",
       "      <th>2015-03-03</th>\n",
       "      <td>NaN</td>\n",
       "      <td>NaN</td>\n",
       "      <td>NaN</td>\n",
       "      <td>NaN</td>\n",
       "    </tr>\n",
       "    <tr>\n",
       "      <th>2015-03-04</th>\n",
       "      <td>-2.762070</td>\n",
       "      <td>-1.650792</td>\n",
       "      <td>4.113646</td>\n",
       "      <td>-1.641381</td>\n",
       "    </tr>\n",
       "    <tr>\n",
       "      <th>2015-03-05</th>\n",
       "      <td>0.800968</td>\n",
       "      <td>0.257544</td>\n",
       "      <td>-1.929234</td>\n",
       "      <td>0.596558</td>\n",
       "    </tr>\n",
       "    <tr>\n",
       "      <th>2015-03-06</th>\n",
       "      <td>-2.968465</td>\n",
       "      <td>-1.876837</td>\n",
       "      <td>-4.601872</td>\n",
       "      <td>-2.947282</td>\n",
       "    </tr>\n",
       "  </tbody>\n",
       "</table>\n",
       "</div>"
      ]
     },
     "metadata": {},
     "execution_count": 214
    }
   ],
   "metadata": {}
  },
  {
   "cell_type": "code",
   "execution_count": 215,
   "source": [
    "# Find null values\r\n",
    "whale_df_daily.isnull().sum()"
   ],
   "outputs": [
    {
     "output_type": "execute_result",
     "data": {
      "text/plain": [
       "SOROS FUND MANAGEMENT LLC      16\n",
       "PAULSON & CO.INC.              16\n",
       "TIGER GLOBAL MANAGEMENT LLC    16\n",
       "BERKSHIRE HATHAWAY INC         16\n",
       "dtype: int64"
      ]
     },
     "metadata": {},
     "execution_count": 215
    }
   ],
   "metadata": {}
  },
  {
   "cell_type": "code",
   "execution_count": 216,
   "source": [
    "# Drop null values\r\n",
    "whale_df_daily.dropna(inplace=True)\r\n",
    "whale_df_daily.head()"
   ],
   "outputs": [
    {
     "output_type": "execute_result",
     "data": {
      "text/plain": [
       "            SOROS FUND MANAGEMENT LLC  PAULSON & CO.INC.   \\\n",
       "Date                                                        \n",
       "2015-03-04                  -2.762070           -1.650792   \n",
       "2015-03-05                   0.800968            0.257544   \n",
       "2015-03-06                  -2.968465           -1.876837   \n",
       "2015-03-09                  -1.073656           -2.182252   \n",
       "2015-03-10                 -18.625495           -2.263954   \n",
       "\n",
       "            TIGER GLOBAL MANAGEMENT LLC  BERKSHIRE HATHAWAY INC  \n",
       "Date                                                             \n",
       "2015-03-04                     4.113646               -1.641381  \n",
       "2015-03-05                    -1.929234                0.596558  \n",
       "2015-03-06                    -4.601872               -2.947282  \n",
       "2015-03-09                    -1.688907               -0.873840  \n",
       "2015-03-10                    -3.067380                4.893672  "
      ],
      "text/html": [
       "<div>\n",
       "<style scoped>\n",
       "    .dataframe tbody tr th:only-of-type {\n",
       "        vertical-align: middle;\n",
       "    }\n",
       "\n",
       "    .dataframe tbody tr th {\n",
       "        vertical-align: top;\n",
       "    }\n",
       "\n",
       "    .dataframe thead th {\n",
       "        text-align: right;\n",
       "    }\n",
       "</style>\n",
       "<table border=\"1\" class=\"dataframe\">\n",
       "  <thead>\n",
       "    <tr style=\"text-align: right;\">\n",
       "      <th></th>\n",
       "      <th>SOROS FUND MANAGEMENT LLC</th>\n",
       "      <th>PAULSON &amp; CO.INC.</th>\n",
       "      <th>TIGER GLOBAL MANAGEMENT LLC</th>\n",
       "      <th>BERKSHIRE HATHAWAY INC</th>\n",
       "    </tr>\n",
       "    <tr>\n",
       "      <th>Date</th>\n",
       "      <th></th>\n",
       "      <th></th>\n",
       "      <th></th>\n",
       "      <th></th>\n",
       "    </tr>\n",
       "  </thead>\n",
       "  <tbody>\n",
       "    <tr>\n",
       "      <th>2015-03-04</th>\n",
       "      <td>-2.762070</td>\n",
       "      <td>-1.650792</td>\n",
       "      <td>4.113646</td>\n",
       "      <td>-1.641381</td>\n",
       "    </tr>\n",
       "    <tr>\n",
       "      <th>2015-03-05</th>\n",
       "      <td>0.800968</td>\n",
       "      <td>0.257544</td>\n",
       "      <td>-1.929234</td>\n",
       "      <td>0.596558</td>\n",
       "    </tr>\n",
       "    <tr>\n",
       "      <th>2015-03-06</th>\n",
       "      <td>-2.968465</td>\n",
       "      <td>-1.876837</td>\n",
       "      <td>-4.601872</td>\n",
       "      <td>-2.947282</td>\n",
       "    </tr>\n",
       "    <tr>\n",
       "      <th>2015-03-09</th>\n",
       "      <td>-1.073656</td>\n",
       "      <td>-2.182252</td>\n",
       "      <td>-1.688907</td>\n",
       "      <td>-0.873840</td>\n",
       "    </tr>\n",
       "    <tr>\n",
       "      <th>2015-03-10</th>\n",
       "      <td>-18.625495</td>\n",
       "      <td>-2.263954</td>\n",
       "      <td>-3.067380</td>\n",
       "      <td>4.893672</td>\n",
       "    </tr>\n",
       "  </tbody>\n",
       "</table>\n",
       "</div>"
      ]
     },
     "metadata": {},
     "execution_count": 216
    }
   ],
   "metadata": {}
  },
  {
   "cell_type": "code",
   "execution_count": 217,
   "source": [
    "# Change the appearance of the column names to reflect no spaces\r\n",
    "columns = [\"SOROS_FUND_MGMT_LLC\", \"PAULSON_&_CO_INC\", \"TIGER_GLOBAL_MGMT_LLC\", \"BERKSHIRE_HATHAWAY_INC\"]\r\n",
    "whale_df_daily.columns = columns\r\n",
    "whale_df_daily.head()"
   ],
   "outputs": [
    {
     "output_type": "execute_result",
     "data": {
      "text/plain": [
       "            SOROS_FUND_MGMT_LLC  PAULSON_&_CO_INC  TIGER_GLOBAL_MGMT_LLC  \\\n",
       "Date                                                                       \n",
       "2015-03-04            -2.762070         -1.650792               4.113646   \n",
       "2015-03-05             0.800968          0.257544              -1.929234   \n",
       "2015-03-06            -2.968465         -1.876837              -4.601872   \n",
       "2015-03-09            -1.073656         -2.182252              -1.688907   \n",
       "2015-03-10           -18.625495         -2.263954              -3.067380   \n",
       "\n",
       "            BERKSHIRE_HATHAWAY_INC  \n",
       "Date                                \n",
       "2015-03-04               -1.641381  \n",
       "2015-03-05                0.596558  \n",
       "2015-03-06               -2.947282  \n",
       "2015-03-09               -0.873840  \n",
       "2015-03-10                4.893672  "
      ],
      "text/html": [
       "<div>\n",
       "<style scoped>\n",
       "    .dataframe tbody tr th:only-of-type {\n",
       "        vertical-align: middle;\n",
       "    }\n",
       "\n",
       "    .dataframe tbody tr th {\n",
       "        vertical-align: top;\n",
       "    }\n",
       "\n",
       "    .dataframe thead th {\n",
       "        text-align: right;\n",
       "    }\n",
       "</style>\n",
       "<table border=\"1\" class=\"dataframe\">\n",
       "  <thead>\n",
       "    <tr style=\"text-align: right;\">\n",
       "      <th></th>\n",
       "      <th>SOROS_FUND_MGMT_LLC</th>\n",
       "      <th>PAULSON_&amp;_CO_INC</th>\n",
       "      <th>TIGER_GLOBAL_MGMT_LLC</th>\n",
       "      <th>BERKSHIRE_HATHAWAY_INC</th>\n",
       "    </tr>\n",
       "    <tr>\n",
       "      <th>Date</th>\n",
       "      <th></th>\n",
       "      <th></th>\n",
       "      <th></th>\n",
       "      <th></th>\n",
       "    </tr>\n",
       "  </thead>\n",
       "  <tbody>\n",
       "    <tr>\n",
       "      <th>2015-03-04</th>\n",
       "      <td>-2.762070</td>\n",
       "      <td>-1.650792</td>\n",
       "      <td>4.113646</td>\n",
       "      <td>-1.641381</td>\n",
       "    </tr>\n",
       "    <tr>\n",
       "      <th>2015-03-05</th>\n",
       "      <td>0.800968</td>\n",
       "      <td>0.257544</td>\n",
       "      <td>-1.929234</td>\n",
       "      <td>0.596558</td>\n",
       "    </tr>\n",
       "    <tr>\n",
       "      <th>2015-03-06</th>\n",
       "      <td>-2.968465</td>\n",
       "      <td>-1.876837</td>\n",
       "      <td>-4.601872</td>\n",
       "      <td>-2.947282</td>\n",
       "    </tr>\n",
       "    <tr>\n",
       "      <th>2015-03-09</th>\n",
       "      <td>-1.073656</td>\n",
       "      <td>-2.182252</td>\n",
       "      <td>-1.688907</td>\n",
       "      <td>-0.873840</td>\n",
       "    </tr>\n",
       "    <tr>\n",
       "      <th>2015-03-10</th>\n",
       "      <td>-18.625495</td>\n",
       "      <td>-2.263954</td>\n",
       "      <td>-3.067380</td>\n",
       "      <td>4.893672</td>\n",
       "    </tr>\n",
       "  </tbody>\n",
       "</table>\n",
       "</div>"
      ]
     },
     "metadata": {},
     "execution_count": 217
    }
   ],
   "metadata": {}
  },
  {
   "cell_type": "code",
   "execution_count": 218,
   "source": [
    "# Using the pathlib library to set Path to the algo_returns.csv file\r\n",
    "algo_returns_data = Path(\"Resources/algo_returns.csv\")"
   ],
   "outputs": [],
   "metadata": {}
  },
  {
   "cell_type": "code",
   "execution_count": 219,
   "source": [
    "# Read the Algo Returns CSV, create a dataframe, and display results\r\n",
    "algo_df = pd.read_csv(algo_returns_data)\r\n",
    "algo_df"
   ],
   "outputs": [
    {
     "output_type": "execute_result",
     "data": {
      "text/plain": [
       "            Date    Algo 1    Algo 2\n",
       "0     2014-05-28  0.001745       NaN\n",
       "1     2014-05-29  0.003978       NaN\n",
       "2     2014-05-30  0.004464       NaN\n",
       "3     2014-06-02  0.005692       NaN\n",
       "4     2014-06-03  0.005292       NaN\n",
       "...          ...       ...       ...\n",
       "1236  2019-04-25  0.000682 -0.007247\n",
       "1237  2019-04-26  0.002981  0.005256\n",
       "1238  2019-04-29  0.005208  0.002829\n",
       "1239  2019-04-30 -0.002944 -0.001570\n",
       "1240  2019-05-01  0.000094 -0.007358\n",
       "\n",
       "[1241 rows x 3 columns]"
      ],
      "text/html": [
       "<div>\n",
       "<style scoped>\n",
       "    .dataframe tbody tr th:only-of-type {\n",
       "        vertical-align: middle;\n",
       "    }\n",
       "\n",
       "    .dataframe tbody tr th {\n",
       "        vertical-align: top;\n",
       "    }\n",
       "\n",
       "    .dataframe thead th {\n",
       "        text-align: right;\n",
       "    }\n",
       "</style>\n",
       "<table border=\"1\" class=\"dataframe\">\n",
       "  <thead>\n",
       "    <tr style=\"text-align: right;\">\n",
       "      <th></th>\n",
       "      <th>Date</th>\n",
       "      <th>Algo 1</th>\n",
       "      <th>Algo 2</th>\n",
       "    </tr>\n",
       "  </thead>\n",
       "  <tbody>\n",
       "    <tr>\n",
       "      <th>0</th>\n",
       "      <td>2014-05-28</td>\n",
       "      <td>0.001745</td>\n",
       "      <td>NaN</td>\n",
       "    </tr>\n",
       "    <tr>\n",
       "      <th>1</th>\n",
       "      <td>2014-05-29</td>\n",
       "      <td>0.003978</td>\n",
       "      <td>NaN</td>\n",
       "    </tr>\n",
       "    <tr>\n",
       "      <th>2</th>\n",
       "      <td>2014-05-30</td>\n",
       "      <td>0.004464</td>\n",
       "      <td>NaN</td>\n",
       "    </tr>\n",
       "    <tr>\n",
       "      <th>3</th>\n",
       "      <td>2014-06-02</td>\n",
       "      <td>0.005692</td>\n",
       "      <td>NaN</td>\n",
       "    </tr>\n",
       "    <tr>\n",
       "      <th>4</th>\n",
       "      <td>2014-06-03</td>\n",
       "      <td>0.005292</td>\n",
       "      <td>NaN</td>\n",
       "    </tr>\n",
       "    <tr>\n",
       "      <th>...</th>\n",
       "      <td>...</td>\n",
       "      <td>...</td>\n",
       "      <td>...</td>\n",
       "    </tr>\n",
       "    <tr>\n",
       "      <th>1236</th>\n",
       "      <td>2019-04-25</td>\n",
       "      <td>0.000682</td>\n",
       "      <td>-0.007247</td>\n",
       "    </tr>\n",
       "    <tr>\n",
       "      <th>1237</th>\n",
       "      <td>2019-04-26</td>\n",
       "      <td>0.002981</td>\n",
       "      <td>0.005256</td>\n",
       "    </tr>\n",
       "    <tr>\n",
       "      <th>1238</th>\n",
       "      <td>2019-04-29</td>\n",
       "      <td>0.005208</td>\n",
       "      <td>0.002829</td>\n",
       "    </tr>\n",
       "    <tr>\n",
       "      <th>1239</th>\n",
       "      <td>2019-04-30</td>\n",
       "      <td>-0.002944</td>\n",
       "      <td>-0.001570</td>\n",
       "    </tr>\n",
       "    <tr>\n",
       "      <th>1240</th>\n",
       "      <td>2019-05-01</td>\n",
       "      <td>0.000094</td>\n",
       "      <td>-0.007358</td>\n",
       "    </tr>\n",
       "  </tbody>\n",
       "</table>\n",
       "<p>1241 rows × 3 columns</p>\n",
       "</div>"
      ]
     },
     "metadata": {},
     "execution_count": 219
    }
   ],
   "metadata": {}
  },
  {
   "cell_type": "code",
   "execution_count": 220,
   "source": [
    "# Converting the algo_df into a DateTimeIndex \r\n",
    "algo_df.set_index(pd.to_datetime(algo_df[\"Date\"], infer_datetime_format=True), inplace=True)\r\n",
    "algo_df"
   ],
   "outputs": [
    {
     "output_type": "execute_result",
     "data": {
      "text/plain": [
       "                  Date    Algo 1    Algo 2\n",
       "Date                                      \n",
       "2014-05-28  2014-05-28  0.001745       NaN\n",
       "2014-05-29  2014-05-29  0.003978       NaN\n",
       "2014-05-30  2014-05-30  0.004464       NaN\n",
       "2014-06-02  2014-06-02  0.005692       NaN\n",
       "2014-06-03  2014-06-03  0.005292       NaN\n",
       "...                ...       ...       ...\n",
       "2019-04-25  2019-04-25  0.000682 -0.007247\n",
       "2019-04-26  2019-04-26  0.002981  0.005256\n",
       "2019-04-29  2019-04-29  0.005208  0.002829\n",
       "2019-04-30  2019-04-30 -0.002944 -0.001570\n",
       "2019-05-01  2019-05-01  0.000094 -0.007358\n",
       "\n",
       "[1241 rows x 3 columns]"
      ],
      "text/html": [
       "<div>\n",
       "<style scoped>\n",
       "    .dataframe tbody tr th:only-of-type {\n",
       "        vertical-align: middle;\n",
       "    }\n",
       "\n",
       "    .dataframe tbody tr th {\n",
       "        vertical-align: top;\n",
       "    }\n",
       "\n",
       "    .dataframe thead th {\n",
       "        text-align: right;\n",
       "    }\n",
       "</style>\n",
       "<table border=\"1\" class=\"dataframe\">\n",
       "  <thead>\n",
       "    <tr style=\"text-align: right;\">\n",
       "      <th></th>\n",
       "      <th>Date</th>\n",
       "      <th>Algo 1</th>\n",
       "      <th>Algo 2</th>\n",
       "    </tr>\n",
       "    <tr>\n",
       "      <th>Date</th>\n",
       "      <th></th>\n",
       "      <th></th>\n",
       "      <th></th>\n",
       "    </tr>\n",
       "  </thead>\n",
       "  <tbody>\n",
       "    <tr>\n",
       "      <th>2014-05-28</th>\n",
       "      <td>2014-05-28</td>\n",
       "      <td>0.001745</td>\n",
       "      <td>NaN</td>\n",
       "    </tr>\n",
       "    <tr>\n",
       "      <th>2014-05-29</th>\n",
       "      <td>2014-05-29</td>\n",
       "      <td>0.003978</td>\n",
       "      <td>NaN</td>\n",
       "    </tr>\n",
       "    <tr>\n",
       "      <th>2014-05-30</th>\n",
       "      <td>2014-05-30</td>\n",
       "      <td>0.004464</td>\n",
       "      <td>NaN</td>\n",
       "    </tr>\n",
       "    <tr>\n",
       "      <th>2014-06-02</th>\n",
       "      <td>2014-06-02</td>\n",
       "      <td>0.005692</td>\n",
       "      <td>NaN</td>\n",
       "    </tr>\n",
       "    <tr>\n",
       "      <th>2014-06-03</th>\n",
       "      <td>2014-06-03</td>\n",
       "      <td>0.005292</td>\n",
       "      <td>NaN</td>\n",
       "    </tr>\n",
       "    <tr>\n",
       "      <th>...</th>\n",
       "      <td>...</td>\n",
       "      <td>...</td>\n",
       "      <td>...</td>\n",
       "    </tr>\n",
       "    <tr>\n",
       "      <th>2019-04-25</th>\n",
       "      <td>2019-04-25</td>\n",
       "      <td>0.000682</td>\n",
       "      <td>-0.007247</td>\n",
       "    </tr>\n",
       "    <tr>\n",
       "      <th>2019-04-26</th>\n",
       "      <td>2019-04-26</td>\n",
       "      <td>0.002981</td>\n",
       "      <td>0.005256</td>\n",
       "    </tr>\n",
       "    <tr>\n",
       "      <th>2019-04-29</th>\n",
       "      <td>2019-04-29</td>\n",
       "      <td>0.005208</td>\n",
       "      <td>0.002829</td>\n",
       "    </tr>\n",
       "    <tr>\n",
       "      <th>2019-04-30</th>\n",
       "      <td>2019-04-30</td>\n",
       "      <td>-0.002944</td>\n",
       "      <td>-0.001570</td>\n",
       "    </tr>\n",
       "    <tr>\n",
       "      <th>2019-05-01</th>\n",
       "      <td>2019-05-01</td>\n",
       "      <td>0.000094</td>\n",
       "      <td>-0.007358</td>\n",
       "    </tr>\n",
       "  </tbody>\n",
       "</table>\n",
       "<p>1241 rows × 3 columns</p>\n",
       "</div>"
      ]
     },
     "metadata": {},
     "execution_count": 220
    }
   ],
   "metadata": {}
  },
  {
   "cell_type": "code",
   "execution_count": 221,
   "source": [
    "# Drop the extra date column\r\n",
    "algo_df.drop(columns=[\"Date\"], inplace=True)\r\n",
    "algo_df.head()"
   ],
   "outputs": [
    {
     "output_type": "execute_result",
     "data": {
      "text/plain": [
       "              Algo 1  Algo 2\n",
       "Date                        \n",
       "2014-05-28  0.001745     NaN\n",
       "2014-05-29  0.003978     NaN\n",
       "2014-05-30  0.004464     NaN\n",
       "2014-06-02  0.005692     NaN\n",
       "2014-06-03  0.005292     NaN"
      ],
      "text/html": [
       "<div>\n",
       "<style scoped>\n",
       "    .dataframe tbody tr th:only-of-type {\n",
       "        vertical-align: middle;\n",
       "    }\n",
       "\n",
       "    .dataframe tbody tr th {\n",
       "        vertical-align: top;\n",
       "    }\n",
       "\n",
       "    .dataframe thead th {\n",
       "        text-align: right;\n",
       "    }\n",
       "</style>\n",
       "<table border=\"1\" class=\"dataframe\">\n",
       "  <thead>\n",
       "    <tr style=\"text-align: right;\">\n",
       "      <th></th>\n",
       "      <th>Algo 1</th>\n",
       "      <th>Algo 2</th>\n",
       "    </tr>\n",
       "    <tr>\n",
       "      <th>Date</th>\n",
       "      <th></th>\n",
       "      <th></th>\n",
       "    </tr>\n",
       "  </thead>\n",
       "  <tbody>\n",
       "    <tr>\n",
       "      <th>2014-05-28</th>\n",
       "      <td>0.001745</td>\n",
       "      <td>NaN</td>\n",
       "    </tr>\n",
       "    <tr>\n",
       "      <th>2014-05-29</th>\n",
       "      <td>0.003978</td>\n",
       "      <td>NaN</td>\n",
       "    </tr>\n",
       "    <tr>\n",
       "      <th>2014-05-30</th>\n",
       "      <td>0.004464</td>\n",
       "      <td>NaN</td>\n",
       "    </tr>\n",
       "    <tr>\n",
       "      <th>2014-06-02</th>\n",
       "      <td>0.005692</td>\n",
       "      <td>NaN</td>\n",
       "    </tr>\n",
       "    <tr>\n",
       "      <th>2014-06-03</th>\n",
       "      <td>0.005292</td>\n",
       "      <td>NaN</td>\n",
       "    </tr>\n",
       "  </tbody>\n",
       "</table>\n",
       "</div>"
      ]
     },
     "metadata": {},
     "execution_count": 221
    }
   ],
   "metadata": {}
  },
  {
   "cell_type": "code",
   "execution_count": 222,
   "source": [
    "# calculate daily returns\r\n",
    "algo_df_daily = algo_df.pct_change()\r\n",
    "algo_df_daily.head()\r\n"
   ],
   "outputs": [
    {
     "output_type": "execute_result",
     "data": {
      "text/plain": [
       "              Algo 1  Algo 2\n",
       "Date                        \n",
       "2014-05-28       NaN     NaN\n",
       "2014-05-29  1.280156     NaN\n",
       "2014-05-30  0.122192     NaN\n",
       "2014-06-02  0.275137     NaN\n",
       "2014-06-03 -0.070296     NaN"
      ],
      "text/html": [
       "<div>\n",
       "<style scoped>\n",
       "    .dataframe tbody tr th:only-of-type {\n",
       "        vertical-align: middle;\n",
       "    }\n",
       "\n",
       "    .dataframe tbody tr th {\n",
       "        vertical-align: top;\n",
       "    }\n",
       "\n",
       "    .dataframe thead th {\n",
       "        text-align: right;\n",
       "    }\n",
       "</style>\n",
       "<table border=\"1\" class=\"dataframe\">\n",
       "  <thead>\n",
       "    <tr style=\"text-align: right;\">\n",
       "      <th></th>\n",
       "      <th>Algo 1</th>\n",
       "      <th>Algo 2</th>\n",
       "    </tr>\n",
       "    <tr>\n",
       "      <th>Date</th>\n",
       "      <th></th>\n",
       "      <th></th>\n",
       "    </tr>\n",
       "  </thead>\n",
       "  <tbody>\n",
       "    <tr>\n",
       "      <th>2014-05-28</th>\n",
       "      <td>NaN</td>\n",
       "      <td>NaN</td>\n",
       "    </tr>\n",
       "    <tr>\n",
       "      <th>2014-05-29</th>\n",
       "      <td>1.280156</td>\n",
       "      <td>NaN</td>\n",
       "    </tr>\n",
       "    <tr>\n",
       "      <th>2014-05-30</th>\n",
       "      <td>0.122192</td>\n",
       "      <td>NaN</td>\n",
       "    </tr>\n",
       "    <tr>\n",
       "      <th>2014-06-02</th>\n",
       "      <td>0.275137</td>\n",
       "      <td>NaN</td>\n",
       "    </tr>\n",
       "    <tr>\n",
       "      <th>2014-06-03</th>\n",
       "      <td>-0.070296</td>\n",
       "      <td>NaN</td>\n",
       "    </tr>\n",
       "  </tbody>\n",
       "</table>\n",
       "</div>"
      ]
     },
     "metadata": {},
     "execution_count": 222
    }
   ],
   "metadata": {}
  },
  {
   "cell_type": "code",
   "execution_count": 223,
   "source": [
    "# Find null values\r\n",
    "algo_df_daily.isnull().sum()"
   ],
   "outputs": [
    {
     "output_type": "execute_result",
     "data": {
      "text/plain": [
       "Algo 1    1\n",
       "Algo 2    7\n",
       "dtype: int64"
      ]
     },
     "metadata": {},
     "execution_count": 223
    }
   ],
   "metadata": {}
  },
  {
   "cell_type": "code",
   "execution_count": 224,
   "source": [
    "# Drop null values\r\n",
    "algo_df_daily.dropna(inplace=True)\r\n",
    "algo_df_daily.head()"
   ],
   "outputs": [
    {
     "output_type": "execute_result",
     "data": {
      "text/plain": [
       "              Algo 1    Algo 2\n",
       "Date                          \n",
       "2014-06-06 -0.542965 -0.376459\n",
       "2014-06-09 -3.699288 -0.315757\n",
       "2014-06-10 -1.879164 -1.129760\n",
       "2014-06-11  0.080354  4.113963\n",
       "2014-06-12 -1.005932  0.021230"
      ],
      "text/html": [
       "<div>\n",
       "<style scoped>\n",
       "    .dataframe tbody tr th:only-of-type {\n",
       "        vertical-align: middle;\n",
       "    }\n",
       "\n",
       "    .dataframe tbody tr th {\n",
       "        vertical-align: top;\n",
       "    }\n",
       "\n",
       "    .dataframe thead th {\n",
       "        text-align: right;\n",
       "    }\n",
       "</style>\n",
       "<table border=\"1\" class=\"dataframe\">\n",
       "  <thead>\n",
       "    <tr style=\"text-align: right;\">\n",
       "      <th></th>\n",
       "      <th>Algo 1</th>\n",
       "      <th>Algo 2</th>\n",
       "    </tr>\n",
       "    <tr>\n",
       "      <th>Date</th>\n",
       "      <th></th>\n",
       "      <th></th>\n",
       "    </tr>\n",
       "  </thead>\n",
       "  <tbody>\n",
       "    <tr>\n",
       "      <th>2014-06-06</th>\n",
       "      <td>-0.542965</td>\n",
       "      <td>-0.376459</td>\n",
       "    </tr>\n",
       "    <tr>\n",
       "      <th>2014-06-09</th>\n",
       "      <td>-3.699288</td>\n",
       "      <td>-0.315757</td>\n",
       "    </tr>\n",
       "    <tr>\n",
       "      <th>2014-06-10</th>\n",
       "      <td>-1.879164</td>\n",
       "      <td>-1.129760</td>\n",
       "    </tr>\n",
       "    <tr>\n",
       "      <th>2014-06-11</th>\n",
       "      <td>0.080354</td>\n",
       "      <td>4.113963</td>\n",
       "    </tr>\n",
       "    <tr>\n",
       "      <th>2014-06-12</th>\n",
       "      <td>-1.005932</td>\n",
       "      <td>0.021230</td>\n",
       "    </tr>\n",
       "  </tbody>\n",
       "</table>\n",
       "</div>"
      ]
     },
     "metadata": {},
     "execution_count": 224
    }
   ],
   "metadata": {}
  },
  {
   "cell_type": "code",
   "execution_count": 225,
   "source": [
    "# Change the appearance of the column names to reflect no spaces\r\n",
    "columns = [\"Algo_1\", \"Algo_2\"]\r\n",
    "algo_df_daily.columns = columns\r\n",
    "algo_df_daily.head()"
   ],
   "outputs": [
    {
     "output_type": "execute_result",
     "data": {
      "text/plain": [
       "              Algo_1    Algo_2\n",
       "Date                          \n",
       "2014-06-06 -0.542965 -0.376459\n",
       "2014-06-09 -3.699288 -0.315757\n",
       "2014-06-10 -1.879164 -1.129760\n",
       "2014-06-11  0.080354  4.113963\n",
       "2014-06-12 -1.005932  0.021230"
      ],
      "text/html": [
       "<div>\n",
       "<style scoped>\n",
       "    .dataframe tbody tr th:only-of-type {\n",
       "        vertical-align: middle;\n",
       "    }\n",
       "\n",
       "    .dataframe tbody tr th {\n",
       "        vertical-align: top;\n",
       "    }\n",
       "\n",
       "    .dataframe thead th {\n",
       "        text-align: right;\n",
       "    }\n",
       "</style>\n",
       "<table border=\"1\" class=\"dataframe\">\n",
       "  <thead>\n",
       "    <tr style=\"text-align: right;\">\n",
       "      <th></th>\n",
       "      <th>Algo_1</th>\n",
       "      <th>Algo_2</th>\n",
       "    </tr>\n",
       "    <tr>\n",
       "      <th>Date</th>\n",
       "      <th></th>\n",
       "      <th></th>\n",
       "    </tr>\n",
       "  </thead>\n",
       "  <tbody>\n",
       "    <tr>\n",
       "      <th>2014-06-06</th>\n",
       "      <td>-0.542965</td>\n",
       "      <td>-0.376459</td>\n",
       "    </tr>\n",
       "    <tr>\n",
       "      <th>2014-06-09</th>\n",
       "      <td>-3.699288</td>\n",
       "      <td>-0.315757</td>\n",
       "    </tr>\n",
       "    <tr>\n",
       "      <th>2014-06-10</th>\n",
       "      <td>-1.879164</td>\n",
       "      <td>-1.129760</td>\n",
       "    </tr>\n",
       "    <tr>\n",
       "      <th>2014-06-11</th>\n",
       "      <td>0.080354</td>\n",
       "      <td>4.113963</td>\n",
       "    </tr>\n",
       "    <tr>\n",
       "      <th>2014-06-12</th>\n",
       "      <td>-1.005932</td>\n",
       "      <td>0.021230</td>\n",
       "    </tr>\n",
       "  </tbody>\n",
       "</table>\n",
       "</div>"
      ]
     },
     "metadata": {},
     "execution_count": 225
    }
   ],
   "metadata": {}
  },
  {
   "cell_type": "code",
   "execution_count": 226,
   "source": [
    "# Using the pathlib library to set Path to the sp500_history.csv file\r\n",
    "sp500_historical_data = Path(\"Resources/sp500_history.csv\")\r\n"
   ],
   "outputs": [],
   "metadata": {}
  },
  {
   "cell_type": "code",
   "execution_count": 227,
   "source": [
    "# Read the S&P 500 History CSV, create a dataframe, and display results\r\n",
    "sp500_df = pd.read_csv(sp500_historical_data)\r\n",
    "sp500_df.head()"
   ],
   "outputs": [
    {
     "output_type": "execute_result",
     "data": {
      "text/plain": [
       "        Date     Close\n",
       "0  23-Apr-19  $2933.68\n",
       "1  22-Apr-19  $2907.97\n",
       "2  18-Apr-19  $2905.03\n",
       "3  17-Apr-19  $2900.45\n",
       "4  16-Apr-19  $2907.06"
      ],
      "text/html": [
       "<div>\n",
       "<style scoped>\n",
       "    .dataframe tbody tr th:only-of-type {\n",
       "        vertical-align: middle;\n",
       "    }\n",
       "\n",
       "    .dataframe tbody tr th {\n",
       "        vertical-align: top;\n",
       "    }\n",
       "\n",
       "    .dataframe thead th {\n",
       "        text-align: right;\n",
       "    }\n",
       "</style>\n",
       "<table border=\"1\" class=\"dataframe\">\n",
       "  <thead>\n",
       "    <tr style=\"text-align: right;\">\n",
       "      <th></th>\n",
       "      <th>Date</th>\n",
       "      <th>Close</th>\n",
       "    </tr>\n",
       "  </thead>\n",
       "  <tbody>\n",
       "    <tr>\n",
       "      <th>0</th>\n",
       "      <td>23-Apr-19</td>\n",
       "      <td>$2933.68</td>\n",
       "    </tr>\n",
       "    <tr>\n",
       "      <th>1</th>\n",
       "      <td>22-Apr-19</td>\n",
       "      <td>$2907.97</td>\n",
       "    </tr>\n",
       "    <tr>\n",
       "      <th>2</th>\n",
       "      <td>18-Apr-19</td>\n",
       "      <td>$2905.03</td>\n",
       "    </tr>\n",
       "    <tr>\n",
       "      <th>3</th>\n",
       "      <td>17-Apr-19</td>\n",
       "      <td>$2900.45</td>\n",
       "    </tr>\n",
       "    <tr>\n",
       "      <th>4</th>\n",
       "      <td>16-Apr-19</td>\n",
       "      <td>$2907.06</td>\n",
       "    </tr>\n",
       "  </tbody>\n",
       "</table>\n",
       "</div>"
      ]
     },
     "metadata": {},
     "execution_count": 227
    }
   ],
   "metadata": {}
  },
  {
   "cell_type": "code",
   "execution_count": 228,
   "source": [
    "# Converting the sp500_df into a DateTimeIndex \r\n",
    "sp500_df.set_index(pd.to_datetime(sp500_df[\"Date\"], infer_datetime_format=True), inplace=True)\r\n",
    "sp500_df\r\n"
   ],
   "outputs": [
    {
     "output_type": "execute_result",
     "data": {
      "text/plain": [
       "                 Date     Close\n",
       "Date                           \n",
       "2019-04-23  23-Apr-19  $2933.68\n",
       "2019-04-22  22-Apr-19  $2907.97\n",
       "2019-04-18  18-Apr-19  $2905.03\n",
       "2019-04-17  17-Apr-19  $2900.45\n",
       "2019-04-16  16-Apr-19  $2907.06\n",
       "...               ...       ...\n",
       "2012-10-05   5-Oct-12  $1460.93\n",
       "2012-10-04   4-Oct-12  $1461.40\n",
       "2012-10-03   3-Oct-12  $1450.99\n",
       "2012-10-02   2-Oct-12  $1445.75\n",
       "2012-10-01   1-Oct-12  $1444.49\n",
       "\n",
       "[1649 rows x 2 columns]"
      ],
      "text/html": [
       "<div>\n",
       "<style scoped>\n",
       "    .dataframe tbody tr th:only-of-type {\n",
       "        vertical-align: middle;\n",
       "    }\n",
       "\n",
       "    .dataframe tbody tr th {\n",
       "        vertical-align: top;\n",
       "    }\n",
       "\n",
       "    .dataframe thead th {\n",
       "        text-align: right;\n",
       "    }\n",
       "</style>\n",
       "<table border=\"1\" class=\"dataframe\">\n",
       "  <thead>\n",
       "    <tr style=\"text-align: right;\">\n",
       "      <th></th>\n",
       "      <th>Date</th>\n",
       "      <th>Close</th>\n",
       "    </tr>\n",
       "    <tr>\n",
       "      <th>Date</th>\n",
       "      <th></th>\n",
       "      <th></th>\n",
       "    </tr>\n",
       "  </thead>\n",
       "  <tbody>\n",
       "    <tr>\n",
       "      <th>2019-04-23</th>\n",
       "      <td>23-Apr-19</td>\n",
       "      <td>$2933.68</td>\n",
       "    </tr>\n",
       "    <tr>\n",
       "      <th>2019-04-22</th>\n",
       "      <td>22-Apr-19</td>\n",
       "      <td>$2907.97</td>\n",
       "    </tr>\n",
       "    <tr>\n",
       "      <th>2019-04-18</th>\n",
       "      <td>18-Apr-19</td>\n",
       "      <td>$2905.03</td>\n",
       "    </tr>\n",
       "    <tr>\n",
       "      <th>2019-04-17</th>\n",
       "      <td>17-Apr-19</td>\n",
       "      <td>$2900.45</td>\n",
       "    </tr>\n",
       "    <tr>\n",
       "      <th>2019-04-16</th>\n",
       "      <td>16-Apr-19</td>\n",
       "      <td>$2907.06</td>\n",
       "    </tr>\n",
       "    <tr>\n",
       "      <th>...</th>\n",
       "      <td>...</td>\n",
       "      <td>...</td>\n",
       "    </tr>\n",
       "    <tr>\n",
       "      <th>2012-10-05</th>\n",
       "      <td>5-Oct-12</td>\n",
       "      <td>$1460.93</td>\n",
       "    </tr>\n",
       "    <tr>\n",
       "      <th>2012-10-04</th>\n",
       "      <td>4-Oct-12</td>\n",
       "      <td>$1461.40</td>\n",
       "    </tr>\n",
       "    <tr>\n",
       "      <th>2012-10-03</th>\n",
       "      <td>3-Oct-12</td>\n",
       "      <td>$1450.99</td>\n",
       "    </tr>\n",
       "    <tr>\n",
       "      <th>2012-10-02</th>\n",
       "      <td>2-Oct-12</td>\n",
       "      <td>$1445.75</td>\n",
       "    </tr>\n",
       "    <tr>\n",
       "      <th>2012-10-01</th>\n",
       "      <td>1-Oct-12</td>\n",
       "      <td>$1444.49</td>\n",
       "    </tr>\n",
       "  </tbody>\n",
       "</table>\n",
       "<p>1649 rows × 2 columns</p>\n",
       "</div>"
      ]
     },
     "metadata": {},
     "execution_count": 228
    }
   ],
   "metadata": {}
  },
  {
   "cell_type": "code",
   "execution_count": 229,
   "source": [
    "# Drop the extra date column\r\n",
    "sp500_df.drop(columns=[\"Date\"], inplace=True)\r\n",
    "sp500_df.head()"
   ],
   "outputs": [
    {
     "output_type": "execute_result",
     "data": {
      "text/plain": [
       "               Close\n",
       "Date                \n",
       "2019-04-23  $2933.68\n",
       "2019-04-22  $2907.97\n",
       "2019-04-18  $2905.03\n",
       "2019-04-17  $2900.45\n",
       "2019-04-16  $2907.06"
      ],
      "text/html": [
       "<div>\n",
       "<style scoped>\n",
       "    .dataframe tbody tr th:only-of-type {\n",
       "        vertical-align: middle;\n",
       "    }\n",
       "\n",
       "    .dataframe tbody tr th {\n",
       "        vertical-align: top;\n",
       "    }\n",
       "\n",
       "    .dataframe thead th {\n",
       "        text-align: right;\n",
       "    }\n",
       "</style>\n",
       "<table border=\"1\" class=\"dataframe\">\n",
       "  <thead>\n",
       "    <tr style=\"text-align: right;\">\n",
       "      <th></th>\n",
       "      <th>Close</th>\n",
       "    </tr>\n",
       "    <tr>\n",
       "      <th>Date</th>\n",
       "      <th></th>\n",
       "    </tr>\n",
       "  </thead>\n",
       "  <tbody>\n",
       "    <tr>\n",
       "      <th>2019-04-23</th>\n",
       "      <td>$2933.68</td>\n",
       "    </tr>\n",
       "    <tr>\n",
       "      <th>2019-04-22</th>\n",
       "      <td>$2907.97</td>\n",
       "    </tr>\n",
       "    <tr>\n",
       "      <th>2019-04-18</th>\n",
       "      <td>$2905.03</td>\n",
       "    </tr>\n",
       "    <tr>\n",
       "      <th>2019-04-17</th>\n",
       "      <td>$2900.45</td>\n",
       "    </tr>\n",
       "    <tr>\n",
       "      <th>2019-04-16</th>\n",
       "      <td>$2907.06</td>\n",
       "    </tr>\n",
       "  </tbody>\n",
       "</table>\n",
       "</div>"
      ]
     },
     "metadata": {},
     "execution_count": 229
    }
   ],
   "metadata": {}
  },
  {
   "cell_type": "code",
   "execution_count": 230,
   "source": [
    "# Clear \"Close\" field with $ symbol\r\n",
    "sp500_df[\"Close\"] = sp500_df[\"Close\"].str.replace(\"$\", \"\")\r\n",
    "sp500_df[\"Close\"]\r\n",
    "\r\n"
   ],
   "outputs": [
    {
     "output_type": "execute_result",
     "data": {
      "text/plain": [
       "Date\n",
       "2019-04-23    2933.68\n",
       "2019-04-22    2907.97\n",
       "2019-04-18    2905.03\n",
       "2019-04-17    2900.45\n",
       "2019-04-16    2907.06\n",
       "               ...   \n",
       "2012-10-05    1460.93\n",
       "2012-10-04    1461.40\n",
       "2012-10-03    1450.99\n",
       "2012-10-02    1445.75\n",
       "2012-10-01    1444.49\n",
       "Name: Close, Length: 1649, dtype: object"
      ]
     },
     "metadata": {},
     "execution_count": 230
    }
   ],
   "metadata": {}
  },
  {
   "cell_type": "code",
   "execution_count": 231,
   "source": [
    "# Confirm datatype of S&P 500 df:\r\n",
    "sp500_df.dtypes"
   ],
   "outputs": [
    {
     "output_type": "execute_result",
     "data": {
      "text/plain": [
       "Close    object\n",
       "dtype: object"
      ]
     },
     "metadata": {},
     "execution_count": 231
    }
   ],
   "metadata": {}
  },
  {
   "cell_type": "code",
   "execution_count": 232,
   "source": [
    "sp500_df[\"Close\"] = sp500_df[\"Close\"].astype(\"float\")"
   ],
   "outputs": [],
   "metadata": {}
  },
  {
   "cell_type": "code",
   "execution_count": 233,
   "source": [
    "sp500_df.dtypes"
   ],
   "outputs": [
    {
     "output_type": "execute_result",
     "data": {
      "text/plain": [
       "Close    float64\n",
       "dtype: object"
      ]
     },
     "metadata": {},
     "execution_count": 233
    }
   ],
   "metadata": {}
  },
  {
   "cell_type": "code",
   "execution_count": 234,
   "source": [
    "# calculate daily returns\r\n",
    "sp500_df_daily = sp500_df.pct_change()\r\n",
    "sp500_df_daily.head()"
   ],
   "outputs": [
    {
     "output_type": "execute_result",
     "data": {
      "text/plain": [
       "               Close\n",
       "Date                \n",
       "2019-04-23       NaN\n",
       "2019-04-22 -0.008764\n",
       "2019-04-18 -0.001011\n",
       "2019-04-17 -0.001577\n",
       "2019-04-16  0.002279"
      ],
      "text/html": [
       "<div>\n",
       "<style scoped>\n",
       "    .dataframe tbody tr th:only-of-type {\n",
       "        vertical-align: middle;\n",
       "    }\n",
       "\n",
       "    .dataframe tbody tr th {\n",
       "        vertical-align: top;\n",
       "    }\n",
       "\n",
       "    .dataframe thead th {\n",
       "        text-align: right;\n",
       "    }\n",
       "</style>\n",
       "<table border=\"1\" class=\"dataframe\">\n",
       "  <thead>\n",
       "    <tr style=\"text-align: right;\">\n",
       "      <th></th>\n",
       "      <th>Close</th>\n",
       "    </tr>\n",
       "    <tr>\n",
       "      <th>Date</th>\n",
       "      <th></th>\n",
       "    </tr>\n",
       "  </thead>\n",
       "  <tbody>\n",
       "    <tr>\n",
       "      <th>2019-04-23</th>\n",
       "      <td>NaN</td>\n",
       "    </tr>\n",
       "    <tr>\n",
       "      <th>2019-04-22</th>\n",
       "      <td>-0.008764</td>\n",
       "    </tr>\n",
       "    <tr>\n",
       "      <th>2019-04-18</th>\n",
       "      <td>-0.001011</td>\n",
       "    </tr>\n",
       "    <tr>\n",
       "      <th>2019-04-17</th>\n",
       "      <td>-0.001577</td>\n",
       "    </tr>\n",
       "    <tr>\n",
       "      <th>2019-04-16</th>\n",
       "      <td>0.002279</td>\n",
       "    </tr>\n",
       "  </tbody>\n",
       "</table>\n",
       "</div>"
      ]
     },
     "metadata": {},
     "execution_count": 234
    }
   ],
   "metadata": {}
  },
  {
   "cell_type": "code",
   "execution_count": 235,
   "source": [
    "# Find null values of the daily returns \r\n",
    "sp500_df_daily.isnull()"
   ],
   "outputs": [
    {
     "output_type": "execute_result",
     "data": {
      "text/plain": [
       "            Close\n",
       "Date             \n",
       "2019-04-23   True\n",
       "2019-04-22  False\n",
       "2019-04-18  False\n",
       "2019-04-17  False\n",
       "2019-04-16  False\n",
       "...           ...\n",
       "2012-10-05  False\n",
       "2012-10-04  False\n",
       "2012-10-03  False\n",
       "2012-10-02  False\n",
       "2012-10-01  False\n",
       "\n",
       "[1649 rows x 1 columns]"
      ],
      "text/html": [
       "<div>\n",
       "<style scoped>\n",
       "    .dataframe tbody tr th:only-of-type {\n",
       "        vertical-align: middle;\n",
       "    }\n",
       "\n",
       "    .dataframe tbody tr th {\n",
       "        vertical-align: top;\n",
       "    }\n",
       "\n",
       "    .dataframe thead th {\n",
       "        text-align: right;\n",
       "    }\n",
       "</style>\n",
       "<table border=\"1\" class=\"dataframe\">\n",
       "  <thead>\n",
       "    <tr style=\"text-align: right;\">\n",
       "      <th></th>\n",
       "      <th>Close</th>\n",
       "    </tr>\n",
       "    <tr>\n",
       "      <th>Date</th>\n",
       "      <th></th>\n",
       "    </tr>\n",
       "  </thead>\n",
       "  <tbody>\n",
       "    <tr>\n",
       "      <th>2019-04-23</th>\n",
       "      <td>True</td>\n",
       "    </tr>\n",
       "    <tr>\n",
       "      <th>2019-04-22</th>\n",
       "      <td>False</td>\n",
       "    </tr>\n",
       "    <tr>\n",
       "      <th>2019-04-18</th>\n",
       "      <td>False</td>\n",
       "    </tr>\n",
       "    <tr>\n",
       "      <th>2019-04-17</th>\n",
       "      <td>False</td>\n",
       "    </tr>\n",
       "    <tr>\n",
       "      <th>2019-04-16</th>\n",
       "      <td>False</td>\n",
       "    </tr>\n",
       "    <tr>\n",
       "      <th>...</th>\n",
       "      <td>...</td>\n",
       "    </tr>\n",
       "    <tr>\n",
       "      <th>2012-10-05</th>\n",
       "      <td>False</td>\n",
       "    </tr>\n",
       "    <tr>\n",
       "      <th>2012-10-04</th>\n",
       "      <td>False</td>\n",
       "    </tr>\n",
       "    <tr>\n",
       "      <th>2012-10-03</th>\n",
       "      <td>False</td>\n",
       "    </tr>\n",
       "    <tr>\n",
       "      <th>2012-10-02</th>\n",
       "      <td>False</td>\n",
       "    </tr>\n",
       "    <tr>\n",
       "      <th>2012-10-01</th>\n",
       "      <td>False</td>\n",
       "    </tr>\n",
       "  </tbody>\n",
       "</table>\n",
       "<p>1649 rows × 1 columns</p>\n",
       "</div>"
      ]
     },
     "metadata": {},
     "execution_count": 235
    }
   ],
   "metadata": {}
  },
  {
   "cell_type": "code",
   "execution_count": 236,
   "source": [
    "# Drop null values of the daily returns df\r\n",
    "sp500_df_daily.dropna(inplace=True)\r\n",
    "sp500_df_daily.head()"
   ],
   "outputs": [
    {
     "output_type": "execute_result",
     "data": {
      "text/plain": [
       "               Close\n",
       "Date                \n",
       "2019-04-22 -0.008764\n",
       "2019-04-18 -0.001011\n",
       "2019-04-17 -0.001577\n",
       "2019-04-16  0.002279\n",
       "2019-04-15 -0.000509"
      ],
      "text/html": [
       "<div>\n",
       "<style scoped>\n",
       "    .dataframe tbody tr th:only-of-type {\n",
       "        vertical-align: middle;\n",
       "    }\n",
       "\n",
       "    .dataframe tbody tr th {\n",
       "        vertical-align: top;\n",
       "    }\n",
       "\n",
       "    .dataframe thead th {\n",
       "        text-align: right;\n",
       "    }\n",
       "</style>\n",
       "<table border=\"1\" class=\"dataframe\">\n",
       "  <thead>\n",
       "    <tr style=\"text-align: right;\">\n",
       "      <th></th>\n",
       "      <th>Close</th>\n",
       "    </tr>\n",
       "    <tr>\n",
       "      <th>Date</th>\n",
       "      <th></th>\n",
       "    </tr>\n",
       "  </thead>\n",
       "  <tbody>\n",
       "    <tr>\n",
       "      <th>2019-04-22</th>\n",
       "      <td>-0.008764</td>\n",
       "    </tr>\n",
       "    <tr>\n",
       "      <th>2019-04-18</th>\n",
       "      <td>-0.001011</td>\n",
       "    </tr>\n",
       "    <tr>\n",
       "      <th>2019-04-17</th>\n",
       "      <td>-0.001577</td>\n",
       "    </tr>\n",
       "    <tr>\n",
       "      <th>2019-04-16</th>\n",
       "      <td>0.002279</td>\n",
       "    </tr>\n",
       "    <tr>\n",
       "      <th>2019-04-15</th>\n",
       "      <td>-0.000509</td>\n",
       "    </tr>\n",
       "  </tbody>\n",
       "</table>\n",
       "</div>"
      ]
     },
     "metadata": {},
     "execution_count": 236
    }
   ],
   "metadata": {}
  },
  {
   "cell_type": "code",
   "execution_count": 237,
   "source": [
    "columns = [\"S&P_500\"]\r\n",
    "sp500_df_daily.columns = columns\r\n",
    "sp500_df_daily.head()\r\n",
    "\r\n"
   ],
   "outputs": [
    {
     "output_type": "execute_result",
     "data": {
      "text/plain": [
       "             S&P_500\n",
       "Date                \n",
       "2019-04-22 -0.008764\n",
       "2019-04-18 -0.001011\n",
       "2019-04-17 -0.001577\n",
       "2019-04-16  0.002279\n",
       "2019-04-15 -0.000509"
      ],
      "text/html": [
       "<div>\n",
       "<style scoped>\n",
       "    .dataframe tbody tr th:only-of-type {\n",
       "        vertical-align: middle;\n",
       "    }\n",
       "\n",
       "    .dataframe tbody tr th {\n",
       "        vertical-align: top;\n",
       "    }\n",
       "\n",
       "    .dataframe thead th {\n",
       "        text-align: right;\n",
       "    }\n",
       "</style>\n",
       "<table border=\"1\" class=\"dataframe\">\n",
       "  <thead>\n",
       "    <tr style=\"text-align: right;\">\n",
       "      <th></th>\n",
       "      <th>S&amp;P_500</th>\n",
       "    </tr>\n",
       "    <tr>\n",
       "      <th>Date</th>\n",
       "      <th></th>\n",
       "    </tr>\n",
       "  </thead>\n",
       "  <tbody>\n",
       "    <tr>\n",
       "      <th>2019-04-22</th>\n",
       "      <td>-0.008764</td>\n",
       "    </tr>\n",
       "    <tr>\n",
       "      <th>2019-04-18</th>\n",
       "      <td>-0.001011</td>\n",
       "    </tr>\n",
       "    <tr>\n",
       "      <th>2019-04-17</th>\n",
       "      <td>-0.001577</td>\n",
       "    </tr>\n",
       "    <tr>\n",
       "      <th>2019-04-16</th>\n",
       "      <td>0.002279</td>\n",
       "    </tr>\n",
       "    <tr>\n",
       "      <th>2019-04-15</th>\n",
       "      <td>-0.000509</td>\n",
       "    </tr>\n",
       "  </tbody>\n",
       "</table>\n",
       "</div>"
      ]
     },
     "metadata": {},
     "execution_count": 237
    }
   ],
   "metadata": {}
  },
  {
   "cell_type": "code",
   "execution_count": 238,
   "source": [
    "# Combine the cleaned up dataframes by column, create an inner join\r\n",
    "three_returns = pd.concat([whale_df_daily, algo_df_daily, sp500_df_daily], axis=\"columns\", join=\"inner\")\r\n"
   ],
   "outputs": [],
   "metadata": {}
  },
  {
   "cell_type": "code",
   "execution_count": 239,
   "source": [
    "# Sort datetime index in ascending order \r\n",
    "three_returns.sort_index(inplace=True)\r\n"
   ],
   "outputs": [],
   "metadata": {}
  },
  {
   "cell_type": "code",
   "execution_count": 240,
   "source": [
    "three_returns.head()"
   ],
   "outputs": [
    {
     "output_type": "execute_result",
     "data": {
      "text/plain": [
       "            SOROS_FUND_MGMT_LLC  PAULSON_&_CO_INC  TIGER_GLOBAL_MGMT_LLC  \\\n",
       "Date                                                                       \n",
       "2015-03-04            -2.762070         -1.650792               4.113646   \n",
       "2015-03-05             0.800968          0.257544              -1.929234   \n",
       "2015-03-06            -2.968465         -1.876837              -4.601872   \n",
       "2015-03-09            -1.073656         -2.182252              -1.688907   \n",
       "2015-03-10           -18.625495         -2.263954              -3.067380   \n",
       "\n",
       "            BERKSHIRE_HATHAWAY_INC    Algo_1     Algo_2   S&P_500  \n",
       "Date                                                               \n",
       "2015-03-04               -1.641381  3.422374  -3.544766 -0.001195  \n",
       "2015-03-05                0.596558 -0.888803   0.789231  0.014378  \n",
       "2015-03-06               -2.947282  4.190043  -3.650914 -0.003929  \n",
       "2015-03-09               -0.873840  0.098917  -1.113716  0.017254  \n",
       "2015-03-10                4.893672 -0.744524 -10.327163  0.001921  "
      ],
      "text/html": [
       "<div>\n",
       "<style scoped>\n",
       "    .dataframe tbody tr th:only-of-type {\n",
       "        vertical-align: middle;\n",
       "    }\n",
       "\n",
       "    .dataframe tbody tr th {\n",
       "        vertical-align: top;\n",
       "    }\n",
       "\n",
       "    .dataframe thead th {\n",
       "        text-align: right;\n",
       "    }\n",
       "</style>\n",
       "<table border=\"1\" class=\"dataframe\">\n",
       "  <thead>\n",
       "    <tr style=\"text-align: right;\">\n",
       "      <th></th>\n",
       "      <th>SOROS_FUND_MGMT_LLC</th>\n",
       "      <th>PAULSON_&amp;_CO_INC</th>\n",
       "      <th>TIGER_GLOBAL_MGMT_LLC</th>\n",
       "      <th>BERKSHIRE_HATHAWAY_INC</th>\n",
       "      <th>Algo_1</th>\n",
       "      <th>Algo_2</th>\n",
       "      <th>S&amp;P_500</th>\n",
       "    </tr>\n",
       "    <tr>\n",
       "      <th>Date</th>\n",
       "      <th></th>\n",
       "      <th></th>\n",
       "      <th></th>\n",
       "      <th></th>\n",
       "      <th></th>\n",
       "      <th></th>\n",
       "      <th></th>\n",
       "    </tr>\n",
       "  </thead>\n",
       "  <tbody>\n",
       "    <tr>\n",
       "      <th>2015-03-04</th>\n",
       "      <td>-2.762070</td>\n",
       "      <td>-1.650792</td>\n",
       "      <td>4.113646</td>\n",
       "      <td>-1.641381</td>\n",
       "      <td>3.422374</td>\n",
       "      <td>-3.544766</td>\n",
       "      <td>-0.001195</td>\n",
       "    </tr>\n",
       "    <tr>\n",
       "      <th>2015-03-05</th>\n",
       "      <td>0.800968</td>\n",
       "      <td>0.257544</td>\n",
       "      <td>-1.929234</td>\n",
       "      <td>0.596558</td>\n",
       "      <td>-0.888803</td>\n",
       "      <td>0.789231</td>\n",
       "      <td>0.014378</td>\n",
       "    </tr>\n",
       "    <tr>\n",
       "      <th>2015-03-06</th>\n",
       "      <td>-2.968465</td>\n",
       "      <td>-1.876837</td>\n",
       "      <td>-4.601872</td>\n",
       "      <td>-2.947282</td>\n",
       "      <td>4.190043</td>\n",
       "      <td>-3.650914</td>\n",
       "      <td>-0.003929</td>\n",
       "    </tr>\n",
       "    <tr>\n",
       "      <th>2015-03-09</th>\n",
       "      <td>-1.073656</td>\n",
       "      <td>-2.182252</td>\n",
       "      <td>-1.688907</td>\n",
       "      <td>-0.873840</td>\n",
       "      <td>0.098917</td>\n",
       "      <td>-1.113716</td>\n",
       "      <td>0.017254</td>\n",
       "    </tr>\n",
       "    <tr>\n",
       "      <th>2015-03-10</th>\n",
       "      <td>-18.625495</td>\n",
       "      <td>-2.263954</td>\n",
       "      <td>-3.067380</td>\n",
       "      <td>4.893672</td>\n",
       "      <td>-0.744524</td>\n",
       "      <td>-10.327163</td>\n",
       "      <td>0.001921</td>\n",
       "    </tr>\n",
       "  </tbody>\n",
       "</table>\n",
       "</div>"
      ]
     },
     "metadata": {},
     "execution_count": 240
    }
   ],
   "metadata": {}
  },
  {
   "cell_type": "code",
   "execution_count": 241,
   "source": [
    "# Plot daily returns of the whale_df portfolio \r\n",
    "whale_df_daily.plot(figsize=(15,5))\r\n"
   ],
   "outputs": [
    {
     "output_type": "execute_result",
     "data": {
      "text/plain": [
       "<matplotlib.axes._subplots.AxesSubplot at 0x288a30ab5e0>"
      ]
     },
     "metadata": {},
     "execution_count": 241
    },
    {
     "output_type": "display_data",
     "data": {
      "text/plain": [
       "<Figure size 1080x360 with 1 Axes>"
      ],
      "image/png": "[encoded data removed]"
     },
     "metadata": {
      "needs_background": "light"
     }
    }
   ],
   "metadata": {}
  },
  {
   "cell_type": "code",
   "execution_count": 242,
   "source": [
    "# Plot Soros Fund Management LLC portion of portfolio:\r\n",
    "whale_df_daily[\"SOROS_FUND_MGMT_LLC\"].plot(figsize=(15,5))\r\n"
   ],
   "outputs": [
    {
     "output_type": "execute_result",
     "data": {
      "text/plain": [
       "<matplotlib.axes._subplots.AxesSubplot at 0x288a31248b0>"
      ]
     },
     "metadata": {},
     "execution_count": 242
    },
    {
     "output_type": "display_data",
     "data": {
      "text/plain": [
       "<Figure size 1080x360 with 1 Axes>"
      ],
      "image/png": "[encoded data removed]"
     },
     "metadata": {
      "needs_background": "light"
     }
    }
   ],
   "metadata": {}
  },
  {
   "cell_type": "code",
   "execution_count": 243,
   "source": [
    "# Plot Paulson & Co. Inc. portion of portfolio:\r\n",
    "whale_df_daily[\"PAULSON_&_CO_INC\"].plot(figsize=(15,5))\r\n"
   ],
   "outputs": [
    {
     "output_type": "execute_result",
     "data": {
      "text/plain": [
       "<matplotlib.axes._subplots.AxesSubplot at 0x288a3183100>"
      ]
     },
     "metadata": {},
     "execution_count": 243
    },
    {
     "output_type": "display_data",
     "data": {
      "text/plain": [
       "<Figure size 1080x360 with 1 Axes>"
      ],
      "image/png": "[encoded data removed]"
     },
     "metadata": {
      "needs_background": "light"
     }
    }
   ],
   "metadata": {}
  },
  {
   "cell_type": "code",
   "execution_count": 244,
   "source": [
    "# Plot Tiger Global Mgmt portion of portfolio:\r\n",
    "whale_df_daily[\"TIGER_GLOBAL_MGMT_LLC\"].plot(figsize=(15,5))\r\n"
   ],
   "outputs": [
    {
     "output_type": "execute_result",
     "data": {
      "text/plain": [
       "<matplotlib.axes._subplots.AxesSubplot at 0x288a31d8640>"
      ]
     },
     "metadata": {},
     "execution_count": 244
    },
    {
     "output_type": "display_data",
     "data": {
      "text/plain": [
       "<Figure size 1080x360 with 1 Axes>"
      ],
      "image/png": "[encoded data removed]"
     },
     "metadata": {
      "needs_background": "light"
     }
    }
   ],
   "metadata": {}
  },
  {
   "cell_type": "code",
   "execution_count": 245,
   "source": [
    "# Plot Berkshire Hathaway Inc. portion of portfolio:\r\n",
    "whale_df_daily[\"BERKSHIRE_HATHAWAY_INC\"].plot(figsize=(10,5))\r\n"
   ],
   "outputs": [
    {
     "output_type": "execute_result",
     "data": {
      "text/plain": [
       "<matplotlib.axes._subplots.AxesSubplot at 0x288a3253940>"
      ]
     },
     "metadata": {},
     "execution_count": 245
    },
    {
     "output_type": "display_data",
     "data": {
      "text/plain": [
       "<Figure size 720x360 with 1 Axes>"
      ],
      "image/png": "[encoded data removed]"
     },
     "metadata": {
      "needs_background": "light"
     }
    }
   ],
   "metadata": {}
  },
  {
   "cell_type": "code",
   "execution_count": 246,
   "source": [
    "# Plot daily returns of algo_df portfolio:\r\n",
    "algo_df_daily.hvplot(figsize=(15,5), ylabel=\"Returns\", title=\"Daily Returns, In-House Trading Algorithm\")\r\n"
   ],
   "outputs": [
    {
     "output_type": "display_data",
     "data": {},
     "metadata": {}
    },
    {
     "output_type": "execute_result",
     "data": {
      "application/vnd.holoviews_exec.v0+json": "",
      "text/plain": [
       ":NdOverlay   [Variable]\n",
       "   :Curve   [Date]   (value)"
      ],
      "text/html": [
       "<div id='2981'>\n",
       "\n",
       "\n",
       "\n",
       "\n",
       "\n",
       "  <div class=\"bk-root\" id=\"a0bba885-f98c-4aca-acfc-175208af4011\" data-root-id=\"2981\"></div>\n",
       "</div>\n",
       "<script type=\"application/javascript\">(function(root) {\n",
       "  function embed_document(root) {\n",
       "  var docs_json = {\"bfc4b368-670e-4a8b-9e49-1322ad9ed85f\":{\"roots\":{\"references\":[{\"attributes\":{\"below\":[{\"id\":\"2996\"}],\"center\":[{\"id\":\"2999\"},{\"id\":\"3003\"}],\"left\":[{\"id\":\"3000\"}],\"margin\":null,\"min_border_bottom\":10,\"min_border_left\":10,\"min_border_right\":10,\"min_border_top\":10,\"plot_height\":300,\"plot_width\":700,\"renderers\":[{\"id\":\"3027\"},{\"id\":\"3055\"}],\"right\":[{\"id\":\"3047\"}],\"sizing_mode\":\"fixed\",\"title\":{\"id\":\"2988\"},\"toolbar\":{\"id\":\"3010\"},\"x_range\":{\"id\":\"2983\"},\"x_scale\":{\"id\":\"2992\"},\"y_range\":{\"id\":\"2984\"},\"y_scale\":{\"id\":\"2994\"}},\"id\":\"2987\",\"subtype\":\"Figure\",\"type\":\"Plot\"},{\"attributes\":{\"margin\":[5,5,5,5],\"name\":\"HSpacer03807\",\"sizing_mode\":\"stretch_width\"},\"id\":\"2982\",\"type\":\"Spacer\"},{\"attributes\":{\"end\":1556668800000.0,\"reset_end\":1556668800000.0,\"reset_start\":1402012800000.0,\"start\":1402012800000.0,\"tags\":[[[\"Date\",\"Date\",null]]]},\"id\":\"2983\",\"type\":\"Range1d\"},{\"attributes\":{},\"id\":\"2994\",\"type\":\"LinearScale\"},{\"attributes\":{},\"id\":\"3006\",\"type\":\"WheelZoomTool\"},{\"attributes\":{},\"id\":\"2992\",\"type\":\"LinearScale\"},{\"attributes\":{\"data\":{\"Date\":{\"__ndarray__\":\"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\",\"dtype\":\"float64\",\"shape\":[1234]},\"Variable\":[\"Algo_2\",\"Algo_2\",\"Algo_2\",\"Algo_2\",\"Algo_2\",\"Algo_2\",\"Algo_2\",\"Algo_2\",\"Algo_2\",\"Algo_2\",\"Algo_2\",\"Algo_2\",\"Algo_2\",\"Algo_2\",\"Algo_2\",\"Algo_2\",\"Algo_2\",\"Algo_2\",\"Algo_2\",\"Algo_2\",\"Algo_2\",\"Algo_2\",\"Algo_2\",\"Algo_2\",\"Algo_2\",\"Algo_2\",\"Algo_2\",\"Algo_2\",\"Algo_2\",\"Algo_2\",\"Algo_2\",\"Algo_2\",\"Algo_2\",\"Algo_2\",\"Algo_2\",\"Algo_2\",\"Algo_2\",\"Algo_2\",\"Algo_2\",\"Algo_2\",\"Algo_2\",\"Algo_2\",\"Algo_2\",\"Algo_2\",\"Algo_2\",\"Algo_2\",\"Algo_2\",\"Algo_2\",\"Algo_2\",\"Algo_2\",\"Algo_2\",\"Algo_2\",\"Algo_2\",\"Algo_2\",\"Algo_2\",\"Algo_2\",\"Algo_2\",\"Algo_2\",\"Algo_2\",\"Algo_2\",\"Algo_2\",\"Algo_2\",\"Algo_2\",\"Algo_2\",\"Algo_2\",\"Algo_2\",\"Algo_2\",\"Algo_2\",\"Algo_2\",\"Algo_2\",\"Algo_2\",\"Algo_2\",\"Algo_2\",\"Algo_2\",\"Algo_2\",\"Algo_2\",\"Algo_2\",\"Algo_2\",\"Algo_2\",\"Algo_2\",\"Algo_2\",\"Algo_2\",\"Algo_2\",\"Algo_2\",\"Algo_2\",\"Algo_2\",\"Algo_2\",\"Algo_2\",\"Algo_2\",\"Algo_2\",\"Algo_2\",\"Algo_2\",\"Algo_2\",\"Algo_2\",\"Algo_2\",\"Algo_2\",\"Algo_2\",\"Algo_2\",\"Algo_2\",\"Algo_2\",\"Algo_2\",\"Algo_2\",\"Algo_2\",\"Algo_2\",\"Algo_2\",\"Algo_2\",\"Algo_2\",\"Algo_2\",\"Algo_2\",\"Algo_2\",\"Algo_2\",\"Algo_2\",\"Algo_2\",\"Algo_2\",\"Algo_2\",\"Algo_2\",\"Algo_2\",\"Algo_2\",\"Algo_2\",\"Algo_2\",\"Algo_2\",\"Algo_2\",\"Algo_2\",\"Algo_2\",\"Algo_2\",\"Algo_2\",\"Algo_2\",\"Algo_2\",\"Algo_2\",\"Algo_2\",\"Algo_2\",\"Algo_2\",\"Algo_2\",\"Algo_2\",\"Algo_2\",\"Algo_2\",\"Algo_2\",\"Algo_2\",\"Algo_2\",\"Algo_2\",\"Algo_2\",\"Algo_2\",\"Algo_2\",\"Algo_2\",\"Algo_2\",\"Algo_2\",\"Algo_2\",\"Algo_2\",\"Algo_2\",\"Algo_2\",\"Algo_2\",\"Algo_2\",\"Algo_2\",\"Algo_2\",\"Algo_2\",\"Algo_2\",\"Algo_2\",\"Algo_2\",\"Algo_2\",\"Algo_2\",\"Algo_2\",\"Algo_2\",\"Algo_2\",\"Algo_2\",\"Algo_2\",\"Algo_2\",\"Algo_2\",\"Algo_2\",\"Algo_2\",\"Algo_2\",\"Algo_2\",\"Algo_2\",\"Algo_2\",\"Algo_2\",\"Algo_2\",\"Algo_2\",\"Algo_2\",\"Algo_2\",\"Algo_2\",\"Algo_2\",\"Algo_2\",\"Algo_2\",\"Algo_2\",\"Algo_2\",\"Algo_2\",\"Algo_2\",\"Algo_2\",\"Algo_2\",\"Algo_2\",\"Algo_2\",\"Algo_2\",\"Algo_2\",\"Algo_2\",\"Algo_2\",\"Algo_2\",\"Algo_2\",\"Algo_2\",\"Algo_2\",\"Algo_2\",\"Algo_2\",\"Algo_2\",\"Algo_2\",\"Algo_2\",\"Algo_2\",\"Algo_2\",\"Algo_2\",\"Algo_2\",\"Algo_2\",\"Algo_2\",\"Algo_2\",\"Algo_2\",\"Algo_2\",\"Algo_2\",\"Algo_2\",\"Algo_2\",\"Algo_2\",\"Algo_2\",\"Algo_2\",\"Algo_2\",\"Algo_2\",\"Algo_2\",\"Algo_2\",\"Algo_2\",\"Algo_2\",\"Algo_2\",\"Algo_2\",\"Algo_2\",\"Algo_2\",\"Algo_2\",\"Algo_2\",\"Algo_2\",\"Algo_2\",\"Algo_2\",\"Algo_2\",\"Algo_2\",\"Algo_2\",\"Algo_2\",\"Algo_2\",\"Algo_2\",\"Algo_2\",\"Algo_2\",\"Algo_2\",\"Algo_2\",\"Algo_2\",\"Algo_2\",\"Algo_2\",\"Algo_2\",\"Algo_2\",\"Algo_2\",\"Algo_2\",\"Algo_2\",\"Algo_2\",\"Algo_2\",\"Algo_2\",\"Algo_2\",\"Algo_2\",\"Algo_2\",\"Algo_2\",\"Algo_2\",\"Algo_2\",\"Algo_2\",\"Algo_2\",\"Algo_2\",\"Algo_2\",\"Algo_2\",\"Algo_2\",\"Algo_2\",\"Algo_2\",\"Algo_2\",\"Algo_2\",\"Algo_2\",\"Algo_2\",\"Algo_2\",\"Algo_2\",\"Algo_2\",\"Algo_2\",\"Algo_2\",\"Algo_2\",\"Algo_2\",\"Algo_2\",\"Algo_2\",\"Algo_2\",\"Algo_2\",\"Algo_2\",\"Algo_2\",\"Algo_2\",\"Algo_2\",\"Algo_2\",\"Algo_2\",\"Algo_2\",\"Algo_2\",\"Algo_2\",\"Algo_2\",\"Algo_2\",\"Algo_2\",\"Algo_2\",\"Algo_2\",\"Algo_2\",\"Algo_2\",\"Algo_2\",\"Algo_2\",\"Algo_2\",\"Algo_2\",\"Algo_2\",\"Algo_2\",\"Algo_2\",\"Algo_2\",\"Algo_2\",\"Algo_2\",\"Algo_2\",\"Algo_2\",\"Algo_2\",\"Algo_2\",\"Algo_2\",\"Algo_2\",\"Algo_2\",\"Algo_2\",\"Algo_2\",\"Algo_2\",\"Algo_2\",\"Algo_2\",\"Algo_2\",\"Algo_2\",\"Algo_2\",\"Algo_2\",\"Algo_2\",\"Algo_2\",\"Algo_2\",\"Algo_2\",\"Algo_2\",\"Algo_2\",\"Algo_2\",\"Algo_2\",\"Algo_2\",\"Algo_2\",\"Algo_2\",\"Algo_2\",\"Algo_2\",\"Algo_2\",\"Algo_2\",\"Algo_2\",\"Algo_2\",\"Algo_2\",\"Algo_2\",\"Algo_2\",\"Algo_2\",\"Algo_2\",\"Algo_2\",\"Algo_2\",\"Algo_2\",\"Algo_2\",\"Algo_2\",\"Algo_2\",\"Algo_2\",\"Algo_2\",\"Algo_2\",\"Algo_2\",\"Algo_2\",\"Algo_2\",\"Algo_2\",\"Algo_2\",\"Algo_2\",\"Algo_2\",\"Algo_2\",\"Algo_2\",\"Algo_2\",\"Algo_2\",\"Algo_2\",\"Algo_2\",\"Algo_2\",\"Algo_2\",\"Algo_2\",\"Algo_2\",\"Algo_2\",\"Algo_2\",\"Algo_2\",\"Algo_2\",\"Algo_2\",\"Algo_2\",\"Algo_2\",\"Algo_2\",\"Algo_2\",\"Algo_2\",\"Algo_2\",\"Algo_2\",\"Algo_2\",\"Algo_2\",\"Algo_2\",\"Algo_2\",\"Algo_2\",\"Algo_2\",\"Algo_2\",\"Algo_2\",\"Algo_2\",\"Algo_2\",\"Algo_2\",\"Algo_2\",\"Algo_2\",\"Algo_2\",\"Algo_2\",\"Algo_2\",\"Algo_2\",\"Algo_2\",\"Algo_2\",\"Algo_2\",\"Algo_2\",\"Algo_2\",\"Algo_2\",\"Algo_2\",\"Algo_2\",\"Algo_2\",\"Algo_2\",\"Algo_2\",\"Algo_2\",\"Algo_2\",\"Algo_2\",\"Algo_2\",\"Algo_2\",\"Algo_2\",\"Algo_2\",\"Algo_2\",\"Algo_2\",\"Algo_2\",\"Algo_2\",\"Algo_2\",\"Algo_2\",\"Algo_2\",\"Algo_2\",\"Algo_2\",\"Algo_2\",\"Algo_2\",\"Algo_2\",\"Algo_2\",\"Algo_2\",\"Algo_2\",\"Algo_2\",\"Algo_2\",\"Algo_2\",\"Algo_2\",\"Algo_2\",\"Algo_2\",\"Algo_2\",\"Algo_2\",\"Algo_2\",\"Algo_2\",\"Algo_2\",\"Algo_2\",\"Algo_2\",\"Algo_2\",\"Algo_2\",\"Algo_2\",\"Algo_2\",\"Algo_2\",\"Algo_2\",\"Algo_2\",\"Algo_2\",\"Algo_2\",\"Algo_2\",\"Algo_2\",\"Algo_2\",\"Algo_2\",\"Algo_2\",\"Algo_2\",\"Algo_2\",\"Algo_2\",\"Algo_2\",\"Algo_2\",\"Algo_2\",\"Algo_2\",\"Algo_2\",\"Algo_2\",\"Algo_2\",\"Algo_2\",\"Algo_2\",\"Algo_2\",\"Algo_2\",\"Algo_2\",\"Algo_2\",\"Algo_2\",\"Algo_2\",\"Algo_2\",\"Algo_2\",\"Algo_2\",\"Algo_2\",\"Algo_2\",\"Algo_2\",\"Algo_2\",\"Algo_2\",\"Algo_2\",\"Algo_2\",\"Algo_2\",\"Algo_2\",\"Algo_2\",\"Algo_2\",\"Algo_2\",\"Algo_2\",\"Algo_2\",\"Algo_2\",\"Algo_2\",\"Algo_2\",\"Algo_2\",\"Algo_2\",\"Algo_2\",\"Algo_2\",\"Algo_2\",\"Algo_2\",\"Algo_2\",\"Algo_2\",\"Algo_2\",\"Algo_2\",\"Algo_2\",\"Algo_2\",\"Algo_2\",\"Algo_2\",\"Algo_2\",\"Algo_2\",\"Algo_2\",\"Algo_2\",\"Algo_2\",\"Algo_2\",\"Algo_2\",\"Algo_2\",\"Algo_2\",\"Algo_2\",\"Algo_2\",\"Algo_2\",\"Algo_2\",\"Algo_2\",\"Algo_2\",\"Algo_2\",\"Algo_2\",\"Algo_2\",\"Algo_2\",\"Algo_2\",\"Algo_2\",\"Algo_2\",\"Algo_2\",\"Algo_2\",\"Algo_2\",\"Algo_2\",\"Algo_2\",\"Algo_2\",\"Algo_2\",\"Algo_2\",\"Algo_2\",\"Algo_2\",\"Algo_2\",\"Algo_2\",\"Algo_2\",\"Algo_2\",\"Algo_2\",\"Algo_2\",\"Algo_2\",\"Algo_2\",\"Algo_2\",\"Algo_2\",\"Algo_2\",\"Algo_2\",\"Algo_2\",\"Algo_2\",\"Algo_2\",\"Algo_2\",\"Algo_2\",\"Algo_2\",\"Algo_2\",\"Algo_2\",\"Algo_2\",\"Algo_2\",\"Algo_2\",\"Algo_2\",\"Algo_2\",\"Algo_2\",\"Algo_2\",\"Algo_2\",\"Algo_2\",\"Algo_2\",\"Algo_2\",\"Algo_2\",\"Algo_2\",\"Algo_2\",\"Algo_2\",\"Algo_2\",\"Algo_2\",\"Algo_2\",\"Algo_2\",\"Algo_2\",\"Algo_2\",\"Algo_2\",\"Algo_2\",\"Algo_2\",\"Algo_2\",\"Algo_2\",\"Algo_2\",\"Algo_2\",\"Algo_2\",\"Algo_2\",\"Algo_2\",\"Algo_2\",\"Algo_2\",\"Algo_2\",\"Algo_2\",\"Algo_2\",\"Algo_2\",\"Algo_2\",\"Algo_2\",\"Algo_2\",\"Algo_2\",\"Algo_2\",\"Algo_2\",\"Algo_2\",\"Algo_2\",\"Algo_2\",\"Algo_2\",\"Algo_2\",\"Algo_2\",\"Algo_2\",\"Algo_2\",\"Algo_2\",\"Algo_2\",\"Algo_2\",\"Algo_2\",\"Algo_2\",\"Algo_2\",\"Algo_2\",\"Algo_2\",\"Algo_2\",\"Algo_2\",\"Algo_2\",\"Algo_2\",\"Algo_2\",\"Algo_2\",\"Algo_2\",\"Algo_2\",\"Algo_2\",\"Algo_2\",\"Algo_2\",\"Algo_2\",\"Algo_2\",\"Algo_2\",\"Algo_2\",\"Algo_2\",\"Algo_2\",\"Algo_2\",\"Algo_2\",\"Algo_2\",\"Algo_2\",\"Algo_2\",\"Algo_2\",\"Algo_2\",\"Algo_2\",\"Algo_2\",\"Algo_2\",\"Algo_2\",\"Algo_2\",\"Algo_2\",\"Algo_2\",\"Algo_2\",\"Algo_2\",\"Algo_2\",\"Algo_2\",\"Algo_2\",\"Algo_2\",\"Algo_2\",\"Algo_2\",\"Algo_2\",\"Algo_2\",\"Algo_2\",\"Algo_2\",\"Algo_2\",\"Algo_2\",\"Algo_2\",\"Algo_2\",\"Algo_2\",\"Algo_2\",\"Algo_2\",\"Algo_2\",\"Algo_2\",\"Algo_2\",\"Algo_2\",\"Algo_2\",\"Algo_2\",\"Algo_2\",\"Algo_2\",\"Algo_2\",\"Algo_2\",\"Algo_2\",\"Algo_2\",\"Algo_2\",\"Algo_2\",\"Algo_2\",\"Algo_2\",\"Algo_2\",\"Algo_2\",\"Algo_2\",\"Algo_2\",\"Algo_2\",\"Algo_2\",\"Algo_2\",\"Algo_2\",\"Algo_2\",\"Algo_2\",\"Algo_2\",\"Algo_2\",\"Algo_2\",\"Algo_2\",\"Algo_2\",\"Algo_2\",\"Algo_2\",\"Algo_2\",\"Algo_2\",\"Algo_2\",\"Algo_2\",\"Algo_2\",\"Algo_2\",\"Algo_2\",\"Algo_2\",\"Algo_2\",\"Algo_2\",\"Algo_2\",\"Algo_2\",\"Algo_2\",\"Algo_2\",\"Algo_2\",\"Algo_2\",\"Algo_2\",\"Algo_2\",\"Algo_2\",\"Algo_2\",\"Algo_2\",\"Algo_2\",\"Algo_2\",\"Algo_2\",\"Algo_2\",\"Algo_2\",\"Algo_2\",\"Algo_2\",\"Algo_2\",\"Algo_2\",\"Algo_2\",\"Algo_2\",\"Algo_2\",\"Algo_2\",\"Algo_2\",\"Algo_2\",\"Algo_2\",\"Algo_2\",\"Algo_2\",\"Algo_2\",\"Algo_2\",\"Algo_2\",\"Algo_2\",\"Algo_2\",\"Algo_2\",\"Algo_2\",\"Algo_2\",\"Algo_2\",\"Algo_2\",\"Algo_2\",\"Algo_2\",\"Algo_2\",\"Algo_2\",\"Algo_2\",\"Algo_2\",\"Algo_2\",\"Algo_2\",\"Algo_2\",\"Algo_2\",\"Algo_2\",\"Algo_2\",\"Algo_2\",\"Algo_2\",\"Algo_2\",\"Algo_2\",\"Algo_2\",\"Algo_2\",\"Algo_2\",\"Algo_2\",\"Algo_2\",\"Algo_2\",\"Algo_2\",\"Algo_2\",\"Algo_2\",\"Algo_2\",\"Algo_2\",\"Algo_2\",\"Algo_2\",\"Algo_2\",\"Algo_2\",\"Algo_2\",\"Algo_2\",\"Algo_2\",\"Algo_2\",\"Algo_2\",\"Algo_2\",\"Algo_2\",\"Algo_2\",\"Algo_2\",\"Algo_2\",\"Algo_2\",\"Algo_2\",\"Algo_2\",\"Algo_2\",\"Algo_2\",\"Algo_2\",\"Algo_2\",\"Algo_2\",\"Algo_2\",\"Algo_2\",\"Algo_2\",\"Algo_2\",\"Algo_2\",\"Algo_2\",\"Algo_2\",\"Algo_2\",\"Algo_2\",\"Algo_2\",\"Algo_2\",\"Algo_2\",\"Algo_2\",\"Algo_2\",\"Algo_2\",\"Algo_2\",\"Algo_2\",\"Algo_2\",\"Algo_2\",\"Algo_2\",\"Algo_2\",\"Algo_2\",\"Algo_2\",\"Algo_2\",\"Algo_2\",\"Algo_2\",\"Algo_2\",\"Algo_2\",\"Algo_2\",\"Algo_2\",\"Algo_2\",\"Algo_2\",\"Algo_2\",\"Algo_2\",\"Algo_2\",\"Algo_2\",\"Algo_2\",\"Algo_2\",\"Algo_2\",\"Algo_2\",\"Algo_2\",\"Algo_2\",\"Algo_2\",\"Algo_2\",\"Algo_2\",\"Algo_2\",\"Algo_2\",\"Algo_2\",\"Algo_2\",\"Algo_2\",\"Algo_2\",\"Algo_2\",\"Algo_2\",\"Algo_2\",\"Algo_2\",\"Algo_2\",\"Algo_2\",\"Algo_2\",\"Algo_2\",\"Algo_2\",\"Algo_2\",\"Algo_2\",\"Algo_2\",\"Algo_2\",\"Algo_2\",\"Algo_2\",\"Algo_2\",\"Algo_2\",\"Algo_2\",\"Algo_2\",\"Algo_2\",\"Algo_2\",\"Algo_2\",\"Algo_2\",\"Algo_2\",\"Algo_2\",\"Algo_2\",\"Algo_2\",\"Algo_2\",\"Algo_2\",\"Algo_2\",\"Algo_2\",\"Algo_2\",\"Algo_2\",\"Algo_2\",\"Algo_2\",\"Algo_2\",\"Algo_2\",\"Algo_2\",\"Algo_2\",\"Algo_2\",\"Algo_2\",\"Algo_2\",\"Algo_2\",\"Algo_2\",\"Algo_2\",\"Algo_2\",\"Algo_2\",\"Algo_2\",\"Algo_2\",\"Algo_2\",\"Algo_2\",\"Algo_2\",\"Algo_2\",\"Algo_2\",\"Algo_2\",\"Algo_2\",\"Algo_2\",\"Algo_2\",\"Algo_2\",\"Algo_2\",\"Algo_2\",\"Algo_2\",\"Algo_2\",\"Algo_2\",\"Algo_2\",\"Algo_2\",\"Algo_2\",\"Algo_2\",\"Algo_2\",\"Algo_2\",\"Algo_2\",\"Algo_2\",\"Algo_2\",\"Algo_2\",\"Algo_2\",\"Algo_2\",\"Algo_2\",\"Algo_2\",\"Algo_2\",\"Algo_2\",\"Algo_2\",\"Algo_2\",\"Algo_2\",\"Algo_2\",\"Algo_2\",\"Algo_2\",\"Algo_2\",\"Algo_2\",\"Algo_2\",\"Algo_2\",\"Algo_2\",\"Algo_2\",\"Algo_2\",\"Algo_2\",\"Algo_2\",\"Algo_2\",\"Algo_2\",\"Algo_2\",\"Algo_2\",\"Algo_2\",\"Algo_2\",\"Algo_2\",\"Algo_2\",\"Algo_2\",\"Algo_2\",\"Algo_2\",\"Algo_2\",\"Algo_2\",\"Algo_2\",\"Algo_2\",\"Algo_2\",\"Algo_2\",\"Algo_2\",\"Algo_2\",\"Algo_2\",\"Algo_2\",\"Algo_2\",\"Algo_2\",\"Algo_2\",\"Algo_2\",\"Algo_2\",\"Algo_2\",\"Algo_2\",\"Algo_2\",\"Algo_2\",\"Algo_2\",\"Algo_2\",\"Algo_2\",\"Algo_2\",\"Algo_2\",\"Algo_2\",\"Algo_2\",\"Algo_2\",\"Algo_2\",\"Algo_2\",\"Algo_2\",\"Algo_2\",\"Algo_2\",\"Algo_2\",\"Algo_2\",\"Algo_2\",\"Algo_2\",\"Algo_2\",\"Algo_2\",\"Algo_2\",\"Algo_2\",\"Algo_2\",\"Algo_2\",\"Algo_2\",\"Algo_2\",\"Algo_2\",\"Algo_2\",\"Algo_2\",\"Algo_2\",\"Algo_2\",\"Algo_2\",\"Algo_2\",\"Algo_2\",\"Algo_2\",\"Algo_2\",\"Algo_2\",\"Algo_2\",\"Algo_2\",\"Algo_2\",\"Algo_2\",\"Algo_2\",\"Algo_2\",\"Algo_2\",\"Algo_2\",\"Algo_2\",\"Algo_2\",\"Algo_2\",\"Algo_2\",\"Algo_2\",\"Algo_2\",\"Algo_2\",\"Algo_2\",\"Algo_2\",\"Algo_2\",\"Algo_2\",\"Algo_2\",\"Algo_2\",\"Algo_2\",\"Algo_2\",\"Algo_2\",\"Algo_2\",\"Algo_2\",\"Algo_2\",\"Algo_2\",\"Algo_2\",\"Algo_2\",\"Algo_2\",\"Algo_2\",\"Algo_2\",\"Algo_2\",\"Algo_2\",\"Algo_2\",\"Algo_2\",\"Algo_2\",\"Algo_2\",\"Algo_2\",\"Algo_2\",\"Algo_2\",\"Algo_2\",\"Algo_2\",\"Algo_2\",\"Algo_2\",\"Algo_2\",\"Algo_2\",\"Algo_2\",\"Algo_2\",\"Algo_2\",\"Algo_2\",\"Algo_2\",\"Algo_2\",\"Algo_2\",\"Algo_2\",\"Algo_2\",\"Algo_2\",\"Algo_2\",\"Algo_2\",\"Algo_2\",\"Algo_2\",\"Algo_2\",\"Algo_2\",\"Algo_2\",\"Algo_2\",\"Algo_2\",\"Algo_2\",\"Algo_2\",\"Algo_2\",\"Algo_2\",\"Algo_2\",\"Algo_2\",\"Algo_2\",\"Algo_2\",\"Algo_2\",\"Algo_2\",\"Algo_2\",\"Algo_2\",\"Algo_2\",\"Algo_2\",\"Algo_2\",\"Algo_2\",\"Algo_2\",\"Algo_2\",\"Algo_2\",\"Algo_2\",\"Algo_2\",\"Algo_2\",\"Algo_2\",\"Algo_2\",\"Algo_2\",\"Algo_2\",\"Algo_2\",\"Algo_2\",\"Algo_2\",\"Algo_2\",\"Algo_2\",\"Algo_2\",\"Algo_2\",\"Algo_2\",\"Algo_2\",\"Algo_2\",\"Algo_2\",\"Algo_2\",\"Algo_2\",\"Algo_2\",\"Algo_2\",\"Algo_2\",\"Algo_2\",\"Algo_2\",\"Algo_2\",\"Algo_2\",\"Algo_2\",\"Algo_2\",\"Algo_2\",\"Algo_2\",\"Algo_2\",\"Algo_2\",\"Algo_2\",\"Algo_2\",\"Algo_2\",\"Algo_2\",\"Algo_2\",\"Algo_2\",\"Algo_2\",\"Algo_2\",\"Algo_2\",\"Algo_2\",\"Algo_2\",\"Algo_2\",\"Algo_2\",\"Algo_2\",\"Algo_2\",\"Algo_2\",\"Algo_2\",\"Algo_2\",\"Algo_2\",\"Algo_2\",\"Algo_2\",\"Algo_2\",\"Algo_2\",\"Algo_2\",\"Algo_2\",\"Algo_2\",\"Algo_2\",\"Algo_2\",\"Algo_2\",\"Algo_2\",\"Algo_2\",\"Algo_2\",\"Algo_2\",\"Algo_2\",\"Algo_2\",\"Algo_2\",\"Algo_2\",\"Algo_2\",\"Algo_2\",\"Algo_2\",\"Algo_2\",\"Algo_2\",\"Algo_2\",\"Algo_2\",\"Algo_2\",\"Algo_2\",\"Algo_2\",\"Algo_2\",\"Algo_2\",\"Algo_2\",\"Algo_2\",\"Algo_2\",\"Algo_2\",\"Algo_2\",\"Algo_2\",\"Algo_2\",\"Algo_2\",\"Algo_2\",\"Algo_2\",\"Algo_2\",\"Algo_2\",\"Algo_2\",\"Algo_2\",\"Algo_2\",\"Algo_2\",\"Algo_2\",\"Algo_2\",\"Algo_2\",\"Algo_2\",\"Algo_2\",\"Algo_2\",\"Algo_2\",\"Algo_2\",\"Algo_2\",\"Algo_2\",\"Algo_2\",\"Algo_2\",\"Algo_2\",\"Algo_2\",\"Algo_2\",\"Algo_2\",\"Algo_2\",\"Algo_2\",\"Algo_2\",\"Algo_2\",\"Algo_2\",\"Algo_2\",\"Algo_2\",\"Algo_2\",\"Algo_2\",\"Algo_2\",\"Algo_2\",\"Algo_2\",\"Algo_2\",\"Algo_2\",\"Algo_2\",\"Algo_2\"],\"value\":{\"__ndarray__\":\"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\",\"dtype\":\"float64\",\"shape\":[1234]}},\"selected\":{\"id\":\"3050\"},\"selection_policy\":{\"id\":\"3097\"}},\"id\":\"3049\",\"type\":\"ColumnDataSource\"},{\"attributes\":{},\"id\":\"3005\",\"type\":\"PanTool\"},{\"attributes\":{\"line_alpha\":0.1,\"line_color\":\"#ff7e0e\",\"line_width\":2,\"x\":{\"field\":\"Date\"},\"y\":{\"field\":\"value\"}},\"id\":\"3053\",\"type\":\"Line\"},{\"attributes\":{\"axis\":{\"id\":\"2996\"},\"grid_line_color\":null,\"ticker\":null},\"id\":\"2999\",\"type\":\"Grid\"},{\"attributes\":{\"mantissas\":[1,2,5],\"max_interval\":500.0,\"num_minor_ticks\":0},\"id\":\"3034\",\"type\":\"AdaptiveTicker\"},{\"attributes\":{\"axis\":{\"id\":\"3000\"},\"dimension\":1,\"grid_line_color\":null,\"ticker\":null},\"id\":\"3003\",\"type\":\"Grid\"},{\"attributes\":{\"base\":60,\"mantissas\":[1,2,5,10,15,20,30],\"max_interval\":1800000.0,\"min_interval\":1000.0,\"num_minor_ticks\":0},\"id\":\"3035\",\"type\":\"AdaptiveTicker\"},{\"attributes\":{\"source\":{\"id\":\"3049\"}},\"id\":\"3056\",\"type\":\"CDSView\"},{\"attributes\":{},\"id\":\"3001\",\"type\":\"BasicTicker\"},{\"attributes\":{\"days\":[1,2,3,4,5,6,7,8,9,10,11,12,13,14,15,16,17,18,19,20,21,22,23,24,25,26,27,28,29,30,31]},\"id\":\"3037\",\"type\":\"DaysTicker\"},{\"attributes\":{},\"id\":\"3004\",\"type\":\"SaveTool\"},{\"attributes\":{\"base\":24,\"mantissas\":[1,2,4,6,8,12],\"max_interval\":43200000.0,\"min_interval\":3600000.0,\"num_minor_ticks\":0},\"id\":\"3036\",\"type\":\"AdaptiveTicker\"},{\"attributes\":{\"data_source\":{\"id\":\"3049\"},\"glyph\":{\"id\":\"3052\"},\"hover_glyph\":null,\"muted_glyph\":{\"id\":\"3054\"},\"nonselection_glyph\":{\"id\":\"3053\"},\"selection_glyph\":null,\"view\":{\"id\":\"3056\"}},\"id\":\"3055\",\"type\":\"GlyphRenderer\"},{\"attributes\":{\"axis_label\":\"Date\",\"bounds\":\"auto\",\"formatter\":{\"id\":\"3017\"},\"major_label_orientation\":\"horizontal\",\"ticker\":{\"id\":\"2997\"}},\"id\":\"2996\",\"type\":\"DatetimeAxis\"},{\"attributes\":{\"line_color\":\"#ff7e0e\",\"line_width\":2,\"x\":{\"field\":\"Date\"},\"y\":{\"field\":\"value\"}},\"id\":\"3052\",\"type\":\"Line\"},{\"attributes\":{\"line_alpha\":0.1,\"line_color\":\"#1f77b3\",\"line_width\":2,\"x\":{\"field\":\"Date\"},\"y\":{\"field\":\"value\"}},\"id\":\"3025\",\"type\":\"Line\"},{\"attributes\":{\"months\":[0,1,2,3,4,5,6,7,8,9,10,11]},\"id\":\"3041\",\"type\":\"MonthsTicker\"},{\"attributes\":{\"source\":{\"id\":\"3021\"}},\"id\":\"3028\",\"type\":\"CDSView\"},{\"attributes\":{\"months\":[0,2,4,6,8,10]},\"id\":\"3042\",\"type\":\"MonthsTicker\"},{\"attributes\":{},\"id\":\"3097\",\"type\":\"UnionRenderers\"},{\"attributes\":{\"days\":[1,4,7,10,13,16,19,22,25,28]},\"id\":\"3038\",\"type\":\"DaysTicker\"},{\"attributes\":{},\"id\":\"3050\",\"type\":\"Selection\"},{\"attributes\":{\"overlay\":{\"id\":\"3009\"}},\"id\":\"3007\",\"type\":\"BoxZoomTool\"},{\"attributes\":{\"days\":[1,15]},\"id\":\"3040\",\"type\":\"DaysTicker\"},{\"attributes\":{},\"id\":\"3008\",\"type\":\"ResetTool\"},{\"attributes\":{\"months\":[0,6]},\"id\":\"3044\",\"type\":\"MonthsTicker\"},{\"attributes\":{},\"id\":\"3017\",\"type\":\"DatetimeTickFormatter\"},{\"attributes\":{\"active_drag\":\"auto\",\"active_inspect\":\"auto\",\"active_multi\":null,\"active_scroll\":\"auto\",\"active_tap\":\"auto\",\"tools\":[{\"id\":\"2985\"},{\"id\":\"3004\"},{\"id\":\"3005\"},{\"id\":\"3006\"},{\"id\":\"3007\"},{\"id\":\"3008\"}]},\"id\":\"3010\",\"type\":\"Toolbar\"},{\"attributes\":{\"days\":[1,8,15,22]},\"id\":\"3039\",\"type\":\"DaysTicker\"},{\"attributes\":{},\"id\":\"3045\",\"type\":\"YearsTicker\"},{\"attributes\":{\"axis_label\":\"Returns\",\"bounds\":\"auto\",\"formatter\":{\"id\":\"3019\"},\"major_label_orientation\":\"horizontal\",\"ticker\":{\"id\":\"3001\"}},\"id\":\"3000\",\"type\":\"LinearAxis\"},{\"attributes\":{\"click_policy\":\"mute\",\"items\":[{\"id\":\"3048\"},{\"id\":\"3077\"}],\"location\":[0,0],\"title\":\"Variable\"},\"id\":\"3047\",\"type\":\"Legend\"},{\"attributes\":{\"data\":{\"Date\":{\"__ndarray__\":\"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\",\"dtype\":\"float64\",\"shape\":[1234]},\"Variable\":[\"Algo_1\",\"Algo_1\",\"Algo_1\",\"Algo_1\",\"Algo_1\",\"Algo_1\",\"Algo_1\",\"Algo_1\",\"Algo_1\",\"Algo_1\",\"Algo_1\",\"Algo_1\",\"Algo_1\",\"Algo_1\",\"Algo_1\",\"Algo_1\",\"Algo_1\",\"Algo_1\",\"Algo_1\",\"Algo_1\",\"Algo_1\",\"Algo_1\",\"Algo_1\",\"Algo_1\",\"Algo_1\",\"Algo_1\",\"Algo_1\",\"Algo_1\",\"Algo_1\",\"Algo_1\",\"Algo_1\",\"Algo_1\",\"Algo_1\",\"Algo_1\",\"Algo_1\",\"Algo_1\",\"Algo_1\",\"Algo_1\",\"Algo_1\",\"Algo_1\",\"Algo_1\",\"Algo_1\",\"Algo_1\",\"Algo_1\",\"Algo_1\",\"Algo_1\",\"Algo_1\",\"Algo_1\",\"Algo_1\",\"Algo_1\",\"Algo_1\",\"Algo_1\",\"Algo_1\",\"Algo_1\",\"Algo_1\",\"Algo_1\",\"Algo_1\",\"Algo_1\",\"Algo_1\",\"Algo_1\",\"Algo_1\",\"Algo_1\",\"Algo_1\",\"Algo_1\",\"Algo_1\",\"Algo_1\",\"Algo_1\",\"Algo_1\",\"Algo_1\",\"Algo_1\",\"Algo_1\",\"Algo_1\",\"Algo_1\",\"Algo_1\",\"Algo_1\",\"Algo_1\",\"Algo_1\",\"Algo_1\",\"Algo_1\",\"Algo_1\",\"Algo_1\",\"Algo_1\",\"Algo_1\",\"Algo_1\",\"Algo_1\",\"Algo_1\",\"Algo_1\",\"Algo_1\",\"Algo_1\",\"Algo_1\",\"Algo_1\",\"Algo_1\",\"Algo_1\",\"Algo_1\",\"Algo_1\",\"Algo_1\",\"Algo_1\",\"Algo_1\",\"Algo_1\",\"Algo_1\",\"Algo_1\",\"Algo_1\",\"Algo_1\",\"Algo_1\",\"Algo_1\",\"Algo_1\",\"Algo_1\",\"Algo_1\",\"Algo_1\",\"Algo_1\",\"Algo_1\",\"Algo_1\",\"Algo_1\",\"Algo_1\",\"Algo_1\",\"Algo_1\",\"Algo_1\",\"Algo_1\",\"Algo_1\",\"Algo_1\",\"Algo_1\",\"Algo_1\",\"Algo_1\",\"Algo_1\",\"Algo_1\",\"Algo_1\",\"Algo_1\",\"Algo_1\",\"Algo_1\",\"Algo_1\",\"Algo_1\",\"Algo_1\",\"Algo_1\",\"Algo_1\",\"Algo_1\",\"Algo_1\",\"Algo_1\",\"Algo_1\",\"Algo_1\",\"Algo_1\",\"Algo_1\",\"Algo_1\",\"Algo_1\",\"Algo_1\",\"Algo_1\",\"Algo_1\",\"Algo_1\",\"Algo_1\",\"Algo_1\",\"Algo_1\",\"Algo_1\",\"Algo_1\",\"Algo_1\",\"Algo_1\",\"Algo_1\",\"Algo_1\",\"Algo_1\",\"Algo_1\",\"Algo_1\",\"Algo_1\",\"Algo_1\",\"Algo_1\",\"Algo_1\",\"Algo_1\",\"Algo_1\",\"Algo_1\",\"Algo_1\",\"Algo_1\",\"Algo_1\",\"Algo_1\",\"Algo_1\",\"Algo_1\",\"Algo_1\",\"Algo_1\",\"Algo_1\",\"Algo_1\",\"Algo_1\",\"Algo_1\",\"Algo_1\",\"Algo_1\",\"Algo_1\",\"Algo_1\",\"Algo_1\",\"Algo_1\",\"Algo_1\",\"Algo_1\",\"Algo_1\",\"Algo_1\",\"Algo_1\",\"Algo_1\",\"Algo_1\",\"Algo_1\",\"Algo_1\",\"Algo_1\",\"Algo_1\",\"Algo_1\",\"Algo_1\",\"Algo_1\",\"Algo_1\",\"Algo_1\",\"Algo_1\",\"Algo_1\",\"Algo_1\",\"Algo_1\",\"Algo_1\",\"Algo_1\",\"Algo_1\",\"Algo_1\",\"Algo_1\",\"Algo_1\",\"Algo_1\",\"Algo_1\",\"Algo_1\",\"Algo_1\",\"Algo_1\",\"Algo_1\",\"Algo_1\",\"Algo_1\",\"Algo_1\",\"Algo_1\",\"Algo_1\",\"Algo_1\",\"Algo_1\",\"Algo_1\",\"Algo_1\",\"Algo_1\",\"Algo_1\",\"Algo_1\",\"Algo_1\",\"Algo_1\",\"Algo_1\",\"Algo_1\",\"Algo_1\",\"Algo_1\",\"Algo_1\",\"Algo_1\",\"Algo_1\",\"Algo_1\",\"Algo_1\",\"Algo_1\",\"Algo_1\",\"Algo_1\",\"Algo_1\",\"Algo_1\",\"Algo_1\",\"Algo_1\",\"Algo_1\",\"Algo_1\",\"Algo_1\",\"Algo_1\",\"Algo_1\",\"Algo_1\",\"Algo_1\",\"Algo_1\",\"Algo_1\",\"Algo_1\",\"Algo_1\",\"Algo_1\",\"Algo_1\",\"Algo_1\",\"Algo_1\",\"Algo_1\",\"Algo_1\",\"Algo_1\",\"Algo_1\",\"Algo_1\",\"Algo_1\",\"Algo_1\",\"Algo_1\",\"Algo_1\",\"Algo_1\",\"Algo_1\",\"Algo_1\",\"Algo_1\",\"Algo_1\",\"Algo_1\",\"Algo_1\",\"Algo_1\",\"Algo_1\",\"Algo_1\",\"Algo_1\",\"Algo_1\",\"Algo_1\",\"Algo_1\",\"Algo_1\",\"Algo_1\",\"Algo_1\",\"Algo_1\",\"Algo_1\",\"Algo_1\",\"Algo_1\",\"Algo_1\",\"Algo_1\",\"Algo_1\",\"Algo_1\",\"Algo_1\",\"Algo_1\",\"Algo_1\",\"Algo_1\",\"Algo_1\",\"Algo_1\",\"Algo_1\",\"Algo_1\",\"Algo_1\",\"Algo_1\",\"Algo_1\",\"Algo_1\",\"Algo_1\",\"Algo_1\",\"Algo_1\",\"Algo_1\",\"Algo_1\",\"Algo_1\",\"Algo_1\",\"Algo_1\",\"Algo_1\",\"Algo_1\",\"Algo_1\",\"Algo_1\",\"Algo_1\",\"Algo_1\",\"Algo_1\",\"Algo_1\",\"Algo_1\",\"Algo_1\",\"Algo_1\",\"Algo_1\",\"Algo_1\",\"Algo_1\",\"Algo_1\",\"Algo_1\",\"Algo_1\",\"Algo_1\",\"Algo_1\",\"Algo_1\",\"Algo_1\",\"Algo_1\",\"Algo_1\",\"Algo_1\",\"Algo_1\",\"Algo_1\",\"Algo_1\",\"Algo_1\",\"Algo_1\",\"Algo_1\",\"Algo_1\",\"Algo_1\",\"Algo_1\",\"Algo_1\",\"Algo_1\",\"Algo_1\",\"Algo_1\",\"Algo_1\",\"Algo_1\",\"Algo_1\",\"Algo_1\",\"Algo_1\",\"Algo_1\",\"Algo_1\",\"Algo_1\",\"Algo_1\",\"Algo_1\",\"Algo_1\",\"Algo_1\",\"Algo_1\",\"Algo_1\",\"Algo_1\",\"Algo_1\",\"Algo_1\",\"Algo_1\",\"Algo_1\",\"Algo_1\",\"Algo_1\",\"Algo_1\",\"Algo_1\",\"Algo_1\",\"Algo_1\",\"Algo_1\",\"Algo_1\",\"Algo_1\",\"Algo_1\",\"Algo_1\",\"Algo_1\",\"Algo_1\",\"Algo_1\",\"Algo_1\",\"Algo_1\",\"Algo_1\",\"Algo_1\",\"Algo_1\",\"Algo_1\",\"Algo_1\",\"Algo_1\",\"Algo_1\",\"Algo_1\",\"Algo_1\",\"Algo_1\",\"Algo_1\",\"Algo_1\",\"Algo_1\",\"Algo_1\",\"Algo_1\",\"Algo_1\",\"Algo_1\",\"Algo_1\",\"Algo_1\",\"Algo_1\",\"Algo_1\",\"Algo_1\",\"Algo_1\",\"Algo_1\",\"Algo_1\",\"Algo_1\",\"Algo_1\",\"Algo_1\",\"Algo_1\",\"Algo_1\",\"Algo_1\",\"Algo_1\",\"Algo_1\",\"Algo_1\",\"Algo_1\",\"Algo_1\",\"Algo_1\",\"Algo_1\",\"Algo_1\",\"Algo_1\",\"Algo_1\",\"Algo_1\",\"Algo_1\",\"Algo_1\",\"Algo_1\",\"Algo_1\",\"Algo_1\",\"Algo_1\",\"Algo_1\",\"Algo_1\",\"Algo_1\",\"Algo_1\",\"Algo_1\",\"Algo_1\",\"Algo_1\",\"Algo_1\",\"Algo_1\",\"Algo_1\",\"Algo_1\",\"Algo_1\",\"Algo_1\",\"Algo_1\",\"Algo_1\",\"Algo_1\",\"Algo_1\",\"Algo_1\",\"Algo_1\",\"Algo_1\",\"Algo_1\",\"Algo_1\",\"Algo_1\",\"Algo_1\",\"Algo_1\",\"Algo_1\",\"Algo_1\",\"Algo_1\",\"Algo_1\",\"Algo_1\",\"Algo_1\",\"Algo_1\",\"Algo_1\",\"Algo_1\",\"Algo_1\",\"Algo_1\",\"Algo_1\",\"Algo_1\",\"Algo_1\",\"Algo_1\",\"Algo_1\",\"Algo_1\",\"Algo_1\",\"Algo_1\",\"Algo_1\",\"Algo_1\",\"Algo_1\",\"Algo_1\",\"Algo_1\",\"Algo_1\",\"Algo_1\",\"Algo_1\",\"Algo_1\",\"Algo_1\",\"Algo_1\",\"Algo_1\",\"Algo_1\",\"Algo_1\",\"Algo_1\",\"Algo_1\",\"Algo_1\",\"Algo_1\",\"Algo_1\",\"Algo_1\",\"Algo_1\",\"Algo_1\",\"Algo_1\",\"Algo_1\",\"Algo_1\",\"Algo_1\",\"Algo_1\",\"Algo_1\",\"Algo_1\",\"Algo_1\",\"Algo_1\",\"Algo_1\",\"Algo_1\",\"Algo_1\",\"Algo_1\",\"Algo_1\",\"Algo_1\",\"Algo_1\",\"Algo_1\",\"Algo_1\",\"Algo_1\",\"Algo_1\",\"Algo_1\",\"Algo_1\",\"Algo_1\",\"Algo_1\",\"Algo_1\",\"Algo_1\",\"Algo_1\",\"Algo_1\",\"Algo_1\",\"Algo_1\",\"Algo_1\",\"Algo_1\",\"Algo_1\",\"Algo_1\",\"Algo_1\",\"Algo_1\",\"Algo_1\",\"Algo_1\",\"Algo_1\",\"Algo_1\",\"Algo_1\",\"Algo_1\",\"Algo_1\",\"Algo_1\",\"Algo_1\",\"Algo_1\",\"Algo_1\",\"Algo_1\",\"Algo_1\",\"Algo_1\",\"Algo_1\",\"Algo_1\",\"Algo_1\",\"Algo_1\",\"Algo_1\",\"Algo_1\",\"Algo_1\",\"Algo_1\",\"Algo_1\",\"Algo_1\",\"Algo_1\",\"Algo_1\",\"Algo_1\",\"Algo_1\",\"Algo_1\",\"Algo_1\",\"Algo_1\",\"Algo_1\",\"Algo_1\",\"Algo_1\",\"Algo_1\",\"Algo_1\",\"Algo_1\",\"Algo_1\",\"Algo_1\",\"Algo_1\",\"Algo_1\",\"Algo_1\",\"Algo_1\",\"Algo_1\",\"Algo_1\",\"Algo_1\",\"Algo_1\",\"Algo_1\",\"Algo_1\",\"Algo_1\",\"Algo_1\",\"Algo_1\",\"Algo_1\",\"Algo_1\",\"Algo_1\",\"Algo_1\",\"Algo_1\",\"Algo_1\",\"Algo_1\",\"Algo_1\",\"Algo_1\",\"Algo_1\",\"Algo_1\",\"Algo_1\",\"Algo_1\",\"Algo_1\",\"Algo_1\",\"Algo_1\",\"Algo_1\",\"Algo_1\",\"Algo_1\",\"Algo_1\",\"Algo_1\",\"Algo_1\",\"Algo_1\",\"Algo_1\",\"Algo_1\",\"Algo_1\",\"Algo_1\",\"Algo_1\",\"Algo_1\",\"Algo_1\",\"Algo_1\",\"Algo_1\",\"Algo_1\",\"Algo_1\",\"Algo_1\",\"Algo_1\",\"Algo_1\",\"Algo_1\",\"Algo_1\",\"Algo_1\",\"Algo_1\",\"Algo_1\",\"Algo_1\",\"Algo_1\",\"Algo_1\",\"Algo_1\",\"Algo_1\",\"Algo_1\",\"Algo_1\",\"Algo_1\",\"Algo_1\",\"Algo_1\",\"Algo_1\",\"Algo_1\",\"Algo_1\",\"Algo_1\",\"Algo_1\",\"Algo_1\",\"Algo_1\",\"Algo_1\",\"Algo_1\",\"Algo_1\",\"Algo_1\",\"Algo_1\",\"Algo_1\",\"Algo_1\",\"Algo_1\",\"Algo_1\",\"Algo_1\",\"Algo_1\",\"Algo_1\",\"Algo_1\",\"Algo_1\",\"Algo_1\",\"Algo_1\",\"Algo_1\",\"Algo_1\",\"Algo_1\",\"Algo_1\",\"Algo_1\",\"Algo_1\",\"Algo_1\",\"Algo_1\",\"Algo_1\",\"Algo_1\",\"Algo_1\",\"Algo_1\",\"Algo_1\",\"Algo_1\",\"Algo_1\",\"Algo_1\",\"Algo_1\",\"Algo_1\",\"Algo_1\",\"Algo_1\",\"Algo_1\",\"Algo_1\",\"Algo_1\",\"Algo_1\",\"Algo_1\",\"Algo_1\",\"Algo_1\",\"Algo_1\",\"Algo_1\",\"Algo_1\",\"Algo_1\",\"Algo_1\",\"Algo_1\",\"Algo_1\",\"Algo_1\",\"Algo_1\",\"Algo_1\",\"Algo_1\",\"Algo_1\",\"Algo_1\",\"Algo_1\",\"Algo_1\",\"Algo_1\",\"Algo_1\",\"Algo_1\",\"Algo_1\",\"Algo_1\",\"Algo_1\",\"Algo_1\",\"Algo_1\",\"Algo_1\",\"Algo_1\",\"Algo_1\",\"Algo_1\",\"Algo_1\",\"Algo_1\",\"Algo_1\",\"Algo_1\",\"Algo_1\",\"Algo_1\",\"Algo_1\",\"Algo_1\",\"Algo_1\",\"Algo_1\",\"Algo_1\",\"Algo_1\",\"Algo_1\",\"Algo_1\",\"Algo_1\",\"Algo_1\",\"Algo_1\",\"Algo_1\",\"Algo_1\",\"Algo_1\",\"Algo_1\",\"Algo_1\",\"Algo_1\",\"Algo_1\",\"Algo_1\",\"Algo_1\",\"Algo_1\",\"Algo_1\",\"Algo_1\",\"Algo_1\",\"Algo_1\",\"Algo_1\",\"Algo_1\",\"Algo_1\",\"Algo_1\",\"Algo_1\",\"Algo_1\",\"Algo_1\",\"Algo_1\",\"Algo_1\",\"Algo_1\",\"Algo_1\",\"Algo_1\",\"Algo_1\",\"Algo_1\",\"Algo_1\",\"Algo_1\",\"Algo_1\",\"Algo_1\",\"Algo_1\",\"Algo_1\",\"Algo_1\",\"Algo_1\",\"Algo_1\",\"Algo_1\",\"Algo_1\",\"Algo_1\",\"Algo_1\",\"Algo_1\",\"Algo_1\",\"Algo_1\",\"Algo_1\",\"Algo_1\",\"Algo_1\",\"Algo_1\",\"Algo_1\",\"Algo_1\",\"Algo_1\",\"Algo_1\",\"Algo_1\",\"Algo_1\",\"Algo_1\",\"Algo_1\",\"Algo_1\",\"Algo_1\",\"Algo_1\",\"Algo_1\",\"Algo_1\",\"Algo_1\",\"Algo_1\",\"Algo_1\",\"Algo_1\",\"Algo_1\",\"Algo_1\",\"Algo_1\",\"Algo_1\",\"Algo_1\",\"Algo_1\",\"Algo_1\",\"Algo_1\",\"Algo_1\",\"Algo_1\",\"Algo_1\",\"Algo_1\",\"Algo_1\",\"Algo_1\",\"Algo_1\",\"Algo_1\",\"Algo_1\",\"Algo_1\",\"Algo_1\",\"Algo_1\",\"Algo_1\",\"Algo_1\",\"Algo_1\",\"Algo_1\",\"Algo_1\",\"Algo_1\",\"Algo_1\",\"Algo_1\",\"Algo_1\",\"Algo_1\",\"Algo_1\",\"Algo_1\",\"Algo_1\",\"Algo_1\",\"Algo_1\",\"Algo_1\",\"Algo_1\",\"Algo_1\",\"Algo_1\",\"Algo_1\",\"Algo_1\",\"Algo_1\",\"Algo_1\",\"Algo_1\",\"Algo_1\",\"Algo_1\",\"Algo_1\",\"Algo_1\",\"Algo_1\",\"Algo_1\",\"Algo_1\",\"Algo_1\",\"Algo_1\",\"Algo_1\",\"Algo_1\",\"Algo_1\",\"Algo_1\",\"Algo_1\",\"Algo_1\",\"Algo_1\",\"Algo_1\",\"Algo_1\",\"Algo_1\",\"Algo_1\",\"Algo_1\",\"Algo_1\",\"Algo_1\",\"Algo_1\",\"Algo_1\",\"Algo_1\",\"Algo_1\",\"Algo_1\",\"Algo_1\",\"Algo_1\",\"Algo_1\",\"Algo_1\",\"Algo_1\",\"Algo_1\",\"Algo_1\",\"Algo_1\",\"Algo_1\",\"Algo_1\",\"Algo_1\",\"Algo_1\",\"Algo_1\",\"Algo_1\",\"Algo_1\",\"Algo_1\",\"Algo_1\",\"Algo_1\",\"Algo_1\",\"Algo_1\",\"Algo_1\",\"Algo_1\",\"Algo_1\",\"Algo_1\",\"Algo_1\",\"Algo_1\",\"Algo_1\",\"Algo_1\",\"Algo_1\",\"Algo_1\",\"Algo_1\",\"Algo_1\",\"Algo_1\",\"Algo_1\",\"Algo_1\",\"Algo_1\",\"Algo_1\",\"Algo_1\",\"Algo_1\",\"Algo_1\",\"Algo_1\",\"Algo_1\",\"Algo_1\",\"Algo_1\",\"Algo_1\",\"Algo_1\",\"Algo_1\",\"Algo_1\",\"Algo_1\",\"Algo_1\",\"Algo_1\",\"Algo_1\",\"Algo_1\",\"Algo_1\",\"Algo_1\",\"Algo_1\",\"Algo_1\",\"Algo_1\",\"Algo_1\",\"Algo_1\",\"Algo_1\",\"Algo_1\",\"Algo_1\",\"Algo_1\",\"Algo_1\",\"Algo_1\",\"Algo_1\",\"Algo_1\",\"Algo_1\",\"Algo_1\",\"Algo_1\",\"Algo_1\",\"Algo_1\",\"Algo_1\",\"Algo_1\",\"Algo_1\",\"Algo_1\",\"Algo_1\",\"Algo_1\",\"Algo_1\",\"Algo_1\",\"Algo_1\",\"Algo_1\",\"Algo_1\",\"Algo_1\",\"Algo_1\",\"Algo_1\",\"Algo_1\",\"Algo_1\",\"Algo_1\",\"Algo_1\",\"Algo_1\",\"Algo_1\",\"Algo_1\",\"Algo_1\",\"Algo_1\",\"Algo_1\",\"Algo_1\",\"Algo_1\",\"Algo_1\",\"Algo_1\",\"Algo_1\",\"Algo_1\",\"Algo_1\",\"Algo_1\",\"Algo_1\",\"Algo_1\",\"Algo_1\",\"Algo_1\",\"Algo_1\",\"Algo_1\",\"Algo_1\",\"Algo_1\",\"Algo_1\",\"Algo_1\",\"Algo_1\",\"Algo_1\",\"Algo_1\",\"Algo_1\",\"Algo_1\",\"Algo_1\",\"Algo_1\",\"Algo_1\",\"Algo_1\",\"Algo_1\",\"Algo_1\",\"Algo_1\",\"Algo_1\",\"Algo_1\",\"Algo_1\",\"Algo_1\",\"Algo_1\",\"Algo_1\",\"Algo_1\",\"Algo_1\",\"Algo_1\",\"Algo_1\",\"Algo_1\",\"Algo_1\",\"Algo_1\",\"Algo_1\",\"Algo_1\",\"Algo_1\",\"Algo_1\",\"Algo_1\",\"Algo_1\",\"Algo_1\",\"Algo_1\",\"Algo_1\",\"Algo_1\",\"Algo_1\",\"Algo_1\",\"Algo_1\",\"Algo_1\",\"Algo_1\",\"Algo_1\",\"Algo_1\",\"Algo_1\",\"Algo_1\",\"Algo_1\",\"Algo_1\",\"Algo_1\",\"Algo_1\",\"Algo_1\",\"Algo_1\",\"Algo_1\",\"Algo_1\",\"Algo_1\",\"Algo_1\",\"Algo_1\",\"Algo_1\",\"Algo_1\",\"Algo_1\",\"Algo_1\",\"Algo_1\",\"Algo_1\",\"Algo_1\",\"Algo_1\",\"Algo_1\",\"Algo_1\",\"Algo_1\",\"Algo_1\",\"Algo_1\",\"Algo_1\",\"Algo_1\",\"Algo_1\",\"Algo_1\",\"Algo_1\",\"Algo_1\",\"Algo_1\",\"Algo_1\",\"Algo_1\",\"Algo_1\",\"Algo_1\",\"Algo_1\",\"Algo_1\",\"Algo_1\",\"Algo_1\",\"Algo_1\",\"Algo_1\",\"Algo_1\",\"Algo_1\",\"Algo_1\",\"Algo_1\",\"Algo_1\",\"Algo_1\",\"Algo_1\",\"Algo_1\",\"Algo_1\",\"Algo_1\",\"Algo_1\",\"Algo_1\",\"Algo_1\",\"Algo_1\",\"Algo_1\",\"Algo_1\",\"Algo_1\",\"Algo_1\",\"Algo_1\",\"Algo_1\",\"Algo_1\",\"Algo_1\",\"Algo_1\",\"Algo_1\",\"Algo_1\",\"Algo_1\",\"Algo_1\",\"Algo_1\",\"Algo_1\",\"Algo_1\",\"Algo_1\",\"Algo_1\",\"Algo_1\",\"Algo_1\",\"Algo_1\",\"Algo_1\",\"Algo_1\",\"Algo_1\",\"Algo_1\",\"Algo_1\",\"Algo_1\",\"Algo_1\",\"Algo_1\",\"Algo_1\",\"Algo_1\",\"Algo_1\",\"Algo_1\",\"Algo_1\",\"Algo_1\",\"Algo_1\",\"Algo_1\",\"Algo_1\",\"Algo_1\",\"Algo_1\",\"Algo_1\",\"Algo_1\",\"Algo_1\",\"Algo_1\",\"Algo_1\",\"Algo_1\",\"Algo_1\",\"Algo_1\",\"Algo_1\",\"Algo_1\",\"Algo_1\",\"Algo_1\",\"Algo_1\",\"Algo_1\",\"Algo_1\",\"Algo_1\",\"Algo_1\",\"Algo_1\",\"Algo_1\",\"Algo_1\",\"Algo_1\",\"Algo_1\",\"Algo_1\",\"Algo_1\",\"Algo_1\",\"Algo_1\",\"Algo_1\",\"Algo_1\",\"Algo_1\",\"Algo_1\",\"Algo_1\",\"Algo_1\",\"Algo_1\",\"Algo_1\",\"Algo_1\",\"Algo_1\",\"Algo_1\",\"Algo_1\",\"Algo_1\",\"Algo_1\",\"Algo_1\",\"Algo_1\",\"Algo_1\",\"Algo_1\",\"Algo_1\",\"Algo_1\",\"Algo_1\",\"Algo_1\",\"Algo_1\",\"Algo_1\",\"Algo_1\",\"Algo_1\",\"Algo_1\",\"Algo_1\",\"Algo_1\",\"Algo_1\",\"Algo_1\",\"Algo_1\",\"Algo_1\",\"Algo_1\",\"Algo_1\",\"Algo_1\",\"Algo_1\",\"Algo_1\",\"Algo_1\",\"Algo_1\",\"Algo_1\",\"Algo_1\",\"Algo_1\",\"Algo_1\",\"Algo_1\",\"Algo_1\",\"Algo_1\",\"Algo_1\",\"Algo_1\",\"Algo_1\",\"Algo_1\",\"Algo_1\",\"Algo_1\",\"Algo_1\",\"Algo_1\",\"Algo_1\",\"Algo_1\",\"Algo_1\",\"Algo_1\",\"Algo_1\",\"Algo_1\",\"Algo_1\",\"Algo_1\",\"Algo_1\",\"Algo_1\",\"Algo_1\",\"Algo_1\",\"Algo_1\",\"Algo_1\",\"Algo_1\",\"Algo_1\",\"Algo_1\",\"Algo_1\",\"Algo_1\",\"Algo_1\",\"Algo_1\",\"Algo_1\",\"Algo_1\",\"Algo_1\",\"Algo_1\",\"Algo_1\",\"Algo_1\"],\"value\":{\"__ndarray__\":\"FEwUkvhf4b9w/V0QJJgNwB6gjzcOEf6/kPHalxGStD9JlTcVTBjwvx0ImbbkOVHA6iUX/xDR27/ACI2aPiDDv9r/ETlMWB/AOsJSbpCr678GEPn8lAAhwKaLsn+5Vfu/AeVHfMbvDMCwaMpjUMjxv1pkFYxC2eq/4XYqpRBGQcCzt6+c94zzv6h6UBFwLgHAlp7IBDUZ6j/WbmzOVtXivw7aa1RkyPA/4E5hKvoHu78PjKciahj8v4Ssc6ZUw9i/IJ4pUTjZ5b9CAd1BqGIqwGIJaFBWjve/vmN+KQto4D9qcLT0elf9Pzea+4ve3QLAZF7PEzA+9r+SRcJ3zbwEwF7rfIn89Oa/PsztC0A8AcCghnB5VjzZP1gn3z8vU/k/rjo0mxcQ+L8e+NGG7FvuP3Esfrvnj/K/xPCOBBzq2L9ulByamdL8v7tBtNxAzhDAmH/dWgWlDMDvmSRSAaD0v9KFl5211Py/uYJe1cHQ6r/D2532Zg83QIzQW6RvatK/oPq1FmeP+r+gBJx8IcPvv0cZaVMdL3FAthUkXw9f4b+EEUhdSmIGwNT8hjR4mOG/KlnNGT2IDsAMmEdo6InnPycP6F58LfK/JMFXfC3L079UaPTngW/wPwatQ7d/OO+/gkLNz/afX8AEks9RlUQBwOTuMD+vzPW/iVGLze3D8r+41S/qkX4ewChjRfrsjAHAVUPDC+lGCMCNdqTjR/rxvyaitlIVXgfAUy8cI4k4GMCVSUjQzVzxv1J5cjAcZhHAgOq2W/Cq6795cg85lUEpwA7knRnDMPY/vsvFCtjp7b9H/zdBtfEowLrwptWYGP2/L0UdV4xr879HocuHeIjgv5qtMZ/HKB/AqPIQcR7dsb8wTAaC+P/7vy770KifsQHAgOWNgIzlgz+qr0mIL8nhv+4Wn3qE8w9Asq86CYy39z9Yq8I79hPKv8gjgQznBd4/M5FNVT2b8L8vFM3FGsg9QPRHmcZ3XAxA7CBEpYbx6L+uHsIlSY/ov8biD1nVAwpAHRZ/P6967r8iBOqAlQEVwL5qb84D79e/Plgp8Bzn9T98vEAj9WvcP4IAqJEQifm/3KxV8tVlBsAPDTRc0PT3vwCrPHM8ZgHAGFtfyDIu1z98Mgr0g1H6vyy4GcqQifS/EN0oucUQKcBQdKGA1Vr2v2J2UwNDxvq/GbAHL+4o8b8MXPMPSn4pQB+rc5cUdwfAmHY1ZqCq+L8guf+F8IoCwECY736gA/i/PowpNu5P97+KsX3pDmD7vyfmj05aewnAIQrOcHpB878et59HlIDsv+lM5BPTqTbATHgbGNPNHMCMRkPciDzMv4Cf2qd4mfe/v5SehhKbDcBwjjC6VyTHP9gRS5nruvw/V3ItN0rd9794m6Pfux8EwNZzajlmM+q/hDc5rsvkBEAME/UIWx/hP1CIINEgxve/JmFVRXvb9D/CsFwELxjsv4eyyAaqbBJA3urFBFkU9b8RBfBB0hL6v2rPjsrRIfQ/Jhk+Dvj83b8iiI4Q8Pbev9OG6yFBzgdAQKZSLdxt3D/E3bYLHZ3dP/Bw6SCporE/knVxwuid6r/cMpjTnS/gP8C7BtvrkK4/w4DPP2eCDMCQBtZgL+/wPwtAl+jhvvW/XdvInP3C8r93sVw5X8QSQDRZRinAova/9OwIXA4wFcC+HLFnSQD8vzCo1YtU8dC/zFSMHP0p6r8s0fwbQ+wGQKE25Hrgl+i/sOLLadea37+sfT6msL4QwOKPgNo/0BFAuf65stRJ7b+zt8FYIFwZwMB8Gvtpprq/n0DsWZXa8r8XiYHpZ/cZQHZ1G1dHodq/bNMrgmn3/b8/E1RSIJ8BwCPdpLyaU+m/IDwPFQ147D8omhUmUnQBQHmScwVGbwzA1iFDJ6os9r+aHXVy7qvev+YsewcdLA7AAOyamM/Oj7+21ccV11Tkv36iS8LLngrApAGBipRV8b80KHTaN3M1wOwv5Z25Yei/unkXqwVhC0DO6UEzE3Hsv2AcSq6awhBAcBkdIKhSuT/zOcLmI9Pnv1jzufAQNgnAGR9PwBSv/78ghItASiHrP7Kzgw2S79e/yCcSwDScxb/wXZ3HXHQYwEpKGuIb6wHAWk6KDONt879XQsn7bKgHQCZaBIgPDtu/vK7qr4IU2z8EVWGZcSfnvwI8WxTZj+a//lTf2UV8DEDQRf7FleTfv/TC5qZ+KwLA7AnAcmXE9L8h6GyddfoSwD6pA009qvm/nDDZhPS1AUBtuTj258D9vx5uaG9S6v6/m+V4guMG/L847AoWCkbzv/0dg7GY/hbAxKC9nwxh0r/iMn/wp63tv0DLCn2FJiHA0nYSbgjQAEDsyB2hQ8Hlv27k47nA7ADA2sFHeEOdAsCjHsMsWnTmv+yTArFRGwpA9VEeVkea/b+okY3APScHQKX89h+BJ/m/NqdTDT/y2L9VMDTU36MFwAba/w4UBwLA8Aevc2uy7z8F6RTfnyXzv2ra/0RJldu/7A+j2Hmo478GnwJf69n6vwqb8ODffCNAnSFdyJYW4r/t/6uFLfoUwDw0+A9ty++/3zazx0FYVUBQN1PE0KcEwMkBbyPBEAHAjK/H6OI327+COUp5jVjzvw/bey4VagJAy36Qs8bj+L8Up/XWtyYGQAUW8bIkWwHAuGGv41R//L/YKSdduiLgv9QUfHKQv/0/cDcAmhTV8b+S69pAmzX0P8zusV+gWdQ/D8xuV4RB+r9abzv1sk30vy3Z+svk1hrANDkWdE7Iz7+6Sxbq8h4EwNxI0h6tn/G/qvh5zV48NcBkG9rtvTT1v64YMPKXZwPAYDEDOt/Vzj+4dufR0AkIwOxw9BeqFPe/QnTiWARp579oEfcZdMD8P7p6k2cJbxDAtp90hCzT57//YcW8ZzUZQMUMLZKl6+W/AkDWRk4JAEBquhBnBSMAwItQvj9RXei/xA5D5w0+0D/E6sfZnPnSPw7QAgsI3AXAhMcddebaxL+AybosuRrEPzS8dfKXbNw/362VgVUV8L+Oi/NNtEBkwJ4maA7IIO2/f/mkrfuoDsA0jsSlpPoEwDqLtMdvdArAED/UMvRBwT82MmHk8wTzv/Bgm28GXtU/our5J/d5AUDL7t53uEfmv2yEwx71TtE/lc81D93XDsCNk8pvvZDwv6PT4LsA3jPARkhzbHuABcDOsQkAzw/0vx31e151HQHAfCU3wfmh3T9padGIFwDzv9atlhVeCB3ARmA539kT+T9ouizg+MWzv1n9fEse6vO/0F9rWcfo4b8cpCUQ4ewWQJQNhidM9uw//CM00Mto4z/igU2MOW7cv3Z3vqh/SOm/nqw6fDjbBMCDTJIimv4BwC/kU5+67em/C9iuGI6BHMD14dqWfU/yv8ixfM/jJhVAWJCq9Dna+r979JtYlpQAwE6zTBZI1ta/pujMTzdU2r8Sl0HZdxoaQFJQ92KBWPS/ke0A9CyjGcBYvOIrM1DxvyDHOaN7tgTAhe/ZrK5vEcB2+BvmOlbnv3TlCKIEO92/tG8Yaqy9JEAIiQX6AufJv3VeWVStOATAgJjXp3rl4b9SphhuvRb8P+CcXhBwuqM/mrGlkUsc8r+YaUfGLcEGwJp1zcwABQnAS+VZ1R4Y+79ADldoOaS0P3BTHBxDWOu/F8x3ggkhC8AjP+lx/iPhv260yByAZBPAXiQduaRR4T8MWjqDo4ACwIlgdJ1o+u6/e9lwAYmSFcDFYbPwSEDvv4wAonpB/VHAw8LUmFhBBkAQWqQBw0oAwLnVRaLoje2/ra1p30Q3+78gSWo3iyc0wPjlSgueq+M/TF3FSg/D87+E20BnF+bxv+GeTfX7dDbAAcQojn4n7L9gZH4AFy6fv8qD0Ge8jxPA0CIfWOA+3r9YmjoJv1LgP5siGrA4f/W/bNRV4aSpDUBst0sbNQz2v8Hv2T0vsQDACIeV+cRT6b9Z7FUMWOI2wAtv5R0qwQFAqQime7Ip8L9+/H7dpEQRwJrvlNF0Gg/A+mTg+8tlIcBQgFg2d/Hwv7YZlSO4pxPAhimwriiaBcCgTtW+nOnCP/4mbRosU+a/o0UxCa9jCsDOoyrBavHmv0vKtYozsB3ACHQRmnGlyr+ZseQ9roz6vwi8xjPyDNU/D0FOp2J/9L+zlK30Gez7v1V65jX5lee/VyKdQpfrNUDwYMrxSym+PzNPWFPiquu/yg4224I/07+sCl737hz4Pwji1roFxtK/kKqrqoyPDEA/D63Xr1/wv1eDb7Yryz7AaH4WmxKSwD/6l+Nz4B/wvzQKRw0sKlVA0KcNhr8cuz+kDkClEgzyv2p/yj+6W0DAVl3eEnAZ/b8s6UCe6Dj9vzyBTJMG7NQ/jic9RTFx+L+guyIW/ofpP4AXCC21bYs/B1CKKILj9b+LT6ZlTsv6v6SY9Bsc4NC/trfP4kZ80r/aXSgvUl32v0pp5ydeOx/AbJFW7Ovb478kb0VFc0MMwMpsWWjh//O/kv2t5+gMIcDIEeDiINrKv+1L8CpLk/y/QH2hsUunlr8OgP7K0xbzv6VCCWDyig7AnKBWqD39AkDIgxRQmze5v8qhSeV/J/W/5UBkLNwK+r+wzwFFZEbrP3UWR67wjAXAPpPShrCp979xqP8tRy4BwPb/pjP9if+/zMCltbIv0b9qyZSmpvQBwILiO/N9zfC/KV+z+0GJKsDUxteNV6EHwHZp3KBjtPi/EH5C16fPJcBtE9jmUyvuv20La2HumgJACFKQXl45AMBnUgxpYaYAwBY3hDav8dC/RMP23qqxCcC45Y9LQinQv7/G6Y2rhwHAtznwYX2j6L/mIbr/jmDgv8CthZUyHyDAU+dq8Uv86b9gamaEvECgPzTiQFMY+Pa/Xaa+uZ/bGUBm77VWrLTtv3xIyYlvON8/PRCfOb+TFcCeYAhFtYn7vyMOzlhSzBfAirXIRfhG5r9nfyyzSmcdwJjk3NbW1eS/qKB2zgwQub/Yq7Qag3/MP6SvKzFZdMS/S9KjX1D197/ijZHUMfDzP1TACtZ/LOM/Zbj7m9L86b9eZGp8Cgb4P7TPpopF4O2/HdWzY9ipRsDJTxBDrSb7v0JJrGH+Z9m/dt6UC6hjAsAxZwNifhsAwA+CS9ItsgDAZPVLCq2Rw7/LcwShim/+v0RUKMKtXMS/Ybg/+fpk778IjYt+inxXwIJyzqcEPN+/0Is82XS9AcB8t8A8miIFQI2FsgCHlPC/ds0W4lRuGkBAhDZ6IaurP1Vz7H7eXeS/nGcGJdqVBMCSUxF1gVsJwPrRCapd6/W/MFCLG2IVsz+mVP8E/ELyv3JIkO6KYNK/QJS0d3VIFcCWKGFrVvYiQFw/Lj3Vs+u/X0QgD1bZBUBwU6eWYG8PwAb+Yfz4SfK/Iqrj4KU7EMCm56UozSPsv0ksrq+HiARAN0SE4PeDAUAKqzqcvpPwvxizhgzeCyNA2jjDhrzZ4r8W/UyABOLiPz6THzD3fuk/IvpBYqLWAMA+s76TGUj+vzzr/42FZPO/7JFLqxP6HEC8n/gT1M8KwD2eIX1skOu/Sp/tGkBSDcCAaXk7rv6OPwW30Jk8yO6/UkCkPxHMHUDZ+4aTCCMmwM0Oo+mswOu/1JfsLWvBEMCkVryFvVvav9CV6LAnt8u/7KyZjVlyBEAdTHJKbFnwvzTEcMoJuB1A+usbPHfa6r9O/jHPD0gCwF7F4M+CFhpAnEQEmIUW87/Vin56ItkawJL9Lj0GRvW/IFpI4BLVyT+Zn0MX5i0LwJCzzRF9OeW/dOwtfNl50z96NhPWjqHyP8ipDuABCA7A73IAEgDe9b/ejwK+ewjdv3XDvioy+f2/gJTB4C5+A8CAjvILGYnLP4xReSzw8dy/8AzF/YDGpr/CfC1vG/X0v9rTudVNJ/A/kJ+zNNaI0D862m4aotrZv+sCYfKXY/2/Cre7v7QrHcBVotlhl3vuvxszPfYCzi7AmtwUR7P+0r+2y/o4Vaj8v1CRvOrAG/W/gB69dFFtAsBuajKiXK8TwOxrMxSz5gTAwE/SB14MoD/4C3CWvjr2v+YYyAvW/em/UTE5IWA+JEAZo8yQ4DT1v/nQ1SUfeBrALAeVitqD8L8ia8Qjf+YUQD77/xJnTOA/GMBQvPJw5j/qNNQ4CcrTv8SlxCUVLP+/lsctUdB2+L+Ot1yoiJX/P3r2JjcQbgLAmN9/LTi2xb9IS02Ghkz9v7IsjrL1bPy/qKttrSblAMAk0RIuepYRwLzTi0xmcdO/r8QEVviU8b/dC7GIvDEQQGeioSwzu/i/roB6rJ0lEMBAjJpgWALgv8RH9G6V7gPAXqXlAbXj/r8oseCksbDIv9IjS8rvFPy/hDH/GgWU+z+uyde70Pf9v1+5JqwyKeu/EBMlfl0TEcAhirCMFfzgv1X1NCTEUvK/0F4QuMty8D+sdk4J8cYTQFn823CdBwBADWSLIhRJ5r/s9QbtipDzv/MXUUT+hTDAtFeGliGqyr9o73ZUXjzzvw0zOebwtw/A9oEe/PQD+T/MZ3Ig+jf7v2AJwnKit7M/sbHVzPEw7L8ciIvpqMQpQKj5iDnWls+/EjeZUPEC/L/4EI2hkizqP/zKpv+tmgXAklVNe85j5r/Mnz1rP+zrv9KoIP/iGhTAWdnxQ04IDsAsl/70tmfiv7VkTdDFGQ/AY5EakrjC9b9H8p25bhQDQGLJBEfa3eK/ir9WMbkxBsA2EcWFP73tv+bNEa81OCfAoZQQz4ug878FUOeaZ70FwLFRP88qaf6//B0oR6MPB0BmdJtpTcb1vyshwHe+UQPADa9enkK69b8qWQyECWT3v/i4R7AiIQLAVF+ZHxdd/L8c+y5BPuL3v0EgNnsTGSzAfL5po8SE+7/++wBduDfyv3x7ySdP0fy/8cTELiK1EkB0Ob4QIVnyv3PLu5dljjXAyxZSkNiM9b+pIqLlLuwMwLZA5foKPeY/xO5NrcIO9b9H1UYtVQ7tv8YOfTDzQCHAfHUMlss3/D9wJwuyDS/kvzhBleN2WP6/jzeTIuUu779OdfsGUkZwQN2Kl5ShfvG/ygU48ygrIMDqdvyJ/K/mv+57oSvn1+s/DPKKUe/F5b+Wc1qx6kASwHrtVpIOhfG/4shTW29v/7+k/HUYqwsewPz25RhLERDA4smkwVcD+L/sUJ6/TAUFwCauPYAcwPO/8nLJFvkX0r80DvyBEST8v1z5+MkzS+I/SouJ2EJpBkD2IfOQRYrdv09upF9BHu2/AcTJi4HMG8B6S+7d8Pnyv/Yz3wgTRiRARuit6B8pAMAIr/yTBbG0v6Dbbic4zui/+rSbtXaaEsDgufX6olv4v14NvhrOsvK/vYKOw68SEsAyXMzeE0oEwHHIz+RjthvAPwcBEnwR5r9GdtOIhS7gv8DlfMOGAcg/Zhz/Wriv5j9D2yLQRMnrv1AhENQRZAjASvuVzlgcBsBmXqtV0wr3v0ygC2pNRB1AGOLxFtwq7L+G9QCaoAHpv8FviXIeETjAtJfFb9Jcx784tOSeDBrHP350rcvZDPm/NrPKZEPi4b8qS9fMOGX3v6JiHJEzdjnA1oX4I1Vr0b+qssNkdP/Wv5xzsw60/vC/djNVrkx7CEAgdefhkjz+P04JE6eIauE/+3GIh0/A57+oqXWlRhsDQBz6I3AD6d0/UGWYRv9iwT+0dxn/vc3zv7BwL+hifgZAUC81T4kt2j/JuaMeLyH2vyY7r5B+BO2/OXRJO13SKMAyOqUlIKDwv07yTlUUak9ALF97wgSU/r/QmnnnNP35v+DestEjiqk//ZPP67Ul/L/GjsiB8b0MwJf6RWHo9+i/30LOZJUQ878RSrY+qzk6wPwJXNRcK/q/9BVMxAbe679mygsRLrshwCRoeBRyBv+/0k5uUjSU9L9sqEwoG+8FQN3l5JcdtO6/YzSd4v+rMEBAXs5pnNn3v7ZwMPQIhAHAt7xvjGkO47+Ddm5CDRYAQA4u3Znl2uG/+MktsU/9xT/EF6ti/Iv8v46ShHcDuui/DK5NGI6kQsCmhO7OU9zqvz3IStEkqxjAil5AI87D8r90f63siZQAwKhgVy3ubQZAFNoSEWeBA8Bwt3BcqHP4v7Qb6XsBafQ/wr9+crZn4L/yEEIr2OfRv3i8SCjQu/+/UO4h6GSA1D+fEVqI1qEEwDiqhkXjJeu/AOkJqXQ51D/DYuhXrE4MwKoYzmr6B/y/OgnGFrjQ8j8gyHLhHVHZvz8JCVjOcwVA8EFOQHyQ8b+A/ri+ZEgUwBR8g42Ie++/zO2fMyB+UcBo6SUTjtq/vwpj5ubxvvS/8iVEf1p14L80epJU9qIJwFjdZjnfVPu/gY3dvjK5778W/BwSUhtrQEse/Yb/bATANGk/EIgf4b84+ScTqXjqv862M6HM5TRAuKf7zXCB4r8cD3U9C6MDwKezf6ShD/O/dHGZCaFb1L9nSi5LiYwgQPZBzuEZ+uC/WHhVMrhm+78GThxBBJ0BwNMyD8/Pouy/Nt/2CdXIIUApXvGEE5/wvwelR6E/A0pA5sy5J6xwAcCYZS2tIyy9vxA8LZQKHcE/oFHZSc1vuz8M7wfOvr37v+DnpPnUfvG/zqe3reh7JkDUiukKvu7gvyRmLXVZIei/IPNFcuToCUDQ7ArIQD3lP1mODlQtJvm/riGdBqf32r9GTH2ySrXZv3tbmgs4OxJArGA7yR9UCMC8W8Wc7Bvwvyq3ahNtR0BA66O4DAbX87/sqmmyZs8YwE/w/01PFQfAAzpCEjcu878KbzchFdwfwNqJFf8uAgLAFFrtZ7jh1D+GpejQ+VngvwOnhPF5fOy/lxGiHnBYJ8Aws6hsYPv8v9lXa7Cwdfi/DhyOfj+ABcDCimJuWrnqv9Q9eVxfORTAXDFM3Egr+b+hcEqCQN0MwHa5wA5Ns9u/TL3yjwM84b+xBAsDGWIBwMJgZdLxOgDAsptC28Mt7D+/0ZkK0p4SwIQdILQN3uu/XaG7NYcq779SOhnFmxdaQPzpkQ9tD9O/kHCD9Tfnq7/p4/XQ0aHzv/hrPW+oihxAOxqPAOcL/L9imPS4NBbTv8iCD/gICATAtvmWsg604b8n8DYazan1v8uIrrITTxXATF2YG6Yr6j8w4Z3rklyuv1qSkYag3Ne/gg/vS9ux47/45zWzDe4ewLC1InIK3uo/ByLZ4qoy678X7jXrJCYWQPSvMWSTZ/m/LW+jgMc3AsCi1Ahhv2L4v4jtLt/I5N+/AHnRhMmmAsCEXjuWn8XIv5y6+oKeDNA/cXELy41w8L/Tr5N8VOxSwACOCXrZgq+//BB4MzQf2T//qOLSHTLpv5qOHkWM0AzAkLm2nK2YwT9YtfqDgAT5vx9NoZcQyfK/dKJjp7JkLEDW4E7K+GPjv8Yzyb2RNum/c5EuJpcEJMA0PRhY/g/cv2ocaSHqBhPApqIJNPsT8r9mKvEHRZH8P7dPPfN0CgDAfjC1m+4N47+0F65Wq6b7v81qPbvfygzA6Ew2kmaWAsAG5HswW/H5v0cs9TNB1wjABB9kRpda9L98/bmP42cMQLUDLEuDrvO/gvN+g05WDkCadtP48obxv8qOBPI+ViBAxiOwGXkp8r901KlNTkwCwI/F+aTlAAbA9sVxn3zx3b9OddKDy1v7v8AR/Gksd5s/ELjLstyZCUBHS8uv+eP2vxQO5Zxkt/m/JEkfnV41EsBqPqB84ZcEwEeQl6otA+u/7b3cB1v4FcACAOWj8ETxv1d3Bc5c5QvA+YQ+OBQAA8BgCafAZlryv0OmKOma0SlAxv4AHPHo97/uY4o+YWzyP1z+gG16r+Y/Psmey1a34D/rngfIS1vwv0pgO31MoCfAMtdK04pF/z+ge+uLpZiav1qtgK2l1eK/Uwsr2zrFFcAWvK11gRrzv3Ud3gUA3gdAvCuwiLdp379OV8SahrwWwAVOb5ozGvO/yEtdxWs9GsCcMza/vwjsv+ih2kf5r+M/JLOG/SJyy7+65lrKWHwCwNsTudtV9fq/gxp+mjKw7b9jTOah7LcpwBjSX1XB4MA/glwp9VRLGcBEAUpX+brdvwKcnZ7T4Pa/2YgdebG9778Edw/DzfFUQPB8JD2ceNc/zvKwpGr9BMDxJDXHwMzqv3oIBUoR+fW/TOckSGgSM8CQdbvR2zf4v6CHKmllxAtAkqbem+wd1r/sJYU9HzjzvwbswvycdvE/nFLeaeGYy7+/VoGHrgQNwCTcapRpCOi/ILPSHRfe8z/WEAlzswXyP8XcJEmRtvG/FvEaJYJUHkB6WQ/FiH0JwEAV3ilJ1uO/1EeHSOxnD8ANGuwbvobvv99QOGj8LEfASkazknaD9r9LZvMKneMBQEpAT/JS49e/PCBem7cf07+fi8ediPzxv5g3OfK+yMk/CsQc47SiGMDaYxI3RsgCwB/jmd+aDAHA9ZdEtwR44r++YCNQawHwP3AubI/ZGsK/CDvlZRtf8L+IaPs3BZ87QL75Ktdgcdi/sAxDqsVv0z9wDBKVtL75v2vO9s/1+gNAhBHRAlqV4z/LTiFGg6/tv4TY4y8s+yBAi/QiAl6C9L8YBmz9J/e3v4k+iqIxMxXAHXn9i2BO7r/6txS2re/4P+6Ero5I7AHA1tJhLn7N8D+QAILi+cr/PxgUZGFb4/W/xg3rEWSsAcDUcoHwBYgSwG1HV5Qx+/K/qSAj0nY4+L++OIAFfX4AwGK6T3v4+uq/UJ6SkR7M0L++tmYdys08wLgpefLQqgDAXDizpg1/+L9A6uPAmWevP2nPeayzOhTAKLYNE9iM/r8NeGzks53yv4hHyXgy99y/c45RxWzG9b8Amn2cd4QmQGB1pWDcEQHAMBVMTwUzvD+gJS3rUam0v6IU33trJOo/MNANecSz97+MrF7Nm/TYP0LzK+RqGPu/gdN9/hZm7L8c3e/PJkQmwDkfROofUARAthR8QtRM7L+A3vcz4RvsP9oIbrISRPS/49RNuTVK8b/vAYoxIBtOwAdC+z4icOm/Nqsf3TINMMC7CmCqqEr1v2ZRrnIoufi/GBv8JKw2A8AYtK2QiAvDP06Dv47O5PS/tn4NCLyFCsDWT3Dnf+Thv0X1U48cSgHAkkNlCOUCE8BgWoQ1ef7kv5ZDZYKtDvs/al7/yDgH8j8N8r1hss30vzoS6stmxgfAHHkiFjbl3L83G4xLgTQNwLy5pPCppcS//28KsJMw8b/tTtfz1NUbQLP2yZOZUPK/qWAD+w1/478AukrO/+NDQO8jcfhPz+K/mTMBWF238r+W/BZWPJMXQG0Y4blr9OC/6l8hCpcuCUBlcBxzPcL3vxgsd5e+I/K/9FVMNhRgDMBkKHBfjGPmPwrO0xR4MQRAjFifqez/+b9SGtjCZx3yvz9U0/81XgDA1IBIycoeFUAkDNahxmnbv6CXR60zUbU/N4nxZp76BMCyL5O/PDfzv/OmgrEGfybALKnIEQGz2b8hWGhd4JD2vyCif1lL4/E/s21PSK2Z9b+6yvbpJtvnP7BVBLxfxLc/kjmIRAAD679UwL59zDwnwNLB0Bbp8fW/wolb9Hg5G0C02uyX9AzKv3LcBV2Wpfa/C9vaVFYrDcCJrOmchwrrv0YX7Pekx96/j2FsHZg6AUDka/wijvHwvycN1xbS0yZAbI0TaPNG/L9kMTLKVJf0v/wsoH5UX/S/6WHSonlmOcAoPF1KQXnDP/SWoIvANfk/5bB2vjw757+OgpIG3C4FwIS0f62DmQRAzDbhMpOf+r+Oyg9i474HwIR86oUOTe+/s5sZjd+KIsDyd7Wm87P2P9bTKJwMC/G/QFZv5S1CDcDjKIvnsskkQI9wUD1qm/q/oeHXwWHH8L87ikCH/nk3QPzzVY8jI/a/FNTMMTnjBkAENszFfO/RP8FuZmDZ7Ou/2nV7YzNY9z9SVWDQLOvyv6XNxY+y4wrA/leX7btA6b+4CKq/wQIiQCAT3qGjt7m/u48g1BWlAMAwX3n8WzX2v1DQaC52Vy9Af63Br27a77/YqCTwmMEkwE5cwNh7Zey/A/6IAodYT8Afx4wQSkb1vxCDHyJqt/u/Cmd+N5jPEcCCs0YnG+3uv9dZhUw7CErAYEnvZRlj979oGQTsviX3v7rRVgY1G+q/sy1cYSu/IsAznLnho5L4v17O0UGvgxXAohIlHd7C3r/B+rla0+fzv/p6bKuthRzAnD7HU4WB2b+uBmA163Dzvy/QzILgTg3A/JOstEhC9T9CS4j263H5Pwb+oxwxIdS/Bt6Zb5b06L94vPkd8xsbwNmFCUVuyu2/z/yyFTasIEBdD1xjAjvhv1Zp4i2nwBlAnm5TxQ9P5r+Y1MO+SvLDP3xnZ3Ku38S/xuR+52wG0b8K6le8Ql7vv0Uv1Sin4ipAYj18va8/BcBAShCLqYu6P+0E6sDsC/G/Y7iCGERrE8A0gL2PXbbZvwEBBX7RehFAjifkWb3U/r+KOTyRnw/0P4jvd68MnvS/82kx8Ek78r+pcnIaxnw4wNi08pmZifm/8KNoJhd2uL+R/hQB4mH0vy9g7OZ4egnA6r22kvKK/T9deQYBRbDnv7pA7y9dIQPArsB//bS+9b/tYTgwfp0SwNT05AaTP9S/joM2MYbD9r+ehIk5SFruv1pN5yTlC0NAmREJJEcs+b/mTuc09bYCwNSw6MSgD/C/Qd+dr9XGN0Dbia4aQeAuwM7umddb2AhAvh1QfkO63r86bSwWGWbov+goNrSy0P4/sYHbmLw187/q2UA86uUIQLLyG4cXLwPA3VIV1phS97+wuzuZjIjFvyqfZ9tOOBbAkFR4i+yv778tkeYggiFPQMpPVGmvigTAIPpfwqY24j/mK8Wd2+byvwwp9HEWf+g/0gmdeDnc+b8KYVq5UmEKQN6BuY9zD/C/YGtZ9hztUUCooqEEPp7jv9X6zpq/bRJAvA6G4Q1A4T9IRd1QeG3HP4zDbxzjZfG/0oREuuzNJMCirxOHhjDhv5gHbohqI/6/wBjHTOP4sz+1E8oOWMH2v4JOSYP8nvc/8COa/GCNAUApEfkXa5/1v2H3tDErdva/l3My0x/oEMDQt6B3ZTfLv/TMZ6T6TuM/HI5h5Eju3j+IcxgNdCzuv0gvDVnMNAHAC2VlPoBhGUDamzCenfLov7TSlbZqHti/0rBgTg7yCkAihgCEE+fnP7oncmRXC/m/cRF0oWaC8L8=\",\"dtype\":\"float64\",\"shape\":[1234]}},\"selected\":{\"id\":\"3022\"},\"selection_policy\":{\"id\":\"3074\"}},\"id\":\"3021\",\"type\":\"ColumnDataSource\"},{\"attributes\":{\"months\":[0,4,8]},\"id\":\"3043\",\"type\":\"MonthsTicker\"},{\"attributes\":{\"line_alpha\":0.2,\"line_color\":\"#ff7e0e\",\"line_width\":2,\"x\":{\"field\":\"Date\"},\"y\":{\"field\":\"value\"}},\"id\":\"3054\",\"type\":\"Line\"},{\"attributes\":{\"label\":{\"value\":\"Algo_1\"},\"renderers\":[{\"id\":\"3027\"}]},\"id\":\"3048\",\"type\":\"LegendItem\"},{\"attributes\":{\"data_source\":{\"id\":\"3021\"},\"glyph\":{\"id\":\"3024\"},\"hover_glyph\":null,\"muted_glyph\":{\"id\":\"3026\"},\"nonselection_glyph\":{\"id\":\"3025\"},\"selection_glyph\":null,\"view\":{\"id\":\"3028\"}},\"id\":\"3027\",\"type\":\"GlyphRenderer\"},{\"attributes\":{},\"id\":\"3019\",\"type\":\"BasicTickFormatter\"},{\"attributes\":{\"label\":{\"value\":\"Algo_2\"},\"renderers\":[{\"id\":\"3055\"}]},\"id\":\"3077\",\"type\":\"LegendItem\"},{\"attributes\":{\"line_alpha\":0.2,\"line_color\":\"#1f77b3\",\"line_width\":2,\"x\":{\"field\":\"Date\"},\"y\":{\"field\":\"value\"}},\"id\":\"3026\",\"type\":\"Line\"},{\"attributes\":{\"line_color\":\"#1f77b3\",\"line_width\":2,\"x\":{\"field\":\"Date\"},\"y\":{\"field\":\"value\"}},\"id\":\"3024\",\"type\":\"Line\"},{\"attributes\":{},\"id\":\"3074\",\"type\":\"UnionRenderers\"},{\"attributes\":{\"end\":23697.718011610556,\"reset_end\":23697.718011610556,\"reset_start\":-9464.340525957392,\"start\":-9464.340525957392,\"tags\":[[[\"value\",\"value\",null]]]},\"id\":\"2984\",\"type\":\"Range1d\"},{\"attributes\":{\"children\":[{\"id\":\"2982\"},{\"id\":\"2987\"},{\"id\":\"3254\"}],\"margin\":[0,0,0,0],\"name\":\"Row03803\",\"tags\":[\"embedded\"]},\"id\":\"2981\",\"type\":\"Row\"},{\"attributes\":{},\"id\":\"3022\",\"type\":\"Selection\"},{\"attributes\":{\"bottom_units\":\"screen\",\"fill_alpha\":0.5,\"fill_color\":\"lightgrey\",\"left_units\":\"screen\",\"level\":\"overlay\",\"line_alpha\":1.0,\"line_color\":\"black\",\"line_dash\":[4,4],\"line_width\":2,\"render_mode\":\"css\",\"right_units\":\"screen\",\"top_units\":\"screen\"},\"id\":\"3009\",\"type\":\"BoxAnnotation\"},{\"attributes\":{\"callback\":null,\"formatters\":{\"@{Date}\":\"datetime\"},\"renderers\":[{\"id\":\"3027\"},{\"id\":\"3055\"}],\"tags\":[\"hv_created\"],\"tooltips\":[[\"Variable\",\"@{Variable}\"],[\"Date\",\"@{Date}{%F %T}\"],[\"value\",\"@{value}\"]]},\"id\":\"2985\",\"type\":\"HoverTool\"},{\"attributes\":{\"margin\":[5,5,5,5],\"name\":\"HSpacer03808\",\"sizing_mode\":\"stretch_width\"},\"id\":\"3254\",\"type\":\"Spacer\"},{\"attributes\":{\"text\":\"Daily Returns, In-House Trading Algorithm\",\"text_color\":{\"value\":\"black\"},\"text_font_size\":{\"value\":\"12pt\"}},\"id\":\"2988\",\"type\":\"Title\"},{\"attributes\":{\"num_minor_ticks\":5,\"tickers\":[{\"id\":\"3034\"},{\"id\":\"3035\"},{\"id\":\"3036\"},{\"id\":\"3037\"},{\"id\":\"3038\"},{\"id\":\"3039\"},{\"id\":\"3040\"},{\"id\":\"3041\"},{\"id\":\"3042\"},{\"id\":\"3043\"},{\"id\":\"3044\"},{\"id\":\"3045\"}]},\"id\":\"2997\",\"type\":\"DatetimeTicker\"}],\"root_ids\":[\"2981\"]},\"title\":\"Bokeh Application\",\"version\":\"2.0.2\"}};\n",
       "  var render_items = [{\"docid\":\"bfc4b368-670e-4a8b-9e49-1322ad9ed85f\",\"root_ids\":[\"2981\"],\"roots\":{\"2981\":\"a0bba885-f98c-4aca-acfc-175208af4011\"}}];\n",
       "  root.Bokeh.embed.embed_items_notebook(docs_json, render_items);\n",
       "  }\n",
       "if (root.Bokeh !== undefined) {\n",
       "    embed_document(root);\n",
       "  } else {\n",
       "    var attempts = 0;\n",
       "    var timer = setInterval(function(root) {\n",
       "      if (root.Bokeh !== undefined) {\n",
       "        clearInterval(timer);\n",
       "        embed_document(root);\n",
       "      } else if (document.readyState == \"complete\") {\n",
       "        attempts++;\n",
       "        if (attempts > 100) {\n",
       "          clearInterval(timer);\n",
       "          console.log(\"Bokeh: ERROR: Unable to run BokehJS code because BokehJS library is missing\");\n",
       "        }\n",
       "      }\n",
       "    }, 10, root)\n",
       "  }\n",
       "})(window);</script>"
      ]
     },
     "metadata": {
      "application/vnd.holoviews_exec.v0+json": {
       "id": "2981"
      }
     },
     "execution_count": 246
    }
   ],
   "metadata": {}
  },
  {
   "cell_type": "code",
   "execution_count": 247,
   "source": [
    "# Plot daily returns of sp500:\r\n",
    "sp500_df_daily.plot(figsize=(15,5), title=\"Daily Returns, S&P 500 Index\")"
   ],
   "outputs": [
    {
     "output_type": "execute_result",
     "data": {
      "text/plain": [
       "<matplotlib.axes._subplots.AxesSubplot at 0x288a3708a00>"
      ]
     },
     "metadata": {},
     "execution_count": 247
    },
    {
     "output_type": "display_data",
     "data": {
      "text/plain": [
       "<Figure size 1080x360 with 1 Axes>"
      ],
      "image/png": "[encoded data removed]"
     },
     "metadata": {
      "needs_background": "light"
     }
    }
   ],
   "metadata": {}
  },
  {
   "cell_type": "code",
   "execution_count": 248,
   "source": [
    "# Calculate cumulative returns of all portfolios\r\n",
    "cumulative_ret = (1 + three_returns).cumprod() -1\r\n",
    "cumulative_ret"
   ],
   "outputs": [
    {
     "output_type": "execute_result",
     "data": {
      "text/plain": [
       "            SOROS_FUND_MGMT_LLC  PAULSON_&_CO_INC  TIGER_GLOBAL_MGMT_LLC  \\\n",
       "Date                                                                       \n",
       "2015-03-04            -2.762070         -1.650792               4.113646   \n",
       "2015-03-05            -4.173432         -1.818399              -5.751772   \n",
       "2015-03-06             5.246788         -0.282397              16.115278   \n",
       "2015-03-09            -1.460116         -1.848387             -12.790828   \n",
       "2015-03-10             7.109764          0.072323              23.376117   \n",
       "...                         ...               ...                    ...   \n",
       "2019-04-15                  NaN               NaN                    NaN   \n",
       "2019-04-16                  NaN               NaN                    NaN   \n",
       "2019-04-17                  NaN               NaN                    NaN   \n",
       "2019-04-18                  NaN               NaN                    NaN   \n",
       "2019-04-22                  NaN               NaN                    NaN   \n",
       "\n",
       "            BERKSHIRE_HATHAWAY_INC     Algo_1      Algo_2   S&P_500  \n",
       "Date                                                                 \n",
       "2015-03-04               -1.641381   3.422374   -3.544766 -0.001195  \n",
       "2015-03-05               -2.024002  -0.508246   -5.553173  0.013166  \n",
       "2015-03-06                0.994020   1.552226   11.070068  0.009185  \n",
       "2015-03-09               -0.748434   1.804686   -2.372559  0.026598  \n",
       "2015-03-10                0.482649  -0.283470   11.802080  0.028570  \n",
       "...                            ...        ...         ...       ...  \n",
       "2019-04-15                     NaN  36.629909 -392.015375 -0.240240  \n",
       "2019-04-16                     NaN  59.335457  246.988918 -0.238508  \n",
       "2019-04-17                     NaN  88.495205 -448.166220 -0.239709  \n",
       "2019-04-18                     NaN   4.107811 -106.133208 -0.240478  \n",
       "2019-04-22                     NaN  -6.877968 -166.561773 -0.247134  \n",
       "\n",
       "[1028 rows x 7 columns]"
      ],
      "text/html": [
       "<div>\n",
       "<style scoped>\n",
       "    .dataframe tbody tr th:only-of-type {\n",
       "        vertical-align: middle;\n",
       "    }\n",
       "\n",
       "    .dataframe tbody tr th {\n",
       "        vertical-align: top;\n",
       "    }\n",
       "\n",
       "    .dataframe thead th {\n",
       "        text-align: right;\n",
       "    }\n",
       "</style>\n",
       "<table border=\"1\" class=\"dataframe\">\n",
       "  <thead>\n",
       "    <tr style=\"text-align: right;\">\n",
       "      <th></th>\n",
       "      <th>SOROS_FUND_MGMT_LLC</th>\n",
       "      <th>PAULSON_&amp;_CO_INC</th>\n",
       "      <th>TIGER_GLOBAL_MGMT_LLC</th>\n",
       "      <th>BERKSHIRE_HATHAWAY_INC</th>\n",
       "      <th>Algo_1</th>\n",
       "      <th>Algo_2</th>\n",
       "      <th>S&amp;P_500</th>\n",
       "    </tr>\n",
       "    <tr>\n",
       "      <th>Date</th>\n",
       "      <th></th>\n",
       "      <th></th>\n",
       "      <th></th>\n",
       "      <th></th>\n",
       "      <th></th>\n",
       "      <th></th>\n",
       "      <th></th>\n",
       "    </tr>\n",
       "  </thead>\n",
       "  <tbody>\n",
       "    <tr>\n",
       "      <th>2015-03-04</th>\n",
       "      <td>-2.762070</td>\n",
       "      <td>-1.650792</td>\n",
       "      <td>4.113646</td>\n",
       "      <td>-1.641381</td>\n",
       "      <td>3.422374</td>\n",
       "      <td>-3.544766</td>\n",
       "      <td>-0.001195</td>\n",
       "    </tr>\n",
       "    <tr>\n",
       "      <th>2015-03-05</th>\n",
       "      <td>-4.173432</td>\n",
       "      <td>-1.818399</td>\n",
       "      <td>-5.751772</td>\n",
       "      <td>-2.024002</td>\n",
       "      <td>-0.508246</td>\n",
       "      <td>-5.553173</td>\n",
       "      <td>0.013166</td>\n",
       "    </tr>\n",
       "    <tr>\n",
       "      <th>2015-03-06</th>\n",
       "      <td>5.246788</td>\n",
       "      <td>-0.282397</td>\n",
       "      <td>16.115278</td>\n",
       "      <td>0.994020</td>\n",
       "      <td>1.552226</td>\n",
       "      <td>11.070068</td>\n",
       "      <td>0.009185</td>\n",
       "    </tr>\n",
       "    <tr>\n",
       "      <th>2015-03-09</th>\n",
       "      <td>-1.460116</td>\n",
       "      <td>-1.848387</td>\n",
       "      <td>-12.790828</td>\n",
       "      <td>-0.748434</td>\n",
       "      <td>1.804686</td>\n",
       "      <td>-2.372559</td>\n",
       "      <td>0.026598</td>\n",
       "    </tr>\n",
       "    <tr>\n",
       "      <th>2015-03-10</th>\n",
       "      <td>7.109764</td>\n",
       "      <td>0.072323</td>\n",
       "      <td>23.376117</td>\n",
       "      <td>0.482649</td>\n",
       "      <td>-0.283470</td>\n",
       "      <td>11.802080</td>\n",
       "      <td>0.028570</td>\n",
       "    </tr>\n",
       "    <tr>\n",
       "      <th>...</th>\n",
       "      <td>...</td>\n",
       "      <td>...</td>\n",
       "      <td>...</td>\n",
       "      <td>...</td>\n",
       "      <td>...</td>\n",
       "      <td>...</td>\n",
       "      <td>...</td>\n",
       "    </tr>\n",
       "    <tr>\n",
       "      <th>2019-04-15</th>\n",
       "      <td>NaN</td>\n",
       "      <td>NaN</td>\n",
       "      <td>NaN</td>\n",
       "      <td>NaN</td>\n",
       "      <td>36.629909</td>\n",
       "      <td>-392.015375</td>\n",
       "      <td>-0.240240</td>\n",
       "    </tr>\n",
       "    <tr>\n",
       "      <th>2019-04-16</th>\n",
       "      <td>NaN</td>\n",
       "      <td>NaN</td>\n",
       "      <td>NaN</td>\n",
       "      <td>NaN</td>\n",
       "      <td>59.335457</td>\n",
       "      <td>246.988918</td>\n",
       "      <td>-0.238508</td>\n",
       "    </tr>\n",
       "    <tr>\n",
       "      <th>2019-04-17</th>\n",
       "      <td>NaN</td>\n",
       "      <td>NaN</td>\n",
       "      <td>NaN</td>\n",
       "      <td>NaN</td>\n",
       "      <td>88.495205</td>\n",
       "      <td>-448.166220</td>\n",
       "      <td>-0.239709</td>\n",
       "    </tr>\n",
       "    <tr>\n",
       "      <th>2019-04-18</th>\n",
       "      <td>NaN</td>\n",
       "      <td>NaN</td>\n",
       "      <td>NaN</td>\n",
       "      <td>NaN</td>\n",
       "      <td>4.107811</td>\n",
       "      <td>-106.133208</td>\n",
       "      <td>-0.240478</td>\n",
       "    </tr>\n",
       "    <tr>\n",
       "      <th>2019-04-22</th>\n",
       "      <td>NaN</td>\n",
       "      <td>NaN</td>\n",
       "      <td>NaN</td>\n",
       "      <td>NaN</td>\n",
       "      <td>-6.877968</td>\n",
       "      <td>-166.561773</td>\n",
       "      <td>-0.247134</td>\n",
       "    </tr>\n",
       "  </tbody>\n",
       "</table>\n",
       "<p>1028 rows × 7 columns</p>\n",
       "</div>"
      ]
     },
     "metadata": {},
     "execution_count": 248
    }
   ],
   "metadata": {}
  },
  {
   "cell_type": "code",
   "execution_count": 249,
   "source": [
    "# Plot cumulative returns for all returns in the Whale and In-House Trading Portfolio:\r\n",
    "cumulative_ret.plot(figsize=(15,5), title=\"Cumulative Returns, Whale/In-House Portfolio\")"
   ],
   "outputs": [
    {
     "output_type": "execute_result",
     "data": {
      "text/plain": [
       "<matplotlib.axes._subplots.AxesSubplot at 0x288a3775400>"
      ]
     },
     "metadata": {},
     "execution_count": 249
    },
    {
     "output_type": "display_data",
     "data": {
      "text/plain": [
       "<Figure size 1080x360 with 1 Axes>"
      ],
      "image/png": "[encoded data removed]"
     },
     "metadata": {
      "needs_background": "light"
     }
    }
   ],
   "metadata": {}
  },
  {
   "cell_type": "code",
   "execution_count": 250,
   "source": [
    "sp500_cumulative = cumulative_ret.drop(columns=[\"SOROS_FUND_MGMT_LLC\", \"PAULSON_&_CO_INC\", \"TIGER_GLOBAL_MGMT_LLC\", \"BERKSHIRE_HATHAWAY_INC\", \"Algo_1\", \"Algo_2\"])"
   ],
   "outputs": [],
   "metadata": {}
  },
  {
   "cell_type": "code",
   "execution_count": 251,
   "source": [
    "# Plot cumulative return of sp500:\r\n",
    "sp500_cumulative.hvplot(figsize=(10,5), title=\"Cumulative Returns, S&P 500 Index\")"
   ],
   "outputs": [
    {
     "output_type": "display_data",
     "data": {},
     "metadata": {}
    },
    {
     "output_type": "execute_result",
     "data": {
      "application/vnd.holoviews_exec.v0+json": "",
      "text/plain": [
       ":Curve   [Date]   (S&P_500)"
      ],
      "text/html": [
       "<div id='3366'>\n",
       "\n",
       "\n",
       "\n",
       "\n",
       "\n",
       "  <div class=\"bk-root\" id=\"f92ef618-c1dd-461c-8455-db261c6b316d\" data-root-id=\"3366\"></div>\n",
       "</div>\n",
       "<script type=\"application/javascript\">(function(root) {\n",
       "  function embed_document(root) {\n",
       "  var docs_json = {\"ba48b2ed-f63e-4557-bfb0-01b1f2454fff\":{\"roots\":{\"references\":[{\"attributes\":{\"active_drag\":\"auto\",\"active_inspect\":\"auto\",\"active_multi\":null,\"active_scroll\":\"auto\",\"active_tap\":\"auto\",\"tools\":[{\"id\":\"3370\"},{\"id\":\"3388\"},{\"id\":\"3389\"},{\"id\":\"3390\"},{\"id\":\"3391\"},{\"id\":\"3392\"}]},\"id\":\"3394\",\"type\":\"Toolbar\"},{\"attributes\":{\"children\":[{\"id\":\"3367\"},{\"id\":\"3371\"},{\"id\":\"3433\"}],\"margin\":[0,0,0,0],\"name\":\"Row04225\",\"tags\":[\"embedded\"]},\"id\":\"3366\",\"type\":\"Row\"},{\"attributes\":{},\"id\":\"3378\",\"type\":\"LinearScale\"},{\"attributes\":{\"axis_label\":\"S&P_500\",\"bounds\":\"auto\",\"formatter\":{\"id\":\"3411\"},\"major_label_orientation\":\"horizontal\",\"ticker\":{\"id\":\"3385\"}},\"id\":\"3384\",\"type\":\"LinearAxis\"},{\"attributes\":{\"num_minor_ticks\":5,\"tickers\":[{\"id\":\"3418\"},{\"id\":\"3419\"},{\"id\":\"3420\"},{\"id\":\"3421\"},{\"id\":\"3422\"},{\"id\":\"3423\"},{\"id\":\"3424\"},{\"id\":\"3425\"},{\"id\":\"3426\"},{\"id\":\"3427\"},{\"id\":\"3428\"},{\"id\":\"3429\"}]},\"id\":\"3381\",\"type\":\"DatetimeTicker\"},{\"attributes\":{\"overlay\":{\"id\":\"3393\"}},\"id\":\"3391\",\"type\":\"BoxZoomTool\"},{\"attributes\":{},\"id\":\"3392\",\"type\":\"ResetTool\"},{\"attributes\":{},\"id\":\"3402\",\"type\":\"Selection\"},{\"attributes\":{\"text\":\"Cumulative Returns, S&P 500 Index\",\"text_color\":{\"value\":\"black\"},\"text_font_size\":{\"value\":\"12pt\"}},\"id\":\"3372\",\"type\":\"Title\"},{\"attributes\":{},\"id\":\"3409\",\"type\":\"DatetimeTickFormatter\"},{\"attributes\":{\"mantissas\":[1,2,5],\"max_interval\":500.0,\"num_minor_ticks\":0},\"id\":\"3418\",\"type\":\"AdaptiveTicker\"},{\"attributes\":{\"base\":60,\"mantissas\":[1,2,5,10,15,20,30],\"max_interval\":1800000.0,\"min_interval\":1000.0,\"num_minor_ticks\":0},\"id\":\"3419\",\"type\":\"AdaptiveTicker\"},{\"attributes\":{\"days\":[1,2,3,4,5,6,7,8,9,10,11,12,13,14,15,16,17,18,19,20,21,22,23,24,25,26,27,28,29,30,31]},\"id\":\"3421\",\"type\":\"DaysTicker\"},{\"attributes\":{\"line_alpha\":0.2,\"line_color\":\"#1f77b3\",\"line_width\":2,\"x\":{\"field\":\"Date\"},\"y\":{\"field\":\"S&P_500\"}},\"id\":\"3406\",\"type\":\"Line\"},{\"attributes\":{\"base\":24,\"mantissas\":[1,2,4,6,8,12],\"max_interval\":43200000.0,\"min_interval\":3600000.0,\"num_minor_ticks\":0},\"id\":\"3420\",\"type\":\"AdaptiveTicker\"},{\"attributes\":{\"source\":{\"id\":\"3401\"}},\"id\":\"3408\",\"type\":\"CDSView\"},{\"attributes\":{\"line_alpha\":0.1,\"line_color\":\"#1f77b3\",\"line_width\":2,\"x\":{\"field\":\"Date\"},\"y\":{\"field\":\"S&P_500\"}},\"id\":\"3405\",\"type\":\"Line\"},{\"attributes\":{\"axis\":{\"id\":\"3380\"},\"grid_line_color\":null,\"ticker\":null},\"id\":\"3383\",\"type\":\"Grid\"},{\"attributes\":{},\"id\":\"3411\",\"type\":\"BasicTickFormatter\"},{\"attributes\":{\"months\":[0,1,2,3,4,5,6,7,8,9,10,11]},\"id\":\"3425\",\"type\":\"MonthsTicker\"},{\"attributes\":{\"months\":[0,2,4,6,8,10]},\"id\":\"3426\",\"type\":\"MonthsTicker\"},{\"attributes\":{\"data_source\":{\"id\":\"3401\"},\"glyph\":{\"id\":\"3404\"},\"hover_glyph\":null,\"muted_glyph\":{\"id\":\"3406\"},\"nonselection_glyph\":{\"id\":\"3405\"},\"selection_glyph\":null,\"view\":{\"id\":\"3408\"}},\"id\":\"3407\",\"type\":\"GlyphRenderer\"},{\"attributes\":{\"days\":[1,4,7,10,13,16,19,22,25,28]},\"id\":\"3422\",\"type\":\"DaysTicker\"},{\"attributes\":{\"days\":[1,15]},\"id\":\"3424\",\"type\":\"DaysTicker\"},{\"attributes\":{\"margin\":[5,5,5,5],\"name\":\"HSpacer04229\",\"sizing_mode\":\"stretch_width\"},\"id\":\"3367\",\"type\":\"Spacer\"},{\"attributes\":{\"line_color\":\"#1f77b3\",\"line_width\":2,\"x\":{\"field\":\"Date\"},\"y\":{\"field\":\"S&P_500\"}},\"id\":\"3404\",\"type\":\"Line\"},{\"attributes\":{\"months\":[0,6]},\"id\":\"3428\",\"type\":\"MonthsTicker\"},{\"attributes\":{\"days\":[1,8,15,22]},\"id\":\"3423\",\"type\":\"DaysTicker\"},{\"attributes\":{},\"id\":\"3429\",\"type\":\"YearsTicker\"},{\"attributes\":{\"axis_label\":\"Date\",\"bounds\":\"auto\",\"formatter\":{\"id\":\"3409\"},\"major_label_orientation\":\"horizontal\",\"ticker\":{\"id\":\"3381\"}},\"id\":\"3380\",\"type\":\"DatetimeAxis\"},{\"attributes\":{\"end\":0.20992579231307298,\"reset_end\":0.20992579231307298,\"reset_start\":-0.28868465845648206,\"start\":-0.28868465845648206,\"tags\":[[[\"S&P_500\",\"S&P_500\",null]]]},\"id\":\"3369\",\"type\":\"Range1d\"},{\"attributes\":{\"months\":[0,4,8]},\"id\":\"3427\",\"type\":\"MonthsTicker\"},{\"attributes\":{\"bottom_units\":\"screen\",\"fill_alpha\":0.5,\"fill_color\":\"lightgrey\",\"left_units\":\"screen\",\"level\":\"overlay\",\"line_alpha\":1.0,\"line_color\":\"black\",\"line_dash\":[4,4],\"line_width\":2,\"render_mode\":\"css\",\"right_units\":\"screen\",\"top_units\":\"screen\"},\"id\":\"3393\",\"type\":\"BoxAnnotation\"},{\"attributes\":{},\"id\":\"3430\",\"type\":\"UnionRenderers\"},{\"attributes\":{\"below\":[{\"id\":\"3380\"}],\"center\":[{\"id\":\"3383\"},{\"id\":\"3387\"}],\"left\":[{\"id\":\"3384\"}],\"margin\":null,\"min_border_bottom\":10,\"min_border_left\":10,\"min_border_right\":10,\"min_border_top\":10,\"plot_height\":300,\"plot_width\":700,\"renderers\":[{\"id\":\"3407\"}],\"sizing_mode\":\"fixed\",\"title\":{\"id\":\"3372\"},\"toolbar\":{\"id\":\"3394\"},\"x_range\":{\"id\":\"3368\"},\"x_scale\":{\"id\":\"3376\"},\"y_range\":{\"id\":\"3369\"},\"y_scale\":{\"id\":\"3378\"}},\"id\":\"3371\",\"subtype\":\"Figure\",\"type\":\"Plot\"},{\"attributes\":{\"margin\":[5,5,5,5],\"name\":\"HSpacer04230\",\"sizing_mode\":\"stretch_width\"},\"id\":\"3433\",\"type\":\"Spacer\"},{\"attributes\":{},\"id\":\"3389\",\"type\":\"PanTool\"},{\"attributes\":{\"end\":1555891200000.0,\"reset_end\":1555891200000.0,\"reset_start\":1425427200000.0,\"start\":1425427200000.0,\"tags\":[[[\"Date\",\"Date\",null]]]},\"id\":\"3368\",\"type\":\"Range1d\"},{\"attributes\":{\"data\":{\"Date\":{\"__ndarray__\":\"AACATyG+dEIAAEC1c750QgAAABvGvnRCAABATL2/dEIAAACyD8B0QgAAwBdiwHRCAACAfbTAdEIAAEDjBsF0QgAAgBT+wXRCAABAelDCdEIAAADgosJ0QgAAwEX1wnRCAACAq0fDdEIAAMDcPsR0QgAAgEKRxHRCAABAqOPEdEIAAAAONsV0QgAAwHOIxXRCAAAApX/GdEIAAMAK0sZ0QgAAgHAkx3RCAABA1nbHdEIAAEBtwMh0QgAAANMSyXRCAADAOGXJdEIAAICet8l0QgAAQAQKynRCAACANQHLdEIAAECbU8t0QgAAAAGmy3RCAADAZvjLdEIAAIDMSsx0QgAAwP1BzXRCAACAY5TNdEIAAEDJ5s10QgAAAC85znRCAADAlIvOdEIAAADGgs90QgAAwCvVz3RCAACAkSfQdEIAAED3edB0QgAAAF3M0HRCAABAjsPRdEIAAAD0FdJ0QgAAwFlo0nRCAACAv7rSdEIAAEAlDdN0QgAAgFYE1HRCAABAvFbUdEIAAAAiqdR0QgAAgO1N1XRCAADAHkXWdEIAAICEl9Z0QgAAQOrp1nRCAAAAUDzXdEIAAMC1jtd0QgAAwEzY2HRCAACAsirZdEIAAEAYfdl0QgAAAH7P2XRCAABAr8badEIAAAAVGdt0QgAAwHpr23RCAACA4L3bdEIAAEBGENx0QgAAgHcH3XRCAABA3VnddEIAAABDrN10QgAAwKj+3XRCAACADlHedEIAAMA/SN90QgAAgKWa33RCAABAC+3fdEIAAABxP+B0QgAAwNaR4HRCAAAACInhdEIAAMBt2+F0QgAAgNMt4nRCAABAOYDidEIAAACf0uJ0QgAAQNDJ43RCAAAANhzkdEIAAMCbbuR0QgAAgAHB5HRCAACAmArmdEIAAED+XOZ0QgAAAGSv5nRCAADAyQHndEIAAIAvVOd0QgAAwGBL6HRCAACAxp3odEIAAEAs8Oh0QgAAAJJC6XRCAADA95TpdEIAAAApjOp0QgAAwI7e6nRCAACA9DDrdEIAAEBag+t0QgAAAMDV63RCAABA8czsdEIAAABXH+10QgAAwLxx7XRCAACAIsTtdEIAAECIFu50QgAAgLkN73RCAABAH2DvdEIAAACFsu90QgAAwOoE8HRCAACAUFfwdEIAAMCBTvF0QgAAgOeg8XRCAADAGJjydEIAAABKj/N0QgAAwK/h83RCAACAFTT0dEIAAEB7hvR0QgAAAOHY9HRCAABAEtD1dEIAAAB4IvZ0QgAAwN109nRCAACAQ8f2dEIAAECpGfd0QgAAgNoQ+HRCAABAQGP4dEIAAACmtfh0QgAAwAsI+XRCAACAcVr5dEIAAIAIpPp0QgAAQG72+nRCAAAA1Ej7dEIAAMA5m/t0QgAAAGuS/HRCAADA0OT8dEIAAIA2N/10QgAAQJyJ/XRCAAAAAtz9dEIAAEAz0/50QgAAAJkl/3RCAADA/nf/dEIAAIBkyv90QgAAQMocAHVCAACA+xMBdUIAAEBhZgF1QgAAAMe4AXVCAADALAsCdUIAAICSXQJ1QgAAwMNUA3VCAACAKacDdUIAAECP+QN1QgAAAPVLBHVCAADAWp4EdUIAAACMlQV1QgAAwPHnBXVCAACAVzoGdUIAAEC9jAZ1QgAAACPfBnVCAABAVNYHdUIAAAC6KAh1QgAAwB97CHVCAACAhc0IdUIAAEDrHwl1QgAAgBwXCnVCAABAgmkKdUIAAADouwp1QgAAwE0OC3VCAACAs2ALdUIAAMDkVwx1QgAAgEqqDHVCAABAsPwMdUIAAAAWTw11QgAAwHuhDXVCAAAArZgOdUIAAMAS6w51QgAAgHg9D3VCAABA3o8PdUIAAEB12RB1QgAAANsrEXVCAADAQH4RdUIAAICm0BF1QgAAQAwjEnVCAACAPRoTdUIAAECjbBN1QgAAAAm/E3VCAACA1GMUdUIAAMAFWxV1QgAAgGutFXVCAABA0f8VdUIAAAA3UhZ1QgAAwJykFnVCAAAAzpsXdUIAAMAz7hd1QgAAgJlAGHVCAABA/5IYdUIAAABl5Rh1QgAAQJbcGXVCAAAA/C4adUIAAMBhgRp1QgAAgMfTGnVCAABALSYbdUIAAIBeHRx1QgAAQMRvHHVCAAAAKsIcdUIAAMCPFB11QgAAwCZeHnVCAACAjLAedUIAAEDyAh91QgAAAFhVH3VCAAAA754gdUIAAMBU8SB1QgAAgLpDIXVCAABAIJYhdUIAAACG6CF1QgAAQLffInVCAAAAHTIjdUIAAMCChCN1QgAAgOjWI3VCAABATikkdUIAAEDlciV1QgAAAEvFJXVCAADAsBcmdUIAAIAWaiZ1QgAAwEdhJ3VCAACArbMndUIAAEATBih1QgAAAHlYKHVCAADA3qoodUIAAAAQoil1QgAAwHX0KXVCAACA20YqdUIAAEBBmSp1QgAAAKfrKnVCAABA2OIrdUIAAAA+NSx1QgAAwKOHLHVCAACACdosdUIAAEAGdi51QgAAAGzILnVCAADA0RovdUIAAIA3bS91QgAAwGhkMHVCAACAzrYwdUIAAEA0CTF1QgAAAJpbMXVCAADA/60xdUIAAAAxpTJ1QgAAwJb3MnVCAACA/EkzdUIAAEBinDN1QgAAAMjuM3VCAABA+eU0dUIAAABfODV1QgAAwMSKNXVCAACAKt01dUIAAECQLzZ1QgAAgMEmN3VCAABAJ3k3dUIAAACNyzd1QgAAwPIdOHVCAACAWHA4dUIAAMCJZzl1QgAAgO+5OXVCAABAVQw6dUIAAAC7Xjp1QgAAAFKoO3VCAADAt/o7dUIAAIAdTTx1QgAAQIOfPHVCAAAA6fE8dUIAAEAa6T11QgAAAIA7PnVCAADA5Y0+dUIAAIBL4D51QgAAQLEyP3VCAACA4ilAdUIAAEBIfEB1QgAAAK7OQHVCAADAEyFBdUIAAIB5c0F1QgAAwKpqQnVCAACAEL1CdUIAAEB2D0N1QgAAANxhQ3VCAADAQbRDdUIAAABzq0R1QgAAwNj9RHVCAACAPlBFdUIAAECkokV1QgAAAAr1RXVCAABAO+xGdUIAAAChPkd1QgAAwAaRR3VCAACAbONHdUIAAEDSNUh1QgAAgAMtSXVCAABAaX9JdUIAAADP0Ul1QgAAwDQkSnVCAACAmnZKdUIAAMDLbUt1QgAAgDHAS3VCAABAlxJMdUIAAAD9ZEx1QgAAwGK3THVCAAAAlK5NdUIAAMD5AE51QgAAgF9TTnVCAABAxaVOdUIAAAAr+E51QgAAAMJBUHVCAADAJ5RQdUIAAICN5lB1QgAAQPM4UXVCAACAJDBSdUIAAECKglJ1QgAAAPDUUnVCAADAVSdTdUIAAIC7eVN1QgAAwOxwVHVCAACAUsNUdUIAAEC4FVV1QgAAAB5oVXVCAADAg7pVdUIAAAC1sVZ1QgAAwBoEV3VCAACAgFZXdUIAAEDmqFd1QgAAAEz7V3VCAABAffJYdUIAAADjRFl1QgAAwEiXWXVCAACArulZdUIAAEAUPFp1QgAAQKuFW3VCAAAAEdhbdUIAAMB2Klx1QgAAgNx8XHVCAADADXRddUIAAIBzxl11QgAAQNkYXnVCAAAAP2tedUIAAMCkvV51QgAAANa0X3VCAADAOwdgdUIAAIChWWB1QgAAQAesYHVCAAAAbf5gdUIAAECe9WF1QgAAAARIYnVCAADAaZpidUIAAIDP7GJ1QgAAQDU/Y3VCAACAZjZkdUIAAEDMiGR1QgAAADLbZHVCAADAly1ldUIAAID9f2V1QgAAwC53ZnVCAACAlMlmdUIAAED6G2d1QgAAAPe3aHVCAADAXAppdUIAAIDCXGl1QgAAQCivaXVCAAAAjgFqdUIAAEC/+Gp1QgAAACVLa3VCAADAip1rdUIAAIDw72t1QgAAQFZCbHVCAACAhzltdUIAAEDti211QgAAAFPebXVCAADAuDBudUIAAIAeg251QgAAgLXMb3VCAABAGx9wdUIAAACBcXB1QgAAwObDcHVCAAAAGLtxdUIAAMB9DXJ1QgAAgONfcnVCAABASbJydUIAAACvBHN1QgAAQOD7c3VCAAAARk50dUIAAMCroHR1QgAAgBHzdHVCAABAd0V1dUIAAICoPHZ1QgAAQA6PdnVCAAAAdOF2dUIAAMDZM3d1QgAAgD+Gd3VCAADAcH14dUIAAIDWz3h1QgAAQDwieXVCAAAAonR5dUIAAMAHx3l1QgAAADm+enVCAADAnhB7dUIAAIAEY3t1QgAAQGq1e3VCAAAA0Ad8dUIAAEAB/3x1QgAAAGdRfXVCAADAzKN9dUIAAIAy9n11QgAAQJhIfnVCAACAyT9/dUIAAEAvkn91QgAAAJXkf3VCAADA+jaAdUIAAIBgiYB1QgAAwJGAgXVCAACA99KBdUIAAEBdJYJ1QgAAAMN3gnVCAADAKMqCdUIAAABawYN1QgAAwL8ThHVCAACAJWaEdUIAAEAiAoZ1QgAAAIhUhnVCAADA7aaGdUIAAIBT+YZ1QgAAQLlLh3VCAACA6kKIdUIAAEBQlYh1QgAAALbniHVCAACAgYyJdUIAAMCyg4p1QgAAgBjWinVCAABAfiiLdUIAAADkeot1QgAAwEnNi3VCAAAAe8SMdUIAAMDgFo11QgAAgEZpjXVCAABArLuNdUIAAAASDo51QgAAQEMFj3VCAAAAqVePdUIAAMAOqo91QgAAgHT8j3VCAABA2k6QdUIAAIALRpF1QgAAQHGYkXVCAAAA1+qRdUIAAMA8PZJ1QgAAgKKPknVCAACAOdmTdUIAAECfK5R1QgAAAAV+lHVCAADAatCUdUIAAMABGpZ1QgAAgGdslnVCAABAzb6WdUIAAAAzEZd1QgAAQGQImHVCAAAAylqYdUIAAMAvrZh1QgAAgJX/mHVCAABA+1GZdUIAAECSm5p1QgAAAPjtmnVCAADAXUCbdUIAAIDDkpt1QgAAwPSJnHVCAACAWtycdUIAAEDALp11QgAAACaBnXVCAADAi9OddUIAAAC9yp51QgAAwCIdn3VCAACAiG+fdUIAAEDuwZ91QgAAAFQUoHVCAABAhQuhdUIAAADrXaF1QgAAwFCwoXVCAACAtgKidUIAAEAcVaJ1QgAAQLOeo3VCAAAAGfGjdUIAAMB+Q6R1QgAAgOSVpHVCAACAe9+ldUIAAEDhMaZ1QgAAAEeEpnVCAADArNamdUIAAADezad1QgAAwEMgqHVCAACAqXKodUIAAEAPxah1QgAAAHUXqXVCAABApg6qdUIAAAAMYap1QgAAwHGzqnVCAACA1wWrdUIAAEA9WKt1QgAAgG5PrHVCAABA1KGsdUIAAAA69Kx1QgAAwJ9GrXVCAACABZmtdUIAAMA2kK51QgAAgJzirnVCAABAAjWvdUIAAABoh691QgAAwM3Zr3VCAAAA/9CwdUIAAMBkI7F1QgAAgMp1sXVCAABAMMixdUIAAACWGrJ1QgAAQMcRs3VCAAAALWSzdUIAAMCStrN1QgAAgPgItHVCAABAXlu0dUIAAICPUrV1QgAAQPWktXVCAAAAW/e1dUIAAMDASbZ1QgAAwFeTt3VCAACAveW3dUIAAEAjOLh1QgAAAImKuHVCAADA7ty4dUIAAAAg1Ll1QgAAwIUmunVCAACA63i6dUIAAEBRy7p1QgAAALcdu3VCAABA6BS8dUIAAABOZ7x1QgAAwLO5vHVCAACAGQy9dUIAAEB/Xr11QgAAgLBVvnVCAABAFqi+dUIAAAB8+r51QgAAwOFMv3VCAADAeJbAdUIAAIDe6MB1QgAAQEQ7wXVCAAAAqo3BdUIAAMAP4MF1QgAAAEHXwnVCAADApinDdUIAAIAMfMN1QgAAQHLOw3VCAAAA2CDEdUIAAABvasV1QgAAwNS8xXVCAACAOg/GdUIAAECgYcZ1QgAAgNFYx3VCAABAN6vHdUIAAACd/cd1QgAAwAJQyHVCAACAaKLIdUIAAMCZmcl1QgAAgP/ryXVCAABAZT7KdUIAAADLkMp1QgAAwDDjynVCAAAAYtrLdUIAAMDHLMx1QgAAgC1/zHVCAABAk9HMdUIAAAD5I811QgAAQCobznVCAAAAkG3OdUIAAMD1v851QgAAgFsSz3VCAABAwWTPdUIAAIDyW9B1QgAAAL4A0XVCAADAI1PRdUIAAICJpdF1QgAAwLqc0nVCAACAIO/SdUIAAECGQdN1QgAAAOyT03VCAADAUebTdUIAAACD3dR1QgAAwOgv1XVCAACAToLVdUIAAEC01NV1QgAAABon1nVCAABASx7XdUIAAACxcNd1QgAAwBbD13VCAACAfBXYdUIAAEDiZ9h1QgAAgBNf2XVCAABAebHZdUIAAADfA9p1QgAAwERW2nVCAACAqqjadUIAAMDbn9t1QgAAgEHy23VCAABAp0TcdUIAAAANl9x1QgAAAKTg3XVCAADACTPedUIAAIBvhd51QgAAQNXX3nVCAAAAOyrfdUIAAEBsIeB1QgAAANJz4HVCAADAN8bgdUIAAICdGOF1QgAAQANr4XVCAACANGLidUIAAECatOJ1QgAAAAAH43VCAADAZVnjdUIAAIDLq+N1QgAAgGL15HVCAABAyEfldUIAAAAumuV1QgAAwJPs5XVCAAAAxePmdUIAAMAqNud1QgAAgJCI53VCAABA9trndUIAAABcLeh1QgAAQI0k6XVCAAAA83bpdUIAAMBYyel1QgAAgL4b6nVCAABAJG7qdUIAAIBVZet1QgAAQLu363VCAAAAIQrsdUIAAMCGXOx1QgAAgOyu7HVCAADAHabtdUIAAICD+O11QgAAQOlK7nVCAAAAT53udUIAAMC07+51QgAAAObm73VCAADASznwdUIAAICxi/B1QgAAQBfe8HVCAAAAfTDxdUIAAECuJ/J1QgAAABR68nVCAADAeczydUIAAIDfHvN1QgAAQEVx83VCAACAdmj0dUIAAEDcuvR1QgAAAEIN9XVCAADAp1/1dUIAAIANsvV1QgAAwD6p9nVCAACApPv2dUIAAEAKTvd1QgAAAHCg93VCAADA1fL3dUIAAAAH6vh1QgAAwGw8+XVCAACA0o75dUIAAEA44fl1QgAAAJ4z+nVCAABAzyr7dUIAAAA1fft1QgAAwJrP+3VCAACAACL8dUIAAEBmdPx1QgAAgJdr/XVCAABA/b39dUIAAABjEP51QgAAgC61/nVCAADAX6z/dUIAAIDF/v91QgAAQCtRAHZCAAAAkaMAdkIAAMD29QB2QgAAACjtAXZCAADAjT8CdkIAAIDzkQJ2QgAAQFnkAnZCAAAAvzYDdkIAAEDwLQR2QgAAAFaABHZCAADAu9IEdkIAAIAhJQV2QgAAQId3BXZCAACAuG4GdkIAAEAewQZ2QgAAAIQTB3ZCAADA6WUHdkIAAIBPuAd2QgAAgOYBCXZCAABATFQJdkIAAACypgl2QgAAwBf5CXZCAADArkILdkIAAIAUlQt2QgAAQHrnC3ZCAAAA4DkMdkIAAEARMQ12QgAAAHeDDXZCAADA3NUNdkIAAIBCKA52QgAAQKh6DnZCAABAP8QPdkIAAAClFhB2QgAAwAppEHZCAACAcLsQdkIAAMChshF2QgAAgAcFEnZCAABAbVcSdkIAAADTqRJ2QgAAwDj8EnZCAAAAavMTdkIAAMDPRRR2QgAAgDWYFHZCAABAm+oUdkIAAAABPRV2QgAAQDI0FnZCAAAAmIYWdkIAAMD92BZ2QgAAgGMrF3ZCAABAyX0XdkIAAID6dBh2QgAAQGDHGHZCAAAAxhkZdkIAAMArbBl2QgAAgJG+GXZCAACAKAgbdkIAAECOWht2QgAAAPSsG3ZCAADAWf8bdkIAAACL9hx2QgAAwPBIHXZCAACAVpsddkIAAEC87R12QgAAACJAHnZCAABAUzcfdkIAAAC5iR92QgAAwB7cH3ZCAACAhC4gdkIAAEDqgCB2QgAAgBt4IXZCAABAgcohdkIAAADnHCJ2QgAAwExvInZCAACAssEidkIAAMDjuCN2QgAAgEkLJHZCAABAr10kdkIAAAAVsCR2QgAAwHoCJXZCAAAArPkldkIAAMARTCZ2QgAAgHeeJnZCAABA3fAmdkIAAEB0Oih2QgAAANqMKHZCAADAP98odkIAAIClMSl2QgAAQAuEKXZCAACAPHsqdkIAAECizSp2QgAAAAggK3ZCAADAbXIrdkIAAIDTxCt2QgAAwAS8LHZCAACAag4tdkIAAEDQYC12QgAAADazLXZCAADAmwUudkIAAADN/C52QgAAwDJPL3ZCAACAmKEvdkIAAED+8y92QgAAAGRGMHZCAABAlT0xdkIAAAD7jzF2QgAAwGDiMXZCAACAxjQydkIAAEAshzJ2QgAAgF1+M3ZCAABAw9AzdkIAAAApIzR2QgAAwI51NHZCAACA9Mc0dkIAAMAlvzV2QgAAgIsRNnZCAABA8WM2dkIAAABXtjZ2QgAAwLwIN3ZCAAAA7v83dkIAAMBTUjh2QgAAgLmkOHZCAABAH/c4dkIAAACFSTl2QgAAAByTOnZCAADAgeU6dkIAAIDnNzt2QgAAQE2KO3ZCAACAfoE8dkIAAEDk0zx2QgAAAEomPXZCAADAr3g9dkIAAIAVyz12QgAAwEbCPnZCAACArBQ/dkIAAEASZz92QgAAAHi5P3ZCAADA3QtAdkIAAAAPA0F2QgAAwHRVQXZCAACA2qdBdkIAAEBA+kF2QgAAAKZMQnZCAABA10NDdkIAAAA9lkN2QgAAwKLoQ3ZCAACACDtEdkIAAEBujUR2QgAAgJ+ERXZCAABABddFdkIAAMDQe0Z2QgAAgDbORnZCAADAZ8VHdkIAAIDNF0h2QgAAQDNqSHZCAAAAmbxIdkIAAMD+Dkl2QgAAADAGSnZCAADAlVhKdkIAAID7qkp2QgAAQGH9SnZCAAAAx09LdkIAAED4Rkx2QgAAAF6ZTHZCAADAw+tMdkIAAIApPk12QgAAQI+QTXZCAACAwIdOdkIAAEAm2k52QgAAAIwsT3ZCAADA8X5PdkIAAIBX0U92QgAAwIjIUHZCAACA7hpRdkIAAEBUbVF2QgAAALq/UXZCAADAHxJSdkIAAABRCVN2QgAAwLZbU3ZCAACAHK5TdkIAAECCAFR2QgAAAOhSVHZCAABAGUpVdkIAAAB/nFV2QgAAwOTuVXZCAACASkFWdkIAAECwk1Z2QgAAgOGKV3ZCAABAR91XdkIAAACtL1h2QgAAwBKCWHZCAACAeNRYdkIAAIAPHlp2QgAAQHVwWnZCAAAA28JadkIAAMBAFVt2QgAAAHIMXHZCAADA115cdkIAAIA9sVx2QgAAQKMDXXZCAAAACVZddkIAAEA6TV52QgAAAKCfXnZCAADABfJedkIAAIBrRF92QgAAQNGWX3ZCAACAAo5gdkIAAEBo4GB2QgAAAM4yYXZCAADAM4VhdkIAAICZ12F2QgAAwMrOYnZCAACAMCFjdkIAAECWc2N2QgAAAPzFY3ZCAADAYRhkdkIAAACTD2V2QgAAwPhhZXZCAACAXrRldkIAAEDEBmZ2QgAAACpZZnZCAABAW1BndkIAAADBomd2QgAAwCb1Z3ZCAACAjEdodkIAAEDymWh2QgAAgCORaXZCAABAieNpdkIAAADvNWp2QgAAwFSIanZCAACAutpqdkIAAMDr0Wt2QgAAgFEkbHZCAABAt3ZsdkIAAAAdyWx2QgAAwIIbbXZCAAAAtBJudkIAAMAZZW52QgAAgH+3bnZCAABA5QlvdkIAAABLXG92QgAAQHxTcHZCAAAA4qVwdkIAAMBH+HB2QgAAgK1KcXZCAABAE51xdkIAAIBElHJ2QgAAQKrmcnZCAAAAEDlzdkIAAIDb3XN2QgAAwAzVdHZCAACAcid1dkIAAEDYeXV2QgAAAD7MdXZCAADAox52dkIAAADVFXd2QgAAwDpod3ZCAABABg14dkIAAABsX3h2QgAAQJ1WeXZCAAAAA6l5dkIAAMBo+3l2QgAAgM5NenZCAABANKB6dkIAAIBll3t2QgAAQMvpe3ZCAAAAMTx8dkIAAMCWjnx2QgAAgPzgfHZCAADALdh9dkIAAED5fH52QgAAAF/PfnZCAADAxCF/dkIAAAD2GIB2QgAAgMG9gHZCAABAJxCBdkIAAACNYoF2QgAAQL5ZgnZCAAAAJKyCdkIAAMCJ/oJ2QgAAgO9Qg3ZCAABAVaODdkIAAICGmoR2QgAAQOzshHZCAAAAUj+FdkIAAMC3kYV2QgAAgB3khXZCAACAtC2HdkIAAEAagId2QgAAAIDSh3ZCAADA5SSIdkIAAAAXHIl2QgAAwHxuiXZCAACA4sCJdkIAAEBIE4p2QgAAAK5linZCAABA31yLdkIAAABFr4t2QgAAwKoBjHZCAACAEFSMdkIAAEB2pox2QgAAgKedjXZCAABADfCNdkIAAMDYlI52QgAAgD7njnZCAACA1TCQdkIAAEA7g5B2QgAAAKHVkHZCAADABiiRdkIAAAA4H5J2QgAAwJ1xknZCAACAA8SSdkIAAEBpFpN2QgAAAM9ok3ZCAABAAGCUdkIAAABmspR2QgAAwMsElXZCAACAMVeVdkIAAECXqZV2QgAAgMiglnZCAABALvOWdkIAAACURZd2QgAAwPmXl3ZCAACAX+qXdkIAAMCQ4Zh2QgAAgPYzmXZCAABAXIaZdkIAAADC2Jl2QgAAwCcrmnZCAAAAWSKbdkIAAMC+dJt2QgAAgCTHm3ZCAABAihmcdkIAAADwa5x2QgAAQCFjnXZCAAAAh7WddkIAAMDsB552QgAAgFJannZCAABAuKyedkIAAIDpo592QgAAQE/2n3ZCAAAAtUigdkIAAMAam6B2QgAAgIDtoHZCAADAseShdkIAAIAXN6J2QgAAQH2JonZCAAAA49uidkIAAAB6JaR2Qg==\",\"dtype\":\"float64\",\"shape\":[1028]},\"S&P_500\":{\"__ndarray__\":\"AM6u3rWSU7+AOqMNufaKP4BJIPCxz4I/gMCQ7W48mz9A2oGIf0GdP8AdFsMBJpA/QEO13HKBlj+AUax4PxCBPwBYfhdZ8Yc/AKjITlJHPr8Ap0KZdydyP4AIqmkmmHK/AIf4ZajtZr8ANjVl/4hrP8D/8F0Qn5I/AF+VZCMblT8Aqdz18qKSPwB8JSUkIXg/AKPP3mRYjj8AEbe3TU+TPwAsjBHJR48/gMdbsBOhgT8AfOAqqOWFPwCQaDX1W4A/ANQJe/3KbD8ADr4UhINbvwD4lBLE4Wc/AGQVLl4HVT8A0DGbjn9vvwCCeyvyI2m/AJ+dwckSgT8AXAnibixNvwBYaHOsX0M/gHXSOdNScr8AfXwrPOp7v4BzcY2Lh4K/ADBU5wIudL+A5zu8bm9/v4CgSefZLHC/APaqSFeSeT8A+FUcOPZyv4C+niyR6n6/AEKm4bHHcT8Ar3CXjhiCPwBQF8YTqHQ/gM4ELCsBgb8AJ3T9lXVqvwDAJSiTazK/AAAWKPP7+D4ApPdJy8qFv4A9lOn+8ou/wEjkXAqmir/A876lE8SIv4CaVCUofI2/QM1lljz3iL8AQtI0gpdfv4DUKb3/gYa/QEL2lE3wg78A/p++Iixsv4CyaiyteXa/gEwiHMVccr8Ac4rj8ft6vwBIBGBZ0WA/ACzu4cGfbD8A9hV4foyEPwC3cSIEr4M/AJmkswKuY7+AixtAee5wvwDGF0FrmWc/AFrDGEfgfj8AKJTQehxePwDQ2+8PjiK/ADIRVnFehL+A34Hyth1zvwASgpYd6IW/QOZKA8Exh7+AWrnXzmNwvwBgNbcN5FC/ANDZm0ACRb9ApqYf2iaVP4Ao0J12YZI/gHmm5J5mhj8AD1EZ9QmHPwBnR85WEY8/gPN3/1+Agj8AJO0oor+aP0CSunR+YJg/AGhurc4yhz8A8JP/LvAwPwCNBPj8H3G/AKDdiA02bL+ALxAHt0eHv4BduqZ7hIm/gFdI33MTi78AwxlTOG2CvwDJ3KNcI3u/AOx7eklKT78AiT6WRy6EP0BPEmfSGJA/AMadEIH5aj8AMTfe2l5wvwCYFYmSfHC/AJywbS7LXL8A0GgJiGtQPwAgVCUls2o/AEDBokrkIj8AE+A7tUyAP4B1TWpaQIY/AAZKFrhvX78ATTvixZZ/PwAZHBrUq3s/AMAG5T0rWT8AvAMtWxdxP4BdAh7kqYk/AD82bx+XoT+wSRaXsYGxP7AQyyCUurw/mDdxo9tQwD+Aw6FB3sm1P8AvOaPmZa4/oAW0mGwRrj/w45wu5VOxP0DvGal8qLk/sDTQRC2ZtD/QYQihy0a0P3CMdfrik7g/UJ25xE+2sT+AtxCr15G1P4D9kHrFHLQ/wInR3AXhsj8gz4wy/QG0PyD0zYvWgrA/oGAHT4lRrD/A6F0psLStPxB8TceOTbM/wO0RnjsNsj8gb2Y7PXi1PwBnbe4OCrY/0MCJazz6tj8gVLVJhBu3P/BsV1a1db4/UNcOa2gbvj9wkdt9Z8C4P5B5VRbQMrg/QL/ph3U+tD/gZP0Bh5CuP4B5oZFbQrA/YDYmZH8trD9AzCfKs3SnP+AMNDRgEac/ALOuGOJipj/AqkBVCQ+qPwC+S4vAm6w/wNgDZUaypD+APdZ31UWiPwDIwNseIaI/oJyNL0Hioj/A0qBHmf6lP4AB4+t+hZo/gHKlUdUejj/ATt2KRw2RP0DTu7W2t5M/AIprH8wEfj8AQsEE/99/P4A7zTu36Yk/AMi5b7w5ST8A/DBBJv9fvwAIjJYAL1o/AIT+sCZkZj8AfLKrbj9pPwBGsonysIo/gCHGT9KPhz8AeY2ASkWOP0BB+DAm4Z0/YFVQzozppD+g015IhaClP4B0PwtwR5o/gI/g4bx1mz/AO5NxBHiXPwBw4RmUw5g/ABQzNt57lz9AogFmh56XPwDh/GBr/5Y/wJWMmCDhmz9Aksm/cMOQP4BjDLCrVZw/gGG2lizXpT/Aw8Pf9DSWP0DYIQEkkp0/IBNHdf85oj+ANQm5qFymP+Dt2SBeKaU/QDk6K+G4rz+A306cESatP2Bojat/dqc/gKF3OY6anz9gXA6FitynP/BmO10bybA/oM/RlTdcrT/gEaQq/6CoP0Ab+Bv4C6I/wJCxQjzloj+AoB4K+A2kP4BwS+i76pw/gFX73yBJoj9AKDku9FKnP8BxXNTSpK8/wPzZblWNrj8AdbD7l+GyP9A3OZrejbk/cGn1fqOjvD+gCbsrhGW8P5Au+AXUMbo/mPM2Pce1wD+QCnC116q8P2C8yYTPecE/AD7m4ANmwT9o0xcnbx7DP4jrAPzFW8I/AOLgqMvlvj8I1bqjSrrBPxDm/WX1Y78/IP93uf1FwT/A60i3g3nAP4CJD3m+97k/0POV1MAXuj/gUfejJ3u/P6C4IAKXDb4/sGoikPSdvT/IYYxsW3/BP9iEO+UelsM/qEuU8TWvwz/oxx8zW7bDP7AqeTZPjcU/iE9lsVywwj+Q8MYlU0/AP9DLY0yx/MA/QEuKB6n9wD/g+92TmNm9P7i1sVw8usA/uD8p4ncWwD8wlQKmIfG8PyD3rHLOeb0/wJIQoCjQvz9wm0QmgBq5P7DbQn4Q9bc/gC91mTD7tj8wdYDI3A+2P/AyB4zr0LU/MO+MH2r5uD9g3s9Jd4+3PwDw0LCshLc/ECeMWGQCsz8w/1E5SFuzPxBHcZoC3bM/oGhKGbVTsj8QSQXYkoewPwDFiPEbq64/wLsyaVMirj+gfq3pMpyuP2CThK97DLE/8M3XdesmsT9gSyny0ACxPyC1aIkHPK0/gB7du9/jqj8AoAI32f2rP0AUIE4vmKg/oD2aoVBSqj/gnNdGq9avP4CF8yH5Lqo/gOxU3HhasD/AVT0hcjGvP+CveJW9V7A/YFY9Bxd5qz9gUOyjRhymPyAqX2+kBKY/gMbL+VSLpj/gdmldDxKjPyBViar/b6E/wIjQ3tkIoT8A0DSE+MujP8AVbTl2xaM/YPvqT5a8pD9AJ1Tipr2jP+CM7st/3aI/QHXnIqzPpz/gf4avsomqPyC8BH9PXaY/QFcQCKcKqz/At4DszUKuPyChsav5Y64/wLSf5pCsrD/g3hG4WkSsP+AMPyUMm6U/oPDLKsvBqj9A1JgmLtmqPwAxGy22dK8/4IXzIfkuqj9gXdrL70uvP2Av+JFoL68/EOR5FGKasD/gnRHvovGtPyB7pB6SE68/oDwtlSe/pz8AiFB0LwmkP4BHVKHbJaQ/4CuBqVngoT/gK4/7MWiiPwDx+HfnzqE/AJIngd1QoD9ArFim09uhP4BbaWKPjZ4/AH8fCeYxnT9AhdqsjbiZP8DAP+3whps/QPDuitmhoj/giq5CQPmmPyC1gw4P8Kc/INJb4BDtqD/gTU5lxT+nP2Ci28yl/6g/IOz1s8zlpT8AqB0CHnSkPwDnfEadVaU/wM/T/BOanD8AhSuad/SwPwADwMpK/LU/YBJEqcQhsT9AGiyNhR2pP+D1xbFG7aE/YP97KG7loD9A44O09YqkP+D0Of8QtaE/YBT41Foroj/Ae9YNcmiUP4CHo7wv3JA/ABAtL/k6gz+AoF4JrPOCPwDqFtfJRnA/ACrntKIZdD8AjPSPjqJkPwCZLksxOHA/AKDYi5hCNL8ANPFcuChrPwD+3T2DM1S/AFy/k/c5XT8ACF42Cu5XPwB+Avhgz2U/AJBl0a9GUT8AeO5GAt9CvwC4uSIaxEY/AB10cX8WfT8AbxvNUzNwPwAIny0np24/AArIXE2+c7+ALzk55wpwv4BsSFfToXG/AP67YUqpV7+A1x4mWDB5vwD8JaXqF0a/AMC+Fa/KZL+A72Wa4VxzvwCVCcAk92q/ANaTnjVdZr+A7W6XnSNzvwCwiLnvskI/APBFA87CXz8ARB7GJtxsPwDU9mTSylu/AACgUEroMD8AiJMrlKBlPwCaZ6XA92U/AGI78YXKWL+AyvvgIltyvwCwoJ9WwnG/AKf9cGtYYb8AsJtA6ISXPwDe+mjuu4A/gNYBvoHolz9AFYqWQIaYPwB8R5W1D4w/QL20fhL2kT/AqK9kD/uRP8CTkr9Gq5E/APOHWeqteT8AwDN1OQQuvwC9sa+jsHY/gA17WfoujT8AlwUbRMR/PwDEpRPdCWQ/gHVgEZBTiD8ASogEhcdvPwAf2EFOV30/gDsPnHLxiD+AM3uRDxOAPwBufWp4KX4/gAQl76jQhT8AYJr8kqZ4P0CMKdZsJZM/wNpMEJTzkT9Adk8G3DCVP8ChNS/r+pQ/gE82PRsqmD/A9pjDN7+RPwBZYz3W744/gBeAroPmkD9A1s1n6vyQPwBmkjQ+Iog/gJHiXDkEkD8AMw6uaNSRP4Av589k85Q/ADzCo3Y1mD+A+fUtR1aYP4AZJm4ogJ8/QLqXVH03oz/gxUqItJOlP2D1iC+sd6Y/wP2dqyeylT8ACyUjNMSRPwBRlA+haXk/AI7xBm1jcT8ARhtsME9qvwBg3fyevFq/gPmqxM+3eb8ANwWm4PVvv0BYaYpDGYe/QALjZ1d5i79ArP2V8xqNv+BpYCARfZK/gNQta7lair/A8jXA4gyNv8AvF7DJrYe/QCf4PYSJgL/AGg0F7leBv0Bb2HWbGI2/wGHT7L76kb/AGt35wwyfv/BeKGM/mKC/oOF+CgCFo7+AYZ1GcPWivxBEeA+EKaa/0L5QNk0nor+gYcinVhCkvwC/md57M6O/0KucUSsspL9AK0hsgPSlvzABKYZ3v6S/0GHXSb3Uo79QURCDP3Kkv5Brc12NjKW/4NGeLIBqob9wPm83WUWhv0Dog32l7p2/0Mz+5hImo7+g9sn98vOlv1BjwEIxk6W/cMUxMTJLp7/Q7IexqI2lv9Dsh7GojaW/IKxItOvvpr+gG1D+0eKlv2AoBQt+yqa/YGSJXL5Vpb+APgUt5jKmv8Aar2qwbKS/wHdrPuESpr8gUmLHk8CkvyB2pAe/9Ke/MNJDeYjXq7+gvChHVHyrvzD9fVfDEKu/kCyy5TUiqL/gkBfD9LKnv3CBFOQ+2Ke/cF8cAHkfqL/Qmsv5R6Srv9ADQSpsnaq/QEgmvZm5qr9gyKFYrg+rv5Cx3Fu71a2/0IsBdFeMr7+oA1wTGQexv8jQcTD/NrK/sE+Pw1kCsr94tGSrcmiyv3j86h4a1rO/QMSmTpmUs7+ADs9t8q2zv6gUDDsoCLS/0KbQTJdFtL8IbJqFmKmzv5gk0j682ba/cIvGm+t5tb9gU3PqJpi1v0hfMMHY0rS/aKI+NfAitL/YJyxsspizv+ApxVoQybO/IAkreBSOtL84KzFpLKS0v9hmGiLk17O/OOi5Wv3Ntb9gfCFgTmy1v6iCMcJFHbW/OCsxaSyktL+wfq4oLa+xvzi1n6tCIrK/SMzcu6Dhsb9wyCmiIq6xv+Cf/TXdb7G/eO+JE4ons78YeCFYR2mzv9jTnCCGGrS/oKu6iQmSs784CufCei6zvyAw4+xiULO/0O0sIriWsr8gm0JEwwuzv/gbIsqL2bK/MGw0OEUDs7/Y1u+bJqyyv2CYHSjaxrG/aI/YqmcksL8wWWQDxzCyv9gI2UyCf7G/kC/E84gWsb+4rsPwRuGyv1gylPi9KLK/ML25Qm61tL/wK2c+UyK2v8APZTv8BLa/iI9wqRUmtr+QA6ehVbO1v9gp2DkOG7a/cLEd7ititr/Q3H+xSha2v3jkovDfOLa/cAeOFJMst79Atshrzy63v1jB+Pij8ba/kOD5BwU1t7+g8D+k2LO2v1gGdfdqW7a/YDzg404ytr+A0ruiIN6xvwBtHQoPvrK/cORi51ZWtL8AK9OeDIy1v5AZfooo+rW/qAfGeOmOtr+gzHF8MJe3v/jUzw+pqbe/UAivw+1ht7+ISk2IhUa3v2idRiMzBrm/6PN+h6Dgub/Qnof4zZi5v5jhVHxu9Li/kGHUqAxRub8I5CJK0mC5vzhGLYLHL7m/iEBac+T1uL+4Dfrmhv+5vxC0PHjWxLm/8OcfXopAub+gMRDLSlG5v2CzFzsnOru/ECCMMlCvub9wYlsw8Iy5vxC6BSkKcrm/wOvb8QXOub/A836HoOC5v8CdtQwuAbi/yFJOs7oHur/IfnXACAm4v/hZXJDxY7i/+PSssaPsuL9gWXyze0K5v9hwZKLWE7e/qI8hrTePuL8oH3+zIsa4v2hXTVnEl7i/2Av1LWpFur8YiCO3c7O6v7iQQ7ODxLu/aI19/WzBu7/YZB46VeS7vwjnb1hlHL2/QCSS73gTvb/ojJGFF/68v+CC0xQ2wLy/eK8GK8Zpvb8wkqJBKXq9v5hkfzC0Qb2/yFExl7/zvL+4f4hSZcm8v6BY69iAV72/+LqBWxN0vb9YTkW6KPW8v/jQFIy/Yr2/wHlphSfCvb9g+SUa+jW9v2h/gEnbIL2/4F8rFdnLub/gEfz06xa6vyCks1eM+bm/gCmF8A1Nur+4XgUNFrO2v8AmtzZERba/GBR9O8CKtr8IHxTWBNe4vwgr5szvCbi/kCHUGH+Ot79AEs6N3/G3v+CEULDLDri/6LX95stAuL/QdxJzV1G5vyjAJERGobq/kJ9u83MVu7/Ylg6vlle5v5BAs5jCD7q/IAhP3EAFur+o+52OeK25v0ib3925Jby/IKUciUrpvL9YVv8IRRW9vxDvsPlB1by/yGXPNXxAvb9Q7dMq35S9v5BuQt8n1b2/mHHwwtv5vb8wXZr8Ekm9vwiU8Gembr2/oMYOgnvtvL/QQGZTrPG8vziomaAp3r2/yHmOMdAjvr+AwlVhQPm+v2DePg2P17+/PPOxmJYpwL+cWzkqPU3Av+ypTcjM7cC/TMMDND3PwL94oJLXyJvAv8i7R8Xb3cC/fD/+NhMRwb8smx3CF+HAv+B9WukM+sC/lODwPrkrwb+ELWp/yj7BvwDsDvXSU8G/fMjM6Bxdwb+o3rjnTO3Bv+i5UhDqfMG/LG0CJJ2qwb/gDnJ0SSbBvzjwUcVOSsG/EAY+00Ytwr9A6XvRO9PBv3hpuvbY7cG/rBzNSqMawr/04Fs4+x/Cv2SzgbrTdsK/0DoqcG6awr/YMjplIpXCv3SmH6KDvcK/jFfReuRTwr8Ii6gSqzrCvySD5TdIVsK/GOIq2EoVwr/Y/F1r8XjBv1jLQtj3XsK/nOt0+hIVwr9InYdO7TjCv5D1lJeO78K/rCf81pfawr9ACB1X7RPDv6SAiVQ1CcO/GB/DBEAZxL9c+RUGDA/EvzixD1OM78S/rH0Ui/K3xL8QXGdUBZvEv0zc9a3TM8S/lG8Gm60wxL9weVp+X4HEvzCd5asRGMW/5D5gnmtvxb+QJAX9m5nFv0B+n4K4jMW/EE+8AlUdxb9kwoObtRDGv8x2C+Feoca/UKbQy/NJxr/cCYJrhzPGv4xjeMAzaca/rOa1yc9cxr9YCI3IKEDGv0Tcy62NVca/oBkt6hKHxr840EbjZPrFv6zTaL/n2ca/4CVL2w2Fx79MdmpLYPDHvyjJxfVxqsi/vNlmtVjWyL88X80BtvjIv9wyhvNX28i/PFElRMSTyb8AWhaVjkPKvziN9opw58m/uDu6Xjjbyr8MdB3FTLHKvyTkpWyIIsu/NHFdWSnxy78gaSrMvCjMv2ABDF5qGsy/NBCzV9EpzL8gG3kc6lTNv3gYIiK4qcy/lBlpl4GRy79YUDUrEp7Lv6CXAAdojcu/eMaCkjhgyb84hAa4nv3Ev0hO0ao208a/zAfppd5Lxr/48pSfgyzCv5S6/ehEysO/KOBvGXBGxb+oBHJKpI3FvxxOrbMI9sa/bDrEf7M2yL9gpWy+nkDIvzDVvn+QpMe/6A7XJOkQx7/05D3+CSvHv6gxyLtn0si/vE3oVFcFyr/8QVR7VrXIvzh/ZqGkjMe/FEYLIYwjxr8IzY24S6zGv9DKH8yD0se/0BHTc7QYyL/oVjwf1AvIv1BiWeYSgsi/kMXoKqRGyr9A4htRbCXKv4h6m7lufsm/3DD/ElnnyL+U1DiSsdLIvwxtF4ic/8i/TFCrgayDx7/sPWo2QKvHv3SLgcboece/jNdw9DfHxL9EX0aZYHvCv4S+ZdakYMW/5I77QcqAw7+UPS8oiy/Dv+wg/W7oqcS/iK6n0Rg2wr943TlDO5TDv4huSO+Y0cS/KGe5T56Mxb+UczL53ynDv2BmbJuHhsO/UNYGaWJPxb84zM22orfEv/ieBuNhmMW/MIb9B4ZJxb9s1COQRCXGvxifPKEiQ8e/+Aw3dmhZx7+Aec9PHr/Gv+R7tjwf18W/OEedDabYxb+QiXB0GGjEvxCugKqamsS/IGMcW4O2xb8IIZDmx9TFv5TIILBp9MS/+G8wlhY6xb+gBxgNsnPEv3ivrIKBNcS/+JmahI2Sxb+MKV4acfDFvxxfZhc66cW/OEChT6ntxr9cC5Y3YOfHvwThvebNFMi/+DcNvkksyL/I0aMgLHXHv/jpsKdn4ce/RDQNvZLKx7+kCwm1KoTHvwQygBxMSMi/2NXnuMb0x78gfLFsBEvIv8wQBsUxFci/5B70PlbWx78AJ1S1XJ7GvzjXrl2S8Me/4ItU2Qg4x794CBv37VfIv4zsbzdFzsi/HJ9ZpNHgyL/UaVvBEcHJv4Bkiqpcrsm/pPYWifz/yb+o03Px3BvKv8Sn2vhBScq/iDtXKQDgyb/kE8HddCDKv6Ru4pfnBcq/FDOF2kfOyb+Ygl1zmGTJv8wR/B9+kcm/WNkaEgnqyL9AFi3rFBvJv4xKt1qHrMe/hOwMKkfnx7+sUlKe/v/Gv1x1tWMOpce/CNYqDU25x78IxIhB8wrIv2REAaShhse/jH1j2TlryL94m+IwO0rJv/jfxXUxMMq/lA21pmeKyr+oVwW509DJv6Chzqa1s8q/uIY6lKrPyr+86GjFAbXKv0hY+9OjG8u/WHluT1JTy7/k72IFCu3KvwCsNVd51Mq/bGMk/v0Dy79U8CE9AH/LvwhEp/4PZ8y/yEQOo4MZzL8g7utQlHDLv/hvzPmW28q/AKBl8HNZy7+Afa2ytT7Lv4AGa+kQvcu/JPUDQLczzL+4CRRky43Mv5SZB3191cy/ND742NPOzL9sPwc0KqrMv7iHs9H288u/UO5xY/OMy79w/toWNTDMv4Cnzw94bMu/wO+QD8Y2zL8U45j9YYvMv0D6ruYMycy/4Gc+O3v9zL/c/8Z3YvPMv/QZ/pZtyMy/eDmhBOhkzb8cFsmPDiXOvyRSzezMK86/GLScWMe5zr/wm1rM9krOv+yfT3xTTs6/aDuhSOIkzr9cc+bGdt7NvxB9m2Vggs2/DAwvhXJKzb/smQ5tUHrNv8izFqlJ2M2/oOyEIz/hzb8ERkWmO2XOv0yLCjUdbM6/rI6FBTTgzb/c4Pn3WWbOvwDE/IKghc6/kIj+8cJHz78QzhZDoj7Pv1CFuVs+586/jF1m4MLGzr+I0MTKn3TOv7ymhtZvuc6/PJVAFUS5zr9M4dkLnBPPv/yA7Z7DCc+/hKFMlWkbz79YtagSGk/OvzQ0OsUVxM2/INW2XCW6zb+M8ggqbJbNv/zHhkBSPsq/yD7wZSQbyL9E/gUxsY/Jv3zvtLXq88i/zA3gegofy79M1juRgxjLv4BXf+xRn8m/7NqWztmVyb9wKm7JoyTJv4xW0muzksi/aMwHbndHxb+0Vl1FAjvHv2wsp8kUYsW/PMz8etytxL+AoCd+p1XGv/Dw/dEIeMe/IA8w6puPyL+M7AwqR+fHvyj18imwe8i/HFfm2Ycgyb+0EXPueUPLv+wOS1CcAsu/0OmR1ZMSyr9sqpe5KgbIv9AfZMqp3se/zPS1hmUTx7+grJkz+CzIv/Tum1vuZ8i/PD/7uhWnxr/U74NShLTEv9wse7naB8W/VPyFgitTxL8Ayu4MxfjFv0AmqtoDUca/eFPylJ2wyL9kKCZIXXbIv4jQsruQTcm/CDxv5xpqyr/MTnqARgTHv1By5ZhN28a/6BUyGZ1YxL84edLeF4nEvxTCsSVJf8S/9PDbRqETxb+4LdMYKA7Fv9ASqM1v+cK/zBMBXFapwL9YEpHTzKvAvwic3LVQ3L2/qBhvTJw8ur/ANcybKWi1v1B4Nn4Tva2/EJKt10hDur8wuwm+mTa8v+BCjJkc7ru/sL16ZsbZvb+IXJ1HHyO+v8htgPJUZ7i/eIvzZrwLwL94gwUUQtPAv9xUNjqL5MG/DPmc2ZVXwr+gdATE29XCv8wB0aTE0cK/cJ5rlgo+wr/Ye7CUGmjDv5i9tMG8pcO/AKXEerl2xL9wBMAa7NzFv5ylwcO6VsS/vEw5h0+TxL/sUh88F7nEv8CaTOFAoMW/aK3pNOHIxL9o+iJI2qDEv8zvFoK2Rca/NM1VsG0sx79M5+OvhUTHvyCTKb36+Me/qBYXksh1yL/QjNRMyTrIv6g67DHEP8e/KEDEkeNRx78YLaxf4GTHv3B71VCsuci/kFfAhmEJyb/M2JT4CiXKvwiQApsQTMq/3Fboh0B6yr+0EYf0Rh7Kv0y00phsxMq/AENewU7kyr9kiQVa1c/KvwACwpa7wcq/VMSKv0p4yr9w3O5ISSrLv2gmmyu5xcq/jBtDY16oyr/4Ewd4//3Jv/BMYJMQKMm/+NhTEdLvyL8Mdf7hLW3KvwhZWnu/ucq/BO0Bma5sy7+4nP8UUFbLv7BhGpEi1su/+ILQ2M80zL9QDCuPeTHMvzD9GREG5su/rFPg7ST5zL+gUunv0Q7Lv+D8a4Ue+cq/TO1Pz4+xy78kfH2uvjnLv4AwUoIElsu/rBy9pPhBzL+IOUBV/GXNv2hj3QRtZs2/MM/t7Ymczb/0dr6x79DNv+BnXUbvRM6/NI/YCx1fzr+o/uVMi8bNvzCzhpGxHc6/bEWS4KUezr9oCI+PLMPOv8TG5/l+s86/uA98Uy3Azr+MzwjIcIfOvyjxJrjHrs6/JACJwPfHzr+Qu6Z3FKLPvw==\",\"dtype\":\"float64\",\"shape\":[1028]},\"S_ampersand_P_500\":{\"__ndarray__\":\"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\",\"dtype\":\"float64\",\"shape\":[1028]}},\"selected\":{\"id\":\"3402\"},\"selection_policy\":{\"id\":\"3430\"}},\"id\":\"3401\",\"type\":\"ColumnDataSource\"},{\"attributes\":{},\"id\":\"3376\",\"type\":\"LinearScale\"},{\"attributes\":{},\"id\":\"3385\",\"type\":\"BasicTicker\"},{\"attributes\":{},\"id\":\"3390\",\"type\":\"WheelZoomTool\"},{\"attributes\":{\"axis\":{\"id\":\"3384\"},\"dimension\":1,\"grid_line_color\":null,\"ticker\":null},\"id\":\"3387\",\"type\":\"Grid\"},{\"attributes\":{},\"id\":\"3388\",\"type\":\"SaveTool\"},{\"attributes\":{\"callback\":null,\"formatters\":{\"@{Date}\":\"datetime\"},\"renderers\":[{\"id\":\"3407\"}],\"tags\":[\"hv_created\"],\"tooltips\":[[\"Date\",\"@{Date}{%F %T}\"],[\"S&P_500\",\"@{S_ampersand_P_500}\"]]},\"id\":\"3370\",\"type\":\"HoverTool\"}],\"root_ids\":[\"3366\"]},\"title\":\"Bokeh Application\",\"version\":\"2.0.2\"}};\n",
       "  var render_items = [{\"docid\":\"ba48b2ed-f63e-4557-bfb0-01b1f2454fff\",\"root_ids\":[\"3366\"],\"roots\":{\"3366\":\"f92ef618-c1dd-461c-8455-db261c6b316d\"}}];\n",
       "  root.Bokeh.embed.embed_items_notebook(docs_json, render_items);\n",
       "  }\n",
       "if (root.Bokeh !== undefined) {\n",
       "    embed_document(root);\n",
       "  } else {\n",
       "    var attempts = 0;\n",
       "    var timer = setInterval(function(root) {\n",
       "      if (root.Bokeh !== undefined) {\n",
       "        clearInterval(timer);\n",
       "        embed_document(root);\n",
       "      } else if (document.readyState == \"complete\") {\n",
       "        attempts++;\n",
       "        if (attempts > 100) {\n",
       "          clearInterval(timer);\n",
       "          console.log(\"Bokeh: ERROR: Unable to run BokehJS code because BokehJS library is missing\");\n",
       "        }\n",
       "      }\n",
       "    }, 10, root)\n",
       "  }\n",
       "})(window);</script>"
      ]
     },
     "metadata": {
      "application/vnd.holoviews_exec.v0+json": {
       "id": "3366"
      }
     },
     "execution_count": 251
    }
   ],
   "metadata": {}
  },
  {
   "cell_type": "code",
   "execution_count": 252,
   "source": [
    "# Creating a box plot for \"Whale\" portfolio to show risk\r\n",
    "whale_df.hvplot.box(title=\"Box Plot for All Portfolios\", xlabel=\" \", ylabel=\"Returns\")"
   ],
   "outputs": [
    {
     "output_type": "display_data",
     "data": {},
     "metadata": {}
    },
    {
     "output_type": "execute_result",
     "data": {
      "application/vnd.holoviews_exec.v0+json": "",
      "text/plain": [
       ":BoxWhisker   [Variable]   (value)"
      ],
      "text/html": [
       "<div id='3535'>\n",
       "\n",
       "\n",
       "\n",
       "\n",
       "\n",
       "  <div class=\"bk-root\" id=\"df825b98-fccd-4f2c-8593-a71c63bb4f7e\" data-root-id=\"3535\"></div>\n",
       "</div>\n",
       "<script type=\"application/javascript\">(function(root) {\n",
       "  function embed_document(root) {\n",
       "  var docs_json = {\"8c8db402-0e4c-458b-9a7c-f8409379bd6d\":{\"roots\":{\"references\":[{\"attributes\":{\"data_source\":{\"id\":\"3621\"},\"glyph\":{\"id\":\"3623\"},\"hover_glyph\":null,\"muted_glyph\":null,\"nonselection_glyph\":{\"id\":\"3624\"},\"selection_glyph\":null,\"view\":{\"id\":\"3626\"}},\"id\":\"3625\",\"type\":\"GlyphRenderer\"},{\"attributes\":{\"source\":{\"id\":\"3579\"}},\"id\":\"3584\",\"type\":\"CDSView\"},{\"attributes\":{},\"id\":\"3605\",\"type\":\"BasicTickFormatter\"},{\"attributes\":{\"data\":{\"x0\":[[\"SOROS FUND MANAGEMENT LLC\",-0.2],[\"PAULSON & CO.INC. \",-0.2],[\"TIGER GLOBAL MANAGEMENT LLC\",-0.2],[\"BERKSHIRE HATHAWAY INC\",-0.2]],\"x1\":[[\"SOROS FUND MANAGEMENT LLC\",0.2],[\"PAULSON & CO.INC. \",0.2],[\"TIGER GLOBAL MANAGEMENT LLC\",0.2],[\"BERKSHIRE HATHAWAY INC\",0.2]],\"y0\":[0.015853884217806424,0.014846619109823768,0.01994982282837809,0.02683649939285604],\"y1\":[0.015853884217806424,0.014846619109823768,0.01994982282837809,0.02683649939285604]},\"selected\":{\"id\":\"3617\"},\"selection_policy\":{\"id\":\"3616\"}},\"id\":\"3591\",\"type\":\"ColumnDataSource\"},{\"attributes\":{\"data_source\":{\"id\":\"3585\"},\"glyph\":{\"id\":\"3587\"},\"hover_glyph\":null,\"muted_glyph\":null,\"nonselection_glyph\":{\"id\":\"3588\"},\"selection_glyph\":null,\"view\":{\"id\":\"3590\"}},\"id\":\"3589\",\"type\":\"GlyphRenderer\"},{\"attributes\":{},\"id\":\"3648\",\"type\":\"UnionRenderers\"},{\"attributes\":{\"bottom\":{\"field\":\"bottom\"},\"fill_color\":{\"value\":\"#1f77b3\"},\"top\":{\"field\":\"top\"},\"width\":{\"value\":0.7},\"x\":{\"field\":\"index\"}},\"id\":\"3623\",\"type\":\"VBar\"},{\"attributes\":{\"items\":[]},\"id\":\"3619\",\"type\":\"Legend\"},{\"attributes\":{\"source\":{\"id\":\"3621\"}},\"id\":\"3626\",\"type\":\"CDSView\"},{\"attributes\":{\"line_alpha\":{\"value\":0.1},\"x0\":{\"field\":\"x0\"},\"x1\":{\"field\":\"x1\"},\"y0\":{\"field\":\"y0\"},\"y1\":{\"field\":\"y1\"}},\"id\":\"3594\",\"type\":\"Segment\"},{\"attributes\":{\"line_alpha\":{\"value\":0.1},\"x0\":{\"field\":\"x0\"},\"x1\":{\"field\":\"x1\"},\"y0\":{\"field\":\"y0\"},\"y1\":{\"field\":\"y1\"}},\"id\":\"3576\",\"type\":\"Segment\"},{\"attributes\":{},\"id\":\"3608\",\"type\":\"UnionRenderers\"},{\"attributes\":{},\"id\":\"3649\",\"type\":\"Selection\"},{\"attributes\":{},\"id\":\"3609\",\"type\":\"Selection\"},{\"attributes\":{},\"id\":\"3552\",\"type\":\"BasicTicker\"},{\"attributes\":{\"end\":0.10275696608858739,\"reset_end\":0.10275696608858739,\"reset_start\":-0.16187212219570443,\"start\":-0.16187212219570443,\"tags\":[[[\"value\",\"value\",null]]]},\"id\":\"3538\",\"type\":\"Range1d\"},{\"attributes\":{\"data\":{\"x0\":[\"SOROS FUND MANAGEMENT LLC\",\"PAULSON & CO.INC. \",\"TIGER GLOBAL MANAGEMENT LLC\",\"BERKSHIRE HATHAWAY INC\"],\"x1\":[\"SOROS FUND MANAGEMENT LLC\",\"PAULSON & CO.INC. \",\"TIGER GLOBAL MANAGEMENT LLC\",\"BERKSHIRE HATHAWAY INC\"],\"y0\":{\"__ndarray__\":\"AW8lBmdlj78BU3o98SqPvwCTYVjN65O/4K4SmnEsmb8=\",\"dtype\":\"float64\",\"shape\":[4]},\"y1\":{\"__ndarray__\":\"gP1+aNxxbb8AmdNE1Dlwv4BNHhHIcHO/AKd/ZGuWdr8=\",\"dtype\":\"float64\",\"shape\":[4]}},\"selected\":{\"id\":\"3613\"},\"selection_policy\":{\"id\":\"3612\"}},\"id\":\"3579\",\"type\":\"ColumnDataSource\"},{\"attributes\":{\"source\":{\"id\":\"3591\"}},\"id\":\"3596\",\"type\":\"CDSView\"},{\"attributes\":{\"data_source\":{\"id\":\"3597\"},\"glyph\":{\"id\":\"3599\"},\"hover_glyph\":null,\"muted_glyph\":null,\"nonselection_glyph\":{\"id\":\"3600\"},\"selection_glyph\":null,\"view\":{\"id\":\"3602\"}},\"id\":\"3601\",\"type\":\"GlyphRenderer\"},{\"attributes\":{},\"id\":\"3549\",\"type\":\"CategoricalTicker\"},{\"attributes\":{\"data_source\":{\"id\":\"3573\"},\"glyph\":{\"id\":\"3575\"},\"hover_glyph\":null,\"muted_glyph\":null,\"nonselection_glyph\":{\"id\":\"3576\"},\"selection_glyph\":null,\"view\":{\"id\":\"3578\"}},\"id\":\"3577\",\"type\":\"GlyphRenderer\"},{\"attributes\":{},\"id\":\"3610\",\"type\":\"UnionRenderers\"},{\"attributes\":{},\"id\":\"3611\",\"type\":\"Selection\"},{\"attributes\":{\"axis_label\":\"Returns\",\"bounds\":\"auto\",\"formatter\":{\"id\":\"3605\"},\"major_label_orientation\":\"horizontal\",\"ticker\":{\"id\":\"3552\"}},\"id\":\"3551\",\"type\":\"LinearAxis\"},{\"attributes\":{\"data_source\":{\"id\":\"3579\"},\"glyph\":{\"id\":\"3581\"},\"hover_glyph\":null,\"muted_glyph\":null,\"nonselection_glyph\":{\"id\":\"3582\"},\"selection_glyph\":null,\"view\":{\"id\":\"3584\"}},\"id\":\"3583\",\"type\":\"GlyphRenderer\"},{\"attributes\":{\"bottom\":{\"field\":\"bottom\"},\"fill_color\":{\"value\":\"#1f77b3\"},\"top\":{\"field\":\"top\"},\"width\":{\"value\":0.7},\"x\":{\"field\":\"index\"}},\"id\":\"3599\",\"type\":\"VBar\"},{\"attributes\":{\"axis\":{\"id\":\"3548\"},\"grid_line_color\":null,\"ticker\":null},\"id\":\"3550\",\"type\":\"Grid\"},{\"attributes\":{\"data\":{\"x0\":[[\"SOROS FUND MANAGEMENT LLC\",-0.2],[\"PAULSON & CO.INC. \",-0.2],[\"TIGER GLOBAL MANAGEMENT LLC\",-0.2],[\"BERKSHIRE HATHAWAY INC\",-0.2]],\"x1\":[[\"SOROS FUND MANAGEMENT LLC\",0.2],[\"PAULSON & CO.INC. \",0.2],[\"TIGER GLOBAL MANAGEMENT LLC\",0.2],[\"BERKSHIRE HATHAWAY INC\",0.2]],\"y0\":[-0.015330128550594237,-0.015218624771742297,-0.019454201239926583,-0.024583601979130232],\"y1\":[-0.015330128550594237,-0.015218624771742297,-0.019454201239926583,-0.024583601979130232]},\"selected\":{\"id\":\"3615\"},\"selection_policy\":{\"id\":\"3614\"}},\"id\":\"3585\",\"type\":\"ColumnDataSource\"},{\"attributes\":{\"children\":[{\"id\":\"3536\"},{\"id\":\"3539\"},{\"id\":\"3651\"}],\"margin\":[0,0,0,0],\"name\":\"Row04400\",\"tags\":[\"embedded\"]},\"id\":\"3535\",\"type\":\"Row\"},{\"attributes\":{\"data\":{\"bottom\":{\"__ndarray__\":\"APVb/DOUcT8A/IP+0TdtPwBRd8oLM3U/AKsb2YPJfj8=\",\"dtype\":\"float64\",\"shape\":[4]},\"index\":[\"SOROS FUND MANAGEMENT LLC\",\"PAULSON & CO.INC. \",\"TIGER GLOBAL MANAGEMENT LLC\",\"BERKSHIRE HATHAWAY INC\"],\"top\":{\"__ndarray__\":\"AaB+VEufPj8AAAAAAAAAAAAAe6dfeS4/ABDx2T83RD8=\",\"dtype\":\"float64\",\"shape\":[4]}},\"selected\":{\"id\":\"3647\"},\"selection_policy\":{\"id\":\"3646\"}},\"id\":\"3597\",\"type\":\"ColumnDataSource\"},{\"attributes\":{\"axis_label\":\" \",\"bounds\":\"auto\",\"formatter\":{\"id\":\"3607\"},\"major_label_orientation\":\"horizontal\",\"ticker\":{\"id\":\"3549\"}},\"id\":\"3548\",\"type\":\"CategoricalAxis\"},{\"attributes\":{\"below\":[{\"id\":\"3548\"}],\"center\":[{\"id\":\"3550\"},{\"id\":\"3554\"},{\"id\":\"3619\"}],\"left\":[{\"id\":\"3551\"}],\"margin\":null,\"min_border_bottom\":10,\"min_border_left\":10,\"min_border_right\":10,\"min_border_top\":10,\"plot_height\":300,\"plot_width\":700,\"renderers\":[{\"id\":\"3571\"},{\"id\":\"3577\"},{\"id\":\"3583\"},{\"id\":\"3589\"},{\"id\":\"3595\"},{\"id\":\"3601\"},{\"id\":\"3625\"}],\"sizing_mode\":\"fixed\",\"title\":{\"id\":\"3540\"},\"toolbar\":{\"id\":\"3561\"},\"x_range\":{\"id\":\"3537\"},\"x_scale\":{\"id\":\"3544\"},\"y_range\":{\"id\":\"3538\"},\"y_scale\":{\"id\":\"3546\"}},\"id\":\"3539\",\"subtype\":\"Figure\",\"type\":\"Plot\"},{\"attributes\":{},\"id\":\"3555\",\"type\":\"SaveTool\"},{\"attributes\":{},\"id\":\"3612\",\"type\":\"UnionRenderers\"},{\"attributes\":{\"axis\":{\"id\":\"3551\"},\"dimension\":1,\"grid_line_color\":null,\"ticker\":null},\"id\":\"3554\",\"type\":\"Grid\"},{\"attributes\":{\"bottom\":{\"field\":\"bottom\"},\"fill_alpha\":{\"value\":0.1},\"fill_color\":{\"value\":\"#1f77b3\"},\"line_alpha\":{\"value\":0.1},\"top\":{\"field\":\"top\"},\"width\":{\"value\":0.7},\"x\":{\"field\":\"index\"}},\"id\":\"3624\",\"type\":\"VBar\"},{\"attributes\":{},\"id\":\"3615\",\"type\":\"Selection\"},{\"attributes\":{},\"id\":\"3544\",\"type\":\"CategoricalScale\"},{\"attributes\":{},\"id\":\"3557\",\"type\":\"WheelZoomTool\"},{\"attributes\":{\"source\":{\"id\":\"3585\"}},\"id\":\"3590\",\"type\":\"CDSView\"},{\"attributes\":{\"factors\":[\"SOROS FUND MANAGEMENT LLC\",\"PAULSON & CO.INC. \",\"TIGER GLOBAL MANAGEMENT LLC\",\"BERKSHIRE HATHAWAY INC\"],\"tags\":[[[\"Variable\",\"Variable\",null]]]},\"id\":\"3537\",\"type\":\"FactorRange\"},{\"attributes\":{},\"id\":\"3546\",\"type\":\"LinearScale\"},{\"attributes\":{\"line_alpha\":{\"value\":0.1},\"x0\":{\"field\":\"x0\"},\"x1\":{\"field\":\"x1\"},\"y0\":{\"field\":\"y0\"},\"y1\":{\"field\":\"y1\"}},\"id\":\"3588\",\"type\":\"Segment\"},{\"attributes\":{},\"id\":\"3556\",\"type\":\"PanTool\"},{\"attributes\":{\"line_alpha\":{\"value\":0.1},\"x0\":{\"field\":\"x0\"},\"x1\":{\"field\":\"x1\"},\"y0\":{\"field\":\"y0\"},\"y1\":{\"field\":\"y1\"}},\"id\":\"3582\",\"type\":\"Segment\"},{\"attributes\":{\"overlay\":{\"id\":\"3560\"}},\"id\":\"3558\",\"type\":\"BoxZoomTool\"},{\"attributes\":{},\"id\":\"3559\",\"type\":\"ResetTool\"},{\"attributes\":{},\"id\":\"3616\",\"type\":\"UnionRenderers\"},{\"attributes\":{\"active_drag\":\"auto\",\"active_inspect\":\"auto\",\"active_multi\":null,\"active_scroll\":\"auto\",\"active_tap\":\"auto\",\"tools\":[{\"id\":\"3555\"},{\"id\":\"3556\"},{\"id\":\"3557\"},{\"id\":\"3558\"},{\"id\":\"3559\"}]},\"id\":\"3561\",\"type\":\"Toolbar\"},{\"attributes\":{\"x0\":{\"field\":\"x0\"},\"x1\":{\"field\":\"x1\"},\"y0\":{\"field\":\"y0\"},\"y1\":{\"field\":\"y1\"}},\"id\":\"3575\",\"type\":\"Segment\"},{\"attributes\":{\"source\":{\"id\":\"3567\"}},\"id\":\"3572\",\"type\":\"CDSView\"},{\"attributes\":{},\"id\":\"3617\",\"type\":\"Selection\"},{\"attributes\":{},\"id\":\"3647\",\"type\":\"Selection\"},{\"attributes\":{\"data\":{\"bottom\":{\"__ndarray__\":\"AaB+VEufPj8AAAAAAAAAAAAAe6dfeS4/ABDx2T83RD8=\",\"dtype\":\"float64\",\"shape\":[4]},\"index\":[\"SOROS FUND MANAGEMENT LLC\",\"PAULSON & CO.INC. \",\"TIGER GLOBAL MANAGEMENT LLC\",\"BERKSHIRE HATHAWAY INC\"],\"top\":{\"__ndarray__\":\"gP1+aNxxbb8AmdNE1Dlwv4BNHhHIcHO/AKd/ZGuWdr8=\",\"dtype\":\"float64\",\"shape\":[4]}},\"selected\":{\"id\":\"3649\"},\"selection_policy\":{\"id\":\"3648\"}},\"id\":\"3621\",\"type\":\"ColumnDataSource\"},{\"attributes\":{},\"id\":\"3646\",\"type\":\"UnionRenderers\"},{\"attributes\":{\"data\":{\"index\":[\"SOROS FUND MANAGEMENT LLC\",\"SOROS FUND MANAGEMENT LLC\",\"SOROS FUND MANAGEMENT LLC\",\"SOROS FUND MANAGEMENT LLC\",\"SOROS FUND MANAGEMENT LLC\",\"SOROS FUND MANAGEMENT LLC\",\"SOROS FUND MANAGEMENT LLC\",\"SOROS FUND MANAGEMENT LLC\",\"SOROS FUND MANAGEMENT LLC\",\"SOROS FUND MANAGEMENT LLC\",\"SOROS FUND MANAGEMENT LLC\",\"SOROS FUND MANAGEMENT LLC\",\"SOROS FUND MANAGEMENT LLC\",\"SOROS FUND MANAGEMENT LLC\",\"SOROS FUND MANAGEMENT LLC\",\"SOROS FUND MANAGEMENT LLC\",\"SOROS FUND MANAGEMENT LLC\",\"SOROS FUND MANAGEMENT LLC\",\"SOROS FUND MANAGEMENT LLC\",\"SOROS FUND MANAGEMENT LLC\",\"SOROS FUND MANAGEMENT LLC\",\"SOROS FUND MANAGEMENT LLC\",\"SOROS FUND MANAGEMENT LLC\",\"SOROS FUND MANAGEMENT LLC\",\"SOROS FUND MANAGEMENT LLC\",\"SOROS FUND MANAGEMENT LLC\",\"SOROS FUND MANAGEMENT LLC\",\"SOROS FUND MANAGEMENT LLC\",\"SOROS FUND MANAGEMENT LLC\",\"SOROS FUND MANAGEMENT LLC\",\"SOROS FUND MANAGEMENT LLC\",\"SOROS FUND MANAGEMENT LLC\",\"SOROS FUND MANAGEMENT LLC\",\"SOROS FUND MANAGEMENT LLC\",\"SOROS FUND MANAGEMENT LLC\",\"SOROS FUND MANAGEMENT LLC\",\"SOROS FUND MANAGEMENT LLC\",\"SOROS FUND MANAGEMENT LLC\",\"SOROS FUND MANAGEMENT LLC\",\"SOROS FUND MANAGEMENT LLC\",\"SOROS FUND MANAGEMENT LLC\",\"SOROS FUND MANAGEMENT LLC\",\"SOROS FUND MANAGEMENT LLC\",\"SOROS FUND MANAGEMENT LLC\",\"SOROS FUND MANAGEMENT LLC\",\"SOROS FUND MANAGEMENT LLC\",\"SOROS FUND MANAGEMENT LLC\",\"SOROS FUND MANAGEMENT LLC\",\"SOROS FUND MANAGEMENT LLC\",\"SOROS FUND MANAGEMENT LLC\",\"SOROS FUND MANAGEMENT LLC\",\"SOROS FUND MANAGEMENT LLC\",\"SOROS FUND MANAGEMENT LLC\",\"SOROS FUND MANAGEMENT LLC\",\"SOROS FUND MANAGEMENT LLC\",\"SOROS FUND MANAGEMENT LLC\",\"SOROS FUND MANAGEMENT LLC\",\"SOROS FUND MANAGEMENT LLC\",\"SOROS FUND MANAGEMENT LLC\",\"SOROS FUND MANAGEMENT LLC\",\"SOROS FUND MANAGEMENT LLC\",\"SOROS FUND MANAGEMENT LLC\",\"SOROS FUND MANAGEMENT LLC\",\"SOROS FUND MANAGEMENT LLC\",\"SOROS FUND MANAGEMENT LLC\",\"SOROS FUND MANAGEMENT LLC\",\"SOROS FUND MANAGEMENT LLC\",\"SOROS FUND MANAGEMENT LLC\",\"PAULSON & CO.INC. \",\"PAULSON & CO.INC. \",\"PAULSON & CO.INC. \",\"PAULSON & CO.INC. \",\"PAULSON & CO.INC. \",\"PAULSON & CO.INC. \",\"PAULSON & CO.INC. \",\"PAULSON & CO.INC. \",\"PAULSON & CO.INC. \",\"PAULSON & CO.INC. \",\"PAULSON & CO.INC. \",\"PAULSON & CO.INC. \",\"PAULSON & CO.INC. \",\"PAULSON & CO.INC. \",\"PAULSON & CO.INC. \",\"PAULSON & CO.INC. \",\"PAULSON & CO.INC. \",\"PAULSON & CO.INC. \",\"PAULSON & CO.INC. \",\"PAULSON & CO.INC. \",\"PAULSON & CO.INC. \",\"PAULSON & CO.INC. \",\"PAULSON & CO.INC. \",\"PAULSON & CO.INC. \",\"PAULSON & CO.INC. \",\"PAULSON & CO.INC. \",\"PAULSON & CO.INC. \",\"PAULSON & CO.INC. \",\"PAULSON & CO.INC. \",\"PAULSON & CO.INC. \",\"PAULSON & CO.INC. \",\"PAULSON & CO.INC. \",\"PAULSON & CO.INC. \",\"PAULSON & CO.INC. \",\"PAULSON & CO.INC. \",\"PAULSON & CO.INC. \",\"PAULSON & CO.INC. \",\"PAULSON & CO.INC. \",\"PAULSON & CO.INC. \",\"PAULSON & CO.INC. \",\"PAULSON & CO.INC. \",\"PAULSON & CO.INC. \",\"PAULSON & CO.INC. \",\"PAULSON & CO.INC. \",\"PAULSON & CO.INC. \",\"TIGER GLOBAL MANAGEMENT LLC\",\"TIGER GLOBAL MANAGEMENT LLC\",\"TIGER GLOBAL MANAGEMENT LLC\",\"TIGER GLOBAL MANAGEMENT LLC\",\"TIGER GLOBAL MANAGEMENT LLC\",\"TIGER GLOBAL MANAGEMENT LLC\",\"TIGER GLOBAL MANAGEMENT LLC\",\"TIGER GLOBAL MANAGEMENT LLC\",\"TIGER GLOBAL MANAGEMENT LLC\",\"TIGER GLOBAL MANAGEMENT LLC\",\"TIGER GLOBAL MANAGEMENT LLC\",\"TIGER GLOBAL MANAGEMENT LLC\",\"TIGER GLOBAL MANAGEMENT LLC\",\"TIGER GLOBAL MANAGEMENT LLC\",\"TIGER GLOBAL MANAGEMENT LLC\",\"TIGER GLOBAL MANAGEMENT LLC\",\"TIGER GLOBAL MANAGEMENT LLC\",\"TIGER GLOBAL MANAGEMENT LLC\",\"TIGER GLOBAL MANAGEMENT LLC\",\"TIGER GLOBAL MANAGEMENT LLC\",\"TIGER GLOBAL MANAGEMENT LLC\",\"TIGER GLOBAL MANAGEMENT LLC\",\"TIGER GLOBAL MANAGEMENT LLC\",\"TIGER GLOBAL MANAGEMENT LLC\",\"TIGER GLOBAL MANAGEMENT LLC\",\"TIGER GLOBAL MANAGEMENT LLC\",\"TIGER GLOBAL MANAGEMENT LLC\",\"TIGER GLOBAL MANAGEMENT LLC\",\"TIGER GLOBAL MANAGEMENT LLC\",\"TIGER GLOBAL MANAGEMENT LLC\",\"TIGER GLOBAL MANAGEMENT LLC\",\"TIGER GLOBAL MANAGEMENT LLC\",\"TIGER GLOBAL MANAGEMENT LLC\",\"TIGER GLOBAL MANAGEMENT LLC\",\"TIGER GLOBAL MANAGEMENT LLC\",\"TIGER GLOBAL MANAGEMENT LLC\",\"TIGER GLOBAL MANAGEMENT LLC\",\"TIGER GLOBAL MANAGEMENT LLC\",\"TIGER GLOBAL MANAGEMENT LLC\",\"TIGER GLOBAL MANAGEMENT LLC\",\"TIGER GLOBAL MANAGEMENT LLC\",\"TIGER GLOBAL MANAGEMENT LLC\",\"TIGER GLOBAL MANAGEMENT LLC\",\"TIGER GLOBAL MANAGEMENT LLC\",\"TIGER GLOBAL MANAGEMENT LLC\",\"TIGER GLOBAL MANAGEMENT LLC\",\"TIGER GLOBAL MANAGEMENT LLC\",\"TIGER GLOBAL MANAGEMENT LLC\",\"TIGER GLOBAL MANAGEMENT LLC\",\"TIGER GLOBAL MANAGEMENT LLC\",\"TIGER GLOBAL MANAGEMENT LLC\",\"TIGER GLOBAL MANAGEMENT LLC\",\"TIGER GLOBAL MANAGEMENT LLC\",\"TIGER GLOBAL MANAGEMENT LLC\",\"BERKSHIRE HATHAWAY INC\",\"BERKSHIRE HATHAWAY INC\",\"BERKSHIRE HATHAWAY INC\",\"BERKSHIRE HATHAWAY INC\",\"BERKSHIRE HATHAWAY INC\",\"BERKSHIRE HATHAWAY INC\",\"BERKSHIRE HATHAWAY INC\",\"BERKSHIRE HATHAWAY INC\",\"BERKSHIRE HATHAWAY INC\",\"BERKSHIRE HATHAWAY INC\",\"BERKSHIRE HATHAWAY INC\",\"BERKSHIRE HATHAWAY INC\",\"BERKSHIRE HATHAWAY INC\",\"BERKSHIRE HATHAWAY INC\",\"BERKSHIRE HATHAWAY INC\",\"BERKSHIRE HATHAWAY INC\",\"BERKSHIRE HATHAWAY INC\",\"BERKSHIRE HATHAWAY INC\",\"BERKSHIRE HATHAWAY INC\",\"BERKSHIRE HATHAWAY INC\",\"BERKSHIRE HATHAWAY INC\",\"BERKSHIRE HATHAWAY INC\",\"BERKSHIRE HATHAWAY INC\",\"BERKSHIRE HATHAWAY INC\",\"BERKSHIRE HATHAWAY INC\",\"BERKSHIRE HATHAWAY INC\",\"BERKSHIRE HATHAWAY INC\",\"BERKSHIRE HATHAWAY INC\",\"BERKSHIRE HATHAWAY INC\",\"BERKSHIRE HATHAWAY INC\",\"BERKSHIRE HATHAWAY INC\",\"BERKSHIRE HATHAWAY INC\",\"BERKSHIRE HATHAWAY INC\",\"BERKSHIRE HATHAWAY INC\",\"BERKSHIRE HATHAWAY INC\",\"BERKSHIRE HATHAWAY INC\",\"BERKSHIRE HATHAWAY INC\",\"BERKSHIRE HATHAWAY INC\",\"BERKSHIRE HATHAWAY INC\",\"BERKSHIRE HATHAWAY INC\",\"BERKSHIRE HATHAWAY INC\",\"BERKSHIRE HATHAWAY INC\",\"BERKSHIRE HATHAWAY INC\",\"BERKSHIRE HATHAWAY INC\",\"BERKSHIRE HATHAWAY INC\",\"BERKSHIRE HATHAWAY INC\",\"BERKSHIRE HATHAWAY INC\",\"BERKSHIRE HATHAWAY INC\",\"BERKSHIRE HATHAWAY INC\",\"BERKSHIRE HATHAWAY INC\",\"BERKSHIRE HATHAWAY INC\",\"BERKSHIRE HATHAWAY INC\",\"BERKSHIRE HATHAWAY INC\",\"BERKSHIRE HATHAWAY INC\",\"BERKSHIRE HATHAWAY INC\",\"BERKSHIRE HATHAWAY INC\",\"BERKSHIRE HATHAWAY INC\",\"BERKSHIRE HATHAWAY INC\",\"BERKSHIRE HATHAWAY INC\",\"BERKSHIRE HATHAWAY INC\"],\"value\":{\"__ndarray__\":\"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\",\"dtype\":\"float64\",\"shape\":[227]}},\"selected\":{\"id\":\"3609\"},\"selection_policy\":{\"id\":\"3608\"}},\"id\":\"3567\",\"type\":\"ColumnDataSource\"},{\"attributes\":{\"source\":{\"id\":\"3573\"}},\"id\":\"3578\",\"type\":\"CDSView\"},{\"attributes\":{\"data\":{\"x0\":[\"SOROS FUND MANAGEMENT LLC\",\"PAULSON & CO.INC. \",\"TIGER GLOBAL MANAGEMENT LLC\",\"BERKSHIRE HATHAWAY INC\"],\"x1\":[\"SOROS FUND MANAGEMENT LLC\",\"PAULSON & CO.INC. \",\"TIGER GLOBAL MANAGEMENT LLC\",\"BERKSHIRE HATHAWAY INC\"],\"y0\":{\"__ndarray__\":\"AJLrKAA8kD8BTUN852eOP799b/K5bZQ/wP7s/AZ7mz8=\",\"dtype\":\"float64\",\"shape\":[4]},\"y1\":{\"__ndarray__\":\"APVb/DOUcT8A/IP+0TdtPwBRd8oLM3U/AKsb2YPJfj8=\",\"dtype\":\"float64\",\"shape\":[4]}},\"selected\":{\"id\":\"3611\"},\"selection_policy\":{\"id\":\"3610\"}},\"id\":\"3573\",\"type\":\"ColumnDataSource\"},{\"attributes\":{\"data_source\":{\"id\":\"3591\"},\"glyph\":{\"id\":\"3593\"},\"hover_glyph\":null,\"muted_glyph\":null,\"nonselection_glyph\":{\"id\":\"3594\"},\"selection_glyph\":null,\"view\":{\"id\":\"3596\"}},\"id\":\"3595\",\"type\":\"GlyphRenderer\"},{\"attributes\":{\"x0\":{\"field\":\"x0\"},\"x1\":{\"field\":\"x1\"},\"y0\":{\"field\":\"y0\"},\"y1\":{\"field\":\"y1\"}},\"id\":\"3581\",\"type\":\"Segment\"},{\"attributes\":{},\"id\":\"3614\",\"type\":\"UnionRenderers\"},{\"attributes\":{\"data_source\":{\"id\":\"3567\"},\"glyph\":{\"id\":\"3569\"},\"hover_glyph\":null,\"muted_glyph\":null,\"nonselection_glyph\":{\"id\":\"3570\"},\"selection_glyph\":null,\"view\":{\"id\":\"3572\"}},\"id\":\"3571\",\"type\":\"GlyphRenderer\"},{\"attributes\":{\"margin\":[5,5,5,5],\"name\":\"HSpacer04404\",\"sizing_mode\":\"stretch_width\"},\"id\":\"3536\",\"type\":\"Spacer\"},{\"attributes\":{\"fill_color\":{\"value\":\"black\"},\"x\":{\"field\":\"index\"},\"y\":{\"field\":\"value\"}},\"id\":\"3569\",\"type\":\"Circle\"},{\"attributes\":{\"source\":{\"id\":\"3597\"}},\"id\":\"3602\",\"type\":\"CDSView\"},{\"attributes\":{\"bottom_units\":\"screen\",\"fill_alpha\":0.5,\"fill_color\":\"lightgrey\",\"left_units\":\"screen\",\"level\":\"overlay\",\"line_alpha\":1.0,\"line_color\":\"black\",\"line_dash\":[4,4],\"line_width\":2,\"render_mode\":\"css\",\"right_units\":\"screen\",\"top_units\":\"screen\"},\"id\":\"3560\",\"type\":\"BoxAnnotation\"},{\"attributes\":{},\"id\":\"3607\",\"type\":\"CategoricalTickFormatter\"},{\"attributes\":{\"margin\":[5,5,5,5],\"name\":\"HSpacer04405\",\"sizing_mode\":\"stretch_width\"},\"id\":\"3651\",\"type\":\"Spacer\"},{\"attributes\":{\"x0\":{\"field\":\"x0\"},\"x1\":{\"field\":\"x1\"},\"y0\":{\"field\":\"y0\"},\"y1\":{\"field\":\"y1\"}},\"id\":\"3587\",\"type\":\"Segment\"},{\"attributes\":{},\"id\":\"3613\",\"type\":\"Selection\"},{\"attributes\":{\"x0\":{\"field\":\"x0\"},\"x1\":{\"field\":\"x1\"},\"y0\":{\"field\":\"y0\"},\"y1\":{\"field\":\"y1\"}},\"id\":\"3593\",\"type\":\"Segment\"},{\"attributes\":{\"bottom\":{\"field\":\"bottom\"},\"fill_alpha\":{\"value\":0.1},\"fill_color\":{\"value\":\"#1f77b3\"},\"line_alpha\":{\"value\":0.1},\"top\":{\"field\":\"top\"},\"width\":{\"value\":0.7},\"x\":{\"field\":\"index\"}},\"id\":\"3600\",\"type\":\"VBar\"},{\"attributes\":{\"fill_alpha\":{\"value\":0.1},\"fill_color\":{\"value\":\"black\"},\"line_alpha\":{\"value\":0.1},\"x\":{\"field\":\"index\"},\"y\":{\"field\":\"value\"}},\"id\":\"3570\",\"type\":\"Circle\"},{\"attributes\":{\"text\":\"Box Plot for All Portfolios\",\"text_color\":{\"value\":\"black\"},\"text_font_size\":{\"value\":\"12pt\"}},\"id\":\"3540\",\"type\":\"Title\"}],\"root_ids\":[\"3535\"]},\"title\":\"Bokeh Application\",\"version\":\"2.0.2\"}};\n",
       "  var render_items = [{\"docid\":\"8c8db402-0e4c-458b-9a7c-f8409379bd6d\",\"root_ids\":[\"3535\"],\"roots\":{\"3535\":\"df825b98-fccd-4f2c-8593-a71c63bb4f7e\"}}];\n",
       "  root.Bokeh.embed.embed_items_notebook(docs_json, render_items);\n",
       "  }\n",
       "if (root.Bokeh !== undefined) {\n",
       "    embed_document(root);\n",
       "  } else {\n",
       "    var attempts = 0;\n",
       "    var timer = setInterval(function(root) {\n",
       "      if (root.Bokeh !== undefined) {\n",
       "        clearInterval(timer);\n",
       "        embed_document(root);\n",
       "      } else if (document.readyState == \"complete\") {\n",
       "        attempts++;\n",
       "        if (attempts > 100) {\n",
       "          clearInterval(timer);\n",
       "          console.log(\"Bokeh: ERROR: Unable to run BokehJS code because BokehJS library is missing\");\n",
       "        }\n",
       "      }\n",
       "    }, 10, root)\n",
       "  }\n",
       "})(window);</script>"
      ]
     },
     "metadata": {
      "application/vnd.holoviews_exec.v0+json": {
       "id": "3535"
      }
     },
     "execution_count": 252
    }
   ],
   "metadata": {}
  },
  {
   "cell_type": "code",
   "execution_count": 253,
   "source": [
    "# Creating a box plot for \"Algo\" portfolio to show risk\r\n",
    "algo_df.hvplot.box(xlabel=\"In-House Trading Algorithm\", ylabel=\"Returns\")"
   ],
   "outputs": [
    {
     "output_type": "display_data",
     "data": {},
     "metadata": {}
    },
    {
     "output_type": "execute_result",
     "data": {
      "application/vnd.holoviews_exec.v0+json": "",
      "text/plain": [
       ":BoxWhisker   [Variable]   (value)"
      ],
      "text/html": [
       "<div id='3753'>\n",
       "\n",
       "\n",
       "\n",
       "\n",
       "\n",
       "  <div class=\"bk-root\" id=\"f13a8708-bfb1-440c-85af-c64082aebe1f\" data-root-id=\"3753\"></div>\n",
       "</div>\n",
       "<script type=\"application/javascript\">(function(root) {\n",
       "  function embed_document(root) {\n",
       "  var docs_json = {\"58ad572b-97d4-495d-8af6-590eeb25d4f1\":{\"roots\":{\"references\":[{\"attributes\":{\"source\":{\"id\":\"3803\"}},\"id\":\"3808\",\"type\":\"CDSView\"},{\"attributes\":{\"data_source\":{\"id\":\"3797\"},\"glyph\":{\"id\":\"3799\"},\"hover_glyph\":null,\"muted_glyph\":null,\"nonselection_glyph\":{\"id\":\"3800\"},\"selection_glyph\":null,\"view\":{\"id\":\"3802\"}},\"id\":\"3801\",\"type\":\"GlyphRenderer\"},{\"attributes\":{\"bottom\":{\"field\":\"bottom\"},\"fill_color\":{\"value\":\"#1f77b3\"},\"top\":{\"field\":\"top\"},\"width\":{\"value\":0.7},\"x\":{\"field\":\"index\"}},\"id\":\"3817\",\"type\":\"VBar\"},{\"attributes\":{},\"id\":\"3865\",\"type\":\"Selection\"},{\"attributes\":{},\"id\":\"3826\",\"type\":\"UnionRenderers\"},{\"attributes\":{},\"id\":\"3866\",\"type\":\"UnionRenderers\"},{\"attributes\":{},\"id\":\"3827\",\"type\":\"Selection\"},{\"attributes\":{\"data\":{\"x0\":[[\"Algo 1\",-0.2],[\"Algo 2\",-0.2]],\"x1\":[[\"Algo 1\",0.2],[\"Algo 2\",0.2]],\"y0\":[0.014748202984348096,0.018331308679379182],\"y1\":[0.014748202984348096,0.018331308679379182]},\"selected\":{\"id\":\"3835\"},\"selection_policy\":{\"id\":\"3834\"}},\"id\":\"3809\",\"type\":\"ColumnDataSource\"},{\"attributes\":{\"source\":{\"id\":\"3809\"}},\"id\":\"3814\",\"type\":\"CDSView\"},{\"attributes\":{},\"id\":\"3770\",\"type\":\"BasicTicker\"},{\"attributes\":{\"line_alpha\":{\"value\":0.1},\"x0\":{\"field\":\"x0\"},\"x1\":{\"field\":\"x1\"},\"y0\":{\"field\":\"y0\"},\"y1\":{\"field\":\"y1\"}},\"id\":\"3812\",\"type\":\"Segment\"},{\"attributes\":{},\"id\":\"3828\",\"type\":\"UnionRenderers\"},{\"attributes\":{\"data\":{\"x0\":[[\"Algo 1\",-0.2],[\"Algo 2\",-0.2]],\"x1\":[[\"Algo 1\",0.2],[\"Algo 2\",0.2]],\"y0\":[-0.014021449753747741,-0.017075635272145184],\"y1\":[-0.014021449753747741,-0.017075635272145184]},\"selected\":{\"id\":\"3833\"},\"selection_policy\":{\"id\":\"3832\"}},\"id\":\"3803\",\"type\":\"ColumnDataSource\"},{\"attributes\":{},\"id\":\"3867\",\"type\":\"Selection\"},{\"attributes\":{\"text\":\"\",\"text_color\":{\"value\":\"black\"},\"text_font_size\":{\"value\":\"12pt\"}},\"id\":\"3758\",\"type\":\"Title\"},{\"attributes\":{\"data_source\":{\"id\":\"3815\"},\"glyph\":{\"id\":\"3817\"},\"hover_glyph\":null,\"muted_glyph\":null,\"nonselection_glyph\":{\"id\":\"3818\"},\"selection_glyph\":null,\"view\":{\"id\":\"3820\"}},\"id\":\"3819\",\"type\":\"GlyphRenderer\"},{\"attributes\":{\"axis\":{\"id\":\"3769\"},\"dimension\":1,\"grid_line_color\":null,\"ticker\":null},\"id\":\"3772\",\"type\":\"Grid\"},{\"attributes\":{},\"id\":\"3829\",\"type\":\"Selection\"},{\"attributes\":{\"line_alpha\":{\"value\":0.1},\"x0\":{\"field\":\"x0\"},\"x1\":{\"field\":\"x1\"},\"y0\":{\"field\":\"y0\"},\"y1\":{\"field\":\"y1\"}},\"id\":\"3800\",\"type\":\"Segment\"},{\"attributes\":{\"items\":[]},\"id\":\"3837\",\"type\":\"Legend\"},{\"attributes\":{},\"id\":\"3767\",\"type\":\"CategoricalTicker\"},{\"attributes\":{},\"id\":\"3864\",\"type\":\"UnionRenderers\"},{\"attributes\":{\"axis_label\":\"In-House Trading Algorithm\",\"bounds\":\"auto\",\"formatter\":{\"id\":\"3825\"},\"major_label_orientation\":\"horizontal\",\"ticker\":{\"id\":\"3767\"}},\"id\":\"3766\",\"type\":\"CategoricalAxis\"},{\"attributes\":{\"factors\":[\"Algo 1\",\"Algo 2\"],\"tags\":[[[\"Variable\",\"Variable\",null]]]},\"id\":\"3755\",\"type\":\"FactorRange\"},{\"attributes\":{},\"id\":\"3823\",\"type\":\"BasicTickFormatter\"},{\"attributes\":{\"axis\":{\"id\":\"3766\"},\"grid_line_color\":null,\"ticker\":null},\"id\":\"3768\",\"type\":\"Grid\"},{\"attributes\":{},\"id\":\"3830\",\"type\":\"UnionRenderers\"},{\"attributes\":{\"end\":0.11176449781222014,\"reset_end\":0.11176449781222014,\"reset_start\":-0.050455342599294094,\"start\":-0.050455342599294094,\"tags\":[[[\"value\",\"value\",null]]]},\"id\":\"3756\",\"type\":\"Range1d\"},{\"attributes\":{\"axis_label\":\"Returns\",\"bounds\":\"auto\",\"formatter\":{\"id\":\"3823\"},\"major_label_orientation\":\"horizontal\",\"ticker\":{\"id\":\"3770\"}},\"id\":\"3769\",\"type\":\"LinearAxis\"},{\"attributes\":{\"source\":{\"id\":\"3797\"}},\"id\":\"3802\",\"type\":\"CDSView\"},{\"attributes\":{\"data_source\":{\"id\":\"3803\"},\"glyph\":{\"id\":\"3805\"},\"hover_glyph\":null,\"muted_glyph\":null,\"nonselection_glyph\":{\"id\":\"3806\"},\"selection_glyph\":null,\"view\":{\"id\":\"3808\"}},\"id\":\"3807\",\"type\":\"GlyphRenderer\"},{\"attributes\":{},\"id\":\"3831\",\"type\":\"Selection\"},{\"attributes\":{},\"id\":\"3764\",\"type\":\"LinearScale\"},{\"attributes\":{},\"id\":\"3762\",\"type\":\"CategoricalScale\"},{\"attributes\":{},\"id\":\"3835\",\"type\":\"Selection\"},{\"attributes\":{\"line_alpha\":{\"value\":0.1},\"x0\":{\"field\":\"x0\"},\"x1\":{\"field\":\"x1\"},\"y0\":{\"field\":\"y0\"},\"y1\":{\"field\":\"y1\"}},\"id\":\"3806\",\"type\":\"Segment\"},{\"attributes\":{\"data\":{\"bottom\":{\"__ndarray__\":\"ffcSQ05LcD9miwsdjUZ1Pw==\",\"dtype\":\"float64\",\"shape\":[2]},\"index\":[\"Algo 1\",\"Algo 2\"],\"top\":{\"__ndarray__\":\"wap7pyejIT8pPbwCLQ1DPw==\",\"dtype\":\"float64\",\"shape\":[2]}},\"selected\":{\"id\":\"3865\"},\"selection_policy\":{\"id\":\"3864\"}},\"id\":\"3815\",\"type\":\"ColumnDataSource\"},{\"attributes\":{},\"id\":\"3773\",\"type\":\"SaveTool\"},{\"attributes\":{\"margin\":[5,5,5,5],\"name\":\"HSpacer04670\",\"sizing_mode\":\"stretch_width\"},\"id\":\"3869\",\"type\":\"Spacer\"},{\"attributes\":{},\"id\":\"3825\",\"type\":\"CategoricalTickFormatter\"},{\"attributes\":{},\"id\":\"3774\",\"type\":\"PanTool\"},{\"attributes\":{},\"id\":\"3775\",\"type\":\"WheelZoomTool\"},{\"attributes\":{\"source\":{\"id\":\"3791\"}},\"id\":\"3796\",\"type\":\"CDSView\"},{\"attributes\":{},\"id\":\"3832\",\"type\":\"UnionRenderers\"},{\"attributes\":{\"overlay\":{\"id\":\"3778\"}},\"id\":\"3776\",\"type\":\"BoxZoomTool\"},{\"attributes\":{},\"id\":\"3777\",\"type\":\"ResetTool\"},{\"attributes\":{},\"id\":\"3833\",\"type\":\"Selection\"},{\"attributes\":{\"data_source\":{\"id\":\"3809\"},\"glyph\":{\"id\":\"3811\"},\"hover_glyph\":null,\"muted_glyph\":null,\"nonselection_glyph\":{\"id\":\"3812\"},\"selection_glyph\":null,\"view\":{\"id\":\"3814\"}},\"id\":\"3813\",\"type\":\"GlyphRenderer\"},{\"attributes\":{\"active_drag\":\"auto\",\"active_inspect\":\"auto\",\"active_multi\":null,\"active_scroll\":\"auto\",\"active_tap\":\"auto\",\"tools\":[{\"id\":\"3773\"},{\"id\":\"3774\"},{\"id\":\"3775\"},{\"id\":\"3776\"},{\"id\":\"3777\"}]},\"id\":\"3779\",\"type\":\"Toolbar\"},{\"attributes\":{\"below\":[{\"id\":\"3766\"}],\"center\":[{\"id\":\"3768\"},{\"id\":\"3772\"},{\"id\":\"3837\"}],\"left\":[{\"id\":\"3769\"}],\"margin\":null,\"min_border_bottom\":10,\"min_border_left\":10,\"min_border_right\":10,\"min_border_top\":10,\"plot_height\":300,\"plot_width\":700,\"renderers\":[{\"id\":\"3789\"},{\"id\":\"3795\"},{\"id\":\"3801\"},{\"id\":\"3807\"},{\"id\":\"3813\"},{\"id\":\"3819\"},{\"id\":\"3843\"}],\"sizing_mode\":\"fixed\",\"title\":{\"id\":\"3758\"},\"toolbar\":{\"id\":\"3779\"},\"x_range\":{\"id\":\"3755\"},\"x_scale\":{\"id\":\"3762\"},\"y_range\":{\"id\":\"3756\"},\"y_scale\":{\"id\":\"3764\"}},\"id\":\"3757\",\"subtype\":\"Figure\",\"type\":\"Plot\"},{\"attributes\":{\"data_source\":{\"id\":\"3791\"},\"glyph\":{\"id\":\"3793\"},\"hover_glyph\":null,\"muted_glyph\":null,\"nonselection_glyph\":{\"id\":\"3794\"},\"selection_glyph\":null,\"view\":{\"id\":\"3796\"}},\"id\":\"3795\",\"type\":\"GlyphRenderer\"},{\"attributes\":{\"data\":{\"bottom\":{\"__ndarray__\":\"wap7pyejIT8pPbwCLQ1DPw==\",\"dtype\":\"float64\",\"shape\":[2]},\"index\":[\"Algo 1\",\"Algo 2\"],\"top\":{\"__ndarray__\":\"zgIZN9iGar+rCi7UAJRuvw==\",\"dtype\":\"float64\",\"shape\":[2]}},\"selected\":{\"id\":\"3867\"},\"selection_policy\":{\"id\":\"3866\"}},\"id\":\"3839\",\"type\":\"ColumnDataSource\"},{\"attributes\":{\"fill_color\":{\"value\":\"black\"},\"x\":{\"field\":\"index\"},\"y\":{\"field\":\"value\"}},\"id\":\"3787\",\"type\":\"Circle\"},{\"attributes\":{},\"id\":\"3834\",\"type\":\"UnionRenderers\"},{\"attributes\":{\"x0\":{\"field\":\"x0\"},\"x1\":{\"field\":\"x1\"},\"y0\":{\"field\":\"y0\"},\"y1\":{\"field\":\"y1\"}},\"id\":\"3793\",\"type\":\"Segment\"},{\"attributes\":{\"fill_alpha\":{\"value\":0.1},\"fill_color\":{\"value\":\"black\"},\"line_alpha\":{\"value\":0.1},\"x\":{\"field\":\"index\"},\"y\":{\"field\":\"value\"}},\"id\":\"3788\",\"type\":\"Circle\"},{\"attributes\":{\"x0\":{\"field\":\"x0\"},\"x1\":{\"field\":\"x1\"},\"y0\":{\"field\":\"y0\"},\"y1\":{\"field\":\"y1\"}},\"id\":\"3799\",\"type\":\"Segment\"},{\"attributes\":{\"data\":{\"x0\":[\"Algo 1\",\"Algo 2\"],\"x1\":[\"Algo 1\",\"Algo 2\"],\"y0\":{\"__ndarray__\":\"Oy4UIUe3jL/jijV8RnyRvw==\",\"dtype\":\"float64\",\"shape\":[2]},\"y1\":{\"__ndarray__\":\"zgIZN9iGar+rCi7UAJRuvw==\",\"dtype\":\"float64\",\"shape\":[2]}},\"selected\":{\"id\":\"3831\"},\"selection_policy\":{\"id\":\"3830\"}},\"id\":\"3797\",\"type\":\"ColumnDataSource\"},{\"attributes\":{\"margin\":[5,5,5,5],\"name\":\"HSpacer04669\",\"sizing_mode\":\"stretch_width\"},\"id\":\"3754\",\"type\":\"Spacer\"},{\"attributes\":{\"source\":{\"id\":\"3815\"}},\"id\":\"3820\",\"type\":\"CDSView\"},{\"attributes\":{\"data\":{\"x0\":[\"Algo 1\",\"Algo 2\"],\"x1\":[\"Algo 1\",\"Algo 2\"],\"y0\":{\"__ndarray__\":\"Q7vwS040jj9oUBVNccWSPw==\",\"dtype\":\"float64\",\"shape\":[2]},\"y1\":{\"__ndarray__\":\"ffcSQ05LcD9miwsdjUZ1Pw==\",\"dtype\":\"float64\",\"shape\":[2]}},\"selected\":{\"id\":\"3829\"},\"selection_policy\":{\"id\":\"3828\"}},\"id\":\"3791\",\"type\":\"ColumnDataSource\"},{\"attributes\":{\"children\":[{\"id\":\"3754\"},{\"id\":\"3757\"},{\"id\":\"3869\"}],\"margin\":[0,0,0,0],\"name\":\"Row04665\",\"tags\":[\"embedded\"]},\"id\":\"3753\",\"type\":\"Row\"},{\"attributes\":{\"source\":{\"id\":\"3785\"}},\"id\":\"3790\",\"type\":\"CDSView\"},{\"attributes\":{\"x0\":{\"field\":\"x0\"},\"x1\":{\"field\":\"x1\"},\"y0\":{\"field\":\"y0\"},\"y1\":{\"field\":\"y1\"}},\"id\":\"3805\",\"type\":\"Segment\"},{\"attributes\":{\"bottom_units\":\"screen\",\"fill_alpha\":0.5,\"fill_color\":\"lightgrey\",\"left_units\":\"screen\",\"level\":\"overlay\",\"line_alpha\":1.0,\"line_color\":\"black\",\"line_dash\":[4,4],\"line_width\":2,\"render_mode\":\"css\",\"right_units\":\"screen\",\"top_units\":\"screen\"},\"id\":\"3778\",\"type\":\"BoxAnnotation\"},{\"attributes\":{\"x0\":{\"field\":\"x0\"},\"x1\":{\"field\":\"x1\"},\"y0\":{\"field\":\"y0\"},\"y1\":{\"field\":\"y1\"}},\"id\":\"3811\",\"type\":\"Segment\"},{\"attributes\":{\"bottom\":{\"field\":\"bottom\"},\"fill_alpha\":{\"value\":0.1},\"fill_color\":{\"value\":\"#1f77b3\"},\"line_alpha\":{\"value\":0.1},\"top\":{\"field\":\"top\"},\"width\":{\"value\":0.7},\"x\":{\"field\":\"index\"}},\"id\":\"3842\",\"type\":\"VBar\"},{\"attributes\":{\"bottom\":{\"field\":\"bottom\"},\"fill_alpha\":{\"value\":0.1},\"fill_color\":{\"value\":\"#1f77b3\"},\"line_alpha\":{\"value\":0.1},\"top\":{\"field\":\"top\"},\"width\":{\"value\":0.7},\"x\":{\"field\":\"index\"}},\"id\":\"3818\",\"type\":\"VBar\"},{\"attributes\":{\"data_source\":{\"id\":\"3839\"},\"glyph\":{\"id\":\"3841\"},\"hover_glyph\":null,\"muted_glyph\":null,\"nonselection_glyph\":{\"id\":\"3842\"},\"selection_glyph\":null,\"view\":{\"id\":\"3844\"}},\"id\":\"3843\",\"type\":\"GlyphRenderer\"},{\"attributes\":{\"data_source\":{\"id\":\"3785\"},\"glyph\":{\"id\":\"3787\"},\"hover_glyph\":null,\"muted_glyph\":null,\"nonselection_glyph\":{\"id\":\"3788\"},\"selection_glyph\":null,\"view\":{\"id\":\"3790\"}},\"id\":\"3789\",\"type\":\"GlyphRenderer\"},{\"attributes\":{\"data\":{\"index\":[\"Algo 1\",\"Algo 1\",\"Algo 1\",\"Algo 1\",\"Algo 1\",\"Algo 1\",\"Algo 1\",\"Algo 1\",\"Algo 1\",\"Algo 1\",\"Algo 1\",\"Algo 1\",\"Algo 1\",\"Algo 1\",\"Algo 1\",\"Algo 1\",\"Algo 1\",\"Algo 1\",\"Algo 1\",\"Algo 1\",\"Algo 1\",\"Algo 1\",\"Algo 1\",\"Algo 1\",\"Algo 1\",\"Algo 1\",\"Algo 1\",\"Algo 1\",\"Algo 1\",\"Algo 1\",\"Algo 1\",\"Algo 1\",\"Algo 1\",\"Algo 1\",\"Algo 1\",\"Algo 1\",\"Algo 1\",\"Algo 1\",\"Algo 1\",\"Algo 1\",\"Algo 1\",\"Algo 1\",\"Algo 1\",\"Algo 1\",\"Algo 1\",\"Algo 1\",\"Algo 1\",\"Algo 1\",\"Algo 1\",\"Algo 1\",\"Algo 1\",\"Algo 1\",\"Algo 1\",\"Algo 1\",\"Algo 1\",\"Algo 1\",\"Algo 1\",\"Algo 1\",\"Algo 1\",\"Algo 1\",\"Algo 1\",\"Algo 1\",\"Algo 1\",\"Algo 1\",\"Algo 1\",\"Algo 1\",\"Algo 1\",\"Algo 1\",\"Algo 1\",\"Algo 2\",\"Algo 2\",\"Algo 2\",\"Algo 2\",\"Algo 2\",\"Algo 2\",\"Algo 2\",\"Algo 2\",\"Algo 2\",\"Algo 2\",\"Algo 2\",\"Algo 2\",\"Algo 2\",\"Algo 2\",\"Algo 2\",\"Algo 2\",\"Algo 2\",\"Algo 2\",\"Algo 2\",\"Algo 2\",\"Algo 2\",\"Algo 2\",\"Algo 2\",\"Algo 2\",\"Algo 2\",\"Algo 2\",\"Algo 2\",\"Algo 2\",\"Algo 2\",\"Algo 2\",\"Algo 2\",\"Algo 2\",\"Algo 2\",\"Algo 2\",\"Algo 2\",\"Algo 2\",\"Algo 2\",\"Algo 2\",\"Algo 2\",\"Algo 2\",\"Algo 2\",\"Algo 2\",\"Algo 2\",\"Algo 2\",\"Algo 2\",\"Algo 2\",\"Algo 2\",\"Algo 2\",\"Algo 2\",\"Algo 2\",\"Algo 2\",\"Algo 2\",\"Algo 2\"],\"value\":{\"__ndarray__\":\"f2wWUgc4kL/9zP1wDfmSvypY1L9mIpY/DmGDWKkmuT/Jy9BbVS+WP44rjfOU7pU/1h33CisWkT+qlc2O5AmWv3zmwpesapC/gE96ObF+kL8r3kVXOnaSP1abgRSp45O/W9epnllRkr/VcV81gxKPP4SAHGay+o2/UmWCpJ0ej79l1yIi6tWTP9uEarXi3Z8/hzrqgO21kT9O2Sk49lOQP+a6SH1K/Zc/2QQtn8STkb9qXMjBGmuVP2wi/ooXA5o/sxy2u60Dmz/TqGxFxe+TP4XaVq3EBqU/V3bgjG2Snz8gAym1MvWRvzB1dD7AdI8/cRq95sCUkT8GmyKdq7GfvxlL4wy/8pk/LWeeF4Zxlb/Z83XRFHScvxZvDjS+/Zo/BoOCukhamz+tJ1XQBmmRv7LN8mxmaJM/U30FOP1+kT/NkmJAbnmhP0bcJzpQRpE/3pnc0hBKlb80b6WaYHSUP4s3Jnf+Lpa/5B+LdW3vmr88sgd4J66SPwXQNImbTI2/EQr1iudMmD9qBNELadSOPxQhz/KqWJG/5DnDcd/zkD9+ZqdXkyOPPww7pmcKM5E/ChSGIO55lj86/GzoAmSTv4SGhyjIoY6/RdmdHcGulj9w1FY7DQqdP3YrPm77+ak/UR27LX8Ljz9ftiHGbiuWP83PXOoXi5C/DJpxxay4mr8swE4NG1GSv7z5lrbAS5c/BMxyaHXGqT/6EkgrWDmPP5c7C/R6C5I/EufF28s1k7/RgpyUl2+1PzzjGH3mo5U/Tt3c/y9OmL9xuPiMYVWTv2ZJ289o6aK/ITZoDfBilD/dMnzvKeKWP/5QHZg7M5e/XsIVSkvLmr+oZPbbir2TP7SJN0/6bpQ/mrr5c5WEkr9z8sX6R8Kdv+4d95y75JK/n/zseIbznL+MJMWwxZeUv8ywA3M+LZc/pZHzIE0UlD8+XXGyY22ZP3Vr2TvS/JO/qDscd+vWlb/TrB7xOOGTP3fxEbecEpc/OXMr9YSKkz8iLrtyY1mXvzD+fz29a5e/DlHfU+9tkr98Y912GuCcv3Vp9TaTY5m/18F2kdS5lD/z07dLm0qZv5H8EbNcXZK/hf8fSnj3lL/8I8n4Wh2Uv6W3Ia4zc5W/9nL7rRb9lL+J1/YJDdmfv4EezUadspm/Zj9qlozUkb83Bd82oJKSv8ewjZ4JdJq/Nu4CcrITkz9DEB9r5Bqbv01jrLivkpM/LedrILualD9auoDPLFygvxWp+keFrpm/ZExgOSpdmL+AO0ijoieWv6s0bsvhj58/f0y9H8w9nz/UXCGyi3OVvw==\",\"dtype\":\"float64\",\"shape\":[122]}},\"selected\":{\"id\":\"3827\"},\"selection_policy\":{\"id\":\"3826\"}},\"id\":\"3785\",\"type\":\"ColumnDataSource\"},{\"attributes\":{\"bottom\":{\"field\":\"bottom\"},\"fill_color\":{\"value\":\"#1f77b3\"},\"top\":{\"field\":\"top\"},\"width\":{\"value\":0.7},\"x\":{\"field\":\"index\"}},\"id\":\"3841\",\"type\":\"VBar\"},{\"attributes\":{\"source\":{\"id\":\"3839\"}},\"id\":\"3844\",\"type\":\"CDSView\"},{\"attributes\":{\"line_alpha\":{\"value\":0.1},\"x0\":{\"field\":\"x0\"},\"x1\":{\"field\":\"x1\"},\"y0\":{\"field\":\"y0\"},\"y1\":{\"field\":\"y1\"}},\"id\":\"3794\",\"type\":\"Segment\"}],\"root_ids\":[\"3753\"]},\"title\":\"Bokeh Application\",\"version\":\"2.0.2\"}};\n",
       "  var render_items = [{\"docid\":\"58ad572b-97d4-495d-8af6-590eeb25d4f1\",\"root_ids\":[\"3753\"],\"roots\":{\"3753\":\"f13a8708-bfb1-440c-85af-c64082aebe1f\"}}];\n",
       "  root.Bokeh.embed.embed_items_notebook(docs_json, render_items);\n",
       "  }\n",
       "if (root.Bokeh !== undefined) {\n",
       "    embed_document(root);\n",
       "  } else {\n",
       "    var attempts = 0;\n",
       "    var timer = setInterval(function(root) {\n",
       "      if (root.Bokeh !== undefined) {\n",
       "        clearInterval(timer);\n",
       "        embed_document(root);\n",
       "      } else if (document.readyState == \"complete\") {\n",
       "        attempts++;\n",
       "        if (attempts > 100) {\n",
       "          clearInterval(timer);\n",
       "          console.log(\"Bokeh: ERROR: Unable to run BokehJS code because BokehJS library is missing\");\n",
       "        }\n",
       "      }\n",
       "    }, 10, root)\n",
       "  }\n",
       "})(window);</script>"
      ]
     },
     "metadata": {
      "application/vnd.holoviews_exec.v0+json": {
       "id": "3753"
      }
     },
     "execution_count": 253
    }
   ],
   "metadata": {}
  },
  {
   "cell_type": "code",
   "execution_count": 254,
   "source": [
    "# Calculate the daily standard deviations of all portfolios \r\n",
    "returns_std = pd.concat([whale_df, algo_df], axis=\"columns\", join=\"inner\")\r\n",
    "returns_std.sort_index(inplace=True)\r\n",
    "daily_std = returns_std.std()\r\n",
    "daily_std\r\n"
   ],
   "outputs": [
    {
     "output_type": "execute_result",
     "data": {
      "text/plain": [
       "SOROS FUND MANAGEMENT LLC      0.007879\n",
       "PAULSON & CO.INC.              0.007010\n",
       "TIGER GLOBAL MANAGEMENT LLC    0.010876\n",
       "BERKSHIRE HATHAWAY INC         0.012892\n",
       "Algo 1                         0.007602\n",
       "Algo 2                         0.008323\n",
       "dtype: float64"
      ]
     },
     "metadata": {},
     "execution_count": 254
    }
   ],
   "metadata": {}
  },
  {
   "cell_type": "code",
   "execution_count": 255,
   "source": [
    "# Identify the stock with the most risk\r\n",
    "daily_std = daily_std.sort_values(ascending=False)\r\n",
    "daily_std\r\n"
   ],
   "outputs": [
    {
     "output_type": "execute_result",
     "data": {
      "text/plain": [
       "BERKSHIRE HATHAWAY INC         0.012892\n",
       "TIGER GLOBAL MANAGEMENT LLC    0.010876\n",
       "Algo 2                         0.008323\n",
       "SOROS FUND MANAGEMENT LLC      0.007879\n",
       "Algo 1                         0.007602\n",
       "PAULSON & CO.INC.              0.007010\n",
       "dtype: float64"
      ]
     },
     "metadata": {},
     "execution_count": 255
    }
   ],
   "metadata": {}
  },
  {
   "cell_type": "code",
   "execution_count": 256,
   "source": [
    "# Calculate the daily standard deviation of the S&P 500\r\n",
    "sp500_df_daily.std()"
   ],
   "outputs": [
    {
     "output_type": "execute_result",
     "data": {
      "text/plain": [
       "S&P_500    0.008135\n",
       "dtype: float64"
      ]
     },
     "metadata": {},
     "execution_count": 256
    }
   ],
   "metadata": {}
  },
  {
   "cell_type": "code",
   "execution_count": 257,
   "source": [
    "# Calculate the annualized standard deviation(asd) (252 trading days)\r\n",
    "volatility = returns_std.std() * np.sqrt(252)\r\n",
    "volatility.sort_values(inplace=True)\r\n",
    "volatility"
   ],
   "outputs": [
    {
     "output_type": "execute_result",
     "data": {
      "text/plain": [
       "PAULSON & CO.INC.              0.111281\n",
       "Algo 1                         0.120679\n",
       "SOROS FUND MANAGEMENT LLC      0.125080\n",
       "Algo 2                         0.132131\n",
       "TIGER GLOBAL MANAGEMENT LLC    0.172648\n",
       "BERKSHIRE HATHAWAY INC         0.204650\n",
       "dtype: float64"
      ]
     },
     "metadata": {},
     "execution_count": 257
    }
   ],
   "metadata": {}
  },
  {
   "cell_type": "code",
   "execution_count": 258,
   "source": [
    "# Rolling Statistics"
   ],
   "outputs": [],
   "metadata": {}
  },
  {
   "cell_type": "code",
   "execution_count": 259,
   "source": [
    "# Calculate the rolling standard deviation for all portfolios using a 21-day window\r\n",
    "returns_21 = three_returns.rolling(window=21).std()\r\n",
    "returns_21"
   ],
   "outputs": [
    {
     "output_type": "execute_result",
     "data": {
      "text/plain": [
       "            SOROS_FUND_MGMT_LLC  PAULSON_&_CO_INC  TIGER_GLOBAL_MGMT_LLC  \\\n",
       "Date                                                                       \n",
       "2015-03-04                  NaN               NaN                    NaN   \n",
       "2015-03-05                  NaN               NaN                    NaN   \n",
       "2015-03-06                  NaN               NaN                    NaN   \n",
       "2015-03-09                  NaN               NaN                    NaN   \n",
       "2015-03-10                  NaN               NaN                    NaN   \n",
       "...                         ...               ...                    ...   \n",
       "2019-04-15             8.626427          5.199824              10.330389   \n",
       "2019-04-16             8.605039          5.199858              10.307832   \n",
       "2019-04-17             8.602155          6.127927               9.803148   \n",
       "2019-04-18             5.345560          6.117782               9.812138   \n",
       "2019-04-22             5.305498          6.233396               9.852388   \n",
       "\n",
       "            BERKSHIRE_HATHAWAY_INC     Algo_1     Algo_2   S&P_500  \n",
       "Date                                                                \n",
       "2015-03-04                     NaN        NaN        NaN       NaN  \n",
       "2015-03-05                     NaN        NaN        NaN       NaN  \n",
       "2015-03-06                     NaN        NaN        NaN       NaN  \n",
       "2015-03-09                     NaN        NaN        NaN       NaN  \n",
       "2015-03-10                     NaN        NaN        NaN       NaN  \n",
       "...                            ...        ...        ...       ...  \n",
       "2019-04-15                7.883090  16.056634  12.204205  0.006532  \n",
       "2019-04-16                7.871626  16.057707  12.142604  0.006571  \n",
       "2019-04-17                7.870612  16.035317  12.131804  0.006505  \n",
       "2019-04-18                7.881522  16.056823  12.145723  0.006137  \n",
       "2019-04-22                3.598111  16.072010  12.074871  0.004302  \n",
       "\n",
       "[1028 rows x 7 columns]"
      ],
      "text/html": [
       "<div>\n",
       "<style scoped>\n",
       "    .dataframe tbody tr th:only-of-type {\n",
       "        vertical-align: middle;\n",
       "    }\n",
       "\n",
       "    .dataframe tbody tr th {\n",
       "        vertical-align: top;\n",
       "    }\n",
       "\n",
       "    .dataframe thead th {\n",
       "        text-align: right;\n",
       "    }\n",
       "</style>\n",
       "<table border=\"1\" class=\"dataframe\">\n",
       "  <thead>\n",
       "    <tr style=\"text-align: right;\">\n",
       "      <th></th>\n",
       "      <th>SOROS_FUND_MGMT_LLC</th>\n",
       "      <th>PAULSON_&amp;_CO_INC</th>\n",
       "      <th>TIGER_GLOBAL_MGMT_LLC</th>\n",
       "      <th>BERKSHIRE_HATHAWAY_INC</th>\n",
       "      <th>Algo_1</th>\n",
       "      <th>Algo_2</th>\n",
       "      <th>S&amp;P_500</th>\n",
       "    </tr>\n",
       "    <tr>\n",
       "      <th>Date</th>\n",
       "      <th></th>\n",
       "      <th></th>\n",
       "      <th></th>\n",
       "      <th></th>\n",
       "      <th></th>\n",
       "      <th></th>\n",
       "      <th></th>\n",
       "    </tr>\n",
       "  </thead>\n",
       "  <tbody>\n",
       "    <tr>\n",
       "      <th>2015-03-04</th>\n",
       "      <td>NaN</td>\n",
       "      <td>NaN</td>\n",
       "      <td>NaN</td>\n",
       "      <td>NaN</td>\n",
       "      <td>NaN</td>\n",
       "      <td>NaN</td>\n",
       "      <td>NaN</td>\n",
       "    </tr>\n",
       "    <tr>\n",
       "      <th>2015-03-05</th>\n",
       "      <td>NaN</td>\n",
       "      <td>NaN</td>\n",
       "      <td>NaN</td>\n",
       "      <td>NaN</td>\n",
       "      <td>NaN</td>\n",
       "      <td>NaN</td>\n",
       "      <td>NaN</td>\n",
       "    </tr>\n",
       "    <tr>\n",
       "      <th>2015-03-06</th>\n",
       "      <td>NaN</td>\n",
       "      <td>NaN</td>\n",
       "      <td>NaN</td>\n",
       "      <td>NaN</td>\n",
       "      <td>NaN</td>\n",
       "      <td>NaN</td>\n",
       "      <td>NaN</td>\n",
       "    </tr>\n",
       "    <tr>\n",
       "      <th>2015-03-09</th>\n",
       "      <td>NaN</td>\n",
       "      <td>NaN</td>\n",
       "      <td>NaN</td>\n",
       "      <td>NaN</td>\n",
       "      <td>NaN</td>\n",
       "      <td>NaN</td>\n",
       "      <td>NaN</td>\n",
       "    </tr>\n",
       "    <tr>\n",
       "      <th>2015-03-10</th>\n",
       "      <td>NaN</td>\n",
       "      <td>NaN</td>\n",
       "      <td>NaN</td>\n",
       "      <td>NaN</td>\n",
       "      <td>NaN</td>\n",
       "      <td>NaN</td>\n",
       "      <td>NaN</td>\n",
       "    </tr>\n",
       "    <tr>\n",
       "      <th>...</th>\n",
       "      <td>...</td>\n",
       "      <td>...</td>\n",
       "      <td>...</td>\n",
       "      <td>...</td>\n",
       "      <td>...</td>\n",
       "      <td>...</td>\n",
       "      <td>...</td>\n",
       "    </tr>\n",
       "    <tr>\n",
       "      <th>2019-04-15</th>\n",
       "      <td>8.626427</td>\n",
       "      <td>5.199824</td>\n",
       "      <td>10.330389</td>\n",
       "      <td>7.883090</td>\n",
       "      <td>16.056634</td>\n",
       "      <td>12.204205</td>\n",
       "      <td>0.006532</td>\n",
       "    </tr>\n",
       "    <tr>\n",
       "      <th>2019-04-16</th>\n",
       "      <td>8.605039</td>\n",
       "      <td>5.199858</td>\n",
       "      <td>10.307832</td>\n",
       "      <td>7.871626</td>\n",
       "      <td>16.057707</td>\n",
       "      <td>12.142604</td>\n",
       "      <td>0.006571</td>\n",
       "    </tr>\n",
       "    <tr>\n",
       "      <th>2019-04-17</th>\n",
       "      <td>8.602155</td>\n",
       "      <td>6.127927</td>\n",
       "      <td>9.803148</td>\n",
       "      <td>7.870612</td>\n",
       "      <td>16.035317</td>\n",
       "      <td>12.131804</td>\n",
       "      <td>0.006505</td>\n",
       "    </tr>\n",
       "    <tr>\n",
       "      <th>2019-04-18</th>\n",
       "      <td>5.345560</td>\n",
       "      <td>6.117782</td>\n",
       "      <td>9.812138</td>\n",
       "      <td>7.881522</td>\n",
       "      <td>16.056823</td>\n",
       "      <td>12.145723</td>\n",
       "      <td>0.006137</td>\n",
       "    </tr>\n",
       "    <tr>\n",
       "      <th>2019-04-22</th>\n",
       "      <td>5.305498</td>\n",
       "      <td>6.233396</td>\n",
       "      <td>9.852388</td>\n",
       "      <td>3.598111</td>\n",
       "      <td>16.072010</td>\n",
       "      <td>12.074871</td>\n",
       "      <td>0.004302</td>\n",
       "    </tr>\n",
       "  </tbody>\n",
       "</table>\n",
       "<p>1028 rows × 7 columns</p>\n",
       "</div>"
      ]
     },
     "metadata": {},
     "execution_count": 259
    }
   ],
   "metadata": {}
  },
  {
   "cell_type": "code",
   "execution_count": 260,
   "source": [
    "returns_21 = returns_21.dropna()\r\n",
    "returns_21"
   ],
   "outputs": [
    {
     "output_type": "execute_result",
     "data": {
      "text/plain": [
       "            SOROS_FUND_MGMT_LLC  PAULSON_&_CO_INC  TIGER_GLOBAL_MGMT_LLC  \\\n",
       "Date                                                                       \n",
       "2015-04-01            25.738805          2.543597               7.790222   \n",
       "2015-04-02            25.783124          6.440469               7.743646   \n",
       "2015-04-06            25.786745          6.441953               7.738737   \n",
       "2015-04-07            25.797658          6.428786               7.682228   \n",
       "2015-04-08            25.779682         17.677820               7.694878   \n",
       "...                         ...               ...                    ...   \n",
       "2019-04-15             8.626427          5.199824              10.330389   \n",
       "2019-04-16             8.605039          5.199858              10.307832   \n",
       "2019-04-17             8.602155          6.127927               9.803148   \n",
       "2019-04-18             5.345560          6.117782               9.812138   \n",
       "2019-04-22             5.305498          6.233396               9.852388   \n",
       "\n",
       "            BERKSHIRE_HATHAWAY_INC     Algo_1     Algo_2   S&P_500  \n",
       "Date                                                                \n",
       "2015-04-01                6.152640   2.405490   6.531348  0.009128  \n",
       "2015-04-02                6.150680   2.257687   6.463892  0.009260  \n",
       "2015-04-06                6.156434   2.439476   6.464576  0.008711  \n",
       "2015-04-07                6.116056   2.172527   6.407041  0.008687  \n",
       "2015-04-08                6.209570   2.271321   6.433593  0.007772  \n",
       "...                            ...        ...        ...       ...  \n",
       "2019-04-15                7.883090  16.056634  12.204205  0.006532  \n",
       "2019-04-16                7.871626  16.057707  12.142604  0.006571  \n",
       "2019-04-17                7.870612  16.035317  12.131804  0.006505  \n",
       "2019-04-18                7.881522  16.056823  12.145723  0.006137  \n",
       "2019-04-22                3.598111  16.072010  12.074871  0.004302  \n",
       "\n",
       "[542 rows x 7 columns]"
      ],
      "text/html": [
       "<div>\n",
       "<style scoped>\n",
       "    .dataframe tbody tr th:only-of-type {\n",
       "        vertical-align: middle;\n",
       "    }\n",
       "\n",
       "    .dataframe tbody tr th {\n",
       "        vertical-align: top;\n",
       "    }\n",
       "\n",
       "    .dataframe thead th {\n",
       "        text-align: right;\n",
       "    }\n",
       "</style>\n",
       "<table border=\"1\" class=\"dataframe\">\n",
       "  <thead>\n",
       "    <tr style=\"text-align: right;\">\n",
       "      <th></th>\n",
       "      <th>SOROS_FUND_MGMT_LLC</th>\n",
       "      <th>PAULSON_&amp;_CO_INC</th>\n",
       "      <th>TIGER_GLOBAL_MGMT_LLC</th>\n",
       "      <th>BERKSHIRE_HATHAWAY_INC</th>\n",
       "      <th>Algo_1</th>\n",
       "      <th>Algo_2</th>\n",
       "      <th>S&amp;P_500</th>\n",
       "    </tr>\n",
       "    <tr>\n",
       "      <th>Date</th>\n",
       "      <th></th>\n",
       "      <th></th>\n",
       "      <th></th>\n",
       "      <th></th>\n",
       "      <th></th>\n",
       "      <th></th>\n",
       "      <th></th>\n",
       "    </tr>\n",
       "  </thead>\n",
       "  <tbody>\n",
       "    <tr>\n",
       "      <th>2015-04-01</th>\n",
       "      <td>25.738805</td>\n",
       "      <td>2.543597</td>\n",
       "      <td>7.790222</td>\n",
       "      <td>6.152640</td>\n",
       "      <td>2.405490</td>\n",
       "      <td>6.531348</td>\n",
       "      <td>0.009128</td>\n",
       "    </tr>\n",
       "    <tr>\n",
       "      <th>2015-04-02</th>\n",
       "      <td>25.783124</td>\n",
       "      <td>6.440469</td>\n",
       "      <td>7.743646</td>\n",
       "      <td>6.150680</td>\n",
       "      <td>2.257687</td>\n",
       "      <td>6.463892</td>\n",
       "      <td>0.009260</td>\n",
       "    </tr>\n",
       "    <tr>\n",
       "      <th>2015-04-06</th>\n",
       "      <td>25.786745</td>\n",
       "      <td>6.441953</td>\n",
       "      <td>7.738737</td>\n",
       "      <td>6.156434</td>\n",
       "      <td>2.439476</td>\n",
       "      <td>6.464576</td>\n",
       "      <td>0.008711</td>\n",
       "    </tr>\n",
       "    <tr>\n",
       "      <th>2015-04-07</th>\n",
       "      <td>25.797658</td>\n",
       "      <td>6.428786</td>\n",
       "      <td>7.682228</td>\n",
       "      <td>6.116056</td>\n",
       "      <td>2.172527</td>\n",
       "      <td>6.407041</td>\n",
       "      <td>0.008687</td>\n",
       "    </tr>\n",
       "    <tr>\n",
       "      <th>2015-04-08</th>\n",
       "      <td>25.779682</td>\n",
       "      <td>17.677820</td>\n",
       "      <td>7.694878</td>\n",
       "      <td>6.209570</td>\n",
       "      <td>2.271321</td>\n",
       "      <td>6.433593</td>\n",
       "      <td>0.007772</td>\n",
       "    </tr>\n",
       "    <tr>\n",
       "      <th>...</th>\n",
       "      <td>...</td>\n",
       "      <td>...</td>\n",
       "      <td>...</td>\n",
       "      <td>...</td>\n",
       "      <td>...</td>\n",
       "      <td>...</td>\n",
       "      <td>...</td>\n",
       "    </tr>\n",
       "    <tr>\n",
       "      <th>2019-04-15</th>\n",
       "      <td>8.626427</td>\n",
       "      <td>5.199824</td>\n",
       "      <td>10.330389</td>\n",
       "      <td>7.883090</td>\n",
       "      <td>16.056634</td>\n",
       "      <td>12.204205</td>\n",
       "      <td>0.006532</td>\n",
       "    </tr>\n",
       "    <tr>\n",
       "      <th>2019-04-16</th>\n",
       "      <td>8.605039</td>\n",
       "      <td>5.199858</td>\n",
       "      <td>10.307832</td>\n",
       "      <td>7.871626</td>\n",
       "      <td>16.057707</td>\n",
       "      <td>12.142604</td>\n",
       "      <td>0.006571</td>\n",
       "    </tr>\n",
       "    <tr>\n",
       "      <th>2019-04-17</th>\n",
       "      <td>8.602155</td>\n",
       "      <td>6.127927</td>\n",
       "      <td>9.803148</td>\n",
       "      <td>7.870612</td>\n",
       "      <td>16.035317</td>\n",
       "      <td>12.131804</td>\n",
       "      <td>0.006505</td>\n",
       "    </tr>\n",
       "    <tr>\n",
       "      <th>2019-04-18</th>\n",
       "      <td>5.345560</td>\n",
       "      <td>6.117782</td>\n",
       "      <td>9.812138</td>\n",
       "      <td>7.881522</td>\n",
       "      <td>16.056823</td>\n",
       "      <td>12.145723</td>\n",
       "      <td>0.006137</td>\n",
       "    </tr>\n",
       "    <tr>\n",
       "      <th>2019-04-22</th>\n",
       "      <td>5.305498</td>\n",
       "      <td>6.233396</td>\n",
       "      <td>9.852388</td>\n",
       "      <td>3.598111</td>\n",
       "      <td>16.072010</td>\n",
       "      <td>12.074871</td>\n",
       "      <td>0.004302</td>\n",
       "    </tr>\n",
       "  </tbody>\n",
       "</table>\n",
       "<p>542 rows × 7 columns</p>\n",
       "</div>"
      ]
     },
     "metadata": {},
     "execution_count": 260
    }
   ],
   "metadata": {}
  },
  {
   "cell_type": "code",
   "execution_count": 261,
   "source": [
    "# Plot the rolling standard deviation\r\n",
    "returns_21.rolling(window=7).std().plot()"
   ],
   "outputs": [
    {
     "output_type": "execute_result",
     "data": {
      "text/plain": [
       "<matplotlib.axes._subplots.AxesSubplot at 0x288a3c75940>"
      ]
     },
     "metadata": {},
     "execution_count": 261
    },
    {
     "output_type": "display_data",
     "data": {
      "text/plain": [
       "<Figure size 432x288 with 1 Axes>"
      ],
      "image/png": "[encoded data removed]"
     },
     "metadata": {
      "needs_background": "light"
     }
    }
   ],
   "metadata": {}
  },
  {
   "cell_type": "code",
   "execution_count": 262,
   "source": [
    "# Calculate the correlation \r\n",
    "# First, redo daily returns\r\n",
    "daily_ret_redo = returns_21.pct_change()\r\n",
    "daily_ret_redo\r\n"
   ],
   "outputs": [
    {
     "output_type": "execute_result",
     "data": {
      "text/plain": [
       "            SOROS_FUND_MGMT_LLC  PAULSON_&_CO_INC  TIGER_GLOBAL_MGMT_LLC  \\\n",
       "Date                                                                       \n",
       "2015-04-01                  NaN               NaN                    NaN   \n",
       "2015-04-02             0.001722          1.532031              -0.005979   \n",
       "2015-04-06             0.000140          0.000231              -0.000634   \n",
       "2015-04-07             0.000423         -0.002044              -0.007302   \n",
       "2015-04-08            -0.000697          1.749791               0.001647   \n",
       "...                         ...               ...                    ...   \n",
       "2019-04-15            -0.036897         -0.003153               0.001282   \n",
       "2019-04-16            -0.002479          0.000007              -0.002184   \n",
       "2019-04-17            -0.000335          0.178480              -0.048961   \n",
       "2019-04-18            -0.378579         -0.001655               0.000917   \n",
       "2019-04-22            -0.007494          0.018898               0.004102   \n",
       "\n",
       "            BERKSHIRE_HATHAWAY_INC    Algo_1    Algo_2   S&P_500  \n",
       "Date                                                              \n",
       "2015-04-01                     NaN       NaN       NaN       NaN  \n",
       "2015-04-02               -0.000319 -0.061444 -0.010328  0.014444  \n",
       "2015-04-06                0.000935  0.080520  0.000106 -0.059257  \n",
       "2015-04-07               -0.006559 -0.109429 -0.008900 -0.002690  \n",
       "2015-04-08                0.015290  0.045475  0.004144 -0.105358  \n",
       "...                            ...       ...       ...       ...  \n",
       "2019-04-15               -0.000911 -0.000655 -0.000944 -0.003030  \n",
       "2019-04-16               -0.001454  0.000067 -0.005048  0.005930  \n",
       "2019-04-17               -0.000129 -0.001394 -0.000889 -0.010030  \n",
       "2019-04-18                0.001386  0.001341  0.001147 -0.056556  \n",
       "2019-04-22               -0.543475  0.000946 -0.005834 -0.299059  \n",
       "\n",
       "[542 rows x 7 columns]"
      ],
      "text/html": [
       "<div>\n",
       "<style scoped>\n",
       "    .dataframe tbody tr th:only-of-type {\n",
       "        vertical-align: middle;\n",
       "    }\n",
       "\n",
       "    .dataframe tbody tr th {\n",
       "        vertical-align: top;\n",
       "    }\n",
       "\n",
       "    .dataframe thead th {\n",
       "        text-align: right;\n",
       "    }\n",
       "</style>\n",
       "<table border=\"1\" class=\"dataframe\">\n",
       "  <thead>\n",
       "    <tr style=\"text-align: right;\">\n",
       "      <th></th>\n",
       "      <th>SOROS_FUND_MGMT_LLC</th>\n",
       "      <th>PAULSON_&amp;_CO_INC</th>\n",
       "      <th>TIGER_GLOBAL_MGMT_LLC</th>\n",
       "      <th>BERKSHIRE_HATHAWAY_INC</th>\n",
       "      <th>Algo_1</th>\n",
       "      <th>Algo_2</th>\n",
       "      <th>S&amp;P_500</th>\n",
       "    </tr>\n",
       "    <tr>\n",
       "      <th>Date</th>\n",
       "      <th></th>\n",
       "      <th></th>\n",
       "      <th></th>\n",
       "      <th></th>\n",
       "      <th></th>\n",
       "      <th></th>\n",
       "      <th></th>\n",
       "    </tr>\n",
       "  </thead>\n",
       "  <tbody>\n",
       "    <tr>\n",
       "      <th>2015-04-01</th>\n",
       "      <td>NaN</td>\n",
       "      <td>NaN</td>\n",
       "      <td>NaN</td>\n",
       "      <td>NaN</td>\n",
       "      <td>NaN</td>\n",
       "      <td>NaN</td>\n",
       "      <td>NaN</td>\n",
       "    </tr>\n",
       "    <tr>\n",
       "      <th>2015-04-02</th>\n",
       "      <td>0.001722</td>\n",
       "      <td>1.532031</td>\n",
       "      <td>-0.005979</td>\n",
       "      <td>-0.000319</td>\n",
       "      <td>-0.061444</td>\n",
       "      <td>-0.010328</td>\n",
       "      <td>0.014444</td>\n",
       "    </tr>\n",
       "    <tr>\n",
       "      <th>2015-04-06</th>\n",
       "      <td>0.000140</td>\n",
       "      <td>0.000231</td>\n",
       "      <td>-0.000634</td>\n",
       "      <td>0.000935</td>\n",
       "      <td>0.080520</td>\n",
       "      <td>0.000106</td>\n",
       "      <td>-0.059257</td>\n",
       "    </tr>\n",
       "    <tr>\n",
       "      <th>2015-04-07</th>\n",
       "      <td>0.000423</td>\n",
       "      <td>-0.002044</td>\n",
       "      <td>-0.007302</td>\n",
       "      <td>-0.006559</td>\n",
       "      <td>-0.109429</td>\n",
       "      <td>-0.008900</td>\n",
       "      <td>-0.002690</td>\n",
       "    </tr>\n",
       "    <tr>\n",
       "      <th>2015-04-08</th>\n",
       "      <td>-0.000697</td>\n",
       "      <td>1.749791</td>\n",
       "      <td>0.001647</td>\n",
       "      <td>0.015290</td>\n",
       "      <td>0.045475</td>\n",
       "      <td>0.004144</td>\n",
       "      <td>-0.105358</td>\n",
       "    </tr>\n",
       "    <tr>\n",
       "      <th>...</th>\n",
       "      <td>...</td>\n",
       "      <td>...</td>\n",
       "      <td>...</td>\n",
       "      <td>...</td>\n",
       "      <td>...</td>\n",
       "      <td>...</td>\n",
       "      <td>...</td>\n",
       "    </tr>\n",
       "    <tr>\n",
       "      <th>2019-04-15</th>\n",
       "      <td>-0.036897</td>\n",
       "      <td>-0.003153</td>\n",
       "      <td>0.001282</td>\n",
       "      <td>-0.000911</td>\n",
       "      <td>-0.000655</td>\n",
       "      <td>-0.000944</td>\n",
       "      <td>-0.003030</td>\n",
       "    </tr>\n",
       "    <tr>\n",
       "      <th>2019-04-16</th>\n",
       "      <td>-0.002479</td>\n",
       "      <td>0.000007</td>\n",
       "      <td>-0.002184</td>\n",
       "      <td>-0.001454</td>\n",
       "      <td>0.000067</td>\n",
       "      <td>-0.005048</td>\n",
       "      <td>0.005930</td>\n",
       "    </tr>\n",
       "    <tr>\n",
       "      <th>2019-04-17</th>\n",
       "      <td>-0.000335</td>\n",
       "      <td>0.178480</td>\n",
       "      <td>-0.048961</td>\n",
       "      <td>-0.000129</td>\n",
       "      <td>-0.001394</td>\n",
       "      <td>-0.000889</td>\n",
       "      <td>-0.010030</td>\n",
       "    </tr>\n",
       "    <tr>\n",
       "      <th>2019-04-18</th>\n",
       "      <td>-0.378579</td>\n",
       "      <td>-0.001655</td>\n",
       "      <td>0.000917</td>\n",
       "      <td>0.001386</td>\n",
       "      <td>0.001341</td>\n",
       "      <td>0.001147</td>\n",
       "      <td>-0.056556</td>\n",
       "    </tr>\n",
       "    <tr>\n",
       "      <th>2019-04-22</th>\n",
       "      <td>-0.007494</td>\n",
       "      <td>0.018898</td>\n",
       "      <td>0.004102</td>\n",
       "      <td>-0.543475</td>\n",
       "      <td>0.000946</td>\n",
       "      <td>-0.005834</td>\n",
       "      <td>-0.299059</td>\n",
       "    </tr>\n",
       "  </tbody>\n",
       "</table>\n",
       "<p>542 rows × 7 columns</p>\n",
       "</div>"
      ]
     },
     "metadata": {},
     "execution_count": 262
    }
   ],
   "metadata": {}
  },
  {
   "cell_type": "code",
   "execution_count": 263,
   "source": [
    "# Drop na's\r\n",
    "daily_ret_redo = daily_ret_redo.dropna()\r\n",
    "daily_ret_redo"
   ],
   "outputs": [
    {
     "output_type": "execute_result",
     "data": {
      "text/plain": [
       "            SOROS_FUND_MGMT_LLC  PAULSON_&_CO_INC  TIGER_GLOBAL_MGMT_LLC  \\\n",
       "Date                                                                       \n",
       "2015-04-02             0.001722          1.532031              -0.005979   \n",
       "2015-04-06             0.000140          0.000231              -0.000634   \n",
       "2015-04-07             0.000423         -0.002044              -0.007302   \n",
       "2015-04-08            -0.000697          1.749791               0.001647   \n",
       "2015-04-09            -0.006053          0.000321              -0.003129   \n",
       "...                         ...               ...                    ...   \n",
       "2019-04-15            -0.036897         -0.003153               0.001282   \n",
       "2019-04-16            -0.002479          0.000007              -0.002184   \n",
       "2019-04-17            -0.000335          0.178480              -0.048961   \n",
       "2019-04-18            -0.378579         -0.001655               0.000917   \n",
       "2019-04-22            -0.007494          0.018898               0.004102   \n",
       "\n",
       "            BERKSHIRE_HATHAWAY_INC    Algo_1    Algo_2   S&P_500  \n",
       "Date                                                              \n",
       "2015-04-02               -0.000319 -0.061444 -0.010328  0.014444  \n",
       "2015-04-06                0.000935  0.080520  0.000106 -0.059257  \n",
       "2015-04-07               -0.006559 -0.109429 -0.008900 -0.002690  \n",
       "2015-04-08                0.015290  0.045475  0.004144 -0.105358  \n",
       "2015-04-09               -0.010305  0.004382 -0.076818  0.002375  \n",
       "...                            ...       ...       ...       ...  \n",
       "2019-04-15               -0.000911 -0.000655 -0.000944 -0.003030  \n",
       "2019-04-16               -0.001454  0.000067 -0.005048  0.005930  \n",
       "2019-04-17               -0.000129 -0.001394 -0.000889 -0.010030  \n",
       "2019-04-18                0.001386  0.001341  0.001147 -0.056556  \n",
       "2019-04-22               -0.543475  0.000946 -0.005834 -0.299059  \n",
       "\n",
       "[541 rows x 7 columns]"
      ],
      "text/html": [
       "<div>\n",
       "<style scoped>\n",
       "    .dataframe tbody tr th:only-of-type {\n",
       "        vertical-align: middle;\n",
       "    }\n",
       "\n",
       "    .dataframe tbody tr th {\n",
       "        vertical-align: top;\n",
       "    }\n",
       "\n",
       "    .dataframe thead th {\n",
       "        text-align: right;\n",
       "    }\n",
       "</style>\n",
       "<table border=\"1\" class=\"dataframe\">\n",
       "  <thead>\n",
       "    <tr style=\"text-align: right;\">\n",
       "      <th></th>\n",
       "      <th>SOROS_FUND_MGMT_LLC</th>\n",
       "      <th>PAULSON_&amp;_CO_INC</th>\n",
       "      <th>TIGER_GLOBAL_MGMT_LLC</th>\n",
       "      <th>BERKSHIRE_HATHAWAY_INC</th>\n",
       "      <th>Algo_1</th>\n",
       "      <th>Algo_2</th>\n",
       "      <th>S&amp;P_500</th>\n",
       "    </tr>\n",
       "    <tr>\n",
       "      <th>Date</th>\n",
       "      <th></th>\n",
       "      <th></th>\n",
       "      <th></th>\n",
       "      <th></th>\n",
       "      <th></th>\n",
       "      <th></th>\n",
       "      <th></th>\n",
       "    </tr>\n",
       "  </thead>\n",
       "  <tbody>\n",
       "    <tr>\n",
       "      <th>2015-04-02</th>\n",
       "      <td>0.001722</td>\n",
       "      <td>1.532031</td>\n",
       "      <td>-0.005979</td>\n",
       "      <td>-0.000319</td>\n",
       "      <td>-0.061444</td>\n",
       "      <td>-0.010328</td>\n",
       "      <td>0.014444</td>\n",
       "    </tr>\n",
       "    <tr>\n",
       "      <th>2015-04-06</th>\n",
       "      <td>0.000140</td>\n",
       "      <td>0.000231</td>\n",
       "      <td>-0.000634</td>\n",
       "      <td>0.000935</td>\n",
       "      <td>0.080520</td>\n",
       "      <td>0.000106</td>\n",
       "      <td>-0.059257</td>\n",
       "    </tr>\n",
       "    <tr>\n",
       "      <th>2015-04-07</th>\n",
       "      <td>0.000423</td>\n",
       "      <td>-0.002044</td>\n",
       "      <td>-0.007302</td>\n",
       "      <td>-0.006559</td>\n",
       "      <td>-0.109429</td>\n",
       "      <td>-0.008900</td>\n",
       "      <td>-0.002690</td>\n",
       "    </tr>\n",
       "    <tr>\n",
       "      <th>2015-04-08</th>\n",
       "      <td>-0.000697</td>\n",
       "      <td>1.749791</td>\n",
       "      <td>0.001647</td>\n",
       "      <td>0.015290</td>\n",
       "      <td>0.045475</td>\n",
       "      <td>0.004144</td>\n",
       "      <td>-0.105358</td>\n",
       "    </tr>\n",
       "    <tr>\n",
       "      <th>2015-04-09</th>\n",
       "      <td>-0.006053</td>\n",
       "      <td>0.000321</td>\n",
       "      <td>-0.003129</td>\n",
       "      <td>-0.010305</td>\n",
       "      <td>0.004382</td>\n",
       "      <td>-0.076818</td>\n",
       "      <td>0.002375</td>\n",
       "    </tr>\n",
       "    <tr>\n",
       "      <th>...</th>\n",
       "      <td>...</td>\n",
       "      <td>...</td>\n",
       "      <td>...</td>\n",
       "      <td>...</td>\n",
       "      <td>...</td>\n",
       "      <td>...</td>\n",
       "      <td>...</td>\n",
       "    </tr>\n",
       "    <tr>\n",
       "      <th>2019-04-15</th>\n",
       "      <td>-0.036897</td>\n",
       "      <td>-0.003153</td>\n",
       "      <td>0.001282</td>\n",
       "      <td>-0.000911</td>\n",
       "      <td>-0.000655</td>\n",
       "      <td>-0.000944</td>\n",
       "      <td>-0.003030</td>\n",
       "    </tr>\n",
       "    <tr>\n",
       "      <th>2019-04-16</th>\n",
       "      <td>-0.002479</td>\n",
       "      <td>0.000007</td>\n",
       "      <td>-0.002184</td>\n",
       "      <td>-0.001454</td>\n",
       "      <td>0.000067</td>\n",
       "      <td>-0.005048</td>\n",
       "      <td>0.005930</td>\n",
       "    </tr>\n",
       "    <tr>\n",
       "      <th>2019-04-17</th>\n",
       "      <td>-0.000335</td>\n",
       "      <td>0.178480</td>\n",
       "      <td>-0.048961</td>\n",
       "      <td>-0.000129</td>\n",
       "      <td>-0.001394</td>\n",
       "      <td>-0.000889</td>\n",
       "      <td>-0.010030</td>\n",
       "    </tr>\n",
       "    <tr>\n",
       "      <th>2019-04-18</th>\n",
       "      <td>-0.378579</td>\n",
       "      <td>-0.001655</td>\n",
       "      <td>0.000917</td>\n",
       "      <td>0.001386</td>\n",
       "      <td>0.001341</td>\n",
       "      <td>0.001147</td>\n",
       "      <td>-0.056556</td>\n",
       "    </tr>\n",
       "    <tr>\n",
       "      <th>2019-04-22</th>\n",
       "      <td>-0.007494</td>\n",
       "      <td>0.018898</td>\n",
       "      <td>0.004102</td>\n",
       "      <td>-0.543475</td>\n",
       "      <td>0.000946</td>\n",
       "      <td>-0.005834</td>\n",
       "      <td>-0.299059</td>\n",
       "    </tr>\n",
       "  </tbody>\n",
       "</table>\n",
       "<p>541 rows × 7 columns</p>\n",
       "</div>"
      ]
     },
     "metadata": {},
     "execution_count": 263
    }
   ],
   "metadata": {}
  },
  {
   "cell_type": "code",
   "execution_count": 264,
   "source": [
    "# Calculate the correlation\r\n",
    "correlation = daily_ret_redo.corr()\r\n",
    "correlation"
   ],
   "outputs": [
    {
     "output_type": "execute_result",
     "data": {
      "text/plain": [
       "                        SOROS_FUND_MGMT_LLC  PAULSON_&_CO_INC  \\\n",
       "SOROS_FUND_MGMT_LLC                1.000000         -0.001309   \n",
       "PAULSON_&_CO_INC                  -0.001309          1.000000   \n",
       "TIGER_GLOBAL_MGMT_LLC             -0.048290          0.074715   \n",
       "BERKSHIRE_HATHAWAY_INC             0.026596          0.030421   \n",
       "Algo_1                             0.034753         -0.075608   \n",
       "Algo_2                             0.002499         -0.009573   \n",
       "S&P_500                            0.130953          0.210001   \n",
       "\n",
       "                        TIGER_GLOBAL_MGMT_LLC  BERKSHIRE_HATHAWAY_INC  \\\n",
       "SOROS_FUND_MGMT_LLC                 -0.048290                0.026596   \n",
       "PAULSON_&_CO_INC                     0.074715                0.030421   \n",
       "TIGER_GLOBAL_MGMT_LLC                1.000000               -0.012400   \n",
       "BERKSHIRE_HATHAWAY_INC              -0.012400                1.000000   \n",
       "Algo_1                              -0.007250               -0.003869   \n",
       "Algo_2                              -0.003457               -0.001076   \n",
       "S&P_500                             -0.005988                0.234050   \n",
       "\n",
       "                          Algo_1    Algo_2   S&P_500  \n",
       "SOROS_FUND_MGMT_LLC     0.034753  0.002499  0.130953  \n",
       "PAULSON_&_CO_INC       -0.075608 -0.009573  0.210001  \n",
       "TIGER_GLOBAL_MGMT_LLC  -0.007250 -0.003457 -0.005988  \n",
       "BERKSHIRE_HATHAWAY_INC -0.003869 -0.001076  0.234050  \n",
       "Algo_1                  1.000000 -0.000913 -0.097430  \n",
       "Algo_2                 -0.000913  1.000000  0.031174  \n",
       "S&P_500                -0.097430  0.031174  1.000000  "
      ],
      "text/html": [
       "<div>\n",
       "<style scoped>\n",
       "    .dataframe tbody tr th:only-of-type {\n",
       "        vertical-align: middle;\n",
       "    }\n",
       "\n",
       "    .dataframe tbody tr th {\n",
       "        vertical-align: top;\n",
       "    }\n",
       "\n",
       "    .dataframe thead th {\n",
       "        text-align: right;\n",
       "    }\n",
       "</style>\n",
       "<table border=\"1\" class=\"dataframe\">\n",
       "  <thead>\n",
       "    <tr style=\"text-align: right;\">\n",
       "      <th></th>\n",
       "      <th>SOROS_FUND_MGMT_LLC</th>\n",
       "      <th>PAULSON_&amp;_CO_INC</th>\n",
       "      <th>TIGER_GLOBAL_MGMT_LLC</th>\n",
       "      <th>BERKSHIRE_HATHAWAY_INC</th>\n",
       "      <th>Algo_1</th>\n",
       "      <th>Algo_2</th>\n",
       "      <th>S&amp;P_500</th>\n",
       "    </tr>\n",
       "  </thead>\n",
       "  <tbody>\n",
       "    <tr>\n",
       "      <th>SOROS_FUND_MGMT_LLC</th>\n",
       "      <td>1.000000</td>\n",
       "      <td>-0.001309</td>\n",
       "      <td>-0.048290</td>\n",
       "      <td>0.026596</td>\n",
       "      <td>0.034753</td>\n",
       "      <td>0.002499</td>\n",
       "      <td>0.130953</td>\n",
       "    </tr>\n",
       "    <tr>\n",
       "      <th>PAULSON_&amp;_CO_INC</th>\n",
       "      <td>-0.001309</td>\n",
       "      <td>1.000000</td>\n",
       "      <td>0.074715</td>\n",
       "      <td>0.030421</td>\n",
       "      <td>-0.075608</td>\n",
       "      <td>-0.009573</td>\n",
       "      <td>0.210001</td>\n",
       "    </tr>\n",
       "    <tr>\n",
       "      <th>TIGER_GLOBAL_MGMT_LLC</th>\n",
       "      <td>-0.048290</td>\n",
       "      <td>0.074715</td>\n",
       "      <td>1.000000</td>\n",
       "      <td>-0.012400</td>\n",
       "      <td>-0.007250</td>\n",
       "      <td>-0.003457</td>\n",
       "      <td>-0.005988</td>\n",
       "    </tr>\n",
       "    <tr>\n",
       "      <th>BERKSHIRE_HATHAWAY_INC</th>\n",
       "      <td>0.026596</td>\n",
       "      <td>0.030421</td>\n",
       "      <td>-0.012400</td>\n",
       "      <td>1.000000</td>\n",
       "      <td>-0.003869</td>\n",
       "      <td>-0.001076</td>\n",
       "      <td>0.234050</td>\n",
       "    </tr>\n",
       "    <tr>\n",
       "      <th>Algo_1</th>\n",
       "      <td>0.034753</td>\n",
       "      <td>-0.075608</td>\n",
       "      <td>-0.007250</td>\n",
       "      <td>-0.003869</td>\n",
       "      <td>1.000000</td>\n",
       "      <td>-0.000913</td>\n",
       "      <td>-0.097430</td>\n",
       "    </tr>\n",
       "    <tr>\n",
       "      <th>Algo_2</th>\n",
       "      <td>0.002499</td>\n",
       "      <td>-0.009573</td>\n",
       "      <td>-0.003457</td>\n",
       "      <td>-0.001076</td>\n",
       "      <td>-0.000913</td>\n",
       "      <td>1.000000</td>\n",
       "      <td>0.031174</td>\n",
       "    </tr>\n",
       "    <tr>\n",
       "      <th>S&amp;P_500</th>\n",
       "      <td>0.130953</td>\n",
       "      <td>0.210001</td>\n",
       "      <td>-0.005988</td>\n",
       "      <td>0.234050</td>\n",
       "      <td>-0.097430</td>\n",
       "      <td>0.031174</td>\n",
       "      <td>1.000000</td>\n",
       "    </tr>\n",
       "  </tbody>\n",
       "</table>\n",
       "</div>"
      ]
     },
     "metadata": {},
     "execution_count": 264
    }
   ],
   "metadata": {}
  },
  {
   "cell_type": "code",
   "execution_count": 265,
   "source": [
    "# Display correlation matrix\r\n",
    "sns.heatmap(correlation, vmin=1, vmax=1, annot=True, cmap=\"bone\")"
   ],
   "outputs": [
    {
     "output_type": "execute_result",
     "data": {
      "text/plain": [
       "<matplotlib.axes._subplots.AxesSubplot at 0x288a3762940>"
      ]
     },
     "metadata": {},
     "execution_count": 265
    },
    {
     "output_type": "display_data",
     "data": {
      "text/plain": [
       "<Figure size 432x288 with 2 Axes>"
      ],
      "image/png": "[encoded data removed]"
     },
     "metadata": {
      "needs_background": "light"
     }
    }
   ],
   "metadata": {}
  },
  {
   "cell_type": "markdown",
   "source": [
    "## Calculate covariance, variance, beta, plot beta"
   ],
   "metadata": {}
  },
  {
   "cell_type": "markdown",
   "source": [
    "### Calculate covariance of the Algo_1 portfolio with the S&P 500"
   ],
   "metadata": {}
  },
  {
   "cell_type": "code",
   "execution_count": 276,
   "source": [
    "# Create a dataframe for algo_1 \r\n",
    "algo_1_df = algo_df.drop(columns=[\"Algo 2\"])\r\n",
    "\r\n",
    "# combine the Algo_1 and S&P 500 dataframes to begin calculating covariance\r\n",
    "covariance_df = pd.concat([algo_1_df, sp500_df_daily], axis=\"columns\", join=\"inner\")\r\n",
    "\r\n",
    "# Change the appearance of the column names to reflect no spaces\r\n",
    "columns = [\"Algo_1\", \"S&P_500\"]\r\n",
    "covariance_df.columns = columns\r\n",
    "\r\n",
    "# Sort datetime index in ascending order \r\n",
    "covariance_df.sort_index(inplace=True)\r\n",
    "\r\n",
    "covariance_df.head()\r\n"
   ],
   "outputs": [
    {
     "output_type": "execute_result",
     "data": {
      "text/plain": [
       "              Algo_1   S&P_500\n",
       "Date                          \n",
       "2014-05-28  0.001745 -0.005338\n",
       "2014-05-29  0.003978 -0.001840\n",
       "2014-05-30  0.004464 -0.000727\n",
       "2014-06-02  0.005692  0.000379\n",
       "2014-06-03  0.005292 -0.001888"
      ],
      "text/html": [
       "<div>\n",
       "<style scoped>\n",
       "    .dataframe tbody tr th:only-of-type {\n",
       "        vertical-align: middle;\n",
       "    }\n",
       "\n",
       "    .dataframe tbody tr th {\n",
       "        vertical-align: top;\n",
       "    }\n",
       "\n",
       "    .dataframe thead th {\n",
       "        text-align: right;\n",
       "    }\n",
       "</style>\n",
       "<table border=\"1\" class=\"dataframe\">\n",
       "  <thead>\n",
       "    <tr style=\"text-align: right;\">\n",
       "      <th></th>\n",
       "      <th>Algo_1</th>\n",
       "      <th>S&amp;P_500</th>\n",
       "    </tr>\n",
       "    <tr>\n",
       "      <th>Date</th>\n",
       "      <th></th>\n",
       "      <th></th>\n",
       "    </tr>\n",
       "  </thead>\n",
       "  <tbody>\n",
       "    <tr>\n",
       "      <th>2014-05-28</th>\n",
       "      <td>0.001745</td>\n",
       "      <td>-0.005338</td>\n",
       "    </tr>\n",
       "    <tr>\n",
       "      <th>2014-05-29</th>\n",
       "      <td>0.003978</td>\n",
       "      <td>-0.001840</td>\n",
       "    </tr>\n",
       "    <tr>\n",
       "      <th>2014-05-30</th>\n",
       "      <td>0.004464</td>\n",
       "      <td>-0.000727</td>\n",
       "    </tr>\n",
       "    <tr>\n",
       "      <th>2014-06-02</th>\n",
       "      <td>0.005692</td>\n",
       "      <td>0.000379</td>\n",
       "    </tr>\n",
       "    <tr>\n",
       "      <th>2014-06-03</th>\n",
       "      <td>0.005292</td>\n",
       "      <td>-0.001888</td>\n",
       "    </tr>\n",
       "  </tbody>\n",
       "</table>\n",
       "</div>"
      ]
     },
     "metadata": {},
     "execution_count": 276
    }
   ],
   "metadata": {}
  },
  {
   "cell_type": "code",
   "execution_count": 277,
   "source": [
    "# Calculate covariance of covariance of Algo_1 with S&P 500\r\n",
    "algo1_sp500_covariance = covariance_returns['Algo_1'].cov(covariance_returns['S&P_500'])\r\n",
    "algo1_sp500_covariance"
   ],
   "outputs": [
    {
     "output_type": "execute_result",
     "data": {
      "text/plain": [
       "0.001205508652791355"
      ]
     },
     "metadata": {},
     "execution_count": 277
    }
   ],
   "metadata": {}
  },
  {
   "cell_type": "markdown",
   "source": [
    "### Calculate variance of S&P 500, beta, and plot beta\r\n"
   ],
   "metadata": {}
  },
  {
   "cell_type": "code",
   "execution_count": 278,
   "source": [
    "sp500_variance = covariance_returns['S&P_500'].var()\r\n",
    "sp500_variance"
   ],
   "outputs": [
    {
     "output_type": "execute_result",
     "data": {
      "text/plain": [
       "7.046285225366169e-05"
      ]
     },
     "metadata": {},
     "execution_count": 278
    }
   ],
   "metadata": {}
  },
  {
   "cell_type": "code",
   "execution_count": 279,
   "source": [
    "# Find beta of Algo portfolio\r\n",
    "algo_1_beta = algo1_sp500_covariance / sp500_variance\r\n",
    "algo_1_beta"
   ],
   "outputs": [
    {
     "output_type": "execute_result",
     "data": {
      "text/plain": [
       "17.108428260207265"
      ]
     },
     "metadata": {},
     "execution_count": 279
    }
   ],
   "metadata": {}
  },
  {
   "cell_type": "markdown",
   "source": [
    "### To calculate and plot the 60-day rolling beta between the Algo portfolio \r\n",
    "### and the S&P 500, we need to calculate the 60-Day Rolling Covariance, \r\n",
    "### 60-Day Rolling Variance, then calculate and plot 60-Day Rolling Beta"
   ],
   "metadata": {}
  },
  {
   "cell_type": "markdown",
   "source": [],
   "metadata": {}
  },
  {
   "cell_type": "code",
   "execution_count": 280,
   "source": [
    "# Calculate 60-day rolling covariance of Algo 1 vs. S&P 500 \r\n",
    "rolling_covar = covariance_returns['Algo_1'].rolling(window=60).cov(covariance_returns['S&P_500'])\r\n",
    "\r\n",
    "# Calculate 60-day rolling variance of Algo 1 vs. S&P 500 \r\n",
    "rolling_var = covariance_returns['S&P_500'].rolling(window=60).var()\r\n",
    "\r\n",
    "# Calculate 60-day rolling beta of Algo\r\n",
    "rolling_algo_beta = rolling_covar / rolling_var\r\n"
   ],
   "outputs": [],
   "metadata": {}
  },
  {
   "cell_type": "code",
   "execution_count": 281,
   "source": [
    "# Plot the rolling beta \r\n",
    "rolling_algo_beta.plot(figsize=(20, 10), title='Rolling 60-Day Beta of Algo Portfolio')"
   ],
   "outputs": [
    {
     "output_type": "execute_result",
     "data": {
      "text/plain": [
       "<matplotlib.axes._subplots.AxesSubplot at 0x288a409b340>"
      ]
     },
     "metadata": {},
     "execution_count": 281
    },
    {
     "output_type": "display_data",
     "data": {
      "text/plain": [
       "<Figure size 1440x720 with 1 Axes>"
      ],
      "image/png": "[encoded data removed]"
     },
     "metadata": {
      "needs_background": "light"
     }
    }
   ],
   "metadata": {}
  },
  {
   "cell_type": "markdown",
   "source": [
    "## Calculate and plot the Sharpe ratios\r\n",
    "Sharpe ratios taken from daily returns portfolios, then both Algo and Whale df's are concatenated into one df\r\n"
   ],
   "metadata": {}
  },
  {
   "cell_type": "code",
   "execution_count": 294,
   "source": [
    "# whale_df_daily, algo_df_daily, sp500_df_daily are the daily returns \r\n",
    "# for each portfolio - But I am having problems using this, so going back to \r\n",
    "# regular dataframes.\r\n",
    "# Dropping na's\r\n",
    "whale_df = whale_df.dropna()\r\n",
    "algo_df = algo_df.dropna()\r\n",
    "sp500_df = sp500_df.dropna()"
   ],
   "outputs": [],
   "metadata": {}
  },
  {
   "cell_type": "code",
   "execution_count": 298,
   "source": [
    "# Get daily returns for each portfolio\r\n",
    "whale_returns_df = whale_df.pct_change().dropna()\r\n",
    "algo_returns_df = algo_df.pct_change().dropna()\r\n",
    "sp500_returns_df = sp500_df.pct_change().dropna()\r\n"
   ],
   "outputs": [],
   "metadata": {}
  },
  {
   "cell_type": "code",
   "execution_count": 299,
   "source": [
    "# Concatenate all the daily returns into one DataFrame\r\n",
    "all_returns_df = pd.concat([whale_returns_df, algo_returns_df, sp500_returns_df], \r\n",
    "axis='columns', join='inner')\r\n",
    "all_returns_df.head()"
   ],
   "outputs": [
    {
     "output_type": "execute_result",
     "data": {
      "text/plain": [
       "            SOROS FUND MANAGEMENT LLC  PAULSON & CO.INC.   \\\n",
       "Date                                                        \n",
       "2015-03-04                  -2.762070           -1.650792   \n",
       "2015-03-05                   0.800968            0.257544   \n",
       "2015-03-06                  -2.968465           -1.876837   \n",
       "2015-03-09                  -1.073656           -2.182252   \n",
       "2015-03-10                 -18.625495           -2.263954   \n",
       "\n",
       "            TIGER GLOBAL MANAGEMENT LLC  BERKSHIRE HATHAWAY INC    Algo 1  \\\n",
       "Date                                                                        \n",
       "2015-03-04                     4.113646               -1.641381  3.422374   \n",
       "2015-03-05                    -1.929234                0.596558 -0.888803   \n",
       "2015-03-06                    -4.601872               -2.947282  4.190043   \n",
       "2015-03-09                    -1.688907               -0.873840  0.098917   \n",
       "2015-03-10                    -3.067380                4.893672 -0.744524   \n",
       "\n",
       "               Algo 2     Close  \n",
       "Date                             \n",
       "2015-03-04  -3.544766 -0.001195  \n",
       "2015-03-05   0.789231  0.014378  \n",
       "2015-03-06  -3.650914 -0.003929  \n",
       "2015-03-09  -1.113716  0.017254  \n",
       "2015-03-10 -10.327163  0.001921  "
      ],
      "text/html": [
       "<div>\n",
       "<style scoped>\n",
       "    .dataframe tbody tr th:only-of-type {\n",
       "        vertical-align: middle;\n",
       "    }\n",
       "\n",
       "    .dataframe tbody tr th {\n",
       "        vertical-align: top;\n",
       "    }\n",
       "\n",
       "    .dataframe thead th {\n",
       "        text-align: right;\n",
       "    }\n",
       "</style>\n",
       "<table border=\"1\" class=\"dataframe\">\n",
       "  <thead>\n",
       "    <tr style=\"text-align: right;\">\n",
       "      <th></th>\n",
       "      <th>SOROS FUND MANAGEMENT LLC</th>\n",
       "      <th>PAULSON &amp; CO.INC.</th>\n",
       "      <th>TIGER GLOBAL MANAGEMENT LLC</th>\n",
       "      <th>BERKSHIRE HATHAWAY INC</th>\n",
       "      <th>Algo 1</th>\n",
       "      <th>Algo 2</th>\n",
       "      <th>Close</th>\n",
       "    </tr>\n",
       "    <tr>\n",
       "      <th>Date</th>\n",
       "      <th></th>\n",
       "      <th></th>\n",
       "      <th></th>\n",
       "      <th></th>\n",
       "      <th></th>\n",
       "      <th></th>\n",
       "      <th></th>\n",
       "    </tr>\n",
       "  </thead>\n",
       "  <tbody>\n",
       "    <tr>\n",
       "      <th>2015-03-04</th>\n",
       "      <td>-2.762070</td>\n",
       "      <td>-1.650792</td>\n",
       "      <td>4.113646</td>\n",
       "      <td>-1.641381</td>\n",
       "      <td>3.422374</td>\n",
       "      <td>-3.544766</td>\n",
       "      <td>-0.001195</td>\n",
       "    </tr>\n",
       "    <tr>\n",
       "      <th>2015-03-05</th>\n",
       "      <td>0.800968</td>\n",
       "      <td>0.257544</td>\n",
       "      <td>-1.929234</td>\n",
       "      <td>0.596558</td>\n",
       "      <td>-0.888803</td>\n",
       "      <td>0.789231</td>\n",
       "      <td>0.014378</td>\n",
       "    </tr>\n",
       "    <tr>\n",
       "      <th>2015-03-06</th>\n",
       "      <td>-2.968465</td>\n",
       "      <td>-1.876837</td>\n",
       "      <td>-4.601872</td>\n",
       "      <td>-2.947282</td>\n",
       "      <td>4.190043</td>\n",
       "      <td>-3.650914</td>\n",
       "      <td>-0.003929</td>\n",
       "    </tr>\n",
       "    <tr>\n",
       "      <th>2015-03-09</th>\n",
       "      <td>-1.073656</td>\n",
       "      <td>-2.182252</td>\n",
       "      <td>-1.688907</td>\n",
       "      <td>-0.873840</td>\n",
       "      <td>0.098917</td>\n",
       "      <td>-1.113716</td>\n",
       "      <td>0.017254</td>\n",
       "    </tr>\n",
       "    <tr>\n",
       "      <th>2015-03-10</th>\n",
       "      <td>-18.625495</td>\n",
       "      <td>-2.263954</td>\n",
       "      <td>-3.067380</td>\n",
       "      <td>4.893672</td>\n",
       "      <td>-0.744524</td>\n",
       "      <td>-10.327163</td>\n",
       "      <td>0.001921</td>\n",
       "    </tr>\n",
       "  </tbody>\n",
       "</table>\n",
       "</div>"
      ]
     },
     "metadata": {},
     "execution_count": 299
    }
   ],
   "metadata": {}
  },
  {
   "cell_type": "code",
   "execution_count": 300,
   "source": [
    "# Produce the standard deviation in order to calculate the Sharpe Ratio\r\n",
    "std_all_portfolios = all_returns_df.std()\r\n",
    "std_all_portfolios.head()"
   ],
   "outputs": [
    {
     "output_type": "execute_result",
     "data": {
      "text/plain": [
       "SOROS FUND MANAGEMENT LLC            NaN\n",
       "PAULSON & CO.INC.                    NaN\n",
       "TIGER GLOBAL MANAGEMENT LLC          NaN\n",
       "BERKSHIRE HATHAWAY INC               NaN\n",
       "Algo 1                         15.811819\n",
       "dtype: float64"
      ]
     },
     "metadata": {},
     "execution_count": 300
    }
   ],
   "metadata": {}
  },
  {
   "cell_type": "code",
   "execution_count": 301,
   "source": [
    "# Calculate sharpe ratio for all \r\n",
    "sharpe_ratio = (all_returns_df.mean() * 252) / (std_all_portfolios * np.sqrt(252))\r\n",
    "sharpe_ratio.head()"
   ],
   "outputs": [
    {
     "output_type": "execute_result",
     "data": {
      "text/plain": [
       "SOROS FUND MANAGEMENT LLC           NaN\n",
       "PAULSON & CO.INC.                   NaN\n",
       "TIGER GLOBAL MANAGEMENT LLC         NaN\n",
       "BERKSHIRE HATHAWAY INC              NaN\n",
       "Algo 1                        -0.756839\n",
       "dtype: float64"
      ]
     },
     "metadata": {},
     "execution_count": 301
    }
   ],
   "metadata": {}
  },
  {
   "cell_type": "code",
   "execution_count": 302,
   "source": [
    "# Plot the sharpe ratio\r\n",
    "sharpe_ratio.plot.bar(title='Sharpe Ratio')"
   ],
   "outputs": [
    {
     "output_type": "execute_result",
     "data": {
      "text/plain": [
       "<matplotlib.axes._subplots.AxesSubplot at 0x288a43d15e0>"
      ]
     },
     "metadata": {},
     "execution_count": 302
    },
    {
     "output_type": "display_data",
     "data": {
      "text/plain": [
       "<Figure size 432x288 with 1 Axes>"
      ],
      "image/png": "[encoded data removed]"
     },
     "metadata": {
      "needs_background": "light"
     }
    }
   ],
   "metadata": {}
  },
  {
   "cell_type": "markdown",
   "source": [
    "### Stopping at this point - the std for the whale portfolios does not look right, and neither does the sharpe ratio or the plot. Will stop here, submit the homework, and will return at a later time to study this issue and get the correct result."
   ],
   "metadata": {}
  },
  {
   "cell_type": "code",
   "execution_count": null,
   "source": [],
   "outputs": [],
   "metadata": {}
  }
 ],
 "metadata": {
  "interpreter": {
   "hash": "183bbf6827d058c2a2fb0f4acdc0420849dda2b4380af0e437e38c64d798d8b7"
  },
  "kernelspec": {
   "display_name": "Python 3",
   "language": "python",
   "name": "python3"
  },
  "language_info": {
   "codemirror_mode": {
    "name": "ipython",
    "version": 3
   },
   "file_extension": ".py",
   "mimetype": "text/x-python",
   "name": "python",
   "nbconvert_exporter": "python",
   "pygments_lexer": "ipython3",
   "version": "3.8.5"
  }
 },
 "nbformat": 4,
 "nbformat_minor": 4
}